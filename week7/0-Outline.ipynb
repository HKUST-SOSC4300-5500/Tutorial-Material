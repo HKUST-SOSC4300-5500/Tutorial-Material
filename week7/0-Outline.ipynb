{
 "cells": [
  {
   "cell_type": "markdown",
   "metadata": {},
   "source": [
    "## Topic Model (from webscraping to machine learning)\n",
    "\n",
    "**Courtesy of Alice Zhao**\n",
    "\n",
    "### Data Collection & Cleaning\n",
    "\n",
    "- Steps\n",
    "    1. **Getting the data - **in this case, we'll be scraping data from a website\n",
    "    2. **Cleaning the data - **we will walk through popular text pre-processing techniques\n",
    "    3. **Organizing the data - **we will organize the cleaned data into a way that is easy to input into other algorithms\n",
    "\n",
    "- Output\n",
    "    1. **Corpus** - a collection of text\n",
    "    2. **Document-Term Matrix** - word counts in matrix format\n",
    "        - (1) Clean Text - remove excess, unnecessary parts of the text\n",
    "        - (2) Tokenize Text - split the text into smaller pieces\n",
    "        - (3) Document-Term Matrix - Put into a matrix so a machine can read it\n",
    "\n",
    "\n",
    "### Exploratory Data Analysis\n",
    "\n",
    "1. **Most common words** - find these and create word clouds\n",
    "2. **Size of vocabulary** - look number of unique words and also how quickly someone speaks\n",
    "3. **Amount of profanity** - most common terms\n",
    "\n",
    "\n",
    "### Sentiment Analysis\n",
    "\n",
    "1. Polarity: How positive or negative a word is. -1 is very negative. +1 is very positive.\n",
    "2. Subjectivity: How subjective, or opinionated a word is. 0 is fact. +1 is very much an opinion.\n",
    "\n",
    "\n",
    "### Topic Modeling\n",
    "\n",
    "1. Covering the basic steps on how to do **Latent Dirichlet Allocation (LDA)**, which is one of many topic modeling techniques.\n",
    "\n"
   ]
  },
  {
   "cell_type": "code",
   "execution_count": null,
   "metadata": {},
   "outputs": [],
   "source": []
  }
 ],
 "metadata": {
  "kernelspec": {
   "display_name": "Python 3",
   "language": "python",
   "name": "python3"
  },
  "language_info": {
   "codemirror_mode": {
    "name": "ipython",
    "version": 3
   },
   "file_extension": ".py",
   "mimetype": "text/x-python",
   "name": "python",
   "nbconvert_exporter": "python",
   "pygments_lexer": "ipython3",
   "version": "3.6.4"
  },
  "toc": {
   "nav_menu": {},
   "number_sections": true,
   "sideBar": true,
   "skip_h1_title": false,
   "toc_cell": false,
   "toc_position": {},
   "toc_section_display": "block",
   "toc_window_display": false
  },
  "varInspector": {
   "cols": {
    "lenName": 16,
    "lenType": 16,
    "lenVar": 40
   },
   "kernels_config": {
    "python": {
     "delete_cmd_postfix": "",
     "delete_cmd_prefix": "del ",
     "library": "var_list.py",
     "varRefreshCmd": "print(var_dic_list())"
    },
    "r": {
     "delete_cmd_postfix": ") ",
     "delete_cmd_prefix": "rm(",
     "library": "var_list.r",
     "varRefreshCmd": "cat(var_dic_list()) "
    }
   },
   "types_to_exclude": [
    "module",
    "function",
    "builtin_function_or_method",
    "instance",
    "_Feature"
   ],
   "window_display": false
  }
 },
 "nbformat": 4,
 "nbformat_minor": 2
}
