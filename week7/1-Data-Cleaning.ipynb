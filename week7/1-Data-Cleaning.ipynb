{
 "cells": [
  {
   "cell_type": "markdown",
   "metadata": {},
   "source": [
    "# Data Cleaning"
   ]
  },
  {
   "cell_type": "markdown",
   "metadata": {},
   "source": [
    "## Introduction"
   ]
  },
  {
   "cell_type": "markdown",
   "metadata": {},
   "source": [
    "This notebook goes through a necessary step of any data science project - data cleaning. Data cleaning is a time consuming and unenjoyable task, yet it's a very important one. Keep in mind, \"garbage in, garbage out\". Feeding dirty data into a model will give us results that are meaningless.\n",
    "\n",
    "Specifically, we'll be walking through:\n",
    "\n",
    "1. **Getting the data - **in this case, we'll be scraping data from a website\n",
    "2. **Cleaning the data - **we will walk through popular text pre-processing techniques\n",
    "3. **Organizing the data - **we will organize the cleaned data into a way that is easy to input into other algorithms\n",
    "\n",
    "The output of this notebook will be clean, organized data in two standard text formats:\n",
    "\n",
    "1. **Corpus** - a collection of text\n",
    "2. **Document-Term Matrix** - word counts in matrix format\n",
    "    - (1) Clean Text - remove excess, unnecessary parts of the text\n",
    "    - (2) Tokenize Text - split the text into smaller pieces\n",
    "    - (3) Document-Term Matrix - Put into a matrix so a machine can read it"
   ]
  },
  {
   "cell_type": "markdown",
   "metadata": {},
   "source": [
    "## Problem Statement"
   ]
  },
  {
   "cell_type": "markdown",
   "metadata": {},
   "source": [
    "Our goal is to look at transcripts of various comedians and note their similarities and differences. "
   ]
  },
  {
   "cell_type": "markdown",
   "metadata": {},
   "source": [
    "## Getting The Data"
   ]
  },
  {
   "cell_type": "markdown",
   "metadata": {},
   "source": [
    "Luckily, there are wonderful people online that keep track of stand up routine transcripts. [Scraps From The Loft](http://scrapsfromtheloft.com) makes them available for non-profit and educational purposes.\n",
    "\n",
    "\n",
    "I randomly select 12 comedians to look into."
   ]
  },
  {
   "cell_type": "code",
   "execution_count": 38,
   "metadata": {},
   "outputs": [],
   "source": [
    "# Web scraping, pickle imports\n",
    "import requests\n",
    "from bs4 import BeautifulSoup\n",
    "import pickle\n",
    "\n",
    "# Scrapes transcript data from scrapsfromtheloft.com\n",
    "def url_to_transcript(url):\n",
    "    '''Returns transcript data specifically from scrapsfromtheloft.com.'''\n",
    "    page = requests.get(url).text\n",
    "    soup = BeautifulSoup(page, \"lxml\")\n",
    "    text = [p.text for p in soup.find(class_=\"post-content\").find_all('p')]\n",
    "    print(url)\n",
    "    return text\n",
    "\n",
    "# URLs of transcripts in scope\n",
    "urls = ['http://scrapsfromtheloft.com/2017/05/06/louis-ck-oh-my-god-full-transcript/',\n",
    "        'http://scrapsfromtheloft.com/2017/04/11/dave-chappelle-age-spin-2017-full-transcript/',\n",
    "        'http://scrapsfromtheloft.com/2018/03/15/ricky-gervais-humanity-transcript/',\n",
    "        'http://scrapsfromtheloft.com/2017/08/07/bo-burnham-2013-full-transcript/',\n",
    "        'http://scrapsfromtheloft.com/2017/05/24/bill-burr-im-sorry-feel-way-2014-full-transcript/',\n",
    "        'http://scrapsfromtheloft.com/2017/04/21/jim-jefferies-bare-2014-full-transcript/',\n",
    "        'http://scrapsfromtheloft.com/2017/08/02/john-mulaney-comeback-kid-2015-full-transcript/',\n",
    "        'http://scrapsfromtheloft.com/2017/10/21/hasan-minhaj-homecoming-king-2017-full-transcript/',\n",
    "        'http://scrapsfromtheloft.com/2017/09/19/ali-wong-baby-cobra-2016-full-transcript/',\n",
    "        'http://scrapsfromtheloft.com/2017/08/03/anthony-jeselnik-thoughts-prayers-2015-full-transcript/',\n",
    "        'http://scrapsfromtheloft.com/2018/03/03/mike-birbiglia-my-girlfriends-boyfriend-2013-full-transcript/',\n",
    "        'http://scrapsfromtheloft.com/2017/08/19/joe-rogan-triggered-2016-full-transcript/']\n",
    "\n",
    "# Comedian names\n",
    "comedians = ['louis', 'dave', 'ricky', 'bo', 'bill', 'jim', 'john', 'hasan', 'ali', 'anthony', 'mike', 'joe']"
   ]
  },
  {
   "cell_type": "code",
   "execution_count": null,
   "metadata": {},
   "outputs": [],
   "source": [
    "# # Actually request transcripts (takes a few minutes to run)\n",
    "# transcripts = [url_to_transcript(u) for u in urls]"
   ]
  },
  {
   "cell_type": "code",
   "execution_count": null,
   "metadata": {
    "collapsed": true
   },
   "outputs": [],
   "source": [
    "# # Pickle files for later use\n",
    "\n",
    "# # Make a new directory to hold the text files\n",
    "# !mkdir transcripts\n",
    "\n",
    "# for i, c in enumerate(comedians):\n",
    "#     with open(\"transcripts/\" + c + \".txt\", \"wb\") as file:\n",
    "#         pickle.dump(transcripts[i], file)"
   ]
  },
  {
   "cell_type": "code",
   "execution_count": 41,
   "metadata": {},
   "outputs": [
    {
     "name": "stdout",
     "output_type": "stream",
     "text": [
      "0 louis\n",
      "1 dave\n",
      "2 ricky\n",
      "3 bo\n",
      "4 bill\n",
      "5 jim\n",
      "6 john\n",
      "7 hasan\n",
      "8 ali\n",
      "9 anthony\n",
      "10 mike\n",
      "11 joe\n"
     ]
    }
   ],
   "source": [
    "for i, c in enumerate(comedians):\n",
    "    print(i,c)"
   ]
  },
  {
   "cell_type": "code",
   "execution_count": 19,
   "metadata": {},
   "outputs": [],
   "source": [
    "# Load pickled files\n",
    "data = {}\n",
    "for i, c in enumerate(comedians):\n",
    "    with open(\"transcripts/\" + c + \".txt\", \"rb\") as file:\n",
    "        data[c] = pickle.load(file)"
   ]
  },
  {
   "cell_type": "code",
   "execution_count": 20,
   "metadata": {},
   "outputs": [
    {
     "data": {
      "text/plain": [
       "dict_keys(['louis', 'dave', 'ricky', 'bo', 'bill', 'jim', 'john', 'hasan', 'ali', 'anthony', 'mike', 'joe'])"
      ]
     },
     "execution_count": 20,
     "metadata": {},
     "output_type": "execute_result"
    }
   ],
   "source": [
    "# Double check to make sure data has been loaded properly\n",
    "data.keys()"
   ]
  },
  {
   "cell_type": "code",
   "execution_count": 21,
   "metadata": {},
   "outputs": [
    {
     "data": {
      "text/plain": [
       "['Intro\\nFade the music out. Let’s roll. Hold there. Lights. Do the lights. Thank you. Thank you very much. I appreciate that. I don’t necessarily agree with you, but I appreciate very much. Well, this is a nice place. This is easily the nicest place For many miles in every direction. That’s how you compliment a building And shit on a town with one sentence. It is odd around here, as I was driving here. There doesn’t seem to be any difference Between the sidewalk and the street for pedestrians here. People just kind of walk in the middle of the road. I love traveling And seeing all the different parts of the country. I live in New York. I live in a– There’s no value to your doing that at all.',\n",
       " '“The Old Lady And The Dog”\\nI live– I live in New York. I always– Like, there’s this old lady in my neighborhood, And she’s always walking her dog. She’s always just– she’s very old. She just stands there just being old, And the dog just fights gravity every day, just– The two of them, it’s really– The dog’s got a cloudy eye, and she’s got a cloudy eye, And they just stand there looking at the street In two dimensions together, and– And she’s always wearing, like, this old sweater dress. I guess it was a sweater when she was, like, 5’10”, But now it’s just, like, this sweater And her legs are– her legs are a nightmare. They’re just white with green streaks and bones sticking out. Her legs are awful. I saw a guy with no legs wheeling by, And he was like, “yecch, no thank you. “I do not want those. “I’d rather just have air down here like I have Than to look down at that shit.” I see these two all the time, and I always look at them, And I always think, “god, I hope she dies first.” I do. I hope she dies first, for her sake, Because I don’t want her to lose the dog. I don’t think she’ll be able to handle it. If she dies– If the old lady dies first, I’m not worried about the dog Because the dog doesn’t even know about the old lady. This dog is aware of three inches around his head. He’s living in two-second increments. The second he’s in and the one he just left Is all he knows about, But if he dies, this lady, she’s gonna be destroyed Because this dog is all she has, And I know he’s all she has because she has him. There’s no– If she had one person in her life, She would not keep this piece of shit little dog. Even if just some young woman in her building one morning Were to say, “good morning, gladys,” She’d be like, “good,” And just flush him down the toilet, just– Poom! Poom! The dog just keeps bumping on the drain. Poom! “” she gives up. Ends up just shitting on her dog for the rest of her life. P-p-p! Poom!']"
      ]
     },
     "execution_count": 21,
     "metadata": {},
     "output_type": "execute_result"
    }
   ],
   "source": [
    "# More checks\n",
    "data['louis'][:2]"
   ]
  },
  {
   "cell_type": "markdown",
   "metadata": {},
   "source": [
    "## Cleaning The Data"
   ]
  },
  {
   "cell_type": "markdown",
   "metadata": {},
   "source": [
    "When dealing with numerical data, data cleaning often involves removing null values and duplicate data, dealing with outliers, etc. With text data, there are some common data cleaning techniques, which are also known as text pre-processing techniques.\n",
    "\n",
    "With text data, this cleaning process can go on forever. There's always an exception to every cleaning step. So, we're going to follow the MVP (minimum viable product) approach - start simple and iterate. Here are a bunch of things you can do to clean your data. We're going to execute just the common cleaning steps here and the rest can be done at a later point to improve our results.\n",
    "\n",
    "**Common data cleaning steps on all text:**\n",
    "* Make text all lower case\n",
    "* Remove punctuation\n",
    "* Remove numerical values\n",
    "* Remove common nonsensical text (/n)\n",
    "* Tokenize text\n",
    "* Remove stop words (words not helpful should be filtered out )\n",
    "\n",
    "**More data cleaning steps after tokenization:**\n",
    "* Stemming / lemmatization\n",
    "* Create bi-grams or tri-grams or n-grams\n",
    "* Deal with typos\n",
    "* And more..."
   ]
  },
  {
   "cell_type": "code",
   "execution_count": 22,
   "metadata": {},
   "outputs": [
    {
     "name": "stdout",
     "output_type": "stream",
     "text": [
      "louis\n"
     ]
    }
   ],
   "source": [
    "# Let's take a look at our data again\n",
    "print(next(iter(data.keys())))"
   ]
  },
  {
   "cell_type": "code",
   "execution_count": 23,
   "metadata": {},
   "outputs": [
    {
     "name": "stdout",
     "output_type": "stream",
     "text": [
      "louis\n",
      "dave\n",
      "ricky\n"
     ]
    }
   ],
   "source": [
    "# The next() function returns the next item in an iterator.\n",
    "keys = iter(data.keys())\n",
    "comedian = next(keys)\n",
    "print(comedian)\n",
    "comedian = next(keys)\n",
    "print(comedian)\n",
    "comedian = next(keys)\n",
    "print(comedian)"
   ]
  },
  {
   "cell_type": "code",
   "execution_count": 7,
   "metadata": {},
   "outputs": [
    {
     "data": {
      "text/plain": [
       "['Intro\\nFade the music out. Let’s roll. Hold there. Lights. Do the lights. Thank you. Thank you very much. I appreciate that. I don’t necessarily agree with you, but I appreciate very much. Well, this is a nice place. This is easily the nicest place For many miles in every direction. That’s how you compliment a building And shit on a town with one sentence. It is odd around here, as I was driving here. There doesn’t seem to be any difference Between the sidewalk and the street for pedestrians here. People just kind of walk in the middle of the road. I love traveling And seeing all the different parts of the country. I live in New York. I live in a– There’s no value to your doing that at all.',\n",
       " '“The Old Lady And The Dog”\\nI live– I live in New York. I always– Like, there’s this old lady in my neighborhood, And she’s always walking her dog. She’s always just– she’s very old. She just stands there just being old, And the dog just fights gravity every day, just– The two of them, it’s really– The dog’s got a cloudy eye, and she’s got a cloudy eye, And they just stand there looking at the street In two dimensions together, and– And she’s always wearing, like, this old sweater dress. I guess it was a sweater when she was, like, 5’10”, But now it’s just, like, this sweater And her legs are– her legs are a nightmare. They’re just white with green streaks and bones sticking out. Her legs are awful. I saw a guy with no legs wheeling by, And he was like, “yecch, no thank you. “I do not want those. “I’d rather just have air down here like I have Than to look down at that shit.” I see these two all the time, and I always look at them, And I always think, “god, I hope she dies first.” I do. I hope she dies first, for her sake, Because I don’t want her to lose the dog. I don’t think she’ll be able to handle it. If she dies– If the old lady dies first, I’m not worried about the dog Because the dog doesn’t even know about the old lady. This dog is aware of three inches around his head. He’s living in two-second increments. The second he’s in and the one he just left Is all he knows about, But if he dies, this lady, she’s gonna be destroyed Because this dog is all she has, And I know he’s all she has because she has him. There’s no– If she had one person in her life, She would not keep this piece of shit little dog. Even if just some young woman in her building one morning Were to say, “good morning, gladys,” She’d be like, “good,” And just flush him down the toilet, just– Poom! Poom! The dog just keeps bumping on the drain. Poom! “” she gives up. Ends up just shitting on her dog for the rest of her life. P-p-p! Poom!',\n",
       " '“My Daughter Likes Fish”\\nYou ever flush a pet down the toilet? I had to flush my daughter’s fish down the toilet. I came home, the fish was dead. She wasn’t home from school yet, so I just flushed the fish, And that’s a weird moment, too, ’cause fish live in water. So you put it in the toilet, floats to the bottom, Like, “yeah, he’s dead,” And then you flush, and it looks like he goes, “wait a second! Aw, shit! “I was taking a nap! Jesus! “you gotta be in constant motion To get any respect in this house.” And then my daughter comes home. “why did he die, da–” Come on. What am I gonna say? Why did he die? Because who gives a shit? That’s the reason. That’s the actual reason, is because didn’t matter That he was alive. That’s why he’s dead. He didn’t know his name, and he didn’t love you back. These are the facts about that fish’s life. My daughter likes fish. We took her to the aquarium. I took both my kids to the aquarium in boston, And we were looking at this seal, or sea lion. I don’t know which one. I don’t care. I don’t think they need to be separate things. I really don’t. They don’t care, and we don’t care. There’s, like, three scientists Who give a shit what we call all those things. The scientists could go on TV tomorrow And say, “ok, everybody. “from now on, seals and sea lions and walruses, And–you know what?–Penguins are all seals now,” And we would all be like, “yeah, all right. Fine. Yes. Whatever, man.” Anyway, so we’re looking at this seal/sea lion thing, And he’s looking back at us through the plexiglas, And he’s going– They’re really disgusting in person. Most animals are when you really see them. You ever go to a farm? You think you’re gonna see little, white sheep Going, “baa,” but they’re all fat and shit-colored, And they’re like– Jesus. That thing is awful. Anyway, seals don’t go– They go– My daughter’s like, “what is he saying?” I don’t know! “I’m a slave! Kill me!”',\n",
       " '“The Food Chain”\\nMust be awful to be other kinds of stuff, You know? I’m glad I’m this. This is a pretty good deal when you consider the alternatives. Anything else, any other kind of thing, you’re in the food chain. You’re in the food– we are out of the food chain. I don’t know if we fully appreciate the fact That we got out of the food chain. That is a massive upgrade Because for every other living thing, Life ends by being eaten. That’s how all life ends, is– Every single life except human life, Every life ends like this. Aah! Aah! Aah! We’re the only ones that get to just die old in a bed, Just “I love you. Bye.” I mean, imagine if we were still in the food chain On top of everything else. Imagine if we were in the food chain. It would just be another thing you gotta deal with. You’re already having a bad day. You wake in up in the morning. You’re making breakfast. You burn your toast, and it’s too late to try again, And your kid comes in and says, “beh,” and you’re like, “fine,” And it’s just, “why?” You get a thing in the mail That says that your phone’s different, And your mortgage is another company now. What? I don’t get it! Then you’re walking to work like, “why do I even bother? “shit! Goddamn it! “there’s always fucking cheetahs at the train station! Stop it!” You think that sharks– Do you think that sharks would be embarrassed If they knew that we could all see their fins Sticking out the top of the water? I think they’d be bummed ’cause I don’t think sharks are aware of that at all. I think sharks think they’re slick. They swim around like, “hey, nobody has any idea what’s down here,” And we’re all up here like, “there’s totally a shark right there.” It wouldn’t be fun being a predator, either. If you’re a predator, imagine if every time you’re hungry, You gotta chase a guy Who’s running for his life. You gotta– “come on, dude! Shit, get over here!” And just hold him down and bite his neck Till he shuts the fuck up for a minute So you can just sit there and eat his stomach Before you go to work. That would really suck. That’s why animals just– They go, “let’s do this together, man. “you chase the parents away. I am gonna eat the kid, and you circle back.” That’s why they do it like that. “fuck it. I’m eating babies. This is bullshit.” “grownups ain’t worth the meat.” Whoops, all right. All right. shit. Goddamn it. Idiot. This isn’t a gay voice, by the way. It’s not. Shut up. yeah.',\n",
       " '“Courtyard Confrontation”\\nI live in New York city, and it’s OK there. I live in a nice building. I never lived in a nice place before. When I was growing up, I had no money. I mean, my mom didn’t. Didn’t matter. I was a child. But I’m not used to it ’cause it’s nice. There’s, like, a pretty courtyard With flowers and a fountain with little marble boys pissing. I don’t know. What is it with fountains? Like, all fountain sculptors are pedophiles, basically. You can’t get a fountain made without– “can you make me a fountain?” “yes, I’ll get started right away! “Yes! Yes! It’s finished!” And it’s just little boys pissing on the face Of a Greek god that looks like him a lot. “just piss on me forever!” Anyway, there’s one of those in the courtyard of my building, And my first week in the building about a year ago, I went down to the courtyard for the first time, And I didn’t look too good, you know? It was a Sunday morning. That’s my least presentable hour. There’s a lot of, you know, just stains, Just like, you know, food and me and whatever… And so I’m sitting there. So? Shut up. Ha ha ha! Anyway, but so there I was. I’m sitting on the stone bench of this courtyard And feeling a little out of place. You know, there’s these fancy doormen and stuff, And then there’s this guy looking at me. I notice he’s looking at me from across the courtyard, And he’s all spiffy-looking. He’s got brown shoes, and he’s looking at me like, “” I can tell he was thinking I don’t live in the building. He thinks I just wandered in off the streets And sat in the courtyard. I can tell he’s thinking of coming over And dealing with me on his own, and I’m sitting there thinking, Like, “please do that. Yes. Please, come on, come on. Come on, come on, come on,” And I’m trying to look even more gross, And I’m, like, pulling up my shirt, “” And then I see him go, “no. That’s not gonna do at all,” And he comes over to me, “” and I’m like, “Num num num!” I’m so excited to have this thing, a confrontation Where I’m not wrong at all and he thinks I am. “rrgh!” So he comes over, says, “excuse me, “do you live in this building?” And I said, “no,” ’cause why not start there? I said, “no.” He goes, “well then, what are you doing here?” And I said, “I just need to rest. I’m having a hard time.” He says, “this is private property,” And I said, “well, I don’t really believe in that.” You know, just the worst things I could say from his point of view is basically all the things I was saying, And he goes, “well, if you don’t leave, I’m gonna talk to the doorman.” I was like, “can I just stay, like, five more hours?” So he’s–“no,” and he goes over to the doorman and I see him talking about me to the doorman like this, and then I see the doorman going, “no. That guy lives here. It’s OK,” And the look on his face– mwah mwah! Num num!– It was just so– It was this beautiful cocktail of anger and confusion. It’s like I had invented a new way to hurt somebody’s feelings. That’s how excited I was.',\n",
       " '“Getting What ‘Old’ Is”\\nI’m 45 now, So I’m either halfway through a healthy life or almost done with a not-so-healthy life. I don’t know which one. I won’t know till it’s over where this was. I don’t know how long I’m gonna live. I don’t know. Nobody knows, I guess. I think human life expectancy is pretty good. We get a good run, you know? Some people die early, you know? If I die now, people will be like, “that’s too bad.” If I die five years from now, they’ll be like, “well, all right,” like it’s not even– It’s– Like, as soon as you’re 50, you’re a candidate. You know, there’s no candlelight vigils for 50-year-old guys that die, and you start pushing– You know, some people get to be like, 80s, 90s. You know, there are people that get to, like, 114, and then they’re in the news, and it’s always some old guy, “I met Napoleon.” No, you didn’t, you liar, You oldest liar in the world. But 45, you know, you’re not old yet, But you start having moments Where you kind of start getting what old is, Especially if you didn’t take care of yourself, you know? I have moments where I’m like, “wow, this seems early for this.” Like, this is something that happens to me a lot. I’ll be sitting watching TV or doing nothing, And all of a sudden, I’ll realize, “I need to wipe my ass right now.” “I mean, nothing happened, But I really gotta wipe my ass right now. Right now.” Gotta make trips to the bathroom just to wipe my ass. How does this happen already? I’m 45. Already, my asshole’s just like, “Just– ” My asshole– My asshole’s like the waistband on old pajama bottoms, Just kinda… Loose and ineffectual. My asshole’s like a bag of leaves that nobody tied up. It’s just sitting on the lawn, full and open, Puking leaves onto the grass with every wisp of wind. Some kid kicks it over on his way home From a tough day at middle school. “rats.” That’s a pretty accurate description of my asshole. Here’s another thing about my age right now. If I’m– OK. Say I’m sitting down. If I’m sitting anywhere, which–ha ha ha!– I love sitting so much– I would take sitting and doing nothing To standing and fucking any day. This is way better than coming. This is way better. This is what– At my age, if I’m sitting down and somebody tells me I need to get up and go to another room, I need to be told all the information why first. You gotta explain all that shit to me. “what? Why do I– no. Why, though?” “Your car is being towed right now!” “Well, that’s what happens to me, then. That’s– I accept that.” ’cause getting up is a whole thing. It means first, I have to decide, “do I really want to be alive anymore?” Like, let’s start with that, And then I gotta, “” start kind of rocking to get momentum, “” like I’m trying to get an old Honda out of a snow bank. “shit.”',\n",
       " '“Putting On Socks”\\nThe worst part of my day, worst part of every day of my life, is when I have to put on my socks. Putting on my socks is the worst part of every day, and it always will be. Even if I have a terrible day in the future Where my grandmother is murdered by my other grandmother, If that ever happened to me, the worst part of that day Will be when I put on my socks because– Putting on my socks, that means I have to– Here’s what I have to do. I have to get my hands past my pointed toe. I don’t even know how I do it. I’m sitting here. I don’t know how I do that. It’s ’cause you have to– It’s like folding a bowling ball in half. Soon as I start, I can feel– I’m pushing all the fat up into my vital organs, And I just feel all the systems failing. “beep, beep, beep!” And I have to, like, lay on my back like an eight-year-old And go like this, and I start passing out. And I know other people’s lives are hard. Ha ha ha! I know. I saw an interview on TV with Michael J. Fox, And he has Parkinson’s, and he was describing brushing his teeth, and he said It takes him two hours a day, and he said it’s agony, And I saw this and I thought, “OK. That’s hard.” That is hard, And so is putting on my socks. Sorry, Michael. Doesn’t make it easier to know about your thing. Tell you what. I’ll help you brush your teeth, you help me with the socks.',\n",
       " '“If You’re Older You’re Smarter”\\nI don’t know. I like getting older, though. Life is an education, and if you’re older, you’re smarter. I just believe that. If you’re in an argument with somebody And they’re older than you, you should listen to them. It doesn’t mean they’re right. It means that even if they’re wrong, Their wrongness is rooted in more information than you have. They’ve been there longer. If you’re older, you’re smarter. How many people here, by applause, are 45 or older? 45 or older, applaud. OK. That’s about 60 people out of 2,400. Here’s the interesting thing. There’s way more. I can see you. There’s so many more. This is Arizona. There are way more people in that demographic, But they didn’t clap. Why? ’cause they’re smart. They’re sitting in the dark going, “I don’t have to clap. I don’t have to do anything.” They’re not doing it, and they’re right. You know why? ’cause never identify yourself. Never. Are you crazy? You don’t know why I’m asking. How do you know what– OK. Burn them all. Burn everybody over 45. How do you know I’m not gonna do that? How many people here, by applause, are 40 or younger? 40 or younger, applaud. That’s every time. “Whoo! Whoo!” every time. That is a weird thing to celebrate in a room where you’re not the only people here. That’s like going to a cancer ward– “not me! Whoo! I don’t have it! I don’t have it!” If you’re older, you’re smarter. A 55-year-old garbage man is a million times smarter than a 28-year-old with three ph.D.S, Especially smarter than him, ’cause this idiot Has been thinking about three things for, like, 15 years. He’s worthless. The garbage man is 55. He’s had some experience. Things have happened to him. He went to cape cod one summer. He saw a dead guy floating in the motel pool. He took a bus to Montreal. He got a hand job at a fair… From a miner. I mean a miner. Not a minor, a miner. You understand? A miner. A grown man who works in a mine With dirty hands jacked him off at a county fair. That’s what I’m saying happened to the 55-year-old. You see? He’s had some experience. He knows more. More has happened to him. He’s seen more. He’s seen history. He’s witnessed history, Even if it’s not ancient history. He saw Nixon resign on live television. Me and those few people that clapped, We saw the president of America cry And then quit being the president. That shit was crazy ’cause none of us knew what was gonna happen next. Today people are like, “the president’s kind of disappointing.” Really? Our president wept like an insane person And then got on a helicopter and flew away… And the whole nation just watched him go.',\n",
       " '“Getting Older Makes My Life Better”\\nI like getting older, though, because for me, The kind of guy I am, getting older Makes my life better, you know, Like, my sex life, way better at 45, Look, ’cause this situation is OK at 45. This is not a fun kind of a 17-year-old to be. And some people, their life is better when they’re younger. You know, young dudes, young, skinny dudes, Best life in the world is being a young, skinny dude. They don’t have to do anything. They just show up With a big adam’s apple and a smelly t-shirt. “hey, I’m here for the easy pussy for the rest of my life.” “so where do I– everywhere? OK. Cool.” But for guys like me, this is not a fun youth. It gets better. I’d like to make one of those “it gets better” ads For just dumpy, young guys. We could use a little help, a little encouragement, Just somebody on TV, “listen, man. “I know it’s tough right now. “You’re vaguely heavy with no face. “You have zero value on the sexual marketplace. “You feel invisible to the girls in school because you are, “but it gets better because you’ll all grow up, “and you pretty much look just like this your whole life, “and they don’t. “Their options start running out really fast, “and you’re gonna be there. “As long as you stay relatively employed and washed, “you’re gonna be amazing in your 40s. “You’re gonna be– “you’re gonna be the branch that she can grab “before she hits the ground. “It’s gonna be so great. “It just takes time for her circumstances “to match your looks, but it’s gonna happen. “It’s gonna happen. “When real shit matters, you’re gonna be the sexiest motherfucker in the world.” It’s just time. That’s all it takes. There’s a formula to this. It’s pussy plus time over income squared.',\n",
       " '“Everybody Has Their Time”\\nEverybody has their time. Everybody has their time. I mean, not everybody. There are people out there who there’s just nobody for them. Yep. People like to say things like, “there’s someone for everyone.” Nope! Not at all true, and stop saying it ’cause it’s mean to people who never find anybody. There are millions of people out there who we’ve all unanimously decided, they are light speed ugly and nobody kisses them on the lips, even. Nobody touches their genitals their entire life. They just wash it, and then they die. That’s all that happens, “aww,” and if you’re feeling bad for them, you can go find one and fuck one tomorrow, you can just solve the problem right there with all that kindness in your heart. “Aww.” Well, go fuck one. “Nah.” I didn’t think so. That’s the one way we’re all mean. Nobody does that. Nobody fucks down, nobody. People fuck up or across. Some women fuck down because a guy talked them into that it was up. Some guy, “yeah. No. You should. I’m totally up. Yeah.”',\n",
       " '“Dating Takes Courage”\\nIt’s a weird selection process that we have. Dating really is– It’s how we evolve, is dating. It’s how we choose each other, And dating is a real drag for a lot of people, But I always think it’s a nice thing. You know, when I see a date, I’m always happy when I see a couple on a date ’cause it means people are still trying, you know? You see a couple on a date, It means there’s still courage out there. That takes courage, to go on a date, for both sides, Two very different kinds of courage. The male courage, traditionally speaking, is that he decided to ask. He went up to a random woman who he has no idea If she’s gonna like him or not and he walked up to her terrified. Everything in your body is telling you, “just go the fuck home and jerk off. Don’t do this!” But he walked up and said, “hi. Yes,” And she’s like, “” “no, no, no. A second. Give me a second,” And you try to get through this membrane of, you know– And then, if it works And you say, “you wanna go out sometime?” Sometimes she’ll say yes, and if she says yes, that’s her courage, and the courage it takes for a woman to say yes is beyond anything I can imagine. A woman saying yes to a date with a man is literally insane and ill-advised, and the whole species’ existence counts on them doing it, and I don’t know how they– How do women still go out with guys when you consider the fact that there is no greater threat to women than men? We’re the number-one threat to women. Globally and historically, we’re the number-one cause of injury and mayhem to women. We’re the worst thing that ever happens to them. That’s true. You know what our number-one threat is? Heart disease. That’s the whole thing. That’s it, just our own heart going, “dude, I can’t– “you can’t keep doing this. I told you three strokes ago that this is not smart,” But women still– “yeah. I’ll go out with you alone at night.” What are you, nuts? “I’ll get in your car with you with my little shoulders. Hi. Where are we going?” “To your death, statistically.” How do they still do it? If you’re a guy, try to imagine that you could only date a half-bear, half-lion, And you’re like, “I hope this one’s nice. I hope he doesn’t do what he’s going to do.”',\n",
       " '“First Date”\\nI always– I love when I see a date. You know, when you see a date, you can tell it’s the first date ’cause of the way they’re walking together And she’s looking up at his face trying to figure him out, And he’s just a mess. A guy on a first date just has no actual personality. He’s just a mishmash of different kinds of dudes for a couple of seconds each, just anything, no cohesive– Just like a ransom note cut out of a lot of magazines, just, you know, “well… “ha ha! “well, yes. I think so, too. Ha ha! Rrgh…” Whatever, just like a blind dick in space just thrusting in infinite directions Hoping to find pay dirt at someplace, And then sometimes you see a date that’s later down the line and something has happened. There’s something that happens in a date that I never get to witness ’cause women do this. They get to do it inside. They get to just decide quietly, “I’m gonna let him fuck me.” They just get to decide. Something he says, and she’s like, “that was good. He’s gonna fuck me later,” And he has no idea. He’s still, like, trying all this shit. He still has no idea he’s already in there.',\n",
       " '“Tits”\\nGuys are– We love women a lot– all men do– And we just look at you. That’s what I do. I just look at women. I just–“” Like they’re, you know, cakes in windows. I just–“” I was walking in New York once, and there’s these two very cute women walking behind me, and I was trying to walk slowly so I could hear what they were saying to each other, you know, ’cause they were cute, so I wanted to hear them, like that’s gonna help me in any way, to hear their– “don’t you wish the guy walking in front of us would squeeze our tits for, like, one second?” OK. Here. Here I go. Thank you. It’s really a flaw in men that we would all do that. If you’re a woman, you could ask any guy on planet earth, “could you squeeze my tit for one second?” And 100% of us will go, “yes, of course.” That doesn’t matter. I could be doing open heart surgery. “yeah. Ok.” Beep! “don’t worry. He’s not your tits. Don’t worry about it.” I don’t know why we love tits so much. Some people say it’s because we breastfeed, but so do women, Or, you know, baby women. Not grown-up women, don’t usually– You don’t see, like, a 68-year-old woman, Like, a stately look– You know, like Sigourney weaver, Like, sucking milk out of a young woman’s tit. “thank you, Deborah. I’ll see you tomorrow at 2:00.” It’s not usually the thing, Is the elderly breastfeeding from the young, Except for at the end of “the grapes of wrath,” Which I don’t mean to ruin that book for you, But you should have read it by now. I don’t know if you read “the grapes of wrath,” But that’s how it ends, with an old, dying man Sucking milk out of a young girl’s tits, And then the book is over, and you’re like, “Jesus! What happened at the end there? That’s crazy.” There’s no other book in that genre. There’s no dense, historic classic That ends with a weird, porny paragraph at the very– “and then Anna Karenina shat on his chest.” “holy moly with that!” “the end.” “my god! “that is a violent shift in tone at the end of that book. I’ve been reading this book for three months.” But we do, we love tits, And you always know a tit. You always know a tit. You know, like you ever been in a crowded place– Like a subway or like, you know, a sports stadium– And you’re smooshed in with other people And your elbow touches a tit behind you, you’re like, “that’s a tit. I just touched it. I know that was a tit. I know it!” Because the sensitivity of the male elbow To tit flesh specifically is unbelievable, just to tits, ’cause you could drive a tack in there, I’m not gonna feel it, But a tit– Through a shirt and a sweater and a jacket And her jacket, sweater, shirt and bra, somehow… “it’s a tit! I touched a tit! “I touched a tit! I touched one tit. One tit.” That’s rare, to touch one tit. It’s like a four-leaf clover. Usually, you touch two. The only time you touch one tit is when it was an accident Or you didn’t have permission, But otherwise… When tit access is granted, It’s usually good for two tits at a time. It’s, once you’re on one– You really have to screw up really badly and quickly To lose tit access between tits one and two. You must have said something really dumb on the first tit That you didn’t get the second one. “yeah, it’s like your mom’s dirty whore tit.” “why? What? I said I liked it. “that’s what I meant, is that I like it. “I like your mom’s dirty whore tit, And I like yours,” And if it’s up to the guy, we’re gonna touch both tits. No guy touches a tit and then goes, “you know what? “I’m good with the one. That’s fine for me. Everything in moderation.” We’re gonna touch both, Even if something terrible happens in the middle of– “yeah–” “there’s a bomb!” “shit! Come on, let’s get– “come on! Let’s get your tits out of here!”',\n",
       " '“Divorce”\\nI’ve seen a few tits. I’ve seen–I don’t know– 48 maybe. I don’t know. I had my history in my life, you know? I’ve been divorced for five years, And it’s been the best part of my life, being divorced, Easily my favorite part of my life. I love being divorced. Every year has been better than the last. That is the only time I can say that about, and by the way, I’m not saying don’t get married. If you meet somebody, fall in love and get married, And then get divorced because that’s the best part. It’s the best part. Marriage is just like a larva stage for true happiness, Which is divorce, Because you just let go and everything’s fine now. Divorce is forever. It really actually is. Marriage is for how long you can hack it, But divorce just gets stronger like a piece of oak. Nobody ever says, ” my divorce is falling apart. It’s over. I can’t take it.” And again, if you’re in a good marriage, stay in it. If you’re in the best marriage ever, stay in it. I’m just saying, if you got out, it would be better. That’s just a fact. I’m sorry. I’m sorry, but it’s true. Everything’s better. My ex-wife and I, This is the best part of our knowing each other. We’re good co-parents because we live apart and we’re friends. Our kids go to her half the week, They come to me half the week, and I’m a good father. I’m an attentive, focused, and responsible father. Do you know why? ‘Cause I get to say good-bye to these kids every week. Are you shitting me? It’s like every parent’s fantasy. Who can’t be a good father for half of every week? No matter how bad it gets, every Wednesday, I get to go, “good-bye, girls. “Daddy’s gonna go upstairs and pour whiskey all over his naked body right now.” “I’m gonna lay in my own filth until two seconds before you come back here.” That’s why I’m such a good dad.',\n",
       " '“Videoing Your Kids”\\nMy daughter was having a dance thing at her school. They had this big dance. Anyway, we all went, all the parents, And everybody’s there, and everybody’s got their phone, Every single parent. It was an amazing thing to watch ’cause kids are dancing And every parent is standing there like this. Every single person was blocking their vision Of their actual child with their phone, and the kids– I went over by the stage and the kids– There’s people holding iPads in front of their faces. It looked like we’re all in the witness protection program. Like, the kids can’t see their parents, And everybody’s watching a shitty movie Of something that’s happening ten feet– Like, look at your fucking kid. The resolution on the kid is unbelievable if you just look. It’s totally HD. Why are you taping this? You’re never gonna watch it. In a million years, you’re not gonna watch videos Of your kids doing shit you missed The first time it happened. You don’t watch it. You just put it on Facebook. “here, you watch it. I wanna take a nap now.” And then you get to read all the comments. “my god! “it’s so cute! Ngaah!” And guess what? They’re not watching it, either. They’re not watching the video. These kids are dancing for no one. Nobody watches the videos on your Facebook. They see the first frame of a kid and they go, “that’s very nice. OK. Back to this.” Nobody’s watching your kids’ videos on Facebook, I promise you. I’ll prove it to you. Next time you tape your kid’s dance, Tape one second of it and then add 20 minutes of just your own asshole. Just go in the bathroom and just record your own anus opening and closing for 20 minutes. Tack it onto your kid dancing for a second. Put that on Facebook. Everybody will write the same thing. “That’s adorable! I think I see a future star!”',\n",
       " '“Life Is A Good Deal”\\nDon’t tape shit on your– Life is short. Life is very short. I like life. I like it. I feel like even if it ends up being short, I got lucky to have it ’cause life is an amazing gift When you think about what you get with a basic life, Not even a particularly lucky life or a healthy life. If you have a life, that’s an ama– Here’s your boilerplate deal with life. This is basic cable, what you get when you get life. You get to be on earth. First of all–my god– what a location. This is earth, and for trillions of miles in every direction, It fucking sucks so bad. It’s so shitty that your eyes bolt out of your head ’cause it sucks so bad. You get to be on earth and look at shit, As long as you’re not blind or whatever it is. You get to be here. You get to eat food. You get to put bacon in your mouth. I mean, when you have bacon in your mouth, It doesn’t matter who’s president or anything, You just–“” Every time I’m eating bacon, I think, “I could die right now,” and I mean it! That’s how good life is. You get to– you get to fuck. That’s free if you’re smart. That comes with. That’s part of the deal. Where else are you gonna get that deal? You get to put your dick in there and go in and out, Pretty good, And if you’re a woman, you get to just lay back And just have a dick just shoving in and out of you awkwardly Anytime you want, anytime you want. If you’re a gay man, you get to just fill your boyfriend’s ass with your dick, just fill it all the way to the balls, And it’s nice and warm and tight in there, And he’s your buddy. If you’re a lesbian, You get to do all the stuff they’re doing, and… It’s a great deal. You get to eat. You get to fuck. You get to read “to kill a mockingbird.” It’s a great life. So, you know, I’m not worried about it ending.',\n",
       " '“Behind The Wheel”\\nIt’s pretty good, and I’ve wasted a lot of time Just being angry at people I don’t know. You know, it’s amazing how nasty we can get as people, Depending on the situation. Like, most people are OK as long as they’re OK, But if you put people in certain contexts, they just change. Like, when I’m in my car, I have a different set of values. I am the worst person I can be when I’m behind the wheel, which is when I’m at my most dangerous. When you’re driving, That’s when you need to be the most compassionate And responsible of any other time in your life ’cause you are fucking driving a weapon amongst weapons, and yet it’s the worst people get, and I am the worst. One time, I was driving, and there was a guy ahead of me, And he kind of–I don’t know– sorta drifted into my lane for a second, and this came out of my mouth. I said, “worthless piece of shit.” I mean, what an indictment. What kind of a way is that to feel about another human being? “Worthless piece of shit”? That’s somebody’s son. And things I’ve said to other people. I was once driving, and some guy in a pickup truck did– I don’t remember, even– And I yelled out my window, I said, “hey, fuck you!” Where outside of a car is that even nearly OK? If you were in an elevator And you were, like, right next to a person’s body And, whatever, like, he leaned into you a little bit, Would you ever turn right to their face and go, “hey, fuck you!”? “worthless piece of shit!” No. Literally zero people would ever do that, but put a couple of pieces of glass and some road between you, there’s nothing you would not say to them. “I hope you die!” I said that to a person. “I hope you die!” Why? ’cause you made me go like this for half a second of my life. You tested my reflexes, and it worked out fine! So now I hope your kids grow up motherless!” I mean, what am I capable of? I’d like to think that I’m a nice person, But I don’t know, man.',\n",
       " '“If Murder Was Legal”\\nA lot of it is context. There’s a lot of things I wonder if the world was different. Like, if murder was legal, I might have killed a few people. I don’t know. I’d love to think, “I would never do that,” But we really need the law against murder For one simple reason. The law against murder Is the number-one thing preventing murder. We’d like to think it’s ’cause, Like, “I would never do that.” No. It’s ’cause it really sucks getting caught murdering, a lot. If murder was legal, or just a misdemeanor– Like you get a thing in the mail– “shit, they had a camera there. Well.” If murder was legal, there would be so much murder. Regular people would murder. Murderers would murder even more, And then really nice, sweet people Would murder a few people, But nobody would murder no people. You wouldn’t trust somebody who didn’t murder If murder was legal. You wouldn’t like them. “I never killed anybody.” “OK. Nice meeting you. Yecch, what a creep. “I mean, not even a hooker? Live a life. “what’s wrong with that guy? He’s like a Mormon or some shit. I hate those guys.” “I think he’s nice.” “shut up, Janet.” They would just– If murder was legal, there would be a lot of murder. Children would behave very differently Because mostly parents would be murdering their own kids, That’s mostly what would happen if murder was legal. You know, you’d go to a mall, there’d be, Like eight, different moms in the mall just– “I told you to stop it! You didn’t listen to me!” Just–pbbt! There’d be just– You’d be stepping over dead kids. There’d be, like, a new problem. “you have to clean up your kids “when you kill them ’cause it’s gross. “it’s bad for the environment. “if you murder your child in a public place, “please use one of the red bags that are in the dispensers “every three feet of America. “put your murdered child in the red bag “with a logo of a murdered kid on it “next to the other logo that tells you “not to let your alive kid play with the plastic bag “because they might suffocate, In which case you could just leave them in the bag.” That is a whole bunch of horrible thoughts Right in a row, right in a row. That is a compressed area of bad thought.',\n",
       " '“Of Course, But Maybe”\\nYou know, you have your bad thoughts. Hopefully you do good things. Everybody has a competition in their brain of good thoughts and bad thoughts. Hopefully, the good thoughts win. For me, I always have both. I have, like, the thing I believe, the good thing– That’s the thing I believe– and then there’s this thing, and I don’t believe it, but it is there. It’s always this thing and then this thing. It’s become a category in my brain That I call, “of course… But maybe…” I’ll give you an example, OK? Like, of course children who have nut allergies need to be protected, of course. We have to segregate their food from nuts, Have their medication available at all times, and anybody who manufactures or serves food needs to be aware of deadly nut allergies, of course, but maybe… Maybe if touching a nut kills you, you’re supposed to die. Of course not. Of course not. Of course not. Jesus. I have a nephew who has that. I’d be devastated if something happened to him, but maybe… maybe if we all just do this for one year, we’re done with nut allergies forever. No. Of course not. Of course, if you’re fighting for your country and you get shot or hurt, it’s a terrible tragedy, of course, of course… But maybe… Maybe if you pick up a gun and go to another country and you get shot, it’s not that weird. Maybe if you get shot by the dude you were just shooting at, It’s a tiny bit your fault. Of course, of course slavery is the worst thing that ever happened. Listen, listen. You all clapped for dead kids with the nuts. For kids dying from nuts, you applauded, So you’re in this with me now. Do you understand? You don’t get to cherry-pick. Those kids did nothing to you. Of course, of course slavery is the worst thing that ever happened. Of course it is, every time it’s happened– Black people in America, Jews in Egypt. Every time a whole race of people has been enslaved, it’s a terrible, horrible thing, of course… But maybe… Maybe every incredible human achievement in history was done with slaves. Every single thing where you go, “how did they build those pyramids?” They just threw human death and suffering at them until they were finished. How did we traverse the nation with the railroad so quickly? We just threw Chinese people in caves and blew ’em up and didn’t give a shit what happened to them. There’s no end to what you can do when you don’t give a fuck about particular people. You can do anything. That’s where human greatness comes from, is that we’re shitty people, that we fuck others over. Even today, how do we have this amazing microtechnology? Because the factory where they’re making these, They jump off the fucking roof ’cause it’s a nightmare in there. You really have a choice. You can have candles and horses and be a little kinder to each other or let someone suffer immeasurably far away Just so you can leave a mean comment on YouTube while you’re taking a shit.',\n",
       " 'Thanks a lot, folks. You guys were great. Thank you very, very much. Thank you.']"
      ]
     },
     "execution_count": 7,
     "metadata": {},
     "output_type": "execute_result"
    }
   ],
   "source": [
    "# Notice that our dictionary is currently in key: comedian, value: list of text format\n",
    "next(iter(data.values()))"
   ]
  },
  {
   "cell_type": "code",
   "execution_count": 24,
   "metadata": {},
   "outputs": [],
   "source": [
    "# We are going to change this to key: comedian, value: string format\n",
    "def combine_text(list_of_text):\n",
    "    '''Takes a list of text and combines them into one large chunk of text.'''\n",
    "    combined_text = ' '.join(list_of_text)\n",
    "    return combined_text"
   ]
  },
  {
   "cell_type": "code",
   "execution_count": 25,
   "metadata": {},
   "outputs": [],
   "source": [
    "# Combine it!\n",
    "data_combined = {key: [combine_text(value)] for (key, value) in data.items()}"
   ]
  },
  {
   "cell_type": "code",
   "execution_count": 26,
   "metadata": {},
   "outputs": [
    {
     "data": {
      "text/html": [
       "<div>\n",
       "<style scoped>\n",
       "    .dataframe tbody tr th:only-of-type {\n",
       "        vertical-align: middle;\n",
       "    }\n",
       "\n",
       "    .dataframe tbody tr th {\n",
       "        vertical-align: top;\n",
       "    }\n",
       "\n",
       "    .dataframe thead th {\n",
       "        text-align: right;\n",
       "    }\n",
       "</style>\n",
       "<table border=\"1\" class=\"dataframe\">\n",
       "  <thead>\n",
       "    <tr style=\"text-align: right;\">\n",
       "      <th></th>\n",
       "      <th>transcript</th>\n",
       "    </tr>\n",
       "  </thead>\n",
       "  <tbody>\n",
       "    <tr>\n",
       "      <th>ali</th>\n",
       "      <td>Ladies and gentlemen, please welcome to the stage: Ali Wong! Hi. Hello! Welcome! Thank you! Thank you for coming. Hello! Hello. We are gonna have ...</td>\n",
       "    </tr>\n",
       "    <tr>\n",
       "      <th>anthony</th>\n",
       "      <td>Thank you. Thank you. Thank you, San Francisco. Thank you so much. So good to be here. People were surprised when I told ’em I was gonna tape my s...</td>\n",
       "    </tr>\n",
       "    <tr>\n",
       "      <th>bill</th>\n",
       "      <td>[cheers and applause] All right, thank you! Thank you very much! Thank you. Thank you. Thank you. How are you? What’s going on? Thank you. It’s a ...</td>\n",
       "    </tr>\n",
       "    <tr>\n",
       "      <th>bo</th>\n",
       "      <td>Bo What? Old MacDonald had a farm E I E I O And on that farm he had a pig E I E I O Here a snort There a Old MacDonald had a farm E I E I O [Appla...</td>\n",
       "    </tr>\n",
       "    <tr>\n",
       "      <th>dave</th>\n",
       "      <td>This is Dave. He tells dirty jokes for a living. That stare is where most of his hard work happens. It signifies a profound train of thought, the ...</td>\n",
       "    </tr>\n",
       "    <tr>\n",
       "      <th>hasan</th>\n",
       "      <td>[theme music: orchestral hip-hop] [crowd roars] What’s up? Davis, what’s up? I’m home. I had to bring it back here. Netflix said, “Where do you wa...</td>\n",
       "    </tr>\n",
       "    <tr>\n",
       "      <th>jim</th>\n",
       "      <td>[Car horn honks] [Audience cheering] [Announcer] Ladies and gentlemen, please welcome to the stage Mr. Jim Jefferies! [Upbeat music playing] Hello...</td>\n",
       "    </tr>\n",
       "    <tr>\n",
       "      <th>joe</th>\n",
       "      <td>[rock music playing] [audience cheering] [announcer] Ladies and gentlemen, welcome Joe Rogan. [audience cheering and applauding] What the fuck is ...</td>\n",
       "    </tr>\n",
       "    <tr>\n",
       "      <th>john</th>\n",
       "      <td>All right, Petunia. Wish me luck out there. You will die on August 7th, 2037. That’s pretty good. All right. Hello. Hello, Chicago. Nice to see yo...</td>\n",
       "    </tr>\n",
       "    <tr>\n",
       "      <th>louis</th>\n",
       "      <td>Intro\\nFade the music out. Let’s roll. Hold there. Lights. Do the lights. Thank you. Thank you very much. I appreciate that. I don’t necessarily a...</td>\n",
       "    </tr>\n",
       "    <tr>\n",
       "      <th>mike</th>\n",
       "      <td>Wow. Hey, thank you. Thanks. Thank you, guys. Hey, Seattle. Nice to see you. Look at this. Look at us. We’re here. This is crazy. It’s insane. So ...</td>\n",
       "    </tr>\n",
       "    <tr>\n",
       "      <th>ricky</th>\n",
       "      <td>Hello. Hello! How you doing? Great. Thank you. Wow. Calm down. Shut the fuck up. Thank you. What a lovely welcome. I’m gonna try my hardest tonigh...</td>\n",
       "    </tr>\n",
       "  </tbody>\n",
       "</table>\n",
       "</div>"
      ],
      "text/plain": [
       "                                                                                                                                                    transcript\n",
       "ali      Ladies and gentlemen, please welcome to the stage: Ali Wong! Hi. Hello! Welcome! Thank you! Thank you for coming. Hello! Hello. We are gonna have ...\n",
       "anthony  Thank you. Thank you. Thank you, San Francisco. Thank you so much. So good to be here. People were surprised when I told ’em I was gonna tape my s...\n",
       "bill     [cheers and applause] All right, thank you! Thank you very much! Thank you. Thank you. Thank you. How are you? What’s going on? Thank you. It’s a ...\n",
       "bo       Bo What? Old MacDonald had a farm E I E I O And on that farm he had a pig E I E I O Here a snort There a Old MacDonald had a farm E I E I O [Appla...\n",
       "dave     This is Dave. He tells dirty jokes for a living. That stare is where most of his hard work happens. It signifies a profound train of thought, the ...\n",
       "hasan    [theme music: orchestral hip-hop] [crowd roars] What’s up? Davis, what’s up? I’m home. I had to bring it back here. Netflix said, “Where do you wa...\n",
       "jim      [Car horn honks] [Audience cheering] [Announcer] Ladies and gentlemen, please welcome to the stage Mr. Jim Jefferies! [Upbeat music playing] Hello...\n",
       "joe      [rock music playing] [audience cheering] [announcer] Ladies and gentlemen, welcome Joe Rogan. [audience cheering and applauding] What the fuck is ...\n",
       "john     All right, Petunia. Wish me luck out there. You will die on August 7th, 2037. That’s pretty good. All right. Hello. Hello, Chicago. Nice to see yo...\n",
       "louis    Intro\\nFade the music out. Let’s roll. Hold there. Lights. Do the lights. Thank you. Thank you very much. I appreciate that. I don’t necessarily a...\n",
       "mike     Wow. Hey, thank you. Thanks. Thank you, guys. Hey, Seattle. Nice to see you. Look at this. Look at us. We’re here. This is crazy. It’s insane. So ...\n",
       "ricky    Hello. Hello! How you doing? Great. Thank you. Wow. Calm down. Shut the fuck up. Thank you. What a lovely welcome. I’m gonna try my hardest tonigh..."
      ]
     },
     "execution_count": 26,
     "metadata": {},
     "output_type": "execute_result"
    }
   ],
   "source": [
    "# We can either keep it in dictionary format or put it into a pandas dataframe\n",
    "import pandas as pd\n",
    "pd.set_option('max_colwidth',150)\n",
    "\n",
    "data_df = pd.DataFrame.from_dict(data_combined).transpose()\n",
    "data_df.columns = ['transcript']\n",
    "data_df = data_df.sort_index()\n",
    "data_df"
   ]
  },
  {
   "cell_type": "code",
   "execution_count": 27,
   "metadata": {},
   "outputs": [
    {
     "data": {
      "text/plain": [
       "'[rock music playing] [audience cheering] [announcer] Ladies and gentlemen, welcome Joe Rogan. [audience cheering and applauding] What the fuck is going on, San Francisco? Thanks for coming. I appreciate it! God damn! Put your phone down, fuckface! I see you, bitch! Put your phone down! Motherfuckers. They can’t use their eyes. Everybody’s gotta live through their goddamn phone. Whoo! I’m high as fuck. Whoo. It’s strange. I wasn’t sure if I was gonna do this sober. I’m like, “Ugh…” It’s not the move. Not in San Francisco. This is… I love pot, but the people that are making edibles need to slow the fuck down. Oh, my God! What are you trying to do to people? I had a pot gummy bear the other day. I think we can all agree a gummy bear shouldn’t be able to steal your soul. Right? How the fuck are these people making these things, man? They’re not consistent. That’s also part of the problem. You don’t know what you’re getting, ’cause they’re not making them the same place where they make Tylenol. Nah, it’s some greasy dude with a Grateful Dead T-shirt on and a gray ponytail. He’s got a bowl of ingredients, and he can’t remember whether or not he put weed in yet. This dude’s time traveling, just back and forth. He just keeps chucking weed in there until it looks like lawn trimmings. You eat it, and it’s not what you’re looking for. It’s not regulated. You gotta ask questions. I asked a dude at the pot store. I go, “Hey, man, how strong are the gummy bears?” He goes… That’s not a unit of measurement. He’s like, “El diablo. El diablo.” “Fuck, man. How much should I take?” “Just the leg.” “Just the leg? Why are you selling whole bears? What the fuck are you trying to prove, man?” They just watch you leave with that bear. They go, “Oh, shit.” They know. They know you’re not gonna die. You’re gonna think you’re gonna die, but everybody lives. Learn some shit. We learn some shit from the scary trips. See, the thing about edibles, one of the problems with it being illegal, is that a lot of us don’t have a lot of information that we could use. Like, there’s a difference between smoking it and eating it. When you smoke it, you get THC. But when you eat it, it’s processed by your liver, and it produces something called 11-hydroxy metabolite that’s five times more psychoactive than THC. And it lets you talk to dolphins. [audience laughs] This is a real moment that changed my life. I was in Hawaii, and we were on a boat, and we were fishing. We were pulling these lines behind the boat, and I was so high, I was trying to figure out which way the Earth was spinning. Like, the boat’s going this way, and the sun’s up there. I’m like, “Um…” For like 20 minutes, I’m paralyzed. So, while this is all happening, these dolphins just show up. And if you’ve ever been around wild dolphins, they’re very trippy. It’s very different than you expect, because they look at you. They, like, check you out. They, like, pop out of the water and they, like, look at you… like a person, not like a fucking deer or woodchuck. They look at you like another person. Granted, I was so high I thought I was gonna die, but… I’m making eye contact with these dolphins, and I started thinking, “How smart are these fucking things?” Because we’re fishing. Dolphins eat fish. But you never catch dolphins. Ever. No one has ever gone fishing and accidentally caught a dolphin. And all I could think of while these dolphins were, like, hopping through the water, and looking at us and shit… I was thinking, “If people lived in the water, you’d fucking catch ’em all day.” They wouldn’t even have to live in the water. If cheeseburgers just floated down Geary Street… at least once a week, a guy would be like, “I’m taking a chance.” And you see ’em getting yanked up to the clouds. “Fuck! We lost Billy!” The bottom of his sneakers in a puff of cloud. You don’t catch dolphins on fishhooks, man. That’s weird. They’re around fishing all the time and like, “Bitch.” They’re fucking smart. How smart? Well, I watched a dolphin documentary, and it said they have a cerebral cortex that’s 40% larger than a human being’s. I don’t know what that means, but if you say it right and don’t fuck up the words, it makes you sound smarter than you really are. I think what it means is they have big fucking brains. But we don’t think of them as being smart ’cause they don’t do what we do. Right? They don’t send e-mails. They don’t have houses. But if you lived in their world, you don’t need anything. You don’t need your fingers. No one’s typing. They have a language that’s so complex, we can’t understand it. All the food’s free. They stay where the water’s warm. I started thinking, “How fucking smart are they? What if they’re exactly the same as us? What if it’s just some different branch of evolution? We went one way. They went the other. What if consciousness is the same?” I was thinking, “What if me to me is the same as me to a dolphin?” The way you think of yourself when you say the word “me.” I was like, “What if that’s exactly how a dolphin feels? They’re just living life through different biology, different genetics, different life experiences. But if I lived a dolphin’s life, I would be him. And if he lived my life, he would be me.” And then I started thinking, “What if that’s the case with people? What if everyone is exactly the same? We’re just living life through different bodies. What if that’s the secret of happiness? Treat everyone as if it’s you living another life.” [audience cheering and applauding] I mean… And then I thought, “God damn, how good is this weed I’m getting in California? Whoo! I’m on a fucking floating craft out in the middle of the ocean, talking to water people.” The problem with treating everybody as if it’s you living another life is you wanna fucking smack yourself. Half the people you meet, you just wanna fucking smack ’em. We live in the weirdest time ever. I mean, it’s the most awesome time ever. But it’s the weirdest time ever, too. We’re, like, that close to President Trump. – [man 2] No. Boo! – “No. Boo!” You boo, but you won’t vote, you fucks! All those Bernie Sanders people, “Yo, Bernie’s the shit.” “Did you vote for him?” “Voting ain’t real, bro. It doesn’t even work, dude.” We are that close to President Trump. Bill Cosby’s a rapist, and Bruce Jenner’s a chick. We’re in an episode of Lost. Down is up and up is down! This is the type of world you get when you give kids participation trophies for getting their ass kicked in soccer games. This is the world we get! We get a goddamn Nerfed-up world filled with nonsense. Nobody wants to be president. Nobody. I hope Hillary wins. That way we can realize chicks can’t do that fucking job either. It’s a stupid job. It’s a stupid job invented back when people used to write with feathers. It’s dumb! It’s just some old-school shit that we need to get rid of. It doesn’t make any sense. Being president is great if there’s like 50 people. If there’s 50 people, you can figure out which one’s the best. Three hundred million people? I have three kids. I don’t know where the fuck they are right now. How is this one dude in charge of 300 million people? It’s nonsense. It’s so old and stupid. They make this guy sleep in this fucking White House. If Trump wins, you know his house is cooler than the White House. He’s like, “I’m not sleeping in that shitty-ass, stupid house.” Trump’s probably got, like, a tube at home that he opens up, and a Chinese girl just pops out of it, and sucks his dick and goes right back in. That’s what I would do if I had that kind of money. We’re down to assholes! Where’s Elon Musk when you need him? Where’s the fucking geniuses? Where’s Mark Cuban? No. We got an old lady trying to get back at her husband for a blowjob he got in the ’90s. We got an old man who hates money. And we got a reality TV star with a plastic set of hair. You can’t have a president with environmental concerns, when every time this motherfucker does his hair, we lose a foot of ozone layer and a polar bear bursts into flames. He’s got, like, a closet full of Aqua Net at home. You can’t pretend you don’t give a fuck when you have that thing going on, dude. Stop that. The White House got broken into while Obama was in office. The first time in over 100 years that someone broke into the White House. Also, the first time a girl was guarding the front door by herself. “What are you trying to say, that women can’t do everything men can do?” Exactly. That’s exactly what I’m saying. That seems sexist, right? People say, “You’re sexist.” No, it’s not sexist. Here’s why it’s not sexist. ‘Cause men can’t even do everything men can do. See? There’s no physical equality, folks. That’s why we have the Olympics. ‘Cause there’s people that can do some shit that you and I can’t do. One of those things is guarding the fucking White House. I know I can’t guard the White House. You know how I know? Because I’ve met Shaquille O’Neal and his dick is where my face is. That’s not equality. That’s not white privilege. Listen, if the White House is experiencing a Shaq Attack, I’m the wrong dude to save the world. I did Fear Factor with Shaq. If we’re holding hands, it’d be like a six-year-old at the park with his dad. We’re barely the same thing. So, do I think women should guard the White House? No. I don’t think I should, either. It’s not sexist to say that women can’t do big physical labor things as good as giant men can. But people will tell you it is. Well, I’m not sexist. As a matter of fact, my favorite people are all female. I have a wife and I have three daughters. They’re my favorite people in the world. But I could beat the fuck out of all of them. Okay? Listen… If they’re guarding the door, I’m getting in. I don’t mean to sound cocky. But I’m just real confident. I could fuck them up if I had the flu. Okay? Yeah, we’re different. We’re different. I could beat up my cat, too. I’m not proud of it. I just tell you what’s up. If you wanna bet money, bet money on me. I’ll fuck that cat up. Most likely. Cats are fucking weird like that, man. I was petting my cat once and he bit me. I was like, “Whoa! Are we gonna do this? What the fuck are you doing here?” I got a little nervous. Got a little nervous. “Women can do everything men can do. This guy’s a piece of shit. We’re leaving. Too much information is going in that I don’t agree with!” “What the guy said was total bullshit. Total bullshit.” How’d that girl get that job? I’ll tell you how that girl got that job. Because someone let her have that job. Which means, either there were a bunch of guys that were trying to fuck her… or her boss was a chick and she hated her. Either one’s possible. Look, if there was a bunch of guys that were trying to fuck her, that makes total sense. If there’s one hot girl and she’s working with five guys in an office, no work’s getting done in that office. That office is now just an audition to see which guy gets to fuck her. Each one of those guys will just slowly start to morph to figure out what this girl likes. Men become like an octopus that tries to fit its way through a keyhole. “There’s gotta be a fucking way. There’s gotta be a fucking way!” You got this girl who’s like, “I could guard the front door.” “Oh, you could definitely guard the door. No doubt. No doubt.” And over time, if this woman doesn’t sleep with one of these men and claim him, over time, these guys will just start morphing. And they’ll just start saying ridiculous, preposterous shit. “Debbie wants to guard the front door. Do you have a problem with that?” “No, I don’t. As a matter of fact, I think women are amazing. Plus, I’m vegan.” And they will just… They will wear patchouli. They will do what the fuck they have to do. Next thing you know, poor fucking Debbie at the front door… “Why am I alone?” [chuckles] The whole story is so bananas. And it’s one of my favorite stories. So I’m gonna give you the whole story of the break-in at the White House with no edits and no comic exaggerations. This is the real story. ‘Cause a lot of people think there’s some grand conspiracy. There’s some cabal of evil geniuses that’s pulling the strings on everyone in America. It’s most likely that people are just dumb as fuck, in all sorts of walks of life. This is the story. This is the real story about the person who broke into the White House. First of all, people are always worried, “The government’s checking out my e-mails, bro. The government’s watching us all the time.” They pulled this guy over two months before he broke into the White House. He had four handguns, two rifles and a machete with him. They didn’t even watch him. He had a map. On the map was Washington, and it had an “X” where the White House is. They’re like, “You’re good to go.” They let him go! Two months later, this motherfucker broke into the White House. And why did he break into the White House? Why do you break into the White House ever? Because you want to die. You don’t… That’s like a suicide run. That’s the only reason why someone runs toward the White House. If you had to ask someone, “What kind of security do you think they have at the White House?” “Oh, dude… they got snipers on every corner. They got lasers in the grass. If you get too far, they open up a door, you drop right into jail.” Nope. Turns out they don’t even have a dog. You just fucking run. The guy who made it into the White House, he had 800 rounds of ammunition in his car. Left that there. Took a knife. That’s a guy who wants to die! He’s just sitting in his fucking car going, “Fuck the government! Fuck my ex-wife! And fuck everybody! I’m gonna do this! Fuck you!” Just sprinting, “Oh, my God, I’m doing it! Oh, my God, I’m doing it!” Thinking, with every step, “This is gonna be the last step of my life. No, this is gonna be the last step of my life. No, this…” And he gets to the front door. It’s unlocked! He opens it. There’s a girl there by herself. Smacks her to the ground and just starts running through the hall. Ah! He’s probably going, “Why am I alive?” He’s probably thinking… He was inside for minutes. For minutes, running around. He got tackled by an off-duty officer. He was probably thinking, “I wanted to die. I don’t want to go to fucking jail. Will somebody please shoot me?” Then he was probably pissed. “Where are my tax dollars going? What kind of security are you fucking people running in this place?” [chuckles]\\nImagine when Obama found out a girl was guarding him. He was probably like, “Everybody, everybody, not that much diversity. I mean, what, are you playing fucking fairy tale games here?” Obama’s got a hard job, ’cause he’s the first president that’s ever been around while Google was here. You know, he could Google his own name if he gets crazy in the middle of the night. Right? “So, let me see what the people have to say.” He’d just go, “Obama is a…” [groans] “I’m none of those fucking things.” Freakin’ out. Shit. [sighs] Probably thinking, “Why the fuck did I do this?” I think the guy who broke into the White House and Obama probably have a lot in common. In that… they went for it, but they probably never really thought they were getting in there. You can’t quit once you’re the president. The moment Obama actually got into office, like, “Good morning, Mr. President,” he was probably like, “Oh, no! What the fuck did I do this for? I didn’t think I was actually gonna get in. [sighs] I can’t sleep. I’m freaking out. Everybody wants to kill me. [exhales heavily] Who the fuck is guarding me?” Looks out in the hallway. There’s a girl taking selfies. That’d be the greatest selfie of all time. A girl with her ass out, duck lips, in the background, a dude’s breaking into the White House. [laughs] You know I’m not making this up. You’ve all seen this. This is recognizable. Pigeon-toed is a good move ’cause you can’t get away that good. You just, like… Like there’s something wrong with your back. That’s a recognizable pose. When did that start? ‘Cause if you look at the original pictures back when people first invented pictures, everybody just stood there looking hungry. Like, if you saw a photo from the 1800s, and in the background a girl was going… She’s a fucking time traveler! Nobody knew that move back then. Somebody had to see their face. “Oh, people like that. They like what I’m doing.” Combo. A two-hole combo attractor. It’s all over online! It gets you a lot of likes. I saw a gal on Instagram, she has eight million followers. All she does is take pictures of her ass. That’s it. She’s got a winning formula. She sticks with it. No witty memes. There’s no inspirational quotes. Mnh-mnh. Mnh-mnh. Just a lot of this. Different ways. And she’s just a regular girl, man. I’m watching this, I’m like, “This is a different kind of person.” She has eight million people that have no idea what her voice sounds like. She doesn’t have a job that they like. She doesn’t have an occupation that they follow. They’re just staring at her ass. This is a new kind of human. There’s never been a person, psychologically, that’s had to navigate those kind of waters. If you really stop and think about it, science should really step in and start looking at this. Don’t go to South America to study some new frog that nobody gives a fuck about. There’s a girl in Florida with eight million people staring at her ass. How does this girl keep a relationship? What is her day like? How many dick pics does she get sent? How many dick pics does that girl receive on a daily basis? Is it like the national debt counter was just fucking spinning out of control constantly? I bet if she turns on the notifications, her phone just starts screaming and runs away from her. I bet if she deletes all the dick pics from her phone, it would be physically lighter. This is a new kind of person. We really have to understand, there’s never been a person like this before. And she’s just a person. Like, that kind of influence, that kind of attractant, that’s a very strong drug to have in the hands of just a girl. And as a guy who has daughters, I just think of that, like, that’s kind of fucking… That’s weird. Because this girl has eight million people staring at her ass. Eight million creeps and weirdos and perverts objectifying her. I mean, I follow her, but I’m not like those other assholes. I’m different. I care. I care about who she is. I’m a nice person. I’m a hero or something. [laughs] “I’m different. Those other guys are assholes. Men are noble. Men are noble and true.” Mmm. If we get to come. If men don’t get to come, we get real Sméagol-like real quick. Just a few months of no dates, [imitating Gollum] “Mesus is just so disappointed with all the mens mesus meets. Mesus is so embarrassed at how other mens talks to you. Mmm. Oh.” Everyone wants to set themselves up as being the noble one. Everybody wants to be Matthew McConaughey, to save the world on a rocket ship. There’s people that are signing up to go to Mars. Do you know about this? There’s a mission to Mars, a manned mission to Mars, where 200,000 people have signed up to be amongst the four people to die on Mars. They’re gonna take a one-way trip to Mars. That’s some sad shit for a bunch of reasons. First of all, it’s some sad shit, ’cause that’s 200,000 people that don’t have any real friends. Right? If it’s someone you love, your real friend… If one of my friends is gonna move to Florida, I’ll be like, “Bitch, where the fuck are you going? You’re gonna go to Florida? We can’t hang out if you go to Florida. Why the fuck are you moving to Florida, man?” But you might be able to deal with it. “We can just visit each other every now and then.” But if your friend was gonna move to Mars, you’d be like, “Oh, really? Get in the fucking car! Just get in the car, dude.” Take him out to Death Valley, “Look around! Sucks, right? Mars sucks worse. Get back in the car, stupid.” Jesus Christ! There’s places in America you can’t live, man. You don’t wanna live in Detroit, why the fuck are you talking about moving to Mars? People really consider moving to Mars. It’s one of the dumbest ideas ever. But if you say that, people will eco-bro you. Have you ever been eco-broed? These people will find an opportunity to virtue signal over you, as Michael Shermer likes to point out. Like, puff their chest out and say that they’re probably better than you. “Hey, dude. Seriously? You think there’s something wrong with going to Mars? Well, I don’t know if you’ve paid attention, man. We maybe should colonize Mars ’cause California’s almost out of water.” Then he’ll nod, like, “Yeah, bitch.” We’re right next to the ocean. What the fuck are you talking about? Look at all that water. You fly over it, it takes a day. The world’s blue. It’s more water than it is not water. We have a salt problem. We don’t have a water problem. Suck the salt out of the water, we got a goddamn party. Instead of pissing and moaning… “Too complicated, bro. We gotta go to Neptune.” Oh, my God! You’re fucking crazy. We’re a crazy race filled with crazy people. We’re like a dude with a dirty house. Like, “Man, I gotta build a new house.” No, you gotta stop shitting in your kitchen. Stop piling up newspapers you’re never gonna read in front of your bathroom, you fuck! We’re crazy! One-way trip to Mars. A one-way trip in coach with three other people so fucking stupid, they’re willing to die on Mars with you. Great. What great conversation you’re gonna have. It’s nonsense, folks. My friend was like, “They’re not gonna die on Mars, man. If people are smart enough to figure out how to get to Mars, they’re smart enough to figure out how to get back.” Here’s why that doesn’t make any sense. People smart enough to get to Mars aren’t going. See, that’s the dirty secret about rocket travel, ladies and gentlemen. Nobody smart enough to make a rocket ever gets in one of those fucking things. No. No, they look at each other right before the launch and they go… They talk German and they get behind giant fucking concrete bunkers. They take some square-jawed, corn-fed dude from the middle of the country, tuck a Bible under that dude’s arm and strap him into that giant metal dick, and shoot it off into the heavens. That’s what we do. And that is what that is. That is a metal dick. It’s a robot dick, and we’re trying to fuck the sky. We are literally trying to come people out of the tip of a metal dick onto other planets. Our ultimate goal is that we get those planets pregnant, and they’re too filled up with people, and then they gotta make a new metal dick. “Bro, we gotta go to Jupiter.” Then they make another one. They shoot that fucking thing, and they fill Jupiter up. We just keep filling the cosmos up with people. And we never evolve. And we never change. We stay perfect, like we are right now. Who’s in? You’re gonna all come with me. We’re gonna leave here right now and go to the Church of Scientology right down the street, and it’s all gonna make sense when you find out that you are an eternal being that created reality so that you can enjoy it. I watched that HBO documentary a couple too many times. I went Clear, I think. I think I’m Clear. I’m back! I’m back now. If you haven’t seen… [chuckles] I had to watch Going Clear, a Scientology documentary, ’cause I have a neighbor who’s a Scientologist, and I don’t even think he’s gay. I don’t know what the fuck’s going on. [exhales heavily] But he sleeps really close to me, you know. Like, my bed’s here, this fucking dude’s bed’s, like, over there. His house is… I mean, if you take away the walls, he’s fucking right there. It’s like, “What does this crazy fuck believe?” And Scientology is a wonderful religion. Not just because it was written by a science fiction author who wrote more fake shit than anyone that’s ever walked the face of the Earth. And not by a small amount. This dude never made a second draft in his fucking life. Everything was one draft of nonsense. And he wrote more of it than anybody. Not in his neighborhood, not in his state, not in a year, not in a decade. More than anyone that’s ever lived, ever. And Scientology is still like, “I don’t see any red flags. I think we’re good. I think this is legit as fuck.” If Scientology is a good religion, it’s because other religions get to make fun of ’em. It’s like it’s the one religion that even the Mormons are like, “Bitch, you believe what? Hold on. I mean, at least we don’t have video of Joseph Smith. There’s some fucking shitty black and white footage of L. Ron Hubbard with a captain’s outfit on. You wanna explain that? [chuckles] Why does he have all those awards on? Why is Tom Cruise wearing a gold medal the size of a dinner plate? What the fuck is going on with you people?” I watched it with my mom, and it was like… First of all, Scientology, they don’t pay taxes. That’s disturbing. They’re tax-free, which means they’re a recognized religion by the government of the United States. Which means the government of the United States had to go over what they believe and went, “Everything seems in order. None of this shit seems like a cult.” Well, what the fuck is a cult, and what’s a religion? So I had to look it up. Turns out… I don’t know who wrote this, but it’s a perfect definition. A cult is bullshit. It’s created by one person. That person knows it’s bullshit. In a religion, that dude’s dead. So it’s a religion ’cause L. Ron Hubbard’s dead. So I guess they got it on a loophole. I watched it with my mom, and my mom was like, “I can’t believe anybody would fall for that.” “You made me go to Catholic school. The fuck are you talking about? There was a child molester dressed like a sorcerer sitting on a golden throne, and you made me call him Father. Slow your roll, lady.” Imagine if I talked to my mom like that. Oh, my God. Jokes, folks. Just jokes. I don’t have a problem with people being religious because I just think life itself is too open-ended. It’s too confusing. And I think we’re evolving. And part of our struggle in evolving is unanswered questions. We wanna seek these answers. But in the meanwhile, they just give you so much anxiety, and it fucks with you so much. There’s nothing wrong with joining a cult. I think you gotta just join a nice, friendly one. Like, the Mormons are a good cult. Here’s why. They don’t get mad at anybody. Like, they never kill anybody. Like, here’s a perfect example. Matt Stone and Trey Parker, the guys who created South Park, they made a hilarious musical called The Book of Mormon. It’s fantastic. If you haven’t seen it, it’s so fucking hilarious. But it’s also brutal! Brutal about the Mormons. You know what the Mormons did? They went to see it, and they took out a full-page ad in the playbill. It said, “If you enjoyed this musical and you wanna find out more about being a Mormon, please visit our website.” They just took it right on the chin like champs. They didn’t get mad. They didn’t get defensive. They didn’t kill anybody. That’s a good cult. They just said, “What do you wanna do?” “We got nine wives. Shut the fuck up!” “Everybody just… Everybody, just chill. Just chill.” That’s a good religion. That’s a good cult. Some cults aren’t that good. They get fucking testy. You know the one. We don’t have to say who. You know what I’m talking about. There’s that one that will kill you if you draw their guy. “Come on, man. I can’t even draw your dude? What if I draw a dude drawing your dude?” “No loopholes!” “Fuckin’ relax, bro.” And this isn’t just theoretical. People have died ’cause they made cartoons. Before the most recent Paris attacks, there was a magazine called Charlie Hebdo, and they were attacked, where 11 cartoonists were killed. Eleven more were wounded, and they killed a cop, too. Fucking crazy! Over cartoons! And when you… When there’s radical, crazy people in the world, what’s interesting is the reaction to radical, crazy people and how everything just sort of kind of balances itself out when things get weird.\\nBecause when these people got killed over a cartoon, the whole world was in shock. The whole world was outraged. But one of the scariest things about it was nobody wanted to print those pictures. You couldn’t see ’em in the LA Times. You couldn’t find them in Time magazine. You had to go online and find them. It was a dark moment for free speech, because everybody’s like, “Oh. I don’t wanna get killed. I don’t wanna show the pictures.” It was weird, until… the balance. Because after they got killed and nobody wanted to print the pictures, word got back to Texas… where they promptly held a “Draw Muhammad” contest in Garland, Texas. I’m not making a word of this up. You can Google it, and I’ll wait. They had a “Draw Muhammad” contest in Garland, Texas. Two dudes showed up, started shooting at the building. They were killed almost instantly. Why? Because they were at a “Draw Muhammad” contest in Texas. How obvious does a trap have to be before you start getting suspicious? What, are you livin’ in a Wile E. Coyote cartoon, motherfucker? You ever go to Texas? That’s not Santa Monica, bitch. That’s a totally different kind of white people. Those are some Wild West people that have computers and modern guns. They’re not supposed to be there. People didn’t evolve in Texas. It’s not like they were monkeys, then they became people and they stayed in that spot. No. No, they landed on boats on the East Coast. The stubborn ones stayed. The smart ones made it to California. But along the way, we lost a bunch of people. [audience laughs] And some of them just stuck around. “Y’all go ahead. We’re gonna hang back here. I’m gonna draw the biggest dick the world’s ever seen in the sand. My wife’s got the biggest titties. I’mma try to fuck a snake. I think it can be done.” They just stayed. They just gathered cattle, stockpiled ammo. And they all talk alike. And that’s why you gotta be nervous. You gotta be nervous in places with accents, okay? It’s one of the reasons why I can prove that California is the best spot to live. ‘Cause all the spots that suck, they all have to sound like each other. ‘Cause I grew up in a place like that. I grew up in Boston. It’s not that the people in Boston suck, but the weather sucks. It’s fucking horrible. And in the winter everybody gets in their car in the morning, and just goes, “Fuck, fuck, fuck, fuck, fuck! Fuck, fuck, fuck, fuck, fuck!” And everybody’s worried about… It’s a real possibility you might starve to death one day. You might freeze trying to walk home. [imitates Boston accent] So they all talk in the same way. “Oh, my God. How many more months till summer? Ahhh! When is this fucking winter gonna be over? We need more firewood.” [whines] They have to sound like the people around them. So if other people invade, like, “We stick together. We’re all in this together.” That’s how they are in Texas, too. They’re like, “Y’all ain’t from around here, are ya?” They have a fucking certain way of talking. Which is proof positive why California is the best spot. Try making fun of a California accent. What are you gonna do? Speak clear and concise? What are you gonna do? You gonna mock us? You’re gonna say some shit that everybody understands? They’re not supposed to be in Texas, folks. It’s not even a state. It’s a republic. They were like, “Man, we ain’t so sure about this whole United States thing. We’re gonna hang back. Hang back, see how this plays out.” They don’t have any rules. They have like three pages of rule books. Here’s how I know this. I’m gonna tell you a fact, a fact about Texas that will change the way you think about Texas. There are more tigers in captivity in Texas, in private collections, than there are in all of the wild of the world. I’m gonna repeat it because I know you’re like, “Oh, the Fear Factor guy is just making shit up to make his jokes work.” No. There’s more tigers in dudes’ yards in Texas than the rest of the fucking planet! How is that possible? Because they can. Because they went through the rule book… [mumbles] “It don’t say shit about tigers. Order it up, dude. Order it up, dude!” One guy got a tiger, and his neighbor’s like, “Shit, I didn’t know we could get tigers.” And he got two tigers. And the first guy was like, “I ain’t about to let this faggot out-tiger me.” And he opened up Tiger World with his oil money. We’re gonna need those people, folks, if the Russians invade. We can’t make fucking warrior babies with those chicks in Marin County with fake asses and rubber lips, okay? We’re gonna need some real warrior genes. We’re gonna need some women who wear non-ironic Daisy Dukes. They got cowboy boots with no socks and stinky feet. And they yell out, “Chris Kyle, rest in peace,” when you make ’em come. We need those women! If the Russians come, we gotta be ready. Think about the children. Think about the children while I get a sip. This is super important, ladies and gentlemen. A lot of people are sleeping on… [laughs] Imagine if I had real points. Oh, Jesus Christ. [audience cheering] I love you fuckers, too, man. So excited to be here. [sighs] I have kids and I lie to them. I get high around ’em, too. People say you shouldn’t do that, but they don’t see it. They say you shouldn’t be intoxicated around your children. Well, I’m not. I’m high. I call it “elevated.” It’s a different thing. The people who have a problem with that, they don’t understand what getting high is. Like, they think you’re gonna be to your kid, like, “Who are you?” What do you think? What’s the worst thing that can happen if I’m a little high around my kid? They’re gonna get extra hugs, and daddy’s going to be paranoid about objects. “Look out. Don’t go there.” That’s it. Plus, I have cool conversations. I have a six-year-old daughter, man. There’s not a lot of 48-year-old man and 6-year-old girl have in common, other than the fact she’s my daughter. And so, our conversations are normally pretty boring. But when I’m high, I’m like, “You know, you call that thing your baby, your doll. You call it your baby, but you know it’s not a baby, right?” “Yeah, I know it’s not a baby.” “Do you call it a baby because you’re the youngest and you like having someone who is responsible for you?” “Maybe.” “Okay. That’s cool. That’s cool. Give me a hug. I love you.” [kisses] It’s weird, man. It’s weird raising little people. There’s some things that I didn’t expect. One of the things I didn’t expect is you have to lie to them. Like, you don’t have to lie to them about a lot of things, but you have to lie to them about Santa Claus. It’s just one of those things, man, ’cause it’s like a community. You have to think about what your kid’s gonna tell other kids. Because when it comes to Santa Claus, you don’t want your kid to be one of two things. You don’t want your kid to be the first kid that tells everyone that Santa Claus is bullshit, ’cause that kid’s an asshole. But you don’t want your kid to be the last kid that figures out that Santa Claus is bullshit, ’cause that kid’s a moron. So you got… You got a little bit of… You’re like, “Oh, no. When do we do this? When do we do this?” And no one knows when to do it. You just let the kids figure it out. Then they’re like, “Dad, what the fuck?” You’re like, “Aw… Oh, I missed the boat. I missed the boat.” Nobody knows when to do it. Nobody can be honest about it. They have little meetings and shit. And I’m like, “When do we tell ’em?” This lady goes, “When they’re 11.” They’re gonna be fucking by then. I told her it was funny. She didn’t believe me. I’m like, “Oh, I’m sorry. I’m off by a year.” That’s not as funny, but it’s… I didn’t mean it. But it’s this thing. They want to keep the kids in the dark. And they wanna pretend they’re the only one that’s teaching the kid. This is a weird thing that people do. They’re like, “I teach my kids, man. I teach my kids.” “Eh… when you see ’em.” But unless you’re some freak who homeschools your children in the forest, your kid’s gonna go to school. They’re gonna go to school, and they’re gonna be in a class with 50 other kids. The teacher only makes 20 bucks a year, and she’s thinking about dick. That’s all she’s thinking about. She’s thinking about getting stuffed. She’s a young, fertile woman who loves kids. And she’s writing on that chalkboard. And the kids all huddle up and share information. Like, “Yeah, what did your dad tell you? Your dad tell you that, yeah? My dad says Santa Claus is fucking bullshit, okay? You ever go near a chimney? It’s that big. What the fuck? Teacher’s coming. Play with blocks. Act stupid. Uh, how does this work?” They play dumb. They play dumb! They’re like little prisoners, trying to figure their way out. They make little papier-mâché heads and pretend they’re napping. They’re little humans. They wanna run shit. “Who is these people telling us what to do? Are they being straight with us, man? What the fuck is going on?” I knew the day my daughter knew that Santa Claus is bullshit. She came home, stared me down. She was, like, mad-dogging me. She took her book bag, and just goes… [scoffs] Walked right up to the chimney, looking at me. “How the fuck?” “Dad, have you ever met Santa Claus?” “No, honey, I’ve never met him.” “But you let him in the house?” And there’s this moment… It was a moment where a seven-year-old has you at checkmate. You’re like, “Oh, shit.” I don’t know whether to high-five her or to keep lying. You wanna go, “Yeah, you got me. You got me. You got me. That’s bullshit. No, the big bang is real, but this is bullshit.” The big bang sounds even less real. The problem is, you have to be consistent. If you’re teaching your kids nonsense, you gotta teach ’em only nonsense. You can’t mix nonsense in with, like, real stuff. Like, my daughter will go like, “How do birds fly?” I go, “Birds have bones that are hollow, so they’re really light. Then they have feathers, which cover a large surface area. And they use the hollow bones and the feathers to push down on the air. See, the air looks like it’s nothing, right? But it’s actually a bunch of gases. That’s why the trees move when the wind blows. The birds can manipulate that and go through 3-D space.” “Whoa!” “Yeah, nature is crazy.” “Yeah. How does the fat man get through the little hole?” “Magic! Christmas magic! Now go to bed. I’m trying to fuck your mom! Go to bed!” [audience laughing] Jokes, folks. Just jokes. Can’t talk like that. That’s how you make strippers. You gotta be nice. They’re little, tiny people. They’re adorable. They don’t know anything yet. You gotta teach ’em everything. You can’t talk mean. [inhales sharply] Kids are a lot like really fucking stupid people… in that if you get ten really stupid people in a room, the most confident one just starts running shit. They don’t have to have any more information, they just have to be more confident. If you get a bunch of dummies together, they’re like, “I don’t know what’s going on.” “I don’t know what’s going on.” “I fucking do. I fucking do.” The guy doesn’t have to have any extra data, he just has to be the only one that’s confident. And that’s what it’s like in school. My daughter’s class has this fucking kid named Debbie. And every day it’s, “Debbie says…” Oh, fucking Debbie says. Debbie says what? You don’t think about that before you have kids. Not only are you gonna have kids, but your kids are gonna make friends, and then you have to make friends with the fucking parents of your kids. And some of ’em are crazy. My daughter’s like, “Debbie says Adam and Eve are the only two people in the world, and all people came from them. Is that true?” [sighs] And this is weird. Like, you don’t know what to do, right? You want to be diplomatic. You don’t want to cause problems at school. But you gotta be honest. And one of the most difficult things to say to a kid is, “I don’t know.” I’m like, “Sweetie, I don’t know. I don’t know if Adam and Eve is where people came from. But nobody knows, because no one from today is alive back then. So it’s not something you can measure. So it’s not something you can see. So we don’t know. But here’s what we do know. You know how some people have big ears and some people have little ears?” “Yeah.” “Well, some people have brains that are made out of dog shit. And they get horny, too. And what happens is, they have to find someone even dumber than them to have sex with. It’s like the opposite of evolution. And then they have a kid, and their kid is fucked. Their kid is fucked! And everybody wants to pretend it’s a level playing field. There’s no level, anywhere you look. Is an eagle and a salmon level? Does the salmon ever get to eat the eagle? No. The universe does not want even! It wants conflict and resolution and constant improvement. Okay? I’m gonna shut this light out, and I’m gonna go fuck your mom right in the mouth. All right?” I don’t say these things. I don’t say any of these things! I was like, “I don’t know. Maybe Debbie’s right. Doesn’t make sense to me. How would that work?” “How would that work?” “It wouldn’t work, would it?” Adam and Eve are the only two people. They have kids. And then, where do all the other people come from? I guess the kids just start fucking each other. Is that what happens? Mom fucks the kids, or the… Yeah, exactly. Debbie’s parents. They were at my house, man, for a cookout, and the dude told me the Earth’s 10,000 years old. They’re Young Earth Christians. They’re sweet people, by the way. Before I shit on them… I’m gonna shit on them, but before I shit on them, they’re sweet. They’re really nice people. I hug ’em every time I see ’em. They’re really kind, nice people. But they just found a part of their brain, they’re like, “I have no use for this.” [grunts] Chucked that whole logic, discerning-reason part. “This fucking thing’s confusing.” They’re Young Earth Christians, which means they follow the strictest interpretation of the Bible possible. I’m like, “How many people believe the Earth is less than 10,000 years old?” Uh! I looked it up. There’s a recent Gallup poll that said that 46% of America believes the Earth is less than 10,000 years old. [audience booing] Here’s why you shouldn’t be scared. They can only measure people dumb enough to answer polls. And when you factor that in, you’re talking about a really small number. ‘Cause you know what the average response is if you call people up and say, “How old’s the Earth?” Number one answer is, “Older than your mother’s pussy.” And then they hang up. Number two answer is, “Fuck you!” After that, you start throwing numbers around. And only 46% of those dummies were stupid enough to think the Earth is 10,000 years old. That’s Debbie’s fucking parents. So out of the people that answer polls… Is it even 1%? It might be 1%. Only 46% are that fucking stupid. And that’s the 1% we should really be worried about. We’re worried about the wrong 1%. Not that we shouldn’t be worried about the really rich, greedy people. We definitely should. We should definitely worry about bankers and people who… They’re just stockpiling resources. They could help the world in some really impossible ways for anybody else. But they don’t. They’d rather just pile up their gold. [grunts] Yeah, that 1% is awful. But there’s another 1% that freaks me the fuck out that no one’s talking about. That’s the 1% who leave comments on YouTube videos. Who the fuck are those freaks? Could you imagine people talking to each other like that in real life and not beating the shit out of each other? I mean, if Jesus Christ himself came back from the dead and had a YouTube page, the first comment would be, “You ain’t shit without your dad, pussy.” These are monsters. This is not a normal person’s response. Normal people don’t leave comments. What a normal person does, they watch a video. They like it or they don’t like it. That’s it. It ends right there. But what you’re dealing with is the process of racism, and child abuse, and neglect and shitty genes. And the Insane Clown Posse is playing. They know all the words, and they’re wafting up their farts, and their Cheez Doodle fingers. And like, “An open letter to Jennifer Lopez… Let me pause and just jerk off in my shirt real quick, here. [mimics fart] Ugh… Dear, Jennifer, don’t you think it’s about time you dress a little more classy? What are your children gonna see when they see…” Just fucking think of the meanest, most biting shit that’s gonna cut it. As if Jennifer Lopez has time in between eating diamonds and fucking all her background dancers in a castle that she built with her ass. But you know, “Let me check the YouTube comments to see if my self-esteem’s on point. Oh!” And you know who’s dumber than them? Me. ‘Cause I read their shit and I get mad. I know they’re stupid. I still get upset. Fuck! This is the world, folks. This is the world we’re living in. Are we happy? I’m not sure. – Is this what we wanted? I don’t know. – [woman] No! – No. – [woman] No! – Are you sure? – [woman] No! Why are you doing this? What is this? What are you doing? Are you fighting for freedom? – What’s happening? – [woman 2] No! Are you White Panthers? What is this? [man] Life sucks! – What are you saying? – [man] Life can kind of suck sometimes. Life can kind of suck? Maybe it’s how you’re livin’ it, bitch. “Life can kind of suck.” It’s the greatest time ever to be alive. “Yeah, I’d live in the old days when you could die from crabs.” It doesn’t get any better than today, man. So stupid. “Make America great again.” It’s as good as it’s ever been. What the fuck are you saying? We have 4G everywhere. When has it been better? We have Netflix. When has it been better? Come on, man. Stop. It’s never been better. This is as good as it’s ever been. It’s just weird. It’s just weird. You gotta get your shit together, bitch. Don’t blame the world. God damn it. Damn it, man. And listen, if you’ve seen any of this show, and you said, “I think some of the stuff you’re saying is really funny, but I sense a lot of, like, macho posturing from you. I sense a lot of, like, bullshit, tough-guy stuff.” You’re totally correct. And what it is is I live with all women, okay? And I’m becoming more of a bitch every day of my life. And I just wanna say I’m not unhappy. I’ve never been more happy in my life. This is the happiest I’ve ever been. But when you’re with all girls, like, you have all girls all the time, you have to make little compromises. You don’t think about it while it’s happening. It’s like the rock doesn’t think about the water carving a path through it, but eventually, that fucking path is gonna get deep. And when you’re with all people that are different than you, they just go, “Hmm…” They just start looking at you like little raptors testing the fence. [squawks] They’ll just start poking at you. It’s what people do. It’s natural. It’s just what people do. If you live with people that all are on AT&T and you’re on Verizon, they’re like, “Dude, look at my bars. Make the switch. Come on over. What are you, a fucking Democrat, dude? Libertarian is where it’s at. Wake up! Join us!” When you’re with all girls, they just start… They constantly fuck with my manhood. It’s like, I’ll come home and some new thing is painted pink. I’m like, “Why is this pink?” “It looks better pink, Daddy.” “It looks better pink, Daddy.” And my wife’s like, “I think they’re right.” I’m like, “Oh… I see what the fuck is going on here. It’s mutiny!” They just chip, chip, chip away. It’s like if my manhood was a mountain of marbles. Every day they steal two. They just walk up to my stack… You can’t say shit. You can’t say shit, ’cause it’s only two marbles, and you’re like, “I still got all these marbles. Everything is gonna be okay. I’ll deal with this eventually.” But you’re not gonna deal with it. Every day, two more marbles. You never get those marbles back. You see it comin’. You don’t do anything about it. You’re like, “I gotta go to sleep. All right, everybody stop crying. I gotta go to sleep.” And men don’t want to admit that. “Not me, bro. Not me, bro. I’d rather just live in the woods by myself.” What are you, a fucking Coldplay song? Huh? What are you, a character in a book, you piece of shit? No one’s honest. No one’s honest about how much we need other people. That’s why the characters that we adore so much in the movies are the people that don’t need people. The people who just walk away from it all, like, “Wow, what a rebel!” But in real life, we need people so bad that the worst shit you can do to a prisoner is put them in solitary confinement. So think about that. You’re in a cement box filled with rapists and murderers. And the worst shit they can do is leave you alone. We’re fucking weird. We are weird, ’cause what we are really is we’re some weird superorganism that, like, needs each other in some sort of strange way. But we’re all in denial. “I’m kind of a loner.” Oh, shut the fuck up. There’s no such thing. It’s not real. Every person in this room, me included, all of us, we are all a calculation. We’re all an ongoing, on-running calculation of all the interactions you’ve ever had with all the people that you’ve ever met. And you do a bunch of things that people like, and start doing more of that. You’re like, “I’ll do more of that.” You find things that people don’t like, you’re like, “I’ll keep that shit to myself, hmm. I don’t like that feeling. Hmm.” That’s what we do. That’s what we do. It’s weird. We don’t want to admit it. But that’s who we all are. And I’m just telling you this because I’ve never been more of a bitch. Right now, I have slowly but surely bent until I’m in this position. This is how I’m riding out my days, just like this. “Okay, okay, okay, okay.” But I’m also telling you right now that I’m not going out like Bruce Jenner. Oh! That’s right, politically correct San Francisco. Here’s my take on this Bruce Jenner thing. And, you know, everybody has their own… Not really. This is what everybody’s take is. This is the take that you’re supposed to have. “He’s always been a woman trapped in a man’s body.” Maybe. Definitely maybe. Definitely people are like that. Definitely, there are people who were born in the wrong gender. And am I saying they should stay their gender? No. Who gives a fuck? You should do whatever you wanna do. You should be happy. You should be free. I don’t care what you do. But… it’s also possible that, maybe, if you live with crazy bitches long enough, you become one. That’s all I’m saying. I don’t see this discussed. It is entirely possible. If you put a praying mantis on a leaf, it becomes the color of the leaf. Why? Because it wants to live. It wants to survive. It wants to be accepted by its environment. You show me a man who’s lived with the Kardashians for ten years who didn’t come out a chick, and then we’ll have some data, okay? ‘Cause right now, we lost a fucking American Olympian, and I want you to have some respect! We’re down Bruce Jenner. And I’ve got a close eye on Kanye West, and I don’t exactly like what I’m seeing. [audience applauding and cheering] Look at Kanye West. He’s a very talented, young, heterosexual man who starts a clothing line… he’s clearly jealous about Taylor Swift, and he tweets like a coked-up stripper in the middle of the night. You don’t see what I’m seeing? We are watching the plot of a fucking Stephen King book play out! An American athletic hero moves in with a woman who’s made hundreds of millions of dollars through no way anyone can explain to anyone. He breaks up with her. She turns him into a chick. The whole world tells him he’s beautiful. You tell me you don’t see what I’m seeing? You have to say… You have to say she’s beautiful. “She’s beautiful.” She’s not beautiful, and neither am I. Look, I look like a thumb with two thumbs. Okay? You put me in a dress, I’d be even more disgusting. “Beauty’s unusual.” There’s a lot of cool shit that isn’t beautiful. Sixty-year-old dudes in skirts are on that list. Jesus fucking Christ! What kind of games are we playing here? Why are you lying to children? That’s beautiful. What are my kids gonna think when they see a mountain or a rose? “Is that beautiful too, Daddy? Explain.” Ahhh! Bang! I can’t! The world’s gone fucking bananas! “What you’re saying is horribly transphobic and incredibly regressive. You should be embarrassed at what you’re doing. You’re doing this just to get laughs at someone else’s expense.” Maybe! Or maybe Bruce Jenner lived with demons. Maybe they waited by the bed… until they knew he was in heavy REM sleep… so they could assume their true form. [squawking] Climb up and kick off their designer shoes to reveal black raven’s claws. Clutched the edge of the bed and just… whispered in his ear. [snarls] [imitating demon] “Bruce… [breathing heavily] we would like you better if you were one of us.” “[groaning] I can’t. I can’t be one of you. I was… I was born a man.” “Nonsense! [snarling] [hissing] Nonsense. Bruce… you no longer can be held prisoner by the gender of your birth. You’re free. Bruce… [snarling] your lips are too thin… for the cover of Vanity Fair.” “Huh? What? Wait. Wait. Did you say the cover? Okay. Are you fucking with me? Because… you know the cover’s always been my dream.” “It can be real! [snarls] It can be real. All dreams… can be real through surgery. Sleep.” [audience cheering and applauding] Thank you very much, San Francisco! I had a great fucking time with you savages! Let’s take a selfie. Shit. We got it. Putting together one of these fucking specials is stressful as shit. I appreciate the fuck out of all you people being here tonight. And I love you guys. Thank you very much! [cheering and applauding continues] [rock music playing]'"
      ]
     },
     "execution_count": 27,
     "metadata": {},
     "output_type": "execute_result"
    }
   ],
   "source": [
    "# Let's take a look at the transcript for joe\n",
    "data_df.transcript.loc['joe']"
   ]
  },
  {
   "cell_type": "code",
   "execution_count": 28,
   "metadata": {},
   "outputs": [],
   "source": [
    "# Apply a first round of text cleaning techniques\n",
    "import re\n",
    "import string\n",
    "\n",
    "def clean_text_round1(text):\n",
    "    '''Make text lowercase, remove text in square brackets, remove punctuation and remove words containing numbers.'''\n",
    "    text = text.lower()\n",
    "    text = re.sub('\\[.*?\\]', '', text)\n",
    "    text = re.sub('[%s]' % re.escape(string.punctuation), '', text)\n",
    "    text = re.sub('\\w*\\d\\w*', '', text)\n",
    "    return text\n",
    "\n",
    "round1 = lambda x: clean_text_round1(x)"
   ]
  },
  {
   "cell_type": "code",
   "execution_count": 29,
   "metadata": {},
   "outputs": [
    {
     "data": {
      "text/html": [
       "<div>\n",
       "<style scoped>\n",
       "    .dataframe tbody tr th:only-of-type {\n",
       "        vertical-align: middle;\n",
       "    }\n",
       "\n",
       "    .dataframe tbody tr th {\n",
       "        vertical-align: top;\n",
       "    }\n",
       "\n",
       "    .dataframe thead th {\n",
       "        text-align: right;\n",
       "    }\n",
       "</style>\n",
       "<table border=\"1\" class=\"dataframe\">\n",
       "  <thead>\n",
       "    <tr style=\"text-align: right;\">\n",
       "      <th></th>\n",
       "      <th>transcript</th>\n",
       "    </tr>\n",
       "  </thead>\n",
       "  <tbody>\n",
       "    <tr>\n",
       "      <th>ali</th>\n",
       "      <td>ladies and gentlemen please welcome to the stage ali wong hi hello welcome thank you thank you for coming hello hello we are gonna have to get thi...</td>\n",
       "    </tr>\n",
       "    <tr>\n",
       "      <th>anthony</th>\n",
       "      <td>thank you thank you thank you san francisco thank you so much so good to be here people were surprised when i told ’em i was gonna tape my special...</td>\n",
       "    </tr>\n",
       "    <tr>\n",
       "      <th>bill</th>\n",
       "      <td>all right thank you thank you very much thank you thank you thank you how are you what’s going on thank you it’s a pleasure to be here in the gre...</td>\n",
       "    </tr>\n",
       "    <tr>\n",
       "      <th>bo</th>\n",
       "      <td>bo what old macdonald had a farm e i e i o and on that farm he had a pig e i e i o here a snort there a old macdonald had a farm e i e i o  this i...</td>\n",
       "    </tr>\n",
       "    <tr>\n",
       "      <th>dave</th>\n",
       "      <td>this is dave he tells dirty jokes for a living that stare is where most of his hard work happens it signifies a profound train of thought the alch...</td>\n",
       "    </tr>\n",
       "    <tr>\n",
       "      <th>hasan</th>\n",
       "      <td>what’s up davis what’s up i’m home i had to bring it back here netflix said “where do you want to do the special la chicago new york” i was like...</td>\n",
       "    </tr>\n",
       "    <tr>\n",
       "      <th>jim</th>\n",
       "      <td>ladies and gentlemen please welcome to the stage mr jim jefferies  hello sit down sit down sit down sit down sit down  thank you boston i appre...</td>\n",
       "    </tr>\n",
       "    <tr>\n",
       "      <th>joe</th>\n",
       "      <td>ladies and gentlemen welcome joe rogan  what the fuck is going on san francisco thanks for coming i appreciate it god damn put your phone down ...</td>\n",
       "    </tr>\n",
       "    <tr>\n",
       "      <th>john</th>\n",
       "      <td>all right petunia wish me luck out there you will die on august   that’s pretty good all right hello hello chicago nice to see you again thank you...</td>\n",
       "    </tr>\n",
       "    <tr>\n",
       "      <th>louis</th>\n",
       "      <td>intro\\nfade the music out let’s roll hold there lights do the lights thank you thank you very much i appreciate that i don’t necessarily agree wit...</td>\n",
       "    </tr>\n",
       "    <tr>\n",
       "      <th>mike</th>\n",
       "      <td>wow hey thank you thanks thank you guys hey seattle nice to see you look at this look at us we’re here this is crazy it’s insane so about five yea...</td>\n",
       "    </tr>\n",
       "    <tr>\n",
       "      <th>ricky</th>\n",
       "      <td>hello hello how you doing great thank you wow calm down shut the fuck up thank you what a lovely welcome i’m gonna try my hardest tonight you’re t...</td>\n",
       "    </tr>\n",
       "  </tbody>\n",
       "</table>\n",
       "</div>"
      ],
      "text/plain": [
       "                                                                                                                                                    transcript\n",
       "ali      ladies and gentlemen please welcome to the stage ali wong hi hello welcome thank you thank you for coming hello hello we are gonna have to get thi...\n",
       "anthony  thank you thank you thank you san francisco thank you so much so good to be here people were surprised when i told ’em i was gonna tape my special...\n",
       "bill      all right thank you thank you very much thank you thank you thank you how are you what’s going on thank you it’s a pleasure to be here in the gre...\n",
       "bo       bo what old macdonald had a farm e i e i o and on that farm he had a pig e i e i o here a snort there a old macdonald had a farm e i e i o  this i...\n",
       "dave     this is dave he tells dirty jokes for a living that stare is where most of his hard work happens it signifies a profound train of thought the alch...\n",
       "hasan      what’s up davis what’s up i’m home i had to bring it back here netflix said “where do you want to do the special la chicago new york” i was like...\n",
       "jim         ladies and gentlemen please welcome to the stage mr jim jefferies  hello sit down sit down sit down sit down sit down  thank you boston i appre...\n",
       "joe         ladies and gentlemen welcome joe rogan  what the fuck is going on san francisco thanks for coming i appreciate it god damn put your phone down ...\n",
       "john     all right petunia wish me luck out there you will die on august   that’s pretty good all right hello hello chicago nice to see you again thank you...\n",
       "louis    intro\\nfade the music out let’s roll hold there lights do the lights thank you thank you very much i appreciate that i don’t necessarily agree wit...\n",
       "mike     wow hey thank you thanks thank you guys hey seattle nice to see you look at this look at us we’re here this is crazy it’s insane so about five yea...\n",
       "ricky    hello hello how you doing great thank you wow calm down shut the fuck up thank you what a lovely welcome i’m gonna try my hardest tonight you’re t..."
      ]
     },
     "execution_count": 29,
     "metadata": {},
     "output_type": "execute_result"
    }
   ],
   "source": [
    "# Let's take a look at the updated text\n",
    "data_clean = pd.DataFrame(data_df.transcript.apply(round1))\n",
    "data_clean"
   ]
  },
  {
   "cell_type": "code",
   "execution_count": 30,
   "metadata": {},
   "outputs": [],
   "source": [
    "# Apply a second round of cleaning\n",
    "def clean_text_round2(text):\n",
    "    '''Get rid of some additional punctuation and non-sensical text that was missed the first time around.'''\n",
    "    text = re.sub('[‘’“”…]', '', text)\n",
    "    text = re.sub('\\n', '', text)\n",
    "    return text\n",
    "\n",
    "round2 = lambda x: clean_text_round2(x)"
   ]
  },
  {
   "cell_type": "code",
   "execution_count": 31,
   "metadata": {},
   "outputs": [
    {
     "data": {
      "text/html": [
       "<div>\n",
       "<style scoped>\n",
       "    .dataframe tbody tr th:only-of-type {\n",
       "        vertical-align: middle;\n",
       "    }\n",
       "\n",
       "    .dataframe tbody tr th {\n",
       "        vertical-align: top;\n",
       "    }\n",
       "\n",
       "    .dataframe thead th {\n",
       "        text-align: right;\n",
       "    }\n",
       "</style>\n",
       "<table border=\"1\" class=\"dataframe\">\n",
       "  <thead>\n",
       "    <tr style=\"text-align: right;\">\n",
       "      <th></th>\n",
       "      <th>transcript</th>\n",
       "    </tr>\n",
       "  </thead>\n",
       "  <tbody>\n",
       "    <tr>\n",
       "      <th>ali</th>\n",
       "      <td>ladies and gentlemen please welcome to the stage ali wong hi hello welcome thank you thank you for coming hello hello we are gonna have to get thi...</td>\n",
       "    </tr>\n",
       "    <tr>\n",
       "      <th>anthony</th>\n",
       "      <td>thank you thank you thank you san francisco thank you so much so good to be here people were surprised when i told em i was gonna tape my special ...</td>\n",
       "    </tr>\n",
       "    <tr>\n",
       "      <th>bill</th>\n",
       "      <td>all right thank you thank you very much thank you thank you thank you how are you whats going on thank you its a pleasure to be here in the great...</td>\n",
       "    </tr>\n",
       "    <tr>\n",
       "      <th>bo</th>\n",
       "      <td>bo what old macdonald had a farm e i e i o and on that farm he had a pig e i e i o here a snort there a old macdonald had a farm e i e i o  this i...</td>\n",
       "    </tr>\n",
       "    <tr>\n",
       "      <th>dave</th>\n",
       "      <td>this is dave he tells dirty jokes for a living that stare is where most of his hard work happens it signifies a profound train of thought the alch...</td>\n",
       "    </tr>\n",
       "    <tr>\n",
       "      <th>hasan</th>\n",
       "      <td>whats up davis whats up im home i had to bring it back here netflix said where do you want to do the special la chicago new york i was like nah ...</td>\n",
       "    </tr>\n",
       "    <tr>\n",
       "      <th>jim</th>\n",
       "      <td>ladies and gentlemen please welcome to the stage mr jim jefferies  hello sit down sit down sit down sit down sit down  thank you boston i appre...</td>\n",
       "    </tr>\n",
       "    <tr>\n",
       "      <th>joe</th>\n",
       "      <td>ladies and gentlemen welcome joe rogan  what the fuck is going on san francisco thanks for coming i appreciate it god damn put your phone down ...</td>\n",
       "    </tr>\n",
       "    <tr>\n",
       "      <th>john</th>\n",
       "      <td>all right petunia wish me luck out there you will die on august   thats pretty good all right hello hello chicago nice to see you again thank you ...</td>\n",
       "    </tr>\n",
       "    <tr>\n",
       "      <th>louis</th>\n",
       "      <td>introfade the music out lets roll hold there lights do the lights thank you thank you very much i appreciate that i dont necessarily agree with yo...</td>\n",
       "    </tr>\n",
       "    <tr>\n",
       "      <th>mike</th>\n",
       "      <td>wow hey thank you thanks thank you guys hey seattle nice to see you look at this look at us were here this is crazy its insane so about five years...</td>\n",
       "    </tr>\n",
       "    <tr>\n",
       "      <th>ricky</th>\n",
       "      <td>hello hello how you doing great thank you wow calm down shut the fuck up thank you what a lovely welcome im gonna try my hardest tonight youre thi...</td>\n",
       "    </tr>\n",
       "  </tbody>\n",
       "</table>\n",
       "</div>"
      ],
      "text/plain": [
       "                                                                                                                                                    transcript\n",
       "ali      ladies and gentlemen please welcome to the stage ali wong hi hello welcome thank you thank you for coming hello hello we are gonna have to get thi...\n",
       "anthony  thank you thank you thank you san francisco thank you so much so good to be here people were surprised when i told em i was gonna tape my special ...\n",
       "bill      all right thank you thank you very much thank you thank you thank you how are you whats going on thank you its a pleasure to be here in the great...\n",
       "bo       bo what old macdonald had a farm e i e i o and on that farm he had a pig e i e i o here a snort there a old macdonald had a farm e i e i o  this i...\n",
       "dave     this is dave he tells dirty jokes for a living that stare is where most of his hard work happens it signifies a profound train of thought the alch...\n",
       "hasan      whats up davis whats up im home i had to bring it back here netflix said where do you want to do the special la chicago new york i was like nah ...\n",
       "jim         ladies and gentlemen please welcome to the stage mr jim jefferies  hello sit down sit down sit down sit down sit down  thank you boston i appre...\n",
       "joe         ladies and gentlemen welcome joe rogan  what the fuck is going on san francisco thanks for coming i appreciate it god damn put your phone down ...\n",
       "john     all right petunia wish me luck out there you will die on august   thats pretty good all right hello hello chicago nice to see you again thank you ...\n",
       "louis    introfade the music out lets roll hold there lights do the lights thank you thank you very much i appreciate that i dont necessarily agree with yo...\n",
       "mike     wow hey thank you thanks thank you guys hey seattle nice to see you look at this look at us were here this is crazy its insane so about five years...\n",
       "ricky    hello hello how you doing great thank you wow calm down shut the fuck up thank you what a lovely welcome im gonna try my hardest tonight youre thi..."
      ]
     },
     "execution_count": 31,
     "metadata": {},
     "output_type": "execute_result"
    }
   ],
   "source": [
    "# Let's take a look at the updated text\n",
    "data_clean = pd.DataFrame(data_clean.transcript.apply(round2))\n",
    "data_clean"
   ]
  },
  {
   "cell_type": "code",
   "execution_count": 32,
   "metadata": {},
   "outputs": [
    {
     "data": {
      "text/plain": [
       "'   ladies and gentlemen welcome joe rogan  what the fuck is going on san francisco thanks for coming i appreciate it god damn put your phone down fuckface i see you bitch put your phone down motherfuckers they cant use their eyes everybodys gotta live through their goddamn phone whoo im high as fuck whoo its strange i wasnt sure if i was gonna do this sober im like ugh its not the move not in san francisco this is i love pot but the people that are making edibles need to slow the fuck down oh my god what are you trying to do to people i had a pot gummy bear the other day i think we can all agree a gummy bear shouldnt be able to steal your soul right how the fuck are these people making these things man theyre not consistent thats also part of the problem you dont know what youre getting cause theyre not making them the same place where they make tylenol nah its some greasy dude with a grateful dead tshirt on and a gray ponytail hes got a bowl of ingredients and he cant remember whether or not he put weed in yet this dudes time traveling just back and forth he just keeps chucking weed in there until it looks like lawn trimmings you eat it and its not what youre looking for its not regulated you gotta ask questions i asked a dude at the pot store i go hey man how strong are the gummy bears he goes thats not a unit of measurement hes like el diablo el diablo fuck man how much should i take just the leg just the leg why are you selling whole bears what the fuck are you trying to prove man they just watch you leave with that bear they go oh shit they know they know youre not gonna die youre gonna think youre gonna die but everybody lives learn some shit we learn some shit from the scary trips see the thing about edibles one of the problems with it being illegal is that a lot of us dont have a lot of information that we could use like theres a difference between smoking it and eating it when you smoke it you get thc but when you eat it its processed by your liver and it produces something called  metabolite thats five times more psychoactive than thc and it lets you talk to dolphins  this is a real moment that changed my life i was in hawaii and we were on a boat and we were fishing we were pulling these lines behind the boat and i was so high i was trying to figure out which way the earth was spinning like the boats going this way and the suns up there im like um for like  minutes im paralyzed so while this is all happening these dolphins just show up and if youve ever been around wild dolphins theyre very trippy its very different than you expect because they look at you they like check you out they like pop out of the water and they like look at you like a person not like a fucking deer or woodchuck they look at you like another person granted i was so high i thought i was gonna die but im making eye contact with these dolphins and i started thinking how smart are these fucking things because were fishing dolphins eat fish but you never catch dolphins ever no one has ever gone fishing and accidentally caught a dolphin and all i could think of while these dolphins were like hopping through the water and looking at us and shit i was thinking if people lived in the water youd fucking catch em all day they wouldnt even have to live in the water if cheeseburgers just floated down geary street at least once a week a guy would be like im taking a chance and you see em getting yanked up to the clouds fuck we lost billy the bottom of his sneakers in a puff of cloud you dont catch dolphins on fishhooks man thats weird theyre around fishing all the time and like bitch theyre fucking smart how smart well i watched a dolphin documentary and it said they have a cerebral cortex thats  larger than a human beings i dont know what that means but if you say it right and dont fuck up the words it makes you sound smarter than you really are i think what it means is they have big fucking brains but we dont think of them as being smart cause they dont do what we do right they dont send emails they dont have houses but if you lived in their world you dont need anything you dont need your fingers no ones typing they have a language thats so complex we cant understand it all the foods free they stay where the waters warm i started thinking how fucking smart are they what if theyre exactly the same as us what if its just some different branch of evolution we went one way they went the other what if consciousness is the same i was thinking what if me to me is the same as me to a dolphin the way you think of yourself when you say the word me i was like what if thats exactly how a dolphin feels theyre just living life through different biology different genetics different life experiences but if i lived a dolphins life i would be him and if he lived my life he would be me and then i started thinking what if thats the case with people what if everyone is exactly the same were just living life through different bodies what if thats the secret of happiness treat everyone as if its you living another life  i mean and then i thought god damn how good is this weed im getting in california whoo im on a fucking floating craft out in the middle of the ocean talking to water people the problem with treating everybody as if its you living another life is you wanna fucking smack yourself half the people you meet you just wanna fucking smack em we live in the weirdest time ever i mean its the most awesome time ever but its the weirdest time ever too were like that close to president trump –  no boo – no boo you boo but you wont vote you fucks all those bernie sanders people yo bernies the shit did you vote for him voting aint real bro it doesnt even work dude we are that close to president trump bill cosbys a rapist and bruce jenners a chick were in an episode of lost down is up and up is down this is the type of world you get when you give kids participation trophies for getting their ass kicked in soccer games this is the world we get we get a goddamn nerfedup world filled with nonsense nobody wants to be president nobody i hope hillary wins that way we can realize chicks cant do that fucking job either its a stupid job its a stupid job invented back when people used to write with feathers its dumb its just some oldschool shit that we need to get rid of it doesnt make any sense being president is great if theres like  people if theres  people you can figure out which ones the best three hundred million people i have three kids i dont know where the fuck they are right now how is this one dude in charge of  million people its nonsense its so old and stupid they make this guy sleep in this fucking white house if trump wins you know his house is cooler than the white house hes like im not sleeping in that shittyass stupid house trumps probably got like a tube at home that he opens up and a chinese girl just pops out of it and sucks his dick and goes right back in thats what i would do if i had that kind of money were down to assholes wheres elon musk when you need him wheres the fucking geniuses wheres mark cuban no we got an old lady trying to get back at her husband for a blowjob he got in the  we got an old man who hates money and we got a reality tv star with a plastic set of hair you cant have a president with environmental concerns when every time this motherfucker does his hair we lose a foot of ozone layer and a polar bear bursts into flames hes got like a closet full of aqua net at home you cant pretend you dont give a fuck when you have that thing going on dude stop that the white house got broken into while obama was in office the first time in over  years that someone broke into the white house also the first time a girl was guarding the front door by herself what are you trying to say that women cant do everything men can do exactly thats exactly what im saying that seems sexist right people say youre sexist no its not sexist heres why its not sexist cause men cant even do everything men can do see theres no physical equality folks thats why we have the olympics cause theres people that can do some shit that you and i cant do one of those things is guarding the fucking white house i know i cant guard the white house you know how i know because ive met shaquille oneal and his dick is where my face is thats not equality thats not white privilege listen if the white house is experiencing a shaq attack im the wrong dude to save the world i did fear factor with shaq if were holding hands itd be like a sixyearold at the park with his dad were barely the same thing so do i think women should guard the white house no i dont think i should either its not sexist to say that women cant do big physical labor things as good as giant men can but people will tell you it is well im not sexist as a matter of fact my favorite people are all female i have a wife and i have three daughters theyre my favorite people in the world but i could beat the fuck out of all of them okay listen if theyre guarding the door im getting in i dont mean to sound cocky but im just real confident i could fuck them up if i had the flu okay yeah were different were different i could beat up my cat too im not proud of it i just tell you whats up if you wanna bet money bet money on me ill fuck that cat up most likely cats are fucking weird like that man i was petting my cat once and he bit me i was like whoa are we gonna do this what the fuck are you doing here i got a little nervous got a little nervous women can do everything men can do this guys a piece of shit were leaving too much information is going in that i dont agree with what the guy said was total bullshit total bullshit howd that girl get that job ill tell you how that girl got that job because someone let her have that job which means either there were a bunch of guys that were trying to fuck her or her boss was a chick and she hated her either ones possible look if there was a bunch of guys that were trying to fuck her that makes total sense if theres one hot girl and shes working with five guys in an office no works getting done in that office that office is now just an audition to see which guy gets to fuck her each one of those guys will just slowly start to morph to figure out what this girl likes men become like an octopus that tries to fit its way through a keyhole theres gotta be a fucking way theres gotta be a fucking way you got this girl whos like i could guard the front door oh you could definitely guard the door no doubt no doubt and over time if this woman doesnt sleep with one of these men and claim him over time these guys will just start morphing and theyll just start saying ridiculous preposterous shit debbie wants to guard the front door do you have a problem with that no i dont as a matter of fact i think women are amazing plus im vegan and they will just they will wear patchouli they will do what the fuck they have to do next thing you know poor fucking debbie at the front door why am i alone  the whole story is so bananas and its one of my favorite stories so im gonna give you the whole story of the breakin at the white house with no edits and no comic exaggerations this is the real story cause a lot of people think theres some grand conspiracy theres some cabal of evil geniuses thats pulling the strings on everyone in america its most likely that people are just dumb as fuck in all sorts of walks of life this is the story this is the real story about the person who broke into the white house first of all people are always worried the governments checking out my emails bro the governments watching us all the time they pulled this guy over two months before he broke into the white house he had four handguns two rifles and a machete with him they didnt even watch him he had a map on the map was washington and it had an x where the white house is theyre like youre good to go they let him go two months later this motherfucker broke into the white house and why did he break into the white house why do you break into the white house ever because you want to die you dont thats like a suicide run thats the only reason why someone runs toward the white house if you had to ask someone what kind of security do you think they have at the white house oh dude they got snipers on every corner they got lasers in the grass if you get too far they open up a door you drop right into jail nope turns out they dont even have a dog you just fucking run the guy who made it into the white house he had  rounds of ammunition in his car left that there took a knife thats a guy who wants to die hes just sitting in his fucking car going fuck the government fuck my exwife and fuck everybody im gonna do this fuck you just sprinting oh my god im doing it oh my god im doing it thinking with every step this is gonna be the last step of my life no this is gonna be the last step of my life no this and he gets to the front door its unlocked he opens it theres a girl there by herself smacks her to the ground and just starts running through the hall ah hes probably going why am i alive hes probably thinking he was inside for minutes for minutes running around he got tackled by an offduty officer he was probably thinking i wanted to die i dont want to go to fucking jail will somebody please shoot me then he was probably pissed where are my tax dollars going what kind of security are you fucking people running in this place imagine when obama found out a girl was guarding him he was probably like everybody everybody not that much diversity i mean what are you playing fucking fairy tale games here obamas got a hard job cause hes the first president thats ever been around while google was here you know he could google his own name if he gets crazy in the middle of the night right so let me see what the people have to say hed just go obama is a  im none of those fucking things freakin out shit  probably thinking why the fuck did i do this i think the guy who broke into the white house and obama probably have a lot in common in that they went for it but they probably never really thought they were getting in there you cant quit once youre the president the moment obama actually got into office like good morning mr president he was probably like oh no what the fuck did i do this for i didnt think i was actually gonna get in  i cant sleep im freaking out everybody wants to kill me  who the fuck is guarding me looks out in the hallway theres a girl taking selfies thatd be the greatest selfie of all time a girl with her ass out duck lips in the background a dudes breaking into the white house  you know im not making this up youve all seen this this is recognizable pigeontoed is a good move cause you cant get away that good you just like like theres something wrong with your back thats a recognizable pose when did that start cause if you look at the original pictures back when people first invented pictures everybody just stood there looking hungry like if you saw a photo from the  and in the background a girl was going shes a fucking time traveler nobody knew that move back then somebody had to see their face oh people like that they like what im doing combo a twohole combo attractor its all over online it gets you a lot of likes i saw a gal on instagram she has eight million followers all she does is take pictures of her ass thats it shes got a winning formula she sticks with it no witty memes theres no inspirational quotes mnhmnh mnhmnh just a lot of this different ways and shes just a regular girl man im watching this im like this is a different kind of person she has eight million people that have no idea what her voice sounds like she doesnt have a job that they like she doesnt have an occupation that they follow theyre just staring at her ass this is a new kind of human theres never been a person psychologically thats had to navigate those kind of waters if you really stop and think about it science should really step in and start looking at this dont go to south america to study some new frog that nobody gives a fuck about theres a girl in florida with eight million people staring at her ass how does this girl keep a relationship what is her day like how many dick pics does she get sent how many dick pics does that girl receive on a daily basis is it like the national debt counter was just fucking spinning out of control constantly i bet if she turns on the notifications her phone just starts screaming and runs away from her i bet if she deletes all the dick pics from her phone it would be physically lighter this is a new kind of person we really have to understand theres never been a person like this before and shes just a person like that kind of influence that kind of attractant thats a very strong drug to have in the hands of just a girl and as a guy who has daughters i just think of that like thats kind of fucking thats weird because this girl has eight million people staring at her ass eight million creeps and weirdos and perverts objectifying her i mean i follow her but im not like those other assholes im different i care i care about who she is im a nice person im a hero or something  im different those other guys are assholes men are noble men are noble and true mmm if we get to come if men dont get to come we get real sméagollike real quick just a few months of no dates  mesus is just so disappointed with all the mens mesus meets mesus is so embarrassed at how other mens talks to you mmm oh everyone wants to set themselves up as being the noble one everybody wants to be matthew mcconaughey to save the world on a rocket ship theres people that are signing up to go to mars do you know about this theres a mission to mars a manned mission to mars where  people have signed up to be amongst the four people to die on mars theyre gonna take a oneway trip to mars thats some sad shit for a bunch of reasons first of all its some sad shit cause thats  people that dont have any real friends right if its someone you love your real friend if one of my friends is gonna move to florida ill be like bitch where the fuck are you going youre gonna go to florida we cant hang out if you go to florida why the fuck are you moving to florida man but you might be able to deal with it we can just visit each other every now and then but if your friend was gonna move to mars youd be like oh really get in the fucking car just get in the car dude take him out to death valley look around sucks right mars sucks worse get back in the car stupid jesus christ theres places in america you cant live man you dont wanna live in detroit why the fuck are you talking about moving to mars people really consider moving to mars its one of the dumbest ideas ever but if you say that people will ecobro you have you ever been ecobroed these people will find an opportunity to virtue signal over you as michael shermer likes to point out like puff their chest out and say that theyre probably better than you hey dude seriously you think theres something wrong with going to mars well i dont know if youve paid attention man we maybe should colonize mars cause californias almost out of water then hell nod like yeah bitch were right next to the ocean what the fuck are you talking about look at all that water you fly over it it takes a day the worlds blue its more water than it is not water we have a salt problem we dont have a water problem suck the salt out of the water we got a goddamn party instead of pissing and moaning too complicated bro we gotta go to neptune oh my god youre fucking crazy were a crazy race filled with crazy people were like a dude with a dirty house like man i gotta build a new house no you gotta stop shitting in your kitchen stop piling up newspapers youre never gonna read in front of your bathroom you fuck were crazy oneway trip to mars a oneway trip in coach with three other people so fucking stupid theyre willing to die on mars with you great what great conversation youre gonna have its nonsense folks my friend was like theyre not gonna die on mars man if people are smart enough to figure out how to get to mars theyre smart enough to figure out how to get back heres why that doesnt make any sense people smart enough to get to mars arent going see thats the dirty secret about rocket travel ladies and gentlemen nobody smart enough to make a rocket ever gets in one of those fucking things no no they look at each other right before the launch and they go they talk german and they get behind giant fucking concrete bunkers they take some squarejawed cornfed dude from the middle of the country tuck a bible under that dudes arm and strap him into that giant metal dick and shoot it off into the heavens thats what we do and that is what that is that is a metal dick its a robot dick and were trying to fuck the sky we are literally trying to come people out of the tip of a metal dick onto other planets our ultimate goal is that we get those planets pregnant and theyre too filled up with people and then they gotta make a new metal dick bro we gotta go to jupiter then they make another one they shoot that fucking thing and they fill jupiter up we just keep filling the cosmos up with people and we never evolve and we never change we stay perfect like we are right now whos in youre gonna all come with me were gonna leave here right now and go to the church of scientology right down the street and its all gonna make sense when you find out that you are an eternal being that created reality so that you can enjoy it i watched that hbo documentary a couple too many times i went clear i think i think im clear im back im back now if you havent seen  i had to watch going clear a scientology documentary cause i have a neighbor whos a scientologist and i dont even think hes gay i dont know what the fucks going on  but he sleeps really close to me you know like my beds here this fucking dudes beds like over there his house is i mean if you take away the walls hes fucking right there its like what does this crazy fuck believe and scientology is a wonderful religion not just because it was written by a science fiction author who wrote more fake shit than anyone thats ever walked the face of the earth and not by a small amount this dude never made a second draft in his fucking life everything was one draft of nonsense and he wrote more of it than anybody not in his neighborhood not in his state not in a year not in a decade more than anyone thats ever lived ever and scientology is still like i dont see any red flags i think were good i think this is legit as fuck if scientology is a good religion its because other religions get to make fun of em its like its the one religion that even the mormons are like bitch you believe what hold on i mean at least we dont have video of joseph smith theres some fucking shitty black and white footage of l ron hubbard with a captains outfit on you wanna explain that  why does he have all those awards on why is tom cruise wearing a gold medal the size of a dinner plate what the fuck is going on with you people i watched it with my mom and it was like first of all scientology they dont pay taxes thats disturbing theyre taxfree which means theyre a recognized religion by the government of the united states which means the government of the united states had to go over what they believe and went everything seems in order none of this shit seems like a cult well what the fuck is a cult and whats a religion so i had to look it up turns out i dont know who wrote this but its a perfect definition a cult is bullshit its created by one person that person knows its bullshit in a religion that dudes dead so its a religion cause l ron hubbards dead so i guess they got it on a loophole i watched it with my mom and my mom was like i cant believe anybody would fall for that you made me go to catholic school the fuck are you talking about there was a child molester dressed like a sorcerer sitting on a golden throne and you made me call him father slow your roll lady imagine if i talked to my mom like that oh my god jokes folks just jokes i dont have a problem with people being religious because i just think life itself is too openended its too confusing and i think were evolving and part of our struggle in evolving is unanswered questions we wanna seek these answers but in the meanwhile they just give you so much anxiety and it fucks with you so much theres nothing wrong with joining a cult i think you gotta just join a nice friendly one like the mormons are a good cult heres why they dont get mad at anybody like they never kill anybody like heres a perfect example matt stone and trey parker the guys who created south park they made a hilarious musical called the book of mormon its fantastic if you havent seen it its so fucking hilarious but its also brutal brutal about the mormons you know what the mormons did they went to see it and they took out a fullpage ad in the playbill it said if you enjoyed this musical and you wanna find out more about being a mormon please visit our website they just took it right on the chin like champs they didnt get mad they didnt get defensive they didnt kill anybody thats a good cult they just said what do you wanna do we got nine wives shut the fuck up everybody just everybody just chill just chill thats a good religion thats a good cult some cults arent that good they get fucking testy you know the one we dont have to say who you know what im talking about theres that one that will kill you if you draw their guy come on man i cant even draw your dude what if i draw a dude drawing your dude no loopholes fuckin relax bro and this isnt just theoretical people have died cause they made cartoons before the most recent paris attacks there was a magazine called charlie hebdo and they were attacked where  cartoonists were killed eleven more were wounded and they killed a cop too fucking crazy over cartoons and when you when theres radical crazy people in the world whats interesting is the reaction to radical crazy people and how everything just sort of kind of balances itself out when things get weirdbecause when these people got killed over a cartoon the whole world was in shock the whole world was outraged but one of the scariest things about it was nobody wanted to print those pictures you couldnt see em in the la times you couldnt find them in time magazine you had to go online and find them it was a dark moment for free speech because everybodys like oh i dont wanna get killed i dont wanna show the pictures it was weird until the balance because after they got killed and nobody wanted to print the pictures word got back to texas where they promptly held a draw muhammad contest in garland texas im not making a word of this up you can google it and ill wait they had a draw muhammad contest in garland texas two dudes showed up started shooting at the building they were killed almost instantly why because they were at a draw muhammad contest in texas how obvious does a trap have to be before you start getting suspicious what are you livin in a wile e coyote cartoon motherfucker you ever go to texas thats not santa monica bitch thats a totally different kind of white people those are some wild west people that have computers and modern guns theyre not supposed to be there people didnt evolve in texas its not like they were monkeys then they became people and they stayed in that spot no no they landed on boats on the east coast the stubborn ones stayed the smart ones made it to california but along the way we lost a bunch of people  and some of them just stuck around yall go ahead were gonna hang back here im gonna draw the biggest dick the worlds ever seen in the sand my wifes got the biggest titties imma try to fuck a snake i think it can be done they just stayed they just gathered cattle stockpiled ammo and they all talk alike and thats why you gotta be nervous you gotta be nervous in places with accents okay its one of the reasons why i can prove that california is the best spot to live cause all the spots that suck they all have to sound like each other cause i grew up in a place like that i grew up in boston its not that the people in boston suck but the weather sucks its fucking horrible and in the winter everybody gets in their car in the morning and just goes fuck fuck fuck fuck fuck fuck fuck fuck fuck fuck and everybodys worried about its a real possibility you might starve to death one day you might freeze trying to walk home  so they all talk in the same way oh my god how many more months till summer ahhh when is this fucking winter gonna be over we need more firewood  they have to sound like the people around them so if other people invade like we stick together were all in this together thats how they are in texas too theyre like yall aint from around here are ya they have a fucking certain way of talking which is proof positive why california is the best spot try making fun of a california accent what are you gonna do speak clear and concise what are you gonna do you gonna mock us youre gonna say some shit that everybody understands theyre not supposed to be in texas folks its not even a state its a republic they were like man we aint so sure about this whole united states thing were gonna hang back hang back see how this plays out they dont have any rules they have like three pages of rule books heres how i know this im gonna tell you a fact a fact about texas that will change the way you think about texas there are more tigers in captivity in texas in private collections than there are in all of the wild of the world im gonna repeat it because i know youre like oh the fear factor guy is just making shit up to make his jokes work no theres more tigers in dudes yards in texas than the rest of the fucking planet how is that possible because they can because they went through the rule book  it dont say shit about tigers order it up dude order it up dude one guy got a tiger and his neighbors like shit i didnt know we could get tigers and he got two tigers and the first guy was like i aint about to let this faggot outtiger me and he opened up tiger world with his oil money were gonna need those people folks if the russians invade we cant make fucking warrior babies with those chicks in marin county with fake asses and rubber lips okay were gonna need some real warrior genes were gonna need some women who wear nonironic daisy dukes they got cowboy boots with no socks and stinky feet and they yell out chris kyle rest in peace when you make em come we need those women if the russians come we gotta be ready think about the children think about the children while i get a sip this is super important ladies and gentlemen a lot of people are sleeping on  imagine if i had real points oh jesus christ  i love you fuckers too man so excited to be here  i have kids and i lie to them i get high around em too people say you shouldnt do that but they dont see it they say you shouldnt be intoxicated around your children well im not im high i call it elevated its a different thing the people who have a problem with that they dont understand what getting high is like they think youre gonna be to your kid like who are you what do you think whats the worst thing that can happen if im a little high around my kid theyre gonna get extra hugs and daddys going to be paranoid about objects look out dont go there thats it plus i have cool conversations i have a sixyearold daughter man theres not a lot of  man and  girl have in common other than the fact shes my daughter and so our conversations are normally pretty boring but when im high im like you know you call that thing your baby your doll you call it your baby but you know its not a baby right yeah i know its not a baby do you call it a baby because youre the youngest and you like having someone who is responsible for you maybe okay thats cool thats cool give me a hug i love you  its weird man its weird raising little people theres some things that i didnt expect one of the things i didnt expect is you have to lie to them like you dont have to lie to them about a lot of things but you have to lie to them about santa claus its just one of those things man cause its like a community you have to think about what your kids gonna tell other kids because when it comes to santa claus you dont want your kid to be one of two things you dont want your kid to be the first kid that tells everyone that santa claus is bullshit cause that kids an asshole but you dont want your kid to be the last kid that figures out that santa claus is bullshit cause that kids a moron so you got you got a little bit of youre like oh no when do we do this when do we do this and no one knows when to do it you just let the kids figure it out then theyre like dad what the fuck youre like aw oh i missed the boat i missed the boat nobody knows when to do it nobody can be honest about it they have little meetings and shit and im like when do we tell em this lady goes when theyre  theyre gonna be fucking by then i told her it was funny she didnt believe me im like oh im sorry im off by a year thats not as funny but its i didnt mean it but its this thing they want to keep the kids in the dark and they wanna pretend theyre the only one thats teaching the kid this is a weird thing that people do theyre like i teach my kids man i teach my kids eh when you see em but unless youre some freak who homeschools your children in the forest your kids gonna go to school theyre gonna go to school and theyre gonna be in a class with  other kids the teacher only makes  bucks a year and shes thinking about dick thats all shes thinking about shes thinking about getting stuffed shes a young fertile woman who loves kids and shes writing on that chalkboard and the kids all huddle up and share information like yeah what did your dad tell you your dad tell you that yeah my dad says santa claus is fucking bullshit okay you ever go near a chimney its that big what the fuck teachers coming play with blocks act stupid uh how does this work they play dumb they play dumb theyre like little prisoners trying to figure their way out they make little papiermâché heads and pretend theyre napping theyre little humans they wanna run shit who is these people telling us what to do are they being straight with us man what the fuck is going on i knew the day my daughter knew that santa claus is bullshit she came home stared me down she was like maddogging me she took her book bag and just goes  walked right up to the chimney looking at me how the fuck dad have you ever met santa claus no honey ive never met him but you let him in the house and theres this moment it was a moment where a sevenyearold has you at checkmate youre like oh shit i dont know whether to highfive her or to keep lying you wanna go yeah you got me you got me you got me thats bullshit no the big bang is real but this is bullshit the big bang sounds even less real the problem is you have to be consistent if youre teaching your kids nonsense you gotta teach em only nonsense you cant mix nonsense in with like real stuff like my daughter will go like how do birds fly i go birds have bones that are hollow so theyre really light then they have feathers which cover a large surface area and they use the hollow bones and the feathers to push down on the air see the air looks like its nothing right but its actually a bunch of gases thats why the trees move when the wind blows the birds can manipulate that and go through  space whoa yeah nature is crazy yeah how does the fat man get through the little hole magic christmas magic now go to bed im trying to fuck your mom go to bed  jokes folks just jokes cant talk like that thats how you make strippers you gotta be nice theyre little tiny people theyre adorable they dont know anything yet you gotta teach em everything you cant talk mean  kids are a lot like really fucking stupid people in that if you get ten really stupid people in a room the most confident one just starts running shit they dont have to have any more information they just have to be more confident if you get a bunch of dummies together theyre like i dont know whats going on i dont know whats going on i fucking do i fucking do the guy doesnt have to have any extra data he just has to be the only one thats confident and thats what its like in school my daughters class has this fucking kid named debbie and every day its debbie says oh fucking debbie says debbie says what you dont think about that before you have kids not only are you gonna have kids but your kids are gonna make friends and then you have to make friends with the fucking parents of your kids and some of em are crazy my daughters like debbie says adam and eve are the only two people in the world and all people came from them is that true  and this is weird like you dont know what to do right you want to be diplomatic you dont want to cause problems at school but you gotta be honest and one of the most difficult things to say to a kid is i dont know im like sweetie i dont know i dont know if adam and eve is where people came from but nobody knows because no one from today is alive back then so its not something you can measure so its not something you can see so we dont know but heres what we do know you know how some people have big ears and some people have little ears yeah well some people have brains that are made out of dog shit and they get horny too and what happens is they have to find someone even dumber than them to have sex with its like the opposite of evolution and then they have a kid and their kid is fucked their kid is fucked and everybody wants to pretend its a level playing field theres no level anywhere you look is an eagle and a salmon level does the salmon ever get to eat the eagle no the universe does not want even it wants conflict and resolution and constant improvement okay im gonna shut this light out and im gonna go fuck your mom right in the mouth all right i dont say these things i dont say any of these things i was like i dont know maybe debbies right doesnt make sense to me how would that work how would that work it wouldnt work would it adam and eve are the only two people they have kids and then where do all the other people come from i guess the kids just start fucking each other is that what happens mom fucks the kids or the yeah exactly debbies parents they were at my house man for a cookout and the dude told me the earths  years old theyre young earth christians theyre sweet people by the way before i shit on them im gonna shit on them but before i shit on them theyre sweet theyre really nice people i hug em every time i see em theyre really kind nice people but they just found a part of their brain theyre like i have no use for this  chucked that whole logic discerningreason part this fucking things confusing theyre young earth christians which means they follow the strictest interpretation of the bible possible im like how many people believe the earth is less than  years old uh i looked it up theres a recent gallup poll that said that  of america believes the earth is less than  years old  heres why you shouldnt be scared they can only measure people dumb enough to answer polls and when you factor that in youre talking about a really small number cause you know what the average response is if you call people up and say how olds the earth number one answer is older than your mothers pussy and then they hang up number two answer is fuck you after that you start throwing numbers around and only  of those dummies were stupid enough to think the earth is  years old thats debbies fucking parents so out of the people that answer polls is it even  it might be  only  are that fucking stupid and thats the  we should really be worried about were worried about the wrong  not that we shouldnt be worried about the really rich greedy people we definitely should we should definitely worry about bankers and people who theyre just stockpiling resources they could help the world in some really impossible ways for anybody else but they dont theyd rather just pile up their gold  yeah that  is awful but theres another  that freaks me the fuck out that no ones talking about thats the  who leave comments on youtube videos who the fuck are those freaks could you imagine people talking to each other like that in real life and not beating the shit out of each other i mean if jesus christ himself came back from the dead and had a youtube page the first comment would be you aint shit without your dad pussy these are monsters this is not a normal persons response normal people dont leave comments what a normal person does they watch a video they like it or they dont like it thats it it ends right there but what youre dealing with is the process of racism and child abuse and neglect and shitty genes and the insane clown posse is playing they know all the words and theyre wafting up their farts and their cheez doodle fingers and like an open letter to jennifer lopez let me pause and just jerk off in my shirt real quick here  ugh dear jennifer dont you think its about time you dress a little more classy what are your children gonna see when they see just fucking think of the meanest most biting shit thats gonna cut it as if jennifer lopez has time in between eating diamonds and fucking all her background dancers in a castle that she built with her ass but you know let me check the youtube comments to see if my selfesteems on point oh and you know whos dumber than them me cause i read their shit and i get mad i know theyre stupid i still get upset fuck this is the world folks this is the world were living in are we happy im not sure – is this what we wanted i dont know –  no – no –  no – are you sure –  no why are you doing this what is this what are you doing are you fighting for freedom – whats happening –  no are you white panthers what is this  life sucks – what are you saying –  life can kind of suck sometimes life can kind of suck maybe its how youre livin it bitch life can kind of suck its the greatest time ever to be alive yeah id live in the old days when you could die from crabs it doesnt get any better than today man so stupid make america great again its as good as its ever been what the fuck are you saying we have  everywhere when has it been better we have netflix when has it been better come on man stop its never been better this is as good as its ever been its just weird its just weird you gotta get your shit together bitch dont blame the world god damn it damn it man and listen if youve seen any of this show and you said i think some of the stuff youre saying is really funny but i sense a lot of like macho posturing from you i sense a lot of like bullshit toughguy stuff youre totally correct and what it is is i live with all women okay and im becoming more of a bitch every day of my life and i just wanna say im not unhappy ive never been more happy in my life this is the happiest ive ever been but when youre with all girls like you have all girls all the time you have to make little compromises you dont think about it while its happening its like the rock doesnt think about the water carving a path through it but eventually that fucking path is gonna get deep and when youre with all people that are different than you they just go hmm they just start looking at you like little raptors testing the fence  theyll just start poking at you its what people do its natural its just what people do if you live with people that all are on att and youre on verizon theyre like dude look at my bars make the switch come on over what are you a fucking democrat dude libertarian is where its at wake up join us when youre with all girls they just start they constantly fuck with my manhood its like ill come home and some new thing is painted pink im like why is this pink it looks better pink daddy it looks better pink daddy and my wifes like i think theyre right im like oh i see what the fuck is going on here its mutiny they just chip chip chip away its like if my manhood was a mountain of marbles every day they steal two they just walk up to my stack you cant say shit you cant say shit cause its only two marbles and youre like i still got all these marbles everything is gonna be okay ill deal with this eventually but youre not gonna deal with it every day two more marbles you never get those marbles back you see it comin you dont do anything about it youre like i gotta go to sleep all right everybody stop crying i gotta go to sleep and men dont want to admit that not me bro not me bro id rather just live in the woods by myself what are you a fucking coldplay song huh what are you a character in a book you piece of shit no ones honest no ones honest about how much we need other people thats why the characters that we adore so much in the movies are the people that dont need people the people who just walk away from it all like wow what a rebel but in real life we need people so bad that the worst shit you can do to a prisoner is put them in solitary confinement so think about that youre in a cement box filled with rapists and murderers and the worst shit they can do is leave you alone were fucking weird we are weird cause what we are really is were some weird superorganism that like needs each other in some sort of strange way but were all in denial im kind of a loner oh shut the fuck up theres no such thing its not real every person in this room me included all of us we are all a calculation were all an ongoing onrunning calculation of all the interactions youve ever had with all the people that youve ever met and you do a bunch of things that people like and start doing more of that youre like ill do more of that you find things that people dont like youre like ill keep that shit to myself hmm i dont like that feeling hmm thats what we do thats what we do its weird we dont want to admit it but thats who we all are and im just telling you this because ive never been more of a bitch right now i have slowly but surely bent until im in this position this is how im riding out my days just like this okay okay okay okay but im also telling you right now that im not going out like bruce jenner oh thats right politically correct san francisco heres my take on this bruce jenner thing and you know everybody has their own not really this is what everybodys take is this is the take that youre supposed to have hes always been a woman trapped in a mans body maybe definitely maybe definitely people are like that definitely there are people who were born in the wrong gender and am i saying they should stay their gender no who gives a fuck you should do whatever you wanna do you should be happy you should be free i dont care what you do but its also possible that maybe if you live with crazy bitches long enough you become one thats all im saying i dont see this discussed it is entirely possible if you put a praying mantis on a leaf it becomes the color of the leaf why because it wants to live it wants to survive it wants to be accepted by its environment you show me a man whos lived with the kardashians for ten years who didnt come out a chick and then well have some data okay cause right now we lost a fucking american olympian and i want you to have some respect were down bruce jenner and ive got a close eye on kanye west and i dont exactly like what im seeing  look at kanye west hes a very talented young heterosexual man who starts a clothing line hes clearly jealous about taylor swift and he tweets like a cokedup stripper in the middle of the night you dont see what im seeing we are watching the plot of a fucking stephen king book play out an american athletic hero moves in with a woman whos made hundreds of millions of dollars through no way anyone can explain to anyone he breaks up with her she turns him into a chick the whole world tells him hes beautiful you tell me you dont see what im seeing you have to say you have to say shes beautiful shes beautiful shes not beautiful and neither am i look i look like a thumb with two thumbs okay you put me in a dress id be even more disgusting beautys unusual theres a lot of cool shit that isnt beautiful sixtyyearold dudes in skirts are on that list jesus fucking christ what kind of games are we playing here why are you lying to children thats beautiful what are my kids gonna think when they see a mountain or a rose is that beautiful too daddy explain ahhh bang i cant the worlds gone fucking bananas what youre saying is horribly transphobic and incredibly regressive you should be embarrassed at what youre doing youre doing this just to get laughs at someone elses expense maybe or maybe bruce jenner lived with demons maybe they waited by the bed until they knew he was in heavy rem sleep so they could assume their true form  climb up and kick off their designer shoes to reveal black ravens claws clutched the edge of the bed and just whispered in his ear   bruce  we would like you better if you were one of us  i cant i cant be one of you i was i was born a man nonsense   nonsense bruce you no longer can be held prisoner by the gender of your birth youre free bruce  your lips are too thin for the cover of vanity fair huh what wait wait did you say the cover okay are you fucking with me because you know the covers always been my dream it can be real  it can be real all dreams can be real through surgery sleep  thank you very much san francisco i had a great fucking time with you savages lets take a selfie shit we got it putting together one of these fucking specials is stressful as shit i appreciate the fuck out of all you people being here tonight and i love you guys thank you very much  '"
      ]
     },
     "execution_count": 32,
     "metadata": {},
     "output_type": "execute_result"
    }
   ],
   "source": [
    "data_clean.transcript.loc['joe']"
   ]
  },
  {
   "cell_type": "markdown",
   "metadata": {},
   "source": [
    "**NOTE:** This data cleaning aka text pre-processing step could go on for a while, but we are going to stop for now. After going through some analysis techniques, if you see that the results don't make sense or could be improved, you can come back and make more edits such as:\n",
    "* Mark 'cheering' and 'cheer' as the same word (stemming / lemmatization)\n",
    "* Combine 'thank you' into one term (bi-grams)\n",
    "* And a lot more..."
   ]
  },
  {
   "cell_type": "markdown",
   "metadata": {},
   "source": [
    "## Organizing The Data"
   ]
  },
  {
   "cell_type": "markdown",
   "metadata": {},
   "source": [
    "I mentioned earlier that the output of this notebook will be clean, organized data in two standard text formats:\n",
    "1. **Corpus - **a collection of text\n",
    "2. **Document-Term Matrix - **word counts in matrix format"
   ]
  },
  {
   "cell_type": "markdown",
   "metadata": {},
   "source": [
    "### Corpus"
   ]
  },
  {
   "cell_type": "markdown",
   "metadata": {},
   "source": [
    "We already created a corpus in an earlier step. The definition of a corpus is a collection of texts, and they are all put together neatly in a pandas dataframe here."
   ]
  },
  {
   "cell_type": "code",
   "execution_count": 33,
   "metadata": {},
   "outputs": [
    {
     "data": {
      "text/html": [
       "<div>\n",
       "<style scoped>\n",
       "    .dataframe tbody tr th:only-of-type {\n",
       "        vertical-align: middle;\n",
       "    }\n",
       "\n",
       "    .dataframe tbody tr th {\n",
       "        vertical-align: top;\n",
       "    }\n",
       "\n",
       "    .dataframe thead th {\n",
       "        text-align: right;\n",
       "    }\n",
       "</style>\n",
       "<table border=\"1\" class=\"dataframe\">\n",
       "  <thead>\n",
       "    <tr style=\"text-align: right;\">\n",
       "      <th></th>\n",
       "      <th>transcript</th>\n",
       "    </tr>\n",
       "  </thead>\n",
       "  <tbody>\n",
       "    <tr>\n",
       "      <th>ali</th>\n",
       "      <td>Ladies and gentlemen, please welcome to the stage: Ali Wong! Hi. Hello! Welcome! Thank you! Thank you for coming. Hello! Hello. We are gonna have ...</td>\n",
       "    </tr>\n",
       "    <tr>\n",
       "      <th>anthony</th>\n",
       "      <td>Thank you. Thank you. Thank you, San Francisco. Thank you so much. So good to be here. People were surprised when I told ’em I was gonna tape my s...</td>\n",
       "    </tr>\n",
       "    <tr>\n",
       "      <th>bill</th>\n",
       "      <td>[cheers and applause] All right, thank you! Thank you very much! Thank you. Thank you. Thank you. How are you? What’s going on? Thank you. It’s a ...</td>\n",
       "    </tr>\n",
       "    <tr>\n",
       "      <th>bo</th>\n",
       "      <td>Bo What? Old MacDonald had a farm E I E I O And on that farm he had a pig E I E I O Here a snort There a Old MacDonald had a farm E I E I O [Appla...</td>\n",
       "    </tr>\n",
       "    <tr>\n",
       "      <th>dave</th>\n",
       "      <td>This is Dave. He tells dirty jokes for a living. That stare is where most of his hard work happens. It signifies a profound train of thought, the ...</td>\n",
       "    </tr>\n",
       "    <tr>\n",
       "      <th>hasan</th>\n",
       "      <td>[theme music: orchestral hip-hop] [crowd roars] What’s up? Davis, what’s up? I’m home. I had to bring it back here. Netflix said, “Where do you wa...</td>\n",
       "    </tr>\n",
       "    <tr>\n",
       "      <th>jim</th>\n",
       "      <td>[Car horn honks] [Audience cheering] [Announcer] Ladies and gentlemen, please welcome to the stage Mr. Jim Jefferies! [Upbeat music playing] Hello...</td>\n",
       "    </tr>\n",
       "    <tr>\n",
       "      <th>joe</th>\n",
       "      <td>[rock music playing] [audience cheering] [announcer] Ladies and gentlemen, welcome Joe Rogan. [audience cheering and applauding] What the fuck is ...</td>\n",
       "    </tr>\n",
       "    <tr>\n",
       "      <th>john</th>\n",
       "      <td>All right, Petunia. Wish me luck out there. You will die on August 7th, 2037. That’s pretty good. All right. Hello. Hello, Chicago. Nice to see yo...</td>\n",
       "    </tr>\n",
       "    <tr>\n",
       "      <th>louis</th>\n",
       "      <td>Intro\\nFade the music out. Let’s roll. Hold there. Lights. Do the lights. Thank you. Thank you very much. I appreciate that. I don’t necessarily a...</td>\n",
       "    </tr>\n",
       "    <tr>\n",
       "      <th>mike</th>\n",
       "      <td>Wow. Hey, thank you. Thanks. Thank you, guys. Hey, Seattle. Nice to see you. Look at this. Look at us. We’re here. This is crazy. It’s insane. So ...</td>\n",
       "    </tr>\n",
       "    <tr>\n",
       "      <th>ricky</th>\n",
       "      <td>Hello. Hello! How you doing? Great. Thank you. Wow. Calm down. Shut the fuck up. Thank you. What a lovely welcome. I’m gonna try my hardest tonigh...</td>\n",
       "    </tr>\n",
       "  </tbody>\n",
       "</table>\n",
       "</div>"
      ],
      "text/plain": [
       "                                                                                                                                                    transcript\n",
       "ali      Ladies and gentlemen, please welcome to the stage: Ali Wong! Hi. Hello! Welcome! Thank you! Thank you for coming. Hello! Hello. We are gonna have ...\n",
       "anthony  Thank you. Thank you. Thank you, San Francisco. Thank you so much. So good to be here. People were surprised when I told ’em I was gonna tape my s...\n",
       "bill     [cheers and applause] All right, thank you! Thank you very much! Thank you. Thank you. Thank you. How are you? What’s going on? Thank you. It’s a ...\n",
       "bo       Bo What? Old MacDonald had a farm E I E I O And on that farm he had a pig E I E I O Here a snort There a Old MacDonald had a farm E I E I O [Appla...\n",
       "dave     This is Dave. He tells dirty jokes for a living. That stare is where most of his hard work happens. It signifies a profound train of thought, the ...\n",
       "hasan    [theme music: orchestral hip-hop] [crowd roars] What’s up? Davis, what’s up? I’m home. I had to bring it back here. Netflix said, “Where do you wa...\n",
       "jim      [Car horn honks] [Audience cheering] [Announcer] Ladies and gentlemen, please welcome to the stage Mr. Jim Jefferies! [Upbeat music playing] Hello...\n",
       "joe      [rock music playing] [audience cheering] [announcer] Ladies and gentlemen, welcome Joe Rogan. [audience cheering and applauding] What the fuck is ...\n",
       "john     All right, Petunia. Wish me luck out there. You will die on August 7th, 2037. That’s pretty good. All right. Hello. Hello, Chicago. Nice to see yo...\n",
       "louis    Intro\\nFade the music out. Let’s roll. Hold there. Lights. Do the lights. Thank you. Thank you very much. I appreciate that. I don’t necessarily a...\n",
       "mike     Wow. Hey, thank you. Thanks. Thank you, guys. Hey, Seattle. Nice to see you. Look at this. Look at us. We’re here. This is crazy. It’s insane. So ...\n",
       "ricky    Hello. Hello! How you doing? Great. Thank you. Wow. Calm down. Shut the fuck up. Thank you. What a lovely welcome. I’m gonna try my hardest tonigh..."
      ]
     },
     "execution_count": 33,
     "metadata": {},
     "output_type": "execute_result"
    }
   ],
   "source": [
    "# Let's take a look at our dataframe\n",
    "data_df"
   ]
  },
  {
   "cell_type": "code",
   "execution_count": 34,
   "metadata": {},
   "outputs": [
    {
     "data": {
      "text/html": [
       "<div>\n",
       "<style scoped>\n",
       "    .dataframe tbody tr th:only-of-type {\n",
       "        vertical-align: middle;\n",
       "    }\n",
       "\n",
       "    .dataframe tbody tr th {\n",
       "        vertical-align: top;\n",
       "    }\n",
       "\n",
       "    .dataframe thead th {\n",
       "        text-align: right;\n",
       "    }\n",
       "</style>\n",
       "<table border=\"1\" class=\"dataframe\">\n",
       "  <thead>\n",
       "    <tr style=\"text-align: right;\">\n",
       "      <th></th>\n",
       "      <th>transcript</th>\n",
       "      <th>full_name</th>\n",
       "    </tr>\n",
       "  </thead>\n",
       "  <tbody>\n",
       "    <tr>\n",
       "      <th>ali</th>\n",
       "      <td>Ladies and gentlemen, please welcome to the stage: Ali Wong! Hi. Hello! Welcome! Thank you! Thank you for coming. Hello! Hello. We are gonna have ...</td>\n",
       "      <td>Ali Wong</td>\n",
       "    </tr>\n",
       "    <tr>\n",
       "      <th>anthony</th>\n",
       "      <td>Thank you. Thank you. Thank you, San Francisco. Thank you so much. So good to be here. People were surprised when I told ’em I was gonna tape my s...</td>\n",
       "      <td>Anthony Jeselnik</td>\n",
       "    </tr>\n",
       "    <tr>\n",
       "      <th>bill</th>\n",
       "      <td>[cheers and applause] All right, thank you! Thank you very much! Thank you. Thank you. Thank you. How are you? What’s going on? Thank you. It’s a ...</td>\n",
       "      <td>Bill Burr</td>\n",
       "    </tr>\n",
       "    <tr>\n",
       "      <th>bo</th>\n",
       "      <td>Bo What? Old MacDonald had a farm E I E I O And on that farm he had a pig E I E I O Here a snort There a Old MacDonald had a farm E I E I O [Appla...</td>\n",
       "      <td>Bo Burnham</td>\n",
       "    </tr>\n",
       "    <tr>\n",
       "      <th>dave</th>\n",
       "      <td>This is Dave. He tells dirty jokes for a living. That stare is where most of his hard work happens. It signifies a profound train of thought, the ...</td>\n",
       "      <td>Dave Chappelle</td>\n",
       "    </tr>\n",
       "    <tr>\n",
       "      <th>hasan</th>\n",
       "      <td>[theme music: orchestral hip-hop] [crowd roars] What’s up? Davis, what’s up? I’m home. I had to bring it back here. Netflix said, “Where do you wa...</td>\n",
       "      <td>Hasan Minhaj</td>\n",
       "    </tr>\n",
       "    <tr>\n",
       "      <th>jim</th>\n",
       "      <td>[Car horn honks] [Audience cheering] [Announcer] Ladies and gentlemen, please welcome to the stage Mr. Jim Jefferies! [Upbeat music playing] Hello...</td>\n",
       "      <td>Jim Jefferies</td>\n",
       "    </tr>\n",
       "    <tr>\n",
       "      <th>joe</th>\n",
       "      <td>[rock music playing] [audience cheering] [announcer] Ladies and gentlemen, welcome Joe Rogan. [audience cheering and applauding] What the fuck is ...</td>\n",
       "      <td>Joe Rogan</td>\n",
       "    </tr>\n",
       "    <tr>\n",
       "      <th>john</th>\n",
       "      <td>All right, Petunia. Wish me luck out there. You will die on August 7th, 2037. That’s pretty good. All right. Hello. Hello, Chicago. Nice to see yo...</td>\n",
       "      <td>John Mulaney</td>\n",
       "    </tr>\n",
       "    <tr>\n",
       "      <th>louis</th>\n",
       "      <td>Intro\\nFade the music out. Let’s roll. Hold there. Lights. Do the lights. Thank you. Thank you very much. I appreciate that. I don’t necessarily a...</td>\n",
       "      <td>Louis C.K.</td>\n",
       "    </tr>\n",
       "    <tr>\n",
       "      <th>mike</th>\n",
       "      <td>Wow. Hey, thank you. Thanks. Thank you, guys. Hey, Seattle. Nice to see you. Look at this. Look at us. We’re here. This is crazy. It’s insane. So ...</td>\n",
       "      <td>Mike Birbiglia</td>\n",
       "    </tr>\n",
       "    <tr>\n",
       "      <th>ricky</th>\n",
       "      <td>Hello. Hello! How you doing? Great. Thank you. Wow. Calm down. Shut the fuck up. Thank you. What a lovely welcome. I’m gonna try my hardest tonigh...</td>\n",
       "      <td>Ricky Gervais</td>\n",
       "    </tr>\n",
       "  </tbody>\n",
       "</table>\n",
       "</div>"
      ],
      "text/plain": [
       "                                                                                                                                                    transcript  \\\n",
       "ali      Ladies and gentlemen, please welcome to the stage: Ali Wong! Hi. Hello! Welcome! Thank you! Thank you for coming. Hello! Hello. We are gonna have ...   \n",
       "anthony  Thank you. Thank you. Thank you, San Francisco. Thank you so much. So good to be here. People were surprised when I told ’em I was gonna tape my s...   \n",
       "bill     [cheers and applause] All right, thank you! Thank you very much! Thank you. Thank you. Thank you. How are you? What’s going on? Thank you. It’s a ...   \n",
       "bo       Bo What? Old MacDonald had a farm E I E I O And on that farm he had a pig E I E I O Here a snort There a Old MacDonald had a farm E I E I O [Appla...   \n",
       "dave     This is Dave. He tells dirty jokes for a living. That stare is where most of his hard work happens. It signifies a profound train of thought, the ...   \n",
       "hasan    [theme music: orchestral hip-hop] [crowd roars] What’s up? Davis, what’s up? I’m home. I had to bring it back here. Netflix said, “Where do you wa...   \n",
       "jim      [Car horn honks] [Audience cheering] [Announcer] Ladies and gentlemen, please welcome to the stage Mr. Jim Jefferies! [Upbeat music playing] Hello...   \n",
       "joe      [rock music playing] [audience cheering] [announcer] Ladies and gentlemen, welcome Joe Rogan. [audience cheering and applauding] What the fuck is ...   \n",
       "john     All right, Petunia. Wish me luck out there. You will die on August 7th, 2037. That’s pretty good. All right. Hello. Hello, Chicago. Nice to see yo...   \n",
       "louis    Intro\\nFade the music out. Let’s roll. Hold there. Lights. Do the lights. Thank you. Thank you very much. I appreciate that. I don’t necessarily a...   \n",
       "mike     Wow. Hey, thank you. Thanks. Thank you, guys. Hey, Seattle. Nice to see you. Look at this. Look at us. We’re here. This is crazy. It’s insane. So ...   \n",
       "ricky    Hello. Hello! How you doing? Great. Thank you. Wow. Calm down. Shut the fuck up. Thank you. What a lovely welcome. I’m gonna try my hardest tonigh...   \n",
       "\n",
       "                full_name  \n",
       "ali              Ali Wong  \n",
       "anthony  Anthony Jeselnik  \n",
       "bill            Bill Burr  \n",
       "bo             Bo Burnham  \n",
       "dave       Dave Chappelle  \n",
       "hasan        Hasan Minhaj  \n",
       "jim         Jim Jefferies  \n",
       "joe             Joe Rogan  \n",
       "john         John Mulaney  \n",
       "louis          Louis C.K.  \n",
       "mike       Mike Birbiglia  \n",
       "ricky       Ricky Gervais  "
      ]
     },
     "execution_count": 34,
     "metadata": {},
     "output_type": "execute_result"
    }
   ],
   "source": [
    "# Let's add the comedians' full names as well\n",
    "full_names = ['Ali Wong', 'Anthony Jeselnik', 'Bill Burr', 'Bo Burnham', 'Dave Chappelle', 'Hasan Minhaj',\n",
    "              'Jim Jefferies', 'Joe Rogan', 'John Mulaney', 'Louis C.K.', 'Mike Birbiglia', 'Ricky Gervais']\n",
    "\n",
    "data_df['full_name'] = full_names\n",
    "data_df"
   ]
  },
  {
   "cell_type": "code",
   "execution_count": 35,
   "metadata": {},
   "outputs": [],
   "source": [
    "# Let's pickle it for later use\n",
    "\n",
    "#data_df.to_pickle(\"./pickle/corpus.pkl\")"
   ]
  },
  {
   "cell_type": "markdown",
   "metadata": {},
   "source": [
    "### Document-Term Matrix"
   ]
  },
  {
   "cell_type": "markdown",
   "metadata": {},
   "source": [
    "For many of the techniques we'll be using in future notebooks, the text must be tokenized, meaning broken down into smaller pieces. The most common tokenization technique is to break down text into words. We can do this using scikit-learn's CountVectorizer, where every row will represent a different document and every column will represent a different word.\n",
    "\n",
    "In addition, with CountVectorizer, we can remove stop words. Stop words are common words that add no additional meaning to text such as 'a', 'the', etc."
   ]
  },
  {
   "cell_type": "code",
   "execution_count": 36,
   "metadata": {},
   "outputs": [
    {
     "data": {
      "text/html": [
       "<div>\n",
       "<style scoped>\n",
       "    .dataframe tbody tr th:only-of-type {\n",
       "        vertical-align: middle;\n",
       "    }\n",
       "\n",
       "    .dataframe tbody tr th {\n",
       "        vertical-align: top;\n",
       "    }\n",
       "\n",
       "    .dataframe thead th {\n",
       "        text-align: right;\n",
       "    }\n",
       "</style>\n",
       "<table border=\"1\" class=\"dataframe\">\n",
       "  <thead>\n",
       "    <tr style=\"text-align: right;\">\n",
       "      <th></th>\n",
       "      <th>aaaaah</th>\n",
       "      <th>aaaaahhhhhhh</th>\n",
       "      <th>aaaaauuugghhhhhh</th>\n",
       "      <th>aaaahhhhh</th>\n",
       "      <th>aaah</th>\n",
       "      <th>aah</th>\n",
       "      <th>abc</th>\n",
       "      <th>abcs</th>\n",
       "      <th>ability</th>\n",
       "      <th>abject</th>\n",
       "      <th>...</th>\n",
       "      <th>zee</th>\n",
       "      <th>zen</th>\n",
       "      <th>zeppelin</th>\n",
       "      <th>zero</th>\n",
       "      <th>zillion</th>\n",
       "      <th>zombie</th>\n",
       "      <th>zombies</th>\n",
       "      <th>zoning</th>\n",
       "      <th>zoo</th>\n",
       "      <th>éclair</th>\n",
       "    </tr>\n",
       "  </thead>\n",
       "  <tbody>\n",
       "    <tr>\n",
       "      <th>ali</th>\n",
       "      <td>0</td>\n",
       "      <td>0</td>\n",
       "      <td>0</td>\n",
       "      <td>0</td>\n",
       "      <td>0</td>\n",
       "      <td>0</td>\n",
       "      <td>1</td>\n",
       "      <td>0</td>\n",
       "      <td>0</td>\n",
       "      <td>0</td>\n",
       "      <td>...</td>\n",
       "      <td>0</td>\n",
       "      <td>0</td>\n",
       "      <td>0</td>\n",
       "      <td>0</td>\n",
       "      <td>0</td>\n",
       "      <td>1</td>\n",
       "      <td>0</td>\n",
       "      <td>0</td>\n",
       "      <td>0</td>\n",
       "      <td>0</td>\n",
       "    </tr>\n",
       "    <tr>\n",
       "      <th>anthony</th>\n",
       "      <td>0</td>\n",
       "      <td>0</td>\n",
       "      <td>0</td>\n",
       "      <td>0</td>\n",
       "      <td>0</td>\n",
       "      <td>0</td>\n",
       "      <td>0</td>\n",
       "      <td>0</td>\n",
       "      <td>0</td>\n",
       "      <td>0</td>\n",
       "      <td>...</td>\n",
       "      <td>0</td>\n",
       "      <td>0</td>\n",
       "      <td>0</td>\n",
       "      <td>0</td>\n",
       "      <td>0</td>\n",
       "      <td>0</td>\n",
       "      <td>0</td>\n",
       "      <td>0</td>\n",
       "      <td>0</td>\n",
       "      <td>0</td>\n",
       "    </tr>\n",
       "    <tr>\n",
       "      <th>bill</th>\n",
       "      <td>1</td>\n",
       "      <td>0</td>\n",
       "      <td>0</td>\n",
       "      <td>0</td>\n",
       "      <td>0</td>\n",
       "      <td>0</td>\n",
       "      <td>0</td>\n",
       "      <td>1</td>\n",
       "      <td>0</td>\n",
       "      <td>0</td>\n",
       "      <td>...</td>\n",
       "      <td>0</td>\n",
       "      <td>0</td>\n",
       "      <td>0</td>\n",
       "      <td>1</td>\n",
       "      <td>1</td>\n",
       "      <td>1</td>\n",
       "      <td>1</td>\n",
       "      <td>1</td>\n",
       "      <td>0</td>\n",
       "      <td>0</td>\n",
       "    </tr>\n",
       "    <tr>\n",
       "      <th>bo</th>\n",
       "      <td>0</td>\n",
       "      <td>1</td>\n",
       "      <td>1</td>\n",
       "      <td>1</td>\n",
       "      <td>0</td>\n",
       "      <td>0</td>\n",
       "      <td>0</td>\n",
       "      <td>0</td>\n",
       "      <td>1</td>\n",
       "      <td>0</td>\n",
       "      <td>...</td>\n",
       "      <td>0</td>\n",
       "      <td>0</td>\n",
       "      <td>0</td>\n",
       "      <td>1</td>\n",
       "      <td>0</td>\n",
       "      <td>0</td>\n",
       "      <td>0</td>\n",
       "      <td>0</td>\n",
       "      <td>0</td>\n",
       "      <td>0</td>\n",
       "    </tr>\n",
       "    <tr>\n",
       "      <th>dave</th>\n",
       "      <td>0</td>\n",
       "      <td>0</td>\n",
       "      <td>0</td>\n",
       "      <td>0</td>\n",
       "      <td>1</td>\n",
       "      <td>0</td>\n",
       "      <td>0</td>\n",
       "      <td>0</td>\n",
       "      <td>0</td>\n",
       "      <td>0</td>\n",
       "      <td>...</td>\n",
       "      <td>0</td>\n",
       "      <td>0</td>\n",
       "      <td>0</td>\n",
       "      <td>0</td>\n",
       "      <td>0</td>\n",
       "      <td>0</td>\n",
       "      <td>0</td>\n",
       "      <td>0</td>\n",
       "      <td>0</td>\n",
       "      <td>0</td>\n",
       "    </tr>\n",
       "    <tr>\n",
       "      <th>hasan</th>\n",
       "      <td>0</td>\n",
       "      <td>0</td>\n",
       "      <td>0</td>\n",
       "      <td>0</td>\n",
       "      <td>0</td>\n",
       "      <td>0</td>\n",
       "      <td>0</td>\n",
       "      <td>0</td>\n",
       "      <td>0</td>\n",
       "      <td>0</td>\n",
       "      <td>...</td>\n",
       "      <td>2</td>\n",
       "      <td>1</td>\n",
       "      <td>0</td>\n",
       "      <td>1</td>\n",
       "      <td>0</td>\n",
       "      <td>0</td>\n",
       "      <td>0</td>\n",
       "      <td>0</td>\n",
       "      <td>0</td>\n",
       "      <td>0</td>\n",
       "    </tr>\n",
       "    <tr>\n",
       "      <th>jim</th>\n",
       "      <td>0</td>\n",
       "      <td>0</td>\n",
       "      <td>0</td>\n",
       "      <td>0</td>\n",
       "      <td>0</td>\n",
       "      <td>0</td>\n",
       "      <td>0</td>\n",
       "      <td>0</td>\n",
       "      <td>0</td>\n",
       "      <td>0</td>\n",
       "      <td>...</td>\n",
       "      <td>0</td>\n",
       "      <td>0</td>\n",
       "      <td>0</td>\n",
       "      <td>0</td>\n",
       "      <td>0</td>\n",
       "      <td>0</td>\n",
       "      <td>0</td>\n",
       "      <td>0</td>\n",
       "      <td>0</td>\n",
       "      <td>0</td>\n",
       "    </tr>\n",
       "    <tr>\n",
       "      <th>joe</th>\n",
       "      <td>0</td>\n",
       "      <td>0</td>\n",
       "      <td>0</td>\n",
       "      <td>0</td>\n",
       "      <td>0</td>\n",
       "      <td>0</td>\n",
       "      <td>0</td>\n",
       "      <td>0</td>\n",
       "      <td>0</td>\n",
       "      <td>0</td>\n",
       "      <td>...</td>\n",
       "      <td>0</td>\n",
       "      <td>0</td>\n",
       "      <td>0</td>\n",
       "      <td>0</td>\n",
       "      <td>0</td>\n",
       "      <td>0</td>\n",
       "      <td>0</td>\n",
       "      <td>0</td>\n",
       "      <td>0</td>\n",
       "      <td>0</td>\n",
       "    </tr>\n",
       "    <tr>\n",
       "      <th>john</th>\n",
       "      <td>0</td>\n",
       "      <td>0</td>\n",
       "      <td>0</td>\n",
       "      <td>0</td>\n",
       "      <td>0</td>\n",
       "      <td>0</td>\n",
       "      <td>0</td>\n",
       "      <td>0</td>\n",
       "      <td>0</td>\n",
       "      <td>0</td>\n",
       "      <td>...</td>\n",
       "      <td>0</td>\n",
       "      <td>0</td>\n",
       "      <td>0</td>\n",
       "      <td>0</td>\n",
       "      <td>0</td>\n",
       "      <td>0</td>\n",
       "      <td>0</td>\n",
       "      <td>0</td>\n",
       "      <td>0</td>\n",
       "      <td>1</td>\n",
       "    </tr>\n",
       "    <tr>\n",
       "      <th>louis</th>\n",
       "      <td>0</td>\n",
       "      <td>0</td>\n",
       "      <td>0</td>\n",
       "      <td>0</td>\n",
       "      <td>0</td>\n",
       "      <td>3</td>\n",
       "      <td>0</td>\n",
       "      <td>0</td>\n",
       "      <td>0</td>\n",
       "      <td>0</td>\n",
       "      <td>...</td>\n",
       "      <td>0</td>\n",
       "      <td>0</td>\n",
       "      <td>0</td>\n",
       "      <td>2</td>\n",
       "      <td>0</td>\n",
       "      <td>0</td>\n",
       "      <td>0</td>\n",
       "      <td>0</td>\n",
       "      <td>0</td>\n",
       "      <td>0</td>\n",
       "    </tr>\n",
       "    <tr>\n",
       "      <th>mike</th>\n",
       "      <td>0</td>\n",
       "      <td>0</td>\n",
       "      <td>0</td>\n",
       "      <td>0</td>\n",
       "      <td>0</td>\n",
       "      <td>0</td>\n",
       "      <td>0</td>\n",
       "      <td>0</td>\n",
       "      <td>0</td>\n",
       "      <td>0</td>\n",
       "      <td>...</td>\n",
       "      <td>0</td>\n",
       "      <td>0</td>\n",
       "      <td>2</td>\n",
       "      <td>1</td>\n",
       "      <td>0</td>\n",
       "      <td>0</td>\n",
       "      <td>0</td>\n",
       "      <td>0</td>\n",
       "      <td>0</td>\n",
       "      <td>0</td>\n",
       "    </tr>\n",
       "    <tr>\n",
       "      <th>ricky</th>\n",
       "      <td>0</td>\n",
       "      <td>0</td>\n",
       "      <td>0</td>\n",
       "      <td>0</td>\n",
       "      <td>0</td>\n",
       "      <td>0</td>\n",
       "      <td>0</td>\n",
       "      <td>0</td>\n",
       "      <td>1</td>\n",
       "      <td>1</td>\n",
       "      <td>...</td>\n",
       "      <td>0</td>\n",
       "      <td>0</td>\n",
       "      <td>0</td>\n",
       "      <td>0</td>\n",
       "      <td>0</td>\n",
       "      <td>0</td>\n",
       "      <td>0</td>\n",
       "      <td>0</td>\n",
       "      <td>1</td>\n",
       "      <td>0</td>\n",
       "    </tr>\n",
       "  </tbody>\n",
       "</table>\n",
       "<p>12 rows × 7484 columns</p>\n",
       "</div>"
      ],
      "text/plain": [
       "         aaaaah  aaaaahhhhhhh  aaaaauuugghhhhhh  aaaahhhhh  aaah  aah  abc  \\\n",
       "ali           0             0                 0          0     0    0    1   \n",
       "anthony       0             0                 0          0     0    0    0   \n",
       "bill          1             0                 0          0     0    0    0   \n",
       "bo            0             1                 1          1     0    0    0   \n",
       "dave          0             0                 0          0     1    0    0   \n",
       "hasan         0             0                 0          0     0    0    0   \n",
       "jim           0             0                 0          0     0    0    0   \n",
       "joe           0             0                 0          0     0    0    0   \n",
       "john          0             0                 0          0     0    0    0   \n",
       "louis         0             0                 0          0     0    3    0   \n",
       "mike          0             0                 0          0     0    0    0   \n",
       "ricky         0             0                 0          0     0    0    0   \n",
       "\n",
       "         abcs  ability  abject   ...    zee  zen  zeppelin  zero  zillion  \\\n",
       "ali         0        0       0   ...      0    0         0     0        0   \n",
       "anthony     0        0       0   ...      0    0         0     0        0   \n",
       "bill        1        0       0   ...      0    0         0     1        1   \n",
       "bo          0        1       0   ...      0    0         0     1        0   \n",
       "dave        0        0       0   ...      0    0         0     0        0   \n",
       "hasan       0        0       0   ...      2    1         0     1        0   \n",
       "jim         0        0       0   ...      0    0         0     0        0   \n",
       "joe         0        0       0   ...      0    0         0     0        0   \n",
       "john        0        0       0   ...      0    0         0     0        0   \n",
       "louis       0        0       0   ...      0    0         0     2        0   \n",
       "mike        0        0       0   ...      0    0         2     1        0   \n",
       "ricky       0        1       1   ...      0    0         0     0        0   \n",
       "\n",
       "         zombie  zombies  zoning  zoo  éclair  \n",
       "ali           1        0       0    0       0  \n",
       "anthony       0        0       0    0       0  \n",
       "bill          1        1       1    0       0  \n",
       "bo            0        0       0    0       0  \n",
       "dave          0        0       0    0       0  \n",
       "hasan         0        0       0    0       0  \n",
       "jim           0        0       0    0       0  \n",
       "joe           0        0       0    0       0  \n",
       "john          0        0       0    0       1  \n",
       "louis         0        0       0    0       0  \n",
       "mike          0        0       0    0       0  \n",
       "ricky         0        0       0    1       0  \n",
       "\n",
       "[12 rows x 7484 columns]"
      ]
     },
     "execution_count": 36,
     "metadata": {},
     "output_type": "execute_result"
    }
   ],
   "source": [
    "# We are going to create a document-term matrix using CountVectorizer, and exclude common English stop words\n",
    "from sklearn.feature_extraction.text import CountVectorizer\n",
    "\n",
    "cv = CountVectorizer(stop_words='english')\n",
    "data_cv = cv.fit_transform(data_clean.transcript)\n",
    "data_dtm = pd.DataFrame(data_cv.toarray(), columns=cv.get_feature_names())\n",
    "data_dtm.index = data_clean.index\n",
    "data_dtm"
   ]
  },
  {
   "cell_type": "code",
   "execution_count": 37,
   "metadata": {},
   "outputs": [],
   "source": [
    "# Let's pickle it for later use\n",
    "\n",
    "#data_dtm.to_pickle(\"./pickle/dtm.pkl\")"
   ]
  },
  {
   "cell_type": "code",
   "execution_count": null,
   "metadata": {
    "collapsed": true
   },
   "outputs": [],
   "source": [
    "# Let's also pickle the cleaned data (before we put it in document-term matrix format) and the CountVectorizer object\n",
    "\n",
    "# data_clean.to_pickle('./pickle/data_clean.pkl')\n",
    "# pickle.dump(cv, open(\"./pickle/cv.pkl\", \"wb\"))"
   ]
  },
  {
   "cell_type": "markdown",
   "metadata": {
    "collapsed": true
   },
   "source": [
    "## Additional Exercises"
   ]
  },
  {
   "cell_type": "markdown",
   "metadata": {},
   "source": [
    "1. Can you add an additional regular expression to the clean_text_round2 function to further clean the text?\n",
    "2. Play around with CountVectorizer's parameters. What is ngram_range? What is min_df and max_df?"
   ]
  },
  {
   "cell_type": "markdown",
   "metadata": {
    "collapsed": true
   },
   "source": [
    "List of Output\n",
    "\n",
    "- \"./pickle/corpus.pkl\": which preserves the word order (just raw text)\n",
    "- \"./pickle/dtm.pkl\": document-term matrix \n",
    "- ./pickle/data_clean.pkl': cleaned data: Make text lowercase, remove text in square brackets, remove punctuation and remove words containing numbers.\n",
    "- ./pickle/cv.pkl: CountVectorizer object"
   ]
  },
  {
   "cell_type": "code",
   "execution_count": null,
   "metadata": {},
   "outputs": [],
   "source": []
  }
 ],
 "metadata": {
  "kernelspec": {
   "display_name": "Python 3",
   "language": "python",
   "name": "python3"
  },
  "language_info": {
   "codemirror_mode": {
    "name": "ipython",
    "version": 3
   },
   "file_extension": ".py",
   "mimetype": "text/x-python",
   "name": "python",
   "nbconvert_exporter": "python",
   "pygments_lexer": "ipython3",
   "version": "3.7.2"
  },
  "toc": {
   "nav_menu": {},
   "number_sections": true,
   "sideBar": true,
   "skip_h1_title": false,
   "toc_cell": false,
   "toc_position": {},
   "toc_section_display": "block",
   "toc_window_display": false
  },
  "varInspector": {
   "cols": {
    "lenName": 16,
    "lenType": 16,
    "lenVar": 40
   },
   "kernels_config": {
    "python": {
     "delete_cmd_postfix": "",
     "delete_cmd_prefix": "del ",
     "library": "var_list.py",
     "varRefreshCmd": "print(var_dic_list())"
    },
    "r": {
     "delete_cmd_postfix": ") ",
     "delete_cmd_prefix": "rm(",
     "library": "var_list.r",
     "varRefreshCmd": "cat(var_dic_list()) "
    }
   },
   "types_to_exclude": [
    "module",
    "function",
    "builtin_function_or_method",
    "instance",
    "_Feature"
   ],
   "window_display": false
  }
 },
 "nbformat": 4,
 "nbformat_minor": 2
}
