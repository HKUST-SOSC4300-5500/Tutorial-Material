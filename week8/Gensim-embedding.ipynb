{
 "cells": [
  {
   "cell_type": "markdown",
   "metadata": {},
   "source": [
    "# GENSIM for word embeddings "
   ]
  },
  {
   "cell_type": "markdown",
   "metadata": {},
   "source": [
    "- THE GENSIM LIBRARY\n",
    "\n",
    "    - Gensim is an open-source python library for natural language processing.\n",
    "\n",
    "    - It was developed and is maintained by the Czech natural language processing researcher Radim Řehůřek. \n",
    "\n",
    "    - In the previous tutorial, we have seen how you can use this package to do topic modeling.\n",
    "    \n",
    "    - We also use `gensim` package to do word embedding here.\n",
    "\n",
    "    - Gensim library will enable us to develop word embeddings by training our own word2vec models on a custom corpus either with CBOW of skip-grams algorithms.\n",
    "    "
   ]
  },
  {
   "cell_type": "markdown",
   "metadata": {},
   "source": [
    "- Word embeddings can be used for:\n",
    "    - automated text tagging\n",
    "    - recommendation engines\n",
    "    - synonyms and search query expansion\n",
    "    - machine translation\n",
    "    - plain feature engineering"
   ]
  },
  {
   "cell_type": "markdown",
   "metadata": {},
   "source": [
    "One example\n",
    "\n",
    "<img src=\"01.png\" alt=\"drawing\" width=\"800\"/>"
   ]
  },
  {
   "cell_type": "markdown",
   "metadata": {},
   "source": [
    "Another example\n",
    "\n",
    "<img src=\"2.png\" alt=\"drawing\" width=\"800\"/>"
   ]
  },
  {
   "cell_type": "markdown",
   "metadata": {},
   "source": [
    "What is a word embedding?\n",
    "- ‘Word embedding’ = ‘word vectors’ = ‘distributed representations’\n",
    "- It is a dense representation of words in a low-dimensional vector space."
   ]
  },
  {
   "cell_type": "markdown",
   "metadata": {},
   "source": [
    "## Software for word embeddings "
   ]
  },
  {
   "cell_type": "markdown",
   "metadata": {},
   "source": [
    "- Software for training and using word embeddings includes \n",
    "    - Tomas Mikolov's Word2vec, \n",
    "    - Stanford University's GloVe, GN-GloVe \n",
    "    - AllenNLP's ELMo,\n",
    "    - BERT\n",
    "    - fastText \n",
    "    - Gensim\n",
    "    - Indra and Deeplearning4j\n",
    "  \n",
    "    - Principal Component Analysis (PCA) and T-Distributed Stochastic Neighbour Embedding (t-SNE) are both used to reduce the dimensionality of word vector spaces and visualize word embeddings and clusters."
   ]
  },
  {
   "cell_type": "markdown",
   "metadata": {},
   "source": [
    "## Word2vec"
   ]
  },
  {
   "cell_type": "markdown",
   "metadata": {},
   "source": [
    "- Word2vec is a famous algorithm for natural language processing (NLP) created by Tomas Mikolov teams. \n",
    "\n",
    "- It is a group of related models that are used to produce word embeddings, i.e. CBOW and skip-grams. \n",
    "\n",
    "- The models are considered shallow. They consist of two-layer neural networks that are trained to reconstruct linguistic contexts of words. \n",
    "\n",
    "- It was a small step in machine learning but made a huge impact in NLP compared to earlier algorithms, such as latent semantic analysis.\n",
    "\n",
    "- While skip-grams predicts context words based on input, CBOW is the reverse model of Skip-Grams. It predicts target words based on context words.\n",
    "\n",
    "\n",
    "- The underlying assumption of Word2Vec is that two words sharing similar contexts also share a similar meaning and consequently a similar vector representation from the model. \n",
    "    - For instance: \"dog\", \"puppy\" and \"pup\" are often used in similar situations, with similar surrounding words like \"good\", \"fluffy\" or \"cute\", and according to Word2Vec they will therefore share a similar vector representation.\n",
    "\n",
    "- From this assumption, Word2Vec can be used to find out the relations between words in a dataset, compute the similarity between them, or use the vector representation of those words as input for other applications such as text classification or clustering."
   ]
  },
  {
   "cell_type": "markdown",
   "metadata": {},
   "source": [
    "<img src=\"3.png\" alt=\"drawing\" width=\"800\"/>"
   ]
  },
  {
   "cell_type": "code",
   "execution_count": 62,
   "metadata": {},
   "outputs": [],
   "source": [
    "import pandas as pd\n",
    "import matplotlib.pyplot as plt\n",
    "%matplotlib notebook\n",
    "import numpy as np\n",
    "import seaborn as sns\n",
    "import warnings\n",
    "warnings.filterwarnings('ignore')\n",
    "import re  # For preprocessing\n",
    "import pandas as pd  # For data handling\n",
    "from time import time  # To time our operations\n",
    "from collections import defaultdict  # For word frequency\n",
    "\n",
    "import spacy  # For preprocessing\n",
    "from gensim.models import Word2Vec\n",
    "import logging  # Setting up the loggings to monitor gensim\n",
    "logging.basicConfig(format=\"%(levelname)s - %(asctime)s: %(message)s\", datefmt= '%H:%M:%S', level=logging.INFO)\n",
    "from sklearn.manifold import TSNE\n",
    "from numpy import dot\n",
    "from numpy.linalg import norm"
   ]
  },
  {
   "cell_type": "markdown",
   "metadata": {},
   "source": [
    "## 1) CREATE A WORD2VEC MODEL\n",
    "\n",
    "- Training the model: Gensim Word2Vec Implementation:\n",
    "    - We use Gensim implementation of word2vec: https://radimrehurek.com/gensim/models/word2vec.html"
   ]
  },
  {
   "cell_type": "code",
   "execution_count": 66,
   "metadata": {
    "scrolled": true
   },
   "outputs": [
    {
     "name": "stdout",
     "output_type": "stream",
     "text": [
      "[['human', 'interface', 'computer'], ['survey', 'user', 'computer', 'system', 'response', 'time'], ['eps', 'user', 'interface', 'system'], ['system', 'human', 'system', 'eps'], ['user', 'response', 'time'], ['trees'], ['graph', 'trees'], ['graph', 'minors', 'trees'], ['graph', 'minors', 'survey']]\n"
     ]
    }
   ],
   "source": [
    "from gensim.test.utils import common_texts, get_tmpfile\n",
    "from gensim.models import Word2Vec\n",
    "\n",
    "print (common_texts)"
   ]
  },
  {
   "cell_type": "markdown",
   "metadata": {},
   "source": [
    "## train a simpliest word embedding by yourself"
   ]
  },
  {
   "cell_type": "code",
   "execution_count": 67,
   "metadata": {
    "scrolled": true
   },
   "outputs": [
    {
     "name": "stderr",
     "output_type": "stream",
     "text": [
      "INFO - 14:54:53: collecting all words and their counts\n",
      "INFO - 14:54:53: PROGRESS: at sentence #0, processed 0 words, keeping 0 word types\n",
      "INFO - 14:54:53: collected 12 word types from a corpus of 29 raw words and 9 sentences\n",
      "INFO - 14:54:53: Loading a fresh vocabulary\n",
      "INFO - 14:54:53: effective_min_count=1 retains 12 unique words (100% of original 12, drops 0)\n",
      "INFO - 14:54:53: effective_min_count=1 leaves 29 word corpus (100% of original 29, drops 0)\n",
      "INFO - 14:54:53: deleting the raw counts dictionary of 12 items\n",
      "INFO - 14:54:53: sample=0.001 downsamples 12 most-common words\n",
      "INFO - 14:54:53: downsampling leaves estimated 3 word corpus (12.1% of prior 29)\n",
      "INFO - 14:54:53: estimated required memory for 12 words and 100 dimensions: 15600 bytes\n",
      "INFO - 14:54:53: resetting layer weights\n",
      "INFO - 14:54:53: training model with 4 workers on 12 vocabulary and 100 features, using sg=0 hs=0 sample=0.001 negative=5 window=5\n",
      "INFO - 14:54:53: worker thread finished; awaiting finish of 3 more threads\n",
      "INFO - 14:54:53: worker thread finished; awaiting finish of 2 more threads\n",
      "INFO - 14:54:53: worker thread finished; awaiting finish of 1 more threads\n",
      "INFO - 14:54:53: worker thread finished; awaiting finish of 0 more threads\n",
      "INFO - 14:54:53: EPOCH - 1 : training on 29 raw words (3 effective words) took 0.0s, 1153 effective words/s\n",
      "INFO - 14:54:53: worker thread finished; awaiting finish of 3 more threads\n",
      "INFO - 14:54:53: worker thread finished; awaiting finish of 2 more threads\n",
      "INFO - 14:54:53: worker thread finished; awaiting finish of 1 more threads\n",
      "INFO - 14:54:53: worker thread finished; awaiting finish of 0 more threads\n",
      "INFO - 14:54:53: EPOCH - 2 : training on 29 raw words (3 effective words) took 0.0s, 1060 effective words/s\n",
      "INFO - 14:54:53: worker thread finished; awaiting finish of 3 more threads\n",
      "INFO - 14:54:53: worker thread finished; awaiting finish of 2 more threads\n",
      "INFO - 14:54:53: worker thread finished; awaiting finish of 1 more threads\n",
      "INFO - 14:54:53: worker thread finished; awaiting finish of 0 more threads\n",
      "INFO - 14:54:53: EPOCH - 3 : training on 29 raw words (1 effective words) took 0.0s, 486 effective words/s\n",
      "INFO - 14:54:53: worker thread finished; awaiting finish of 3 more threads\n",
      "INFO - 14:54:53: worker thread finished; awaiting finish of 2 more threads\n",
      "INFO - 14:54:53: worker thread finished; awaiting finish of 1 more threads\n",
      "INFO - 14:54:53: worker thread finished; awaiting finish of 0 more threads\n",
      "INFO - 14:54:53: EPOCH - 4 : training on 29 raw words (4 effective words) took 0.0s, 1750 effective words/s\n",
      "INFO - 14:54:53: worker thread finished; awaiting finish of 3 more threads\n",
      "INFO - 14:54:53: worker thread finished; awaiting finish of 2 more threads\n",
      "INFO - 14:54:53: worker thread finished; awaiting finish of 1 more threads\n",
      "INFO - 14:54:53: worker thread finished; awaiting finish of 0 more threads\n",
      "INFO - 14:54:53: EPOCH - 5 : training on 29 raw words (6 effective words) took 0.0s, 2639 effective words/s\n",
      "INFO - 14:54:53: training on a 145 raw words (17 effective words) took 0.0s, 655 effective words/s\n",
      "WARNING - 14:54:53: under 10 jobs per worker: consider setting a smaller `batch_words' for smoother alpha decay\n"
     ]
    }
   ],
   "source": [
    "path = get_tmpfile(\"word2vec.model\")\n",
    "model = Word2Vec(common_texts, size=100, window=5, min_count=1, workers=4)"
   ]
  },
  {
   "cell_type": "markdown",
   "metadata": {},
   "source": [
    "The hyperparameters of this model:\n",
    "\n",
    "- size: The number of dimensions of the embeddings and the default is 100.\n",
    "- window: The maximum distance between a target word and words around the target word. The default window is 5.\n",
    "- min_count: The minimum count of words to consider when training the model; words with occurrence less than this count will be ignored. The default for min_count is 5.\n",
    "- workers: The number of partitions during training and the default workers is 3.\n",
    "- sg: The training algorithm, either CBOW(0) or skip-gram (1). The default training algorithm is CBOW."
   ]
  },
  {
   "cell_type": "code",
   "execution_count": 68,
   "metadata": {},
   "outputs": [
    {
     "name": "stdout",
     "output_type": "stream",
     "text": [
      "[-0.00031059 -0.00047937 -0.00193366  0.0001632   0.00396057 -0.00498204\n",
      "  0.00479471  0.00097412 -0.00295674  0.00203741 -0.00032115 -0.00426501\n",
      "  0.004509   -0.00373723  0.00327207 -0.00491623 -0.0029554  -0.00115403\n",
      " -0.00313973  0.00132406 -0.00444628  0.00344426  0.00156202 -0.00407919\n",
      " -0.00457546  0.00350944  0.00344587 -0.00492144  0.00134602  0.00112012\n",
      " -0.00317996  0.0011763   0.00000114  0.00234649 -0.00097735  0.00195786\n",
      "  0.00062695  0.00226125 -0.00361166 -0.00170258  0.00304619  0.00389385\n",
      " -0.00340547 -0.0020261   0.00086331  0.00293121 -0.00354203  0.00121521\n",
      " -0.00014114 -0.00253102  0.0029823   0.00238403 -0.00074223  0.00108045\n",
      "  0.00040499  0.00369383  0.00251473  0.00026273  0.00281507 -0.00115321\n",
      "  0.00174617 -0.001251   -0.00216189 -0.00368334 -0.00404144 -0.00280523\n",
      "  0.00020058  0.00444127  0.00232165 -0.00414378 -0.00023068  0.00234746\n",
      " -0.00026399  0.00475366  0.00345872  0.00110838 -0.00394687  0.00119322\n",
      " -0.00229989 -0.00141029 -0.00487892 -0.00093626 -0.00148075 -0.00295099\n",
      " -0.00184672  0.00349014 -0.0015859  -0.00097777  0.0020437   0.00207153\n",
      " -0.00104437  0.00204378 -0.00329351  0.00166337  0.00050704  0.00412985\n",
      " -0.00143276  0.00347646  0.0028264  -0.00243835]\n"
     ]
    }
   ],
   "source": [
    "vector = model.wv['computer']  # numpy vector of a word\n",
    "print (vector)"
   ]
  },
  {
   "cell_type": "code",
   "execution_count": 69,
   "metadata": {
    "scrolled": true
   },
   "outputs": [
    {
     "ename": "TypeError",
     "evalue": "'Word2VecKeyedVectors' object is not callable",
     "output_type": "error",
     "traceback": [
      "\u001b[0;31m---------------------------------------------------------------------------\u001b[0m",
      "\u001b[0;31mTypeError\u001b[0m                                 Traceback (most recent call last)",
      "\u001b[0;32m<ipython-input-69-cc998f75f6ee>\u001b[0m in \u001b[0;36m<module>\u001b[0;34m()\u001b[0m\n\u001b[1;32m      1\u001b[0m \u001b[0;31m# new words? cannot handle\u001b[0m\u001b[0;34m\u001b[0m\u001b[0;34m\u001b[0m\u001b[0;34m\u001b[0m\u001b[0m\n\u001b[0;32m----> 2\u001b[0;31m \u001b[0mprint\u001b[0m \u001b[0;34m(\u001b[0m\u001b[0mmodel\u001b[0m\u001b[0;34m.\u001b[0m\u001b[0mwv\u001b[0m\u001b[0;34m(\u001b[0m\u001b[0;34m[\u001b[0m\u001b[0;34m'hi'\u001b[0m\u001b[0;34m]\u001b[0m\u001b[0;34m)\u001b[0m\u001b[0;34m)\u001b[0m\u001b[0;34m\u001b[0m\u001b[0;34m\u001b[0m\u001b[0m\n\u001b[0m",
      "\u001b[0;31mTypeError\u001b[0m: 'Word2VecKeyedVectors' object is not callable"
     ]
    }
   ],
   "source": [
    "# new words? cannot handle\n",
    "print (model.wv(['hi']))"
   ]
  },
  {
   "cell_type": "code",
   "execution_count": 70,
   "metadata": {},
   "outputs": [
    {
     "name": "stderr",
     "output_type": "stream",
     "text": [
      "INFO - 14:55:23: saving Word2Vec object under word2vec.model, separately None\n",
      "INFO - 14:55:23: not storing attribute vectors_norm\n",
      "INFO - 14:55:23: not storing attribute cum_table\n",
      "INFO - 14:55:23: saved word2vec.model\n"
     ]
    }
   ],
   "source": [
    "## save model\n",
    "model.save(\"word2vec.model\")"
   ]
  },
  {
   "cell_type": "markdown",
   "metadata": {},
   "source": [
    "## 2) WORD EMBEDDING Using a Real Dataset"
   ]
  },
  {
   "cell_type": "markdown",
   "metadata": {},
   "source": [
    "In this example, I use a  dataset from Kaggle Dataset( https://www.kaggle.com/CooperUnion/cardataset) This cars dataset includes features such as make, model, year, engine, and other properties of the car. We will use these features to generate the word embeddings for each make model and then compare the similarities between different make model. The following dataframe shows the detail information of this dataset."
   ]
  },
  {
   "cell_type": "code",
   "execution_count": 48,
   "metadata": {},
   "outputs": [
    {
     "data": {
      "text/html": [
       "<div>\n",
       "<style scoped>\n",
       "    .dataframe tbody tr th:only-of-type {\n",
       "        vertical-align: middle;\n",
       "    }\n",
       "\n",
       "    .dataframe tbody tr th {\n",
       "        vertical-align: top;\n",
       "    }\n",
       "\n",
       "    .dataframe thead th {\n",
       "        text-align: right;\n",
       "    }\n",
       "</style>\n",
       "<table border=\"1\" class=\"dataframe\">\n",
       "  <thead>\n",
       "    <tr style=\"text-align: right;\">\n",
       "      <th></th>\n",
       "      <th>Make</th>\n",
       "      <th>Model</th>\n",
       "      <th>Year</th>\n",
       "      <th>Engine Fuel Type</th>\n",
       "      <th>Engine HP</th>\n",
       "      <th>Engine Cylinders</th>\n",
       "      <th>Transmission Type</th>\n",
       "      <th>Driven_Wheels</th>\n",
       "      <th>Number of Doors</th>\n",
       "      <th>Market Category</th>\n",
       "      <th>Vehicle Size</th>\n",
       "      <th>Vehicle Style</th>\n",
       "      <th>highway MPG</th>\n",
       "      <th>city mpg</th>\n",
       "      <th>Popularity</th>\n",
       "      <th>MSRP</th>\n",
       "    </tr>\n",
       "  </thead>\n",
       "  <tbody>\n",
       "    <tr>\n",
       "      <th>0</th>\n",
       "      <td>BMW</td>\n",
       "      <td>1 Series M</td>\n",
       "      <td>2011</td>\n",
       "      <td>premium unleaded (required)</td>\n",
       "      <td>335.0</td>\n",
       "      <td>6.0</td>\n",
       "      <td>MANUAL</td>\n",
       "      <td>rear wheel drive</td>\n",
       "      <td>2.0</td>\n",
       "      <td>Factory Tuner,Luxury,High-Performance</td>\n",
       "      <td>Compact</td>\n",
       "      <td>Coupe</td>\n",
       "      <td>26</td>\n",
       "      <td>19</td>\n",
       "      <td>3916</td>\n",
       "      <td>46135</td>\n",
       "    </tr>\n",
       "    <tr>\n",
       "      <th>1</th>\n",
       "      <td>BMW</td>\n",
       "      <td>1 Series</td>\n",
       "      <td>2011</td>\n",
       "      <td>premium unleaded (required)</td>\n",
       "      <td>300.0</td>\n",
       "      <td>6.0</td>\n",
       "      <td>MANUAL</td>\n",
       "      <td>rear wheel drive</td>\n",
       "      <td>2.0</td>\n",
       "      <td>Luxury,Performance</td>\n",
       "      <td>Compact</td>\n",
       "      <td>Convertible</td>\n",
       "      <td>28</td>\n",
       "      <td>19</td>\n",
       "      <td>3916</td>\n",
       "      <td>40650</td>\n",
       "    </tr>\n",
       "    <tr>\n",
       "      <th>2</th>\n",
       "      <td>BMW</td>\n",
       "      <td>1 Series</td>\n",
       "      <td>2011</td>\n",
       "      <td>premium unleaded (required)</td>\n",
       "      <td>300.0</td>\n",
       "      <td>6.0</td>\n",
       "      <td>MANUAL</td>\n",
       "      <td>rear wheel drive</td>\n",
       "      <td>2.0</td>\n",
       "      <td>Luxury,High-Performance</td>\n",
       "      <td>Compact</td>\n",
       "      <td>Coupe</td>\n",
       "      <td>28</td>\n",
       "      <td>20</td>\n",
       "      <td>3916</td>\n",
       "      <td>36350</td>\n",
       "    </tr>\n",
       "    <tr>\n",
       "      <th>3</th>\n",
       "      <td>BMW</td>\n",
       "      <td>1 Series</td>\n",
       "      <td>2011</td>\n",
       "      <td>premium unleaded (required)</td>\n",
       "      <td>230.0</td>\n",
       "      <td>6.0</td>\n",
       "      <td>MANUAL</td>\n",
       "      <td>rear wheel drive</td>\n",
       "      <td>2.0</td>\n",
       "      <td>Luxury,Performance</td>\n",
       "      <td>Compact</td>\n",
       "      <td>Coupe</td>\n",
       "      <td>28</td>\n",
       "      <td>18</td>\n",
       "      <td>3916</td>\n",
       "      <td>29450</td>\n",
       "    </tr>\n",
       "    <tr>\n",
       "      <th>4</th>\n",
       "      <td>BMW</td>\n",
       "      <td>1 Series</td>\n",
       "      <td>2011</td>\n",
       "      <td>premium unleaded (required)</td>\n",
       "      <td>230.0</td>\n",
       "      <td>6.0</td>\n",
       "      <td>MANUAL</td>\n",
       "      <td>rear wheel drive</td>\n",
       "      <td>2.0</td>\n",
       "      <td>Luxury</td>\n",
       "      <td>Compact</td>\n",
       "      <td>Convertible</td>\n",
       "      <td>28</td>\n",
       "      <td>18</td>\n",
       "      <td>3916</td>\n",
       "      <td>34500</td>\n",
       "    </tr>\n",
       "  </tbody>\n",
       "</table>\n",
       "</div>"
      ],
      "text/plain": [
       "  Make       Model  Year             Engine Fuel Type  Engine HP  \\\n",
       "0  BMW  1 Series M  2011  premium unleaded (required)      335.0   \n",
       "1  BMW    1 Series  2011  premium unleaded (required)      300.0   \n",
       "2  BMW    1 Series  2011  premium unleaded (required)      300.0   \n",
       "3  BMW    1 Series  2011  premium unleaded (required)      230.0   \n",
       "4  BMW    1 Series  2011  premium unleaded (required)      230.0   \n",
       "\n",
       "   Engine Cylinders Transmission Type     Driven_Wheels  Number of Doors  \\\n",
       "0               6.0            MANUAL  rear wheel drive              2.0   \n",
       "1               6.0            MANUAL  rear wheel drive              2.0   \n",
       "2               6.0            MANUAL  rear wheel drive              2.0   \n",
       "3               6.0            MANUAL  rear wheel drive              2.0   \n",
       "4               6.0            MANUAL  rear wheel drive              2.0   \n",
       "\n",
       "                         Market Category Vehicle Size Vehicle Style  \\\n",
       "0  Factory Tuner,Luxury,High-Performance      Compact         Coupe   \n",
       "1                     Luxury,Performance      Compact   Convertible   \n",
       "2                Luxury,High-Performance      Compact         Coupe   \n",
       "3                     Luxury,Performance      Compact         Coupe   \n",
       "4                                 Luxury      Compact   Convertible   \n",
       "\n",
       "   highway MPG  city mpg  Popularity   MSRP  \n",
       "0           26        19        3916  46135  \n",
       "1           28        19        3916  40650  \n",
       "2           28        20        3916  36350  \n",
       "3           28        18        3916  29450  \n",
       "4           28        18        3916  34500  "
      ]
     },
     "execution_count": 48,
     "metadata": {},
     "output_type": "execute_result"
    }
   ],
   "source": [
    "df = pd.read_csv('data.csv')\n",
    "df.head()"
   ]
  },
  {
   "cell_type": "markdown",
   "metadata": {},
   "source": [
    "### PRE-PROCESS WORDS"
   ]
  },
  {
   "cell_type": "markdown",
   "metadata": {},
   "source": [
    "- Cleaning \n",
    "    - Removing the missing values;\n",
    "    - Lemmatizing;\n",
    "    - Removing the stopwords;\n",
    "    - Removes non-alphabetic characters: regular expression;\n",
    "    - Bigrams: We can use Gensim Phrases package to automatically detect common phrases (bigrams) from a list of sentences. https://radimrehurek.com/gensim/models/phrases.html\n",
    "\n",
    "         ```python\n",
    "         from gensim.models.phrases import Phrases, Phraser\n",
    "         ```\n",
    "         - As Phrases() takes a list of list of words as input:\n",
    "        ```python\n",
    "        sent = [row.split() for row in df_clean['clean']]\n",
    "        ```\n"
   ]
  },
  {
   "cell_type": "markdown",
   "metadata": {},
   "source": [
    "Since the purpose of this tutorial is to learn how to generate word embeddings using genism library, I will not do the EDA and feature selection for the word2vec model for the sake of simplicity. \n",
    "<br> \n",
    "Genism word2Vec requires that a format of list of list for training where every document is contained in a list and every list contains list of tokens of that document. At first, we need to generate a format of list of list for training the make model word embedding. To be more specific, each make model is contained in a list and every list contains list of features of that make model.\n",
    "\n",
    "To achieve these, we need to do the following data preprocessing steps:\n",
    "\n",
    "1. Create a new column for Make Model \n",
    "2. Generate a format of list of list for each Make Model with the following features: Engine Fuel Type, Transmission Type, Driven_Wheels, Market Category, Vehicle Size and Vehicle Style. \n"
   ]
  },
  {
   "cell_type": "markdown",
   "metadata": {},
   "source": [
    "1. Create a new column for Make Model"
   ]
  },
  {
   "cell_type": "code",
   "execution_count": 71,
   "metadata": {},
   "outputs": [],
   "source": [
    "df['Maker_Model']= df['Make']+ \" \" + df['Model']"
   ]
  },
  {
   "cell_type": "markdown",
   "metadata": {},
   "source": [
    "2. Generate a format of list of list for each Make Model "
   ]
  },
  {
   "cell_type": "code",
   "execution_count": 72,
   "metadata": {},
   "outputs": [
    {
     "data": {
      "text/plain": [
       "[['premium unleaded (required)',\n",
       "  'MANUAL',\n",
       "  'rear wheel drive',\n",
       "  'Factory Tuner',\n",
       "  'Luxury',\n",
       "  'High-Performance',\n",
       "  'Compact',\n",
       "  'Coupe',\n",
       "  'BMW 1 Series M'],\n",
       " ['premium unleaded (required)',\n",
       "  'MANUAL',\n",
       "  'rear wheel drive',\n",
       "  'Luxury',\n",
       "  'Performance',\n",
       "  'Compact',\n",
       "  'Convertible',\n",
       "  'BMW 1 Series']]"
      ]
     },
     "execution_count": 72,
     "metadata": {},
     "output_type": "execute_result"
    }
   ],
   "source": [
    "# Select features from original dataset to form a new dataframe \n",
    "df1 = df[['Engine Fuel Type','Transmission Type','Driven_Wheels','Market Category','Vehicle Size', 'Vehicle Style', 'Maker_Model']]\n",
    "# For each row, combine all the columns into one column\n",
    "df2 = df1.apply(lambda x: ','.join(x.astype(str)), axis=1) \n",
    "# Store them in the pandas dataframe\n",
    "df_clean = pd.DataFrame({'clean': df2}) \n",
    "# Create the list of list format of the custom corpus for gensim modeling \n",
    "sent = [row.split(',') for row in df_clean['clean']]\n",
    "# show the example of list of list format of the custom corpus for gensim modeling \n",
    "sent[:2] "
   ]
  },
  {
   "cell_type": "markdown",
   "metadata": {},
   "source": [
    "### Genism word2vec Model Training "
   ]
  },
  {
   "cell_type": "code",
   "execution_count": 73,
   "metadata": {},
   "outputs": [
    {
     "name": "stderr",
     "output_type": "stream",
     "text": [
      "WARNING - 14:56:14: consider setting layer size to a multiple of 4 for greater performance\n",
      "INFO - 14:56:14: collecting all words and their counts\n",
      "INFO - 14:56:14: PROGRESS: at sentence #0, processed 0 words, keeping 0 word types\n",
      "INFO - 14:56:14: PROGRESS: at sentence #10000, processed 74060 words, keeping 841 word types\n",
      "INFO - 14:56:14: collected 977 word types from a corpus of 88129 raw words and 11914 sentences\n",
      "INFO - 14:56:14: Loading a fresh vocabulary\n",
      "INFO - 14:56:14: effective_min_count=1 retains 977 unique words (100% of original 977, drops 0)\n",
      "INFO - 14:56:14: effective_min_count=1 leaves 88129 word corpus (100% of original 88129, drops 0)\n",
      "INFO - 14:56:14: deleting the raw counts dictionary of 977 items\n",
      "INFO - 14:56:14: sample=0.001 downsamples 35 most-common words\n",
      "INFO - 14:56:14: downsampling leaves estimated 29996 word corpus (34.0% of prior 88129)\n",
      "INFO - 14:56:14: estimated required memory for 977 words and 50 dimensions: 879300 bytes\n",
      "INFO - 14:56:14: resetting layer weights\n",
      "INFO - 14:56:14: training model with 3 workers on 977 vocabulary and 50 features, using sg=1 hs=0 sample=0.001 negative=5 window=3\n",
      "INFO - 14:56:14: worker thread finished; awaiting finish of 2 more threads\n",
      "INFO - 14:56:14: worker thread finished; awaiting finish of 1 more threads\n",
      "INFO - 14:56:14: worker thread finished; awaiting finish of 0 more threads\n",
      "INFO - 14:56:14: EPOCH - 1 : training on 88129 raw words (29958 effective words) took 0.0s, 641873 effective words/s\n",
      "INFO - 14:56:14: worker thread finished; awaiting finish of 2 more threads\n",
      "INFO - 14:56:14: worker thread finished; awaiting finish of 1 more threads\n",
      "INFO - 14:56:14: worker thread finished; awaiting finish of 0 more threads\n",
      "INFO - 14:56:14: EPOCH - 2 : training on 88129 raw words (29952 effective words) took 0.0s, 613060 effective words/s\n",
      "INFO - 14:56:14: worker thread finished; awaiting finish of 2 more threads\n",
      "INFO - 14:56:14: worker thread finished; awaiting finish of 1 more threads\n",
      "INFO - 14:56:14: worker thread finished; awaiting finish of 0 more threads\n",
      "INFO - 14:56:14: EPOCH - 3 : training on 88129 raw words (29970 effective words) took 0.0s, 740026 effective words/s\n",
      "INFO - 14:56:14: worker thread finished; awaiting finish of 2 more threads\n",
      "INFO - 14:56:14: worker thread finished; awaiting finish of 1 more threads\n",
      "INFO - 14:56:14: worker thread finished; awaiting finish of 0 more threads\n",
      "INFO - 14:56:14: EPOCH - 4 : training on 88129 raw words (30126 effective words) took 0.0s, 643596 effective words/s\n",
      "INFO - 14:56:14: worker thread finished; awaiting finish of 2 more threads\n",
      "INFO - 14:56:14: worker thread finished; awaiting finish of 1 more threads\n",
      "INFO - 14:56:14: worker thread finished; awaiting finish of 0 more threads\n",
      "INFO - 14:56:14: EPOCH - 5 : training on 88129 raw words (29863 effective words) took 0.1s, 591685 effective words/s\n",
      "INFO - 14:56:14: training on a 440645 raw words (149869 effective words) took 0.3s, 503031 effective words/s\n"
     ]
    }
   ],
   "source": [
    "## Train the genisim word2vec model with our own custom corpus\n",
    "model = Word2Vec(sent, min_count=1,size= 50,workers=3, window =3, sg = 1)"
   ]
  },
  {
   "cell_type": "code",
   "execution_count": 74,
   "metadata": {},
   "outputs": [
    {
     "data": {
      "text/plain": [
       "array([-0.10365821, -0.03834468, -0.09854577, -0.08499372, -0.04166123,\n",
       "        0.08490819, -0.02679554, -0.1329035 , -0.06970573, -0.3010772 ,\n",
       "        0.03514205,  0.14641401, -0.1904866 ,  0.15030791, -0.04365537,\n",
       "        0.03625378, -0.0388467 ,  0.04706321, -0.04965301, -0.1043864 ,\n",
       "        0.12221095,  0.18493368,  0.00907104, -0.08848903,  0.11872905,\n",
       "        0.01716448, -0.15960366, -0.16130216, -0.30773667, -0.272634  ,\n",
       "       -0.03958499, -0.007336  ,  0.05693236, -0.06150442,  0.1590475 ,\n",
       "        0.1775071 ,  0.3102137 ,  0.0031547 ,  0.08919477,  0.09501619,\n",
       "        0.12213099,  0.06135909,  0.22057548,  0.08365135,  0.15436625,\n",
       "        0.10553859,  0.08309863,  0.11538124, -0.12137548,  0.11420659],\n",
       "      dtype=float32)"
      ]
     },
     "execution_count": 74,
     "metadata": {},
     "output_type": "execute_result"
    }
   ],
   "source": [
    "## We can obtain the word embedding directly from the training model\n",
    "model['Toyota Camry']"
   ]
  },
  {
   "cell_type": "markdown",
   "metadata": {},
   "source": [
    "### Compare Similarities "
   ]
  },
  {
   "cell_type": "markdown",
   "metadata": {},
   "source": [
    "Now we could even use Word2vec to compute similarity between two make model in the vocabulary by invoking the model.similarity() and passing in the relvevant words. For instance,  model.similarity('Porsche 718 Cayman', 'Nissan Van') This will give us the Euclidian similarity between Porsche 718 Cayman and Nissan Van. "
   ]
  },
  {
   "cell_type": "code",
   "execution_count": 77,
   "metadata": {},
   "outputs": [
    {
     "data": {
      "text/plain": [
       "0.8714705"
      ]
     },
     "execution_count": 77,
     "metadata": {},
     "output_type": "execute_result"
    }
   ],
   "source": [
    "model.similarity('Porsche 718 Cayman', 'Nissan Van')"
   ]
  },
  {
   "cell_type": "code",
   "execution_count": 78,
   "metadata": {},
   "outputs": [
    {
     "data": {
      "text/plain": [
       "0.9876421"
      ]
     },
     "execution_count": 78,
     "metadata": {},
     "output_type": "execute_result"
    }
   ],
   "source": [
    "model.similarity('Porsche 718 Cayman', 'Mercedes-Benz SLK-Class')"
   ]
  },
  {
   "cell_type": "markdown",
   "metadata": {},
   "source": [
    "From the above example, we can tell that Porsche 718 Cayman is more similar with Mercedes-Benz SLK-Class than Nissan Van. We also can use the build in function model.most_similar() to get a set of the most similar make models for a given make model."
   ]
  },
  {
   "cell_type": "code",
   "execution_count": 79,
   "metadata": {},
   "outputs": [
    {
     "name": "stderr",
     "output_type": "stream",
     "text": [
      "INFO - 14:56:32: precomputing L2-norms of word weight vectors\n"
     ]
    },
    {
     "data": {
      "text/plain": [
       "[('Subaru BRZ', 0.9961400628089905),\n",
       " ('Toyota MR2 Spyder', 0.9955236911773682),\n",
       " ('Mercedes-Benz SL-Class', 0.9954379796981812),\n",
       " ('Chrysler Crossfire', 0.9952895641326904),\n",
       " ('Scion FR-S', 0.9948042631149292)]"
      ]
     },
     "execution_count": 79,
     "metadata": {},
     "output_type": "execute_result"
    }
   ],
   "source": [
    "## Show the most similar vehicles for Mercedes-Benz SLK-Class : Default by eculidean distance \n",
    "model.most_similar('Mercedes-Benz SLK-Class')[:5]"
   ]
  },
  {
   "cell_type": "code",
   "execution_count": 80,
   "metadata": {},
   "outputs": [
    {
     "data": {
      "text/plain": [
       "[('Nissan Sentra', 0.994681179523468),\n",
       " ('Nissan Altima', 0.9933871030807495),\n",
       " ('Mitsubishi Galant', 0.9922041296958923),\n",
       " ('Pontiac 6000', 0.9917990565299988),\n",
       " ('Buick Verano', 0.9901615381240845)]"
      ]
     },
     "execution_count": 80,
     "metadata": {},
     "output_type": "execute_result"
    }
   ],
   "source": [
    "## Show the most similar vehicles for Toyota Camry : Default by eculidean distance \n",
    "model.most_similar('Toyota Camry')[:5]"
   ]
  },
  {
   "cell_type": "markdown",
   "metadata": {},
   "source": [
    "However, Euclidian similarity cannot work well for the high-dimensional word vectors, This is because Euclidian similarity will increase the number of dimensions increases even if the word embedding stands for different meanings. Alternatively, we can use cosine similarity to measure the similarity between two vectors.  Mathematically, it measures the cosine of the angle between two vectors projected in a multi-dimensional space. Therefore, the cosine similarity captures the angle of the word vectors and not the magnitude. Under cosine similarity, no similarity is expressed as a 90-degree angle while the total similarity of 1 is at 0 degree angle. The following function shows how can we generate the most similar make model based on cosine similarity."
   ]
  },
  {
   "cell_type": "code",
   "execution_count": 81,
   "metadata": {},
   "outputs": [],
   "source": [
    "def cosine_distance (model, word,target_list , num) :\n",
    "    cosine_dict ={}\n",
    "    word_list = []\n",
    "    a = model[word]\n",
    "    for item in target_list :\n",
    "        if item != word :\n",
    "            b = model [item]\n",
    "            cos_sim = dot(a, b)/(norm(a)*norm(b))\n",
    "            cosine_dict[item] = cos_sim\n",
    "    dist_sort=sorted(cosine_dict.items(), key=lambda dist: dist[1],reverse = True) ## in Descedning order \n",
    "    for item in dist_sort:\n",
    "        word_list.append((item[0], item[1]))\n",
    "    return word_list[0:num]"
   ]
  },
  {
   "cell_type": "code",
   "execution_count": 59,
   "metadata": {},
   "outputs": [
    {
     "data": {
      "text/plain": [
       "[('Mercedes-Benz SL-Class', 0.9957114),\n",
       " ('Ford Shelby GT500', 0.99425447),\n",
       " ('Audi S5', 0.99422264),\n",
       " ('Nissan GT-R', 0.99412173),\n",
       " ('Mercedes-Benz SLS AMG GT', 0.9940822)]"
      ]
     },
     "execution_count": 59,
     "metadata": {},
     "output_type": "execute_result"
    }
   ],
   "source": [
    "Maker_Model = list(df.Maker_Model.unique()) ## only get the unique Maker_Model_Year\n",
    "## Show the most similar Mercedes-Benz SLK-Class by cosine distance \n",
    "cosine_distance (model,'Mercedes-Benz SLK-Class',Maker_Model,5) "
   ]
  },
  {
   "cell_type": "markdown",
   "metadata": {},
   "source": [
    "### T-SNE Plot"
   ]
  },
  {
   "cell_type": "markdown",
   "metadata": {},
   "source": [
    "It’s hard to visualize the word embedding directly, for they usually has more than 3 dimensions. T-SNE is an useful tool to visualize high-dimensional data by reducing dimensional space while keeping relative pairwise distance between points. It can be said that t-SNE looking for a new data representation where the neighborhood relations are preserved. In this tutorial, I used TSNE package from scikit-learn library. The following code showed how to plot the word embedding with T-SNE plot. "
   ]
  },
  {
   "cell_type": "code",
   "execution_count": 82,
   "metadata": {},
   "outputs": [],
   "source": [
    "def display_closestwords_tsnescatterplot(model, word, size):\n",
    "    \n",
    "    arr = np.empty((0,size), dtype='f')\n",
    "    word_labels = [word]\n",
    "\n",
    "    close_words = model.similar_by_word(word)\n",
    "\n",
    "    arr = np.append(arr, np.array([model[word]]), axis=0)\n",
    "    for wrd_score in close_words:\n",
    "        wrd_vector = model[wrd_score[0]]\n",
    "        word_labels.append(wrd_score[0])\n",
    "        arr = np.append(arr, np.array([wrd_vector]), axis=0)\n",
    "        \n",
    "    tsne = TSNE(n_components=2, random_state=0)\n",
    "    np.set_printoptions(suppress=True)\n",
    "    Y = tsne.fit_transform(arr)\n",
    "\n",
    "    x_coords = Y[:, 0]\n",
    "    y_coords = Y[:, 1]\n",
    "    plt.scatter(x_coords, y_coords)\n",
    "\n",
    "    for label, x, y in zip(word_labels, x_coords, y_coords):\n",
    "        plt.annotate(label, xy=(x, y), xytext=(0, 0), textcoords='offset points')\n",
    "    plt.xlim(x_coords.min()+0.00005, x_coords.max()+0.00005)\n",
    "    plt.ylim(y_coords.min()+0.00005, y_coords.max()+0.00005)\n",
    "    plt.show()"
   ]
  },
  {
   "cell_type": "code",
   "execution_count": 61,
   "metadata": {},
   "outputs": [
    {
     "data": {
      "application/javascript": [
       "/* Put everything inside the global mpl namespace */\n",
       "window.mpl = {};\n",
       "\n",
       "\n",
       "mpl.get_websocket_type = function() {\n",
       "    if (typeof(WebSocket) !== 'undefined') {\n",
       "        return WebSocket;\n",
       "    } else if (typeof(MozWebSocket) !== 'undefined') {\n",
       "        return MozWebSocket;\n",
       "    } else {\n",
       "        alert('Your browser does not have WebSocket support.' +\n",
       "              'Please try Chrome, Safari or Firefox ≥ 6. ' +\n",
       "              'Firefox 4 and 5 are also supported but you ' +\n",
       "              'have to enable WebSockets in about:config.');\n",
       "    };\n",
       "}\n",
       "\n",
       "mpl.figure = function(figure_id, websocket, ondownload, parent_element) {\n",
       "    this.id = figure_id;\n",
       "\n",
       "    this.ws = websocket;\n",
       "\n",
       "    this.supports_binary = (this.ws.binaryType != undefined);\n",
       "\n",
       "    if (!this.supports_binary) {\n",
       "        var warnings = document.getElementById(\"mpl-warnings\");\n",
       "        if (warnings) {\n",
       "            warnings.style.display = 'block';\n",
       "            warnings.textContent = (\n",
       "                \"This browser does not support binary websocket messages. \" +\n",
       "                    \"Performance may be slow.\");\n",
       "        }\n",
       "    }\n",
       "\n",
       "    this.imageObj = new Image();\n",
       "\n",
       "    this.context = undefined;\n",
       "    this.message = undefined;\n",
       "    this.canvas = undefined;\n",
       "    this.rubberband_canvas = undefined;\n",
       "    this.rubberband_context = undefined;\n",
       "    this.format_dropdown = undefined;\n",
       "\n",
       "    this.image_mode = 'full';\n",
       "\n",
       "    this.root = $('<div/>');\n",
       "    this._root_extra_style(this.root)\n",
       "    this.root.attr('style', 'display: inline-block');\n",
       "\n",
       "    $(parent_element).append(this.root);\n",
       "\n",
       "    this._init_header(this);\n",
       "    this._init_canvas(this);\n",
       "    this._init_toolbar(this);\n",
       "\n",
       "    var fig = this;\n",
       "\n",
       "    this.waiting = false;\n",
       "\n",
       "    this.ws.onopen =  function () {\n",
       "            fig.send_message(\"supports_binary\", {value: fig.supports_binary});\n",
       "            fig.send_message(\"send_image_mode\", {});\n",
       "            if (mpl.ratio != 1) {\n",
       "                fig.send_message(\"set_dpi_ratio\", {'dpi_ratio': mpl.ratio});\n",
       "            }\n",
       "            fig.send_message(\"refresh\", {});\n",
       "        }\n",
       "\n",
       "    this.imageObj.onload = function() {\n",
       "            if (fig.image_mode == 'full') {\n",
       "                // Full images could contain transparency (where diff images\n",
       "                // almost always do), so we need to clear the canvas so that\n",
       "                // there is no ghosting.\n",
       "                fig.context.clearRect(0, 0, fig.canvas.width, fig.canvas.height);\n",
       "            }\n",
       "            fig.context.drawImage(fig.imageObj, 0, 0);\n",
       "        };\n",
       "\n",
       "    this.imageObj.onunload = function() {\n",
       "        fig.ws.close();\n",
       "    }\n",
       "\n",
       "    this.ws.onmessage = this._make_on_message_function(this);\n",
       "\n",
       "    this.ondownload = ondownload;\n",
       "}\n",
       "\n",
       "mpl.figure.prototype._init_header = function() {\n",
       "    var titlebar = $(\n",
       "        '<div class=\"ui-dialog-titlebar ui-widget-header ui-corner-all ' +\n",
       "        'ui-helper-clearfix\"/>');\n",
       "    var titletext = $(\n",
       "        '<div class=\"ui-dialog-title\" style=\"width: 100%; ' +\n",
       "        'text-align: center; padding: 3px;\"/>');\n",
       "    titlebar.append(titletext)\n",
       "    this.root.append(titlebar);\n",
       "    this.header = titletext[0];\n",
       "}\n",
       "\n",
       "\n",
       "\n",
       "mpl.figure.prototype._canvas_extra_style = function(canvas_div) {\n",
       "\n",
       "}\n",
       "\n",
       "\n",
       "mpl.figure.prototype._root_extra_style = function(canvas_div) {\n",
       "\n",
       "}\n",
       "\n",
       "mpl.figure.prototype._init_canvas = function() {\n",
       "    var fig = this;\n",
       "\n",
       "    var canvas_div = $('<div/>');\n",
       "\n",
       "    canvas_div.attr('style', 'position: relative; clear: both; outline: 0');\n",
       "\n",
       "    function canvas_keyboard_event(event) {\n",
       "        return fig.key_event(event, event['data']);\n",
       "    }\n",
       "\n",
       "    canvas_div.keydown('key_press', canvas_keyboard_event);\n",
       "    canvas_div.keyup('key_release', canvas_keyboard_event);\n",
       "    this.canvas_div = canvas_div\n",
       "    this._canvas_extra_style(canvas_div)\n",
       "    this.root.append(canvas_div);\n",
       "\n",
       "    var canvas = $('<canvas/>');\n",
       "    canvas.addClass('mpl-canvas');\n",
       "    canvas.attr('style', \"left: 0; top: 0; z-index: 0; outline: 0\")\n",
       "\n",
       "    this.canvas = canvas[0];\n",
       "    this.context = canvas[0].getContext(\"2d\");\n",
       "\n",
       "    var backingStore = this.context.backingStorePixelRatio ||\n",
       "\tthis.context.webkitBackingStorePixelRatio ||\n",
       "\tthis.context.mozBackingStorePixelRatio ||\n",
       "\tthis.context.msBackingStorePixelRatio ||\n",
       "\tthis.context.oBackingStorePixelRatio ||\n",
       "\tthis.context.backingStorePixelRatio || 1;\n",
       "\n",
       "    mpl.ratio = (window.devicePixelRatio || 1) / backingStore;\n",
       "\n",
       "    var rubberband = $('<canvas/>');\n",
       "    rubberband.attr('style', \"position: absolute; left: 0; top: 0; z-index: 1;\")\n",
       "\n",
       "    var pass_mouse_events = true;\n",
       "\n",
       "    canvas_div.resizable({\n",
       "        start: function(event, ui) {\n",
       "            pass_mouse_events = false;\n",
       "        },\n",
       "        resize: function(event, ui) {\n",
       "            fig.request_resize(ui.size.width, ui.size.height);\n",
       "        },\n",
       "        stop: function(event, ui) {\n",
       "            pass_mouse_events = true;\n",
       "            fig.request_resize(ui.size.width, ui.size.height);\n",
       "        },\n",
       "    });\n",
       "\n",
       "    function mouse_event_fn(event) {\n",
       "        if (pass_mouse_events)\n",
       "            return fig.mouse_event(event, event['data']);\n",
       "    }\n",
       "\n",
       "    rubberband.mousedown('button_press', mouse_event_fn);\n",
       "    rubberband.mouseup('button_release', mouse_event_fn);\n",
       "    // Throttle sequential mouse events to 1 every 20ms.\n",
       "    rubberband.mousemove('motion_notify', mouse_event_fn);\n",
       "\n",
       "    rubberband.mouseenter('figure_enter', mouse_event_fn);\n",
       "    rubberband.mouseleave('figure_leave', mouse_event_fn);\n",
       "\n",
       "    canvas_div.on(\"wheel\", function (event) {\n",
       "        event = event.originalEvent;\n",
       "        event['data'] = 'scroll'\n",
       "        if (event.deltaY < 0) {\n",
       "            event.step = 1;\n",
       "        } else {\n",
       "            event.step = -1;\n",
       "        }\n",
       "        mouse_event_fn(event);\n",
       "    });\n",
       "\n",
       "    canvas_div.append(canvas);\n",
       "    canvas_div.append(rubberband);\n",
       "\n",
       "    this.rubberband = rubberband;\n",
       "    this.rubberband_canvas = rubberband[0];\n",
       "    this.rubberband_context = rubberband[0].getContext(\"2d\");\n",
       "    this.rubberband_context.strokeStyle = \"#000000\";\n",
       "\n",
       "    this._resize_canvas = function(width, height) {\n",
       "        // Keep the size of the canvas, canvas container, and rubber band\n",
       "        // canvas in synch.\n",
       "        canvas_div.css('width', width)\n",
       "        canvas_div.css('height', height)\n",
       "\n",
       "        canvas.attr('width', width * mpl.ratio);\n",
       "        canvas.attr('height', height * mpl.ratio);\n",
       "        canvas.attr('style', 'width: ' + width + 'px; height: ' + height + 'px;');\n",
       "\n",
       "        rubberband.attr('width', width);\n",
       "        rubberband.attr('height', height);\n",
       "    }\n",
       "\n",
       "    // Set the figure to an initial 600x600px, this will subsequently be updated\n",
       "    // upon first draw.\n",
       "    this._resize_canvas(600, 600);\n",
       "\n",
       "    // Disable right mouse context menu.\n",
       "    $(this.rubberband_canvas).bind(\"contextmenu\",function(e){\n",
       "        return false;\n",
       "    });\n",
       "\n",
       "    function set_focus () {\n",
       "        canvas.focus();\n",
       "        canvas_div.focus();\n",
       "    }\n",
       "\n",
       "    window.setTimeout(set_focus, 100);\n",
       "}\n",
       "\n",
       "mpl.figure.prototype._init_toolbar = function() {\n",
       "    var fig = this;\n",
       "\n",
       "    var nav_element = $('<div/>')\n",
       "    nav_element.attr('style', 'width: 100%');\n",
       "    this.root.append(nav_element);\n",
       "\n",
       "    // Define a callback function for later on.\n",
       "    function toolbar_event(event) {\n",
       "        return fig.toolbar_button_onclick(event['data']);\n",
       "    }\n",
       "    function toolbar_mouse_event(event) {\n",
       "        return fig.toolbar_button_onmouseover(event['data']);\n",
       "    }\n",
       "\n",
       "    for(var toolbar_ind in mpl.toolbar_items) {\n",
       "        var name = mpl.toolbar_items[toolbar_ind][0];\n",
       "        var tooltip = mpl.toolbar_items[toolbar_ind][1];\n",
       "        var image = mpl.toolbar_items[toolbar_ind][2];\n",
       "        var method_name = mpl.toolbar_items[toolbar_ind][3];\n",
       "\n",
       "        if (!name) {\n",
       "            // put a spacer in here.\n",
       "            continue;\n",
       "        }\n",
       "        var button = $('<button/>');\n",
       "        button.addClass('ui-button ui-widget ui-state-default ui-corner-all ' +\n",
       "                        'ui-button-icon-only');\n",
       "        button.attr('role', 'button');\n",
       "        button.attr('aria-disabled', 'false');\n",
       "        button.click(method_name, toolbar_event);\n",
       "        button.mouseover(tooltip, toolbar_mouse_event);\n",
       "\n",
       "        var icon_img = $('<span/>');\n",
       "        icon_img.addClass('ui-button-icon-primary ui-icon');\n",
       "        icon_img.addClass(image);\n",
       "        icon_img.addClass('ui-corner-all');\n",
       "\n",
       "        var tooltip_span = $('<span/>');\n",
       "        tooltip_span.addClass('ui-button-text');\n",
       "        tooltip_span.html(tooltip);\n",
       "\n",
       "        button.append(icon_img);\n",
       "        button.append(tooltip_span);\n",
       "\n",
       "        nav_element.append(button);\n",
       "    }\n",
       "\n",
       "    var fmt_picker_span = $('<span/>');\n",
       "\n",
       "    var fmt_picker = $('<select/>');\n",
       "    fmt_picker.addClass('mpl-toolbar-option ui-widget ui-widget-content');\n",
       "    fmt_picker_span.append(fmt_picker);\n",
       "    nav_element.append(fmt_picker_span);\n",
       "    this.format_dropdown = fmt_picker[0];\n",
       "\n",
       "    for (var ind in mpl.extensions) {\n",
       "        var fmt = mpl.extensions[ind];\n",
       "        var option = $(\n",
       "            '<option/>', {selected: fmt === mpl.default_extension}).html(fmt);\n",
       "        fmt_picker.append(option)\n",
       "    }\n",
       "\n",
       "    // Add hover states to the ui-buttons\n",
       "    $( \".ui-button\" ).hover(\n",
       "        function() { $(this).addClass(\"ui-state-hover\");},\n",
       "        function() { $(this).removeClass(\"ui-state-hover\");}\n",
       "    );\n",
       "\n",
       "    var status_bar = $('<span class=\"mpl-message\"/>');\n",
       "    nav_element.append(status_bar);\n",
       "    this.message = status_bar[0];\n",
       "}\n",
       "\n",
       "mpl.figure.prototype.request_resize = function(x_pixels, y_pixels) {\n",
       "    // Request matplotlib to resize the figure. Matplotlib will then trigger a resize in the client,\n",
       "    // which will in turn request a refresh of the image.\n",
       "    this.send_message('resize', {'width': x_pixels, 'height': y_pixels});\n",
       "}\n",
       "\n",
       "mpl.figure.prototype.send_message = function(type, properties) {\n",
       "    properties['type'] = type;\n",
       "    properties['figure_id'] = this.id;\n",
       "    this.ws.send(JSON.stringify(properties));\n",
       "}\n",
       "\n",
       "mpl.figure.prototype.send_draw_message = function() {\n",
       "    if (!this.waiting) {\n",
       "        this.waiting = true;\n",
       "        this.ws.send(JSON.stringify({type: \"draw\", figure_id: this.id}));\n",
       "    }\n",
       "}\n",
       "\n",
       "\n",
       "mpl.figure.prototype.handle_save = function(fig, msg) {\n",
       "    var format_dropdown = fig.format_dropdown;\n",
       "    var format = format_dropdown.options[format_dropdown.selectedIndex].value;\n",
       "    fig.ondownload(fig, format);\n",
       "}\n",
       "\n",
       "\n",
       "mpl.figure.prototype.handle_resize = function(fig, msg) {\n",
       "    var size = msg['size'];\n",
       "    if (size[0] != fig.canvas.width || size[1] != fig.canvas.height) {\n",
       "        fig._resize_canvas(size[0], size[1]);\n",
       "        fig.send_message(\"refresh\", {});\n",
       "    };\n",
       "}\n",
       "\n",
       "mpl.figure.prototype.handle_rubberband = function(fig, msg) {\n",
       "    var x0 = msg['x0'] / mpl.ratio;\n",
       "    var y0 = (fig.canvas.height - msg['y0']) / mpl.ratio;\n",
       "    var x1 = msg['x1'] / mpl.ratio;\n",
       "    var y1 = (fig.canvas.height - msg['y1']) / mpl.ratio;\n",
       "    x0 = Math.floor(x0) + 0.5;\n",
       "    y0 = Math.floor(y0) + 0.5;\n",
       "    x1 = Math.floor(x1) + 0.5;\n",
       "    y1 = Math.floor(y1) + 0.5;\n",
       "    var min_x = Math.min(x0, x1);\n",
       "    var min_y = Math.min(y0, y1);\n",
       "    var width = Math.abs(x1 - x0);\n",
       "    var height = Math.abs(y1 - y0);\n",
       "\n",
       "    fig.rubberband_context.clearRect(\n",
       "        0, 0, fig.canvas.width, fig.canvas.height);\n",
       "\n",
       "    fig.rubberband_context.strokeRect(min_x, min_y, width, height);\n",
       "}\n",
       "\n",
       "mpl.figure.prototype.handle_figure_label = function(fig, msg) {\n",
       "    // Updates the figure title.\n",
       "    fig.header.textContent = msg['label'];\n",
       "}\n",
       "\n",
       "mpl.figure.prototype.handle_cursor = function(fig, msg) {\n",
       "    var cursor = msg['cursor'];\n",
       "    switch(cursor)\n",
       "    {\n",
       "    case 0:\n",
       "        cursor = 'pointer';\n",
       "        break;\n",
       "    case 1:\n",
       "        cursor = 'default';\n",
       "        break;\n",
       "    case 2:\n",
       "        cursor = 'crosshair';\n",
       "        break;\n",
       "    case 3:\n",
       "        cursor = 'move';\n",
       "        break;\n",
       "    }\n",
       "    fig.rubberband_canvas.style.cursor = cursor;\n",
       "}\n",
       "\n",
       "mpl.figure.prototype.handle_message = function(fig, msg) {\n",
       "    fig.message.textContent = msg['message'];\n",
       "}\n",
       "\n",
       "mpl.figure.prototype.handle_draw = function(fig, msg) {\n",
       "    // Request the server to send over a new figure.\n",
       "    fig.send_draw_message();\n",
       "}\n",
       "\n",
       "mpl.figure.prototype.handle_image_mode = function(fig, msg) {\n",
       "    fig.image_mode = msg['mode'];\n",
       "}\n",
       "\n",
       "mpl.figure.prototype.updated_canvas_event = function() {\n",
       "    // Called whenever the canvas gets updated.\n",
       "    this.send_message(\"ack\", {});\n",
       "}\n",
       "\n",
       "// A function to construct a web socket function for onmessage handling.\n",
       "// Called in the figure constructor.\n",
       "mpl.figure.prototype._make_on_message_function = function(fig) {\n",
       "    return function socket_on_message(evt) {\n",
       "        if (evt.data instanceof Blob) {\n",
       "            /* FIXME: We get \"Resource interpreted as Image but\n",
       "             * transferred with MIME type text/plain:\" errors on\n",
       "             * Chrome.  But how to set the MIME type?  It doesn't seem\n",
       "             * to be part of the websocket stream */\n",
       "            evt.data.type = \"image/png\";\n",
       "\n",
       "            /* Free the memory for the previous frames */\n",
       "            if (fig.imageObj.src) {\n",
       "                (window.URL || window.webkitURL).revokeObjectURL(\n",
       "                    fig.imageObj.src);\n",
       "            }\n",
       "\n",
       "            fig.imageObj.src = (window.URL || window.webkitURL).createObjectURL(\n",
       "                evt.data);\n",
       "            fig.updated_canvas_event();\n",
       "            fig.waiting = false;\n",
       "            return;\n",
       "        }\n",
       "        else if (typeof evt.data === 'string' && evt.data.slice(0, 21) == \"data:image/png;base64\") {\n",
       "            fig.imageObj.src = evt.data;\n",
       "            fig.updated_canvas_event();\n",
       "            fig.waiting = false;\n",
       "            return;\n",
       "        }\n",
       "\n",
       "        var msg = JSON.parse(evt.data);\n",
       "        var msg_type = msg['type'];\n",
       "\n",
       "        // Call the  \"handle_{type}\" callback, which takes\n",
       "        // the figure and JSON message as its only arguments.\n",
       "        try {\n",
       "            var callback = fig[\"handle_\" + msg_type];\n",
       "        } catch (e) {\n",
       "            console.log(\"No handler for the '\" + msg_type + \"' message type: \", msg);\n",
       "            return;\n",
       "        }\n",
       "\n",
       "        if (callback) {\n",
       "            try {\n",
       "                // console.log(\"Handling '\" + msg_type + \"' message: \", msg);\n",
       "                callback(fig, msg);\n",
       "            } catch (e) {\n",
       "                console.log(\"Exception inside the 'handler_\" + msg_type + \"' callback:\", e, e.stack, msg);\n",
       "            }\n",
       "        }\n",
       "    };\n",
       "}\n",
       "\n",
       "// from http://stackoverflow.com/questions/1114465/getting-mouse-location-in-canvas\n",
       "mpl.findpos = function(e) {\n",
       "    //this section is from http://www.quirksmode.org/js/events_properties.html\n",
       "    var targ;\n",
       "    if (!e)\n",
       "        e = window.event;\n",
       "    if (e.target)\n",
       "        targ = e.target;\n",
       "    else if (e.srcElement)\n",
       "        targ = e.srcElement;\n",
       "    if (targ.nodeType == 3) // defeat Safari bug\n",
       "        targ = targ.parentNode;\n",
       "\n",
       "    // jQuery normalizes the pageX and pageY\n",
       "    // pageX,Y are the mouse positions relative to the document\n",
       "    // offset() returns the position of the element relative to the document\n",
       "    var x = e.pageX - $(targ).offset().left;\n",
       "    var y = e.pageY - $(targ).offset().top;\n",
       "\n",
       "    return {\"x\": x, \"y\": y};\n",
       "};\n",
       "\n",
       "/*\n",
       " * return a copy of an object with only non-object keys\n",
       " * we need this to avoid circular references\n",
       " * http://stackoverflow.com/a/24161582/3208463\n",
       " */\n",
       "function simpleKeys (original) {\n",
       "  return Object.keys(original).reduce(function (obj, key) {\n",
       "    if (typeof original[key] !== 'object')\n",
       "        obj[key] = original[key]\n",
       "    return obj;\n",
       "  }, {});\n",
       "}\n",
       "\n",
       "mpl.figure.prototype.mouse_event = function(event, name) {\n",
       "    var canvas_pos = mpl.findpos(event)\n",
       "\n",
       "    if (name === 'button_press')\n",
       "    {\n",
       "        this.canvas.focus();\n",
       "        this.canvas_div.focus();\n",
       "    }\n",
       "\n",
       "    var x = canvas_pos.x * mpl.ratio;\n",
       "    var y = canvas_pos.y * mpl.ratio;\n",
       "\n",
       "    this.send_message(name, {x: x, y: y, button: event.button,\n",
       "                             step: event.step,\n",
       "                             guiEvent: simpleKeys(event)});\n",
       "\n",
       "    /* This prevents the web browser from automatically changing to\n",
       "     * the text insertion cursor when the button is pressed.  We want\n",
       "     * to control all of the cursor setting manually through the\n",
       "     * 'cursor' event from matplotlib */\n",
       "    event.preventDefault();\n",
       "    return false;\n",
       "}\n",
       "\n",
       "mpl.figure.prototype._key_event_extra = function(event, name) {\n",
       "    // Handle any extra behaviour associated with a key event\n",
       "}\n",
       "\n",
       "mpl.figure.prototype.key_event = function(event, name) {\n",
       "\n",
       "    // Prevent repeat events\n",
       "    if (name == 'key_press')\n",
       "    {\n",
       "        if (event.which === this._key)\n",
       "            return;\n",
       "        else\n",
       "            this._key = event.which;\n",
       "    }\n",
       "    if (name == 'key_release')\n",
       "        this._key = null;\n",
       "\n",
       "    var value = '';\n",
       "    if (event.ctrlKey && event.which != 17)\n",
       "        value += \"ctrl+\";\n",
       "    if (event.altKey && event.which != 18)\n",
       "        value += \"alt+\";\n",
       "    if (event.shiftKey && event.which != 16)\n",
       "        value += \"shift+\";\n",
       "\n",
       "    value += 'k';\n",
       "    value += event.which.toString();\n",
       "\n",
       "    this._key_event_extra(event, name);\n",
       "\n",
       "    this.send_message(name, {key: value,\n",
       "                             guiEvent: simpleKeys(event)});\n",
       "    return false;\n",
       "}\n",
       "\n",
       "mpl.figure.prototype.toolbar_button_onclick = function(name) {\n",
       "    if (name == 'download') {\n",
       "        this.handle_save(this, null);\n",
       "    } else {\n",
       "        this.send_message(\"toolbar_button\", {name: name});\n",
       "    }\n",
       "};\n",
       "\n",
       "mpl.figure.prototype.toolbar_button_onmouseover = function(tooltip) {\n",
       "    this.message.textContent = tooltip;\n",
       "};\n",
       "mpl.toolbar_items = [[\"Home\", \"Reset original view\", \"fa fa-home icon-home\", \"home\"], [\"Back\", \"Back to  previous view\", \"fa fa-arrow-left icon-arrow-left\", \"back\"], [\"Forward\", \"Forward to next view\", \"fa fa-arrow-right icon-arrow-right\", \"forward\"], [\"\", \"\", \"\", \"\"], [\"Pan\", \"Pan axes with left mouse, zoom with right\", \"fa fa-arrows icon-move\", \"pan\"], [\"Zoom\", \"Zoom to rectangle\", \"fa fa-square-o icon-check-empty\", \"zoom\"], [\"\", \"\", \"\", \"\"], [\"Download\", \"Download plot\", \"fa fa-floppy-o icon-save\", \"download\"]];\n",
       "\n",
       "mpl.extensions = [\"eps\", \"jpeg\", \"pdf\", \"png\", \"ps\", \"raw\", \"svg\", \"tif\"];\n",
       "\n",
       "mpl.default_extension = \"png\";var comm_websocket_adapter = function(comm) {\n",
       "    // Create a \"websocket\"-like object which calls the given IPython comm\n",
       "    // object with the appropriate methods. Currently this is a non binary\n",
       "    // socket, so there is still some room for performance tuning.\n",
       "    var ws = {};\n",
       "\n",
       "    ws.close = function() {\n",
       "        comm.close()\n",
       "    };\n",
       "    ws.send = function(m) {\n",
       "        //console.log('sending', m);\n",
       "        comm.send(m);\n",
       "    };\n",
       "    // Register the callback with on_msg.\n",
       "    comm.on_msg(function(msg) {\n",
       "        //console.log('receiving', msg['content']['data'], msg);\n",
       "        // Pass the mpl event to the overridden (by mpl) onmessage function.\n",
       "        ws.onmessage(msg['content']['data'])\n",
       "    });\n",
       "    return ws;\n",
       "}\n",
       "\n",
       "mpl.mpl_figure_comm = function(comm, msg) {\n",
       "    // This is the function which gets called when the mpl process\n",
       "    // starts-up an IPython Comm through the \"matplotlib\" channel.\n",
       "\n",
       "    var id = msg.content.data.id;\n",
       "    // Get hold of the div created by the display call when the Comm\n",
       "    // socket was opened in Python.\n",
       "    var element = $(\"#\" + id);\n",
       "    var ws_proxy = comm_websocket_adapter(comm)\n",
       "\n",
       "    function ondownload(figure, format) {\n",
       "        window.open(figure.imageObj.src);\n",
       "    }\n",
       "\n",
       "    var fig = new mpl.figure(id, ws_proxy,\n",
       "                           ondownload,\n",
       "                           element.get(0));\n",
       "\n",
       "    // Call onopen now - mpl needs it, as it is assuming we've passed it a real\n",
       "    // web socket which is closed, not our websocket->open comm proxy.\n",
       "    ws_proxy.onopen();\n",
       "\n",
       "    fig.parent_element = element.get(0);\n",
       "    fig.cell_info = mpl.find_output_cell(\"<div id='\" + id + \"'></div>\");\n",
       "    if (!fig.cell_info) {\n",
       "        console.error(\"Failed to find cell for figure\", id, fig);\n",
       "        return;\n",
       "    }\n",
       "\n",
       "    var output_index = fig.cell_info[2]\n",
       "    var cell = fig.cell_info[0];\n",
       "\n",
       "};\n",
       "\n",
       "mpl.figure.prototype.handle_close = function(fig, msg) {\n",
       "    var width = fig.canvas.width/mpl.ratio\n",
       "    fig.root.unbind('remove')\n",
       "\n",
       "    // Update the output cell to use the data from the current canvas.\n",
       "    fig.push_to_output();\n",
       "    var dataURL = fig.canvas.toDataURL();\n",
       "    // Re-enable the keyboard manager in IPython - without this line, in FF,\n",
       "    // the notebook keyboard shortcuts fail.\n",
       "    IPython.keyboard_manager.enable()\n",
       "    $(fig.parent_element).html('<img src=\"' + dataURL + '\" width=\"' + width + '\">');\n",
       "    fig.close_ws(fig, msg);\n",
       "}\n",
       "\n",
       "mpl.figure.prototype.close_ws = function(fig, msg){\n",
       "    fig.send_message('closing', msg);\n",
       "    // fig.ws.close()\n",
       "}\n",
       "\n",
       "mpl.figure.prototype.push_to_output = function(remove_interactive) {\n",
       "    // Turn the data on the canvas into data in the output cell.\n",
       "    var width = this.canvas.width/mpl.ratio\n",
       "    var dataURL = this.canvas.toDataURL();\n",
       "    this.cell_info[1]['text/html'] = '<img src=\"' + dataURL + '\" width=\"' + width + '\">';\n",
       "}\n",
       "\n",
       "mpl.figure.prototype.updated_canvas_event = function() {\n",
       "    // Tell IPython that the notebook contents must change.\n",
       "    IPython.notebook.set_dirty(true);\n",
       "    this.send_message(\"ack\", {});\n",
       "    var fig = this;\n",
       "    // Wait a second, then push the new image to the DOM so\n",
       "    // that it is saved nicely (might be nice to debounce this).\n",
       "    setTimeout(function () { fig.push_to_output() }, 1000);\n",
       "}\n",
       "\n",
       "mpl.figure.prototype._init_toolbar = function() {\n",
       "    var fig = this;\n",
       "\n",
       "    var nav_element = $('<div/>')\n",
       "    nav_element.attr('style', 'width: 100%');\n",
       "    this.root.append(nav_element);\n",
       "\n",
       "    // Define a callback function for later on.\n",
       "    function toolbar_event(event) {\n",
       "        return fig.toolbar_button_onclick(event['data']);\n",
       "    }\n",
       "    function toolbar_mouse_event(event) {\n",
       "        return fig.toolbar_button_onmouseover(event['data']);\n",
       "    }\n",
       "\n",
       "    for(var toolbar_ind in mpl.toolbar_items){\n",
       "        var name = mpl.toolbar_items[toolbar_ind][0];\n",
       "        var tooltip = mpl.toolbar_items[toolbar_ind][1];\n",
       "        var image = mpl.toolbar_items[toolbar_ind][2];\n",
       "        var method_name = mpl.toolbar_items[toolbar_ind][3];\n",
       "\n",
       "        if (!name) { continue; };\n",
       "\n",
       "        var button = $('<button class=\"btn btn-default\" href=\"#\" title=\"' + name + '\"><i class=\"fa ' + image + ' fa-lg\"></i></button>');\n",
       "        button.click(method_name, toolbar_event);\n",
       "        button.mouseover(tooltip, toolbar_mouse_event);\n",
       "        nav_element.append(button);\n",
       "    }\n",
       "\n",
       "    // Add the status bar.\n",
       "    var status_bar = $('<span class=\"mpl-message\" style=\"text-align:right; float: right;\"/>');\n",
       "    nav_element.append(status_bar);\n",
       "    this.message = status_bar[0];\n",
       "\n",
       "    // Add the close button to the window.\n",
       "    var buttongrp = $('<div class=\"btn-group inline pull-right\"></div>');\n",
       "    var button = $('<button class=\"btn btn-mini btn-primary\" href=\"#\" title=\"Stop Interaction\"><i class=\"fa fa-power-off icon-remove icon-large\"></i></button>');\n",
       "    button.click(function (evt) { fig.handle_close(fig, {}); } );\n",
       "    button.mouseover('Stop Interaction', toolbar_mouse_event);\n",
       "    buttongrp.append(button);\n",
       "    var titlebar = this.root.find($('.ui-dialog-titlebar'));\n",
       "    titlebar.prepend(buttongrp);\n",
       "}\n",
       "\n",
       "mpl.figure.prototype._root_extra_style = function(el){\n",
       "    var fig = this\n",
       "    el.on(\"remove\", function(){\n",
       "\tfig.close_ws(fig, {});\n",
       "    });\n",
       "}\n",
       "\n",
       "mpl.figure.prototype._canvas_extra_style = function(el){\n",
       "    // this is important to make the div 'focusable\n",
       "    el.attr('tabindex', 0)\n",
       "    // reach out to IPython and tell the keyboard manager to turn it's self\n",
       "    // off when our div gets focus\n",
       "\n",
       "    // location in version 3\n",
       "    if (IPython.notebook.keyboard_manager) {\n",
       "        IPython.notebook.keyboard_manager.register_events(el);\n",
       "    }\n",
       "    else {\n",
       "        // location in version 2\n",
       "        IPython.keyboard_manager.register_events(el);\n",
       "    }\n",
       "\n",
       "}\n",
       "\n",
       "mpl.figure.prototype._key_event_extra = function(event, name) {\n",
       "    var manager = IPython.notebook.keyboard_manager;\n",
       "    if (!manager)\n",
       "        manager = IPython.keyboard_manager;\n",
       "\n",
       "    // Check for shift+enter\n",
       "    if (event.shiftKey && event.which == 13) {\n",
       "        this.canvas_div.blur();\n",
       "        event.shiftKey = false;\n",
       "        // Send a \"J\" for go to next cell\n",
       "        event.which = 74;\n",
       "        event.keyCode = 74;\n",
       "        manager.command_mode();\n",
       "        manager.handle_keydown(event);\n",
       "    }\n",
       "}\n",
       "\n",
       "mpl.figure.prototype.handle_save = function(fig, msg) {\n",
       "    fig.ondownload(fig, null);\n",
       "}\n",
       "\n",
       "\n",
       "mpl.find_output_cell = function(html_output) {\n",
       "    // Return the cell and output element which can be found *uniquely* in the notebook.\n",
       "    // Note - this is a bit hacky, but it is done because the \"notebook_saving.Notebook\"\n",
       "    // IPython event is triggered only after the cells have been serialised, which for\n",
       "    // our purposes (turning an active figure into a static one), is too late.\n",
       "    var cells = IPython.notebook.get_cells();\n",
       "    var ncells = cells.length;\n",
       "    for (var i=0; i<ncells; i++) {\n",
       "        var cell = cells[i];\n",
       "        if (cell.cell_type === 'code'){\n",
       "            for (var j=0; j<cell.output_area.outputs.length; j++) {\n",
       "                var data = cell.output_area.outputs[j];\n",
       "                if (data.data) {\n",
       "                    // IPython >= 3 moved mimebundle to data attribute of output\n",
       "                    data = data.data;\n",
       "                }\n",
       "                if (data['text/html'] == html_output) {\n",
       "                    return [cell, data, j];\n",
       "                }\n",
       "            }\n",
       "        }\n",
       "    }\n",
       "}\n",
       "\n",
       "// Register the function which deals with the matplotlib target/channel.\n",
       "// The kernel may be null if the page has been refreshed.\n",
       "if (IPython.notebook.kernel != null) {\n",
       "    IPython.notebook.kernel.comm_manager.register_target('matplotlib', mpl.mpl_figure_comm);\n",
       "}\n"
      ],
      "text/plain": [
       "<IPython.core.display.Javascript object>"
      ]
     },
     "metadata": {},
     "output_type": "display_data"
    },
    {
     "data": {
      "text/html": [
       "<img src=\"data:image/png;base64,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\" width=\"640\">"
      ],
      "text/plain": [
       "<IPython.core.display.HTML object>"
      ]
     },
     "metadata": {},
     "output_type": "display_data"
    }
   ],
   "source": [
    "display_closestwords_tsnescatterplot(model, 'Porsche 718 Cayman', 50)"
   ]
  },
  {
   "cell_type": "markdown",
   "metadata": {},
   "source": [
    "# 3) Read pre-trained models\n",
    "\n",
    "As we said, it's usually far more better to use some pre-trained embeddings instead of starting from scratches\n",
    "\n",
    "Read it more here\n",
    "\n",
    "https://radimrehurek.com/gensim/models/keyedvectors.html\n",
    "\n",
    "\n",
    "I will read GloVe's pre-trained vectors here. Gensim offers download of some other pre-trained vectors. See it here\n",
    "https://github.com/RaRe-Technologies/gensim-data\n",
    "\n",
    "\n",
    "And a more complete pre-trained vector dataset can be found here\n",
    "http://vectors.nlpl.eu/repository/\n",
    "\n",
    "You may need to manually download them to your disk and let Gensim read in.\n",
    "\n",
    "\n",
    "Another source for Pre-trainned word and phrase vectors from Google: https://code.google.com/archive/p/word2vec/"
   ]
  },
  {
   "cell_type": "code",
   "execution_count": 5,
   "metadata": {},
   "outputs": [
    {
     "name": "stdout",
     "output_type": "stream",
     "text": [
      "[==================================================] 100.0% 128.1/128.1MB downloaded\n"
     ]
    }
   ],
   "source": [
    "import gensim.downloader as api\n",
    "\n",
    "word_vectors = api.load(\"glove-wiki-gigaword-100\")  # load pre-trained word-vectors from gensim-data\n"
   ]
  },
  {
   "cell_type": "markdown",
   "metadata": {},
   "source": [
    "Then we can find similar words"
   ]
  },
  {
   "cell_type": "code",
   "execution_count": 7,
   "metadata": {},
   "outputs": [
    {
     "name": "stdout",
     "output_type": "stream",
     "text": [
      "[('girl', 0.847267210483551), ('man', 0.832349419593811), ('mother', 0.827568769454956), ('boy', 0.7720510959625244), ('she', 0.7632068395614624), ('child', 0.7601762413978577), ('wife', 0.7505022287368774), ('her', 0.7445706129074097), ('herself', 0.7426273822784424), ('daughter', 0.7264456748962402)]\n"
     ]
    }
   ],
   "source": [
    "result = word_vectors.most_similar(positive=['woman'])\n",
    "print (result)"
   ]
  },
  {
   "cell_type": "markdown",
   "metadata": {},
   "source": [
    "As you may observe, girl and man are really different things. So we can use the king/queen and man/women analogy to find what's the similar word to \"woman\", if we hope to find pairs such as (king, queen)\n"
   ]
  },
  {
   "cell_type": "code",
   "execution_count": 83,
   "metadata": {},
   "outputs": [
    {
     "name": "stdout",
     "output_type": "stream",
     "text": [
      "[('man', 0.7907768487930298), ('father', 0.722454309463501), ('son', 0.7012036442756653), ('boy', 0.6988654732704163), ('another', 0.6853840351104736), ('person', 0.6754911541938782), ('who', 0.6728038191795349), ('brother', 0.6645877957344055), ('mother', 0.6613163948059082), ('one', 0.6554157733917236)]\n"
     ]
    }
   ],
   "source": [
    "result = word_vectors.most_similar(positive=[ 'king', 'woman'], negative=['queen'])\n",
    "print (result)"
   ]
  },
  {
   "cell_type": "code",
   "execution_count": 25,
   "metadata": {},
   "outputs": [
    {
     "name": "stdout",
     "output_type": "stream",
     "text": [
      "[('queen', 0.7698541283607483), ('monarch', 0.6843380928039551), ('throne', 0.6755735874176025), ('daughter', 0.6594556570053101), ('princess', 0.6520534753799438), ('prince', 0.6517034769058228), ('elizabeth', 0.6464517712593079), ('mother', 0.6311717629432678), ('emperor', 0.6106470823287964), ('wife', 0.6098655462265015)]\n"
     ]
    }
   ],
   "source": [
    "result = word_vectors.most_similar(positive=[ 'king', 'woman'], negative=['man'])\n",
    "print (result)"
   ]
  },
  {
   "cell_type": "markdown",
   "metadata": {},
   "source": [
    "### Using GoogleNews-vectors-negative300.bin.gz  as an example"
   ]
  },
  {
   "cell_type": "code",
   "execution_count": 13,
   "metadata": {},
   "outputs": [],
   "source": [
    "!gunzip GoogleNews-vectors-negative300.bin.gz"
   ]
  },
  {
   "cell_type": "code",
   "execution_count": 34,
   "metadata": {},
   "outputs": [],
   "source": [
    "import gensim\n",
    "from gensim import models\n",
    "from gensim.models import Word2Vec\n",
    "\n",
    "# Load pretrained model (since intermediate data is not included, the model cannot be refined with additional data)\n",
    "model_google = gensim.models.KeyedVectors.load_word2vec_format('GoogleNews-vectors-negative300.bin', binary=True,limit= 100000) "
   ]
  },
  {
   "cell_type": "code",
   "execution_count": 35,
   "metadata": {},
   "outputs": [
    {
     "name": "stdout",
     "output_type": "stream",
     "text": [
      "(300,)\n",
      "[ 0.05126953 -0.02233887 -0.17285156  0.16113281 -0.08447266  0.05737305\n",
      "  0.05859375 -0.08251953 -0.01538086 -0.06347656]\n"
     ]
    }
   ],
   "source": [
    "dog = model_google['dog']\n",
    "print(dog.shape)\n",
    "print(dog[:10])"
   ]
  },
  {
   "cell_type": "code",
   "execution_count": 37,
   "metadata": {},
   "outputs": [
    {
     "name": "stdout",
     "output_type": "stream",
     "text": [
      "Михаил is an out of dictionary word\n"
     ]
    }
   ],
   "source": [
    "# Deal with an out of dictionary word: Михаил (Michail)\n",
    "if 'Михаил' in model_google:\n",
    "    print(model_google['Михаил'].shape)\n",
    "else:\n",
    "    print('{0} is an out of dictionary word'.format('Михаил'))"
   ]
  },
  {
   "cell_type": "code",
   "execution_count": 36,
   "metadata": {},
   "outputs": [
    {
     "name": "stdout",
     "output_type": "stream",
     "text": [
      "[('queen', 0.7118192911148071), ('monarch', 0.6189674139022827), ('princess', 0.5902431011199951), ('crown_prince', 0.5499460697174072), ('prince', 0.5377321243286133), ('kings', 0.5236844420433044), ('queens', 0.518113374710083), ('sultan', 0.5098593235015869), ('monarchy', 0.5087411999702454), ('royal_palace', 0.5087165832519531)]\n"
     ]
    }
   ],
   "source": [
    "# Some predefined functions that show content related information for given words\n",
    "print(model_google.most_similar(positive=['woman', 'king'], negative=['man']))"
   ]
  },
  {
   "cell_type": "code",
   "execution_count": 39,
   "metadata": {},
   "outputs": [
    {
     "data": {
      "text/plain": [
       "[('king', 0.8449392318725586),\n",
       " ('queen', 0.7300517559051514),\n",
       " ('monarch', 0.6454660892486572),\n",
       " ('princess', 0.6156251430511475),\n",
       " ('crown_prince', 0.5818676948547363),\n",
       " ('prince', 0.5777117609977722),\n",
       " ('kings', 0.5613663792610168),\n",
       " ('sultan', 0.5376776456832886),\n",
       " ('queens', 0.5289887189865112),\n",
       " ('ruler', 0.5247419476509094)]"
      ]
     },
     "execution_count": 39,
     "metadata": {},
     "output_type": "execute_result"
    }
   ],
   "source": [
    "vec = model_google['king'] - model_google['man'] + model_google['woman']\n",
    "model_google.most_similar([vec])"
   ]
  },
  {
   "cell_type": "code",
   "execution_count": 40,
   "metadata": {},
   "outputs": [
    {
     "data": {
      "text/plain": [
       "[('China', 0.8032620549201965),\n",
       " ('Taiwan', 0.5897805690765381),\n",
       " ('South_Korea', 0.5829900503158569),\n",
       " ('Japan', 0.5828443765640259),\n",
       " ('Chinese', 0.568378210067749),\n",
       " ('India', 0.5537249445915222),\n",
       " ('United_States', 0.5330391526222229),\n",
       " ('Malaysia', 0.5230637788772583),\n",
       " ('Korea', 0.5204846858978271),\n",
       " ('Indonesia', 0.510189414024353)]"
      ]
     },
     "execution_count": 40,
     "metadata": {},
     "output_type": "execute_result"
    }
   ],
   "source": [
    "vec = model_google['Germany'] - model_google['Berlin'] + model_google['China']\n",
    "model_google.most_similar([vec])"
   ]
  },
  {
   "cell_type": "code",
   "execution_count": 41,
   "metadata": {},
   "outputs": [
    {
     "data": {
      "text/plain": [
       "[('China', 0.7808266878128052),\n",
       " ('Beijing', 0.7486750483512878),\n",
       " ('Chinese', 0.6215003132820129),\n",
       " ('Taiwan', 0.6076850891113281),\n",
       " ('Guangzhou', 0.5951666235923767),\n",
       " ('South_Korea', 0.5853777527809143),\n",
       " ('Guangdong', 0.557560384273529),\n",
       " ('Tianjin', 0.5540564060211182),\n",
       " ('Hong_Kong', 0.5525559186935425),\n",
       " ('Hangzhou', 0.5507876873016357)]"
      ]
     },
     "execution_count": 41,
     "metadata": {},
     "output_type": "execute_result"
    }
   ],
   "source": [
    "vec = model_google['Germany'] - model_google['Berlin'] + model_google['Beijing']\n",
    "model_google.most_similar([vec])"
   ]
  },
  {
   "cell_type": "code",
   "execution_count": 43,
   "metadata": {},
   "outputs": [
    {
     "data": {
      "text/plain": [
       "[('Messi', 0.7960925102233887),\n",
       " ('Lionel_Messi', 0.7120644450187683),\n",
       " ('Nadal', 0.6976751089096069),\n",
       " ('Del_Potro', 0.6955868005752563),\n",
       " ('Xavi', 0.6640554666519165),\n",
       " ('Federer', 0.6603957414627075),\n",
       " ('Ronaldinho', 0.6550597548484802),\n",
       " ('Safin', 0.6450799703598022),\n",
       " ('Iniesta', 0.642850935459137),\n",
       " ('Wawrinka', 0.6388971209526062)]"
      ]
     },
     "execution_count": 43,
     "metadata": {},
     "output_type": "execute_result"
    }
   ],
   "source": [
    "vec = model_google['Messi'] - model_google['football'] + model_google['tennis']\n",
    "model_google.most_similar([vec])"
   ]
  },
  {
   "cell_type": "code",
   "execution_count": 44,
   "metadata": {},
   "outputs": [
    {
     "name": "stdout",
     "output_type": "stream",
     "text": [
      "economics\n"
     ]
    },
    {
     "name": "stderr",
     "output_type": "stream",
     "text": [
      "/Users/wenweipeng/anaconda3/lib/python3.7/site-packages/gensim/models/keyedvectors.py:877: FutureWarning: arrays to stack must be passed as a \"sequence\" type such as list or tuple. Support for non-sequence iterables such as generators is deprecated as of NumPy 1.16 and will raise an error in the future.\n",
      "  vectors = vstack(self.word_vec(word, use_norm=True) for word in used_words).astype(REAL)\n"
     ]
    }
   ],
   "source": [
    "print(model_google.doesnt_match(\"breakfast economics dinner lunch\".split()))"
   ]
  },
  {
   "cell_type": "code",
   "execution_count": 15,
   "metadata": {},
   "outputs": [
    {
     "name": "stdout",
     "output_type": "stream",
     "text": [
      "0.76640123\n"
     ]
    }
   ],
   "source": [
    "print(model.similarity('woman', 'man'))"
   ]
  },
  {
   "cell_type": "code",
   "execution_count": 19,
   "metadata": {},
   "outputs": [
    {
     "name": "stdout",
     "output_type": "stream",
     "text": [
      "0.61556727\n"
     ]
    }
   ],
   "source": [
    "print(model.similarity('HKUST', 'HKU'))"
   ]
  },
  {
   "cell_type": "code",
   "execution_count": 21,
   "metadata": {},
   "outputs": [
    {
     "name": "stdout",
     "output_type": "stream",
     "text": [
      "0.4961321\n"
     ]
    }
   ],
   "source": [
    "print(model.similarity('Economics', 'Econometrics'))"
   ]
  },
  {
   "cell_type": "code",
   "execution_count": 22,
   "metadata": {},
   "outputs": [
    {
     "name": "stdout",
     "output_type": "stream",
     "text": [
      "0.5652766\n"
     ]
    }
   ],
   "source": [
    "print(model.similarity('Economics', 'Sociology'))"
   ]
  },
  {
   "cell_type": "code",
   "execution_count": 23,
   "metadata": {},
   "outputs": [
    {
     "name": "stdout",
     "output_type": "stream",
     "text": [
      "0.254204\n"
     ]
    }
   ],
   "source": [
    "print(model.similarity('Statistics', 'Econometrics'))"
   ]
  },
  {
   "cell_type": "markdown",
   "metadata": {},
   "source": [
    "# Software \n",
    "- GloVe: https://nlp.stanford.edu/projects/glove/\n",
    "- Word2Vec: https://code.google.com/archive/p/word2vec/\n",
    "- Tensorflow Word2Vec tutorial: https://www.tensorflow.org/tutorials/text/word_embeddings\n",
    "- Interactive demo: http://bionlp-www.utu.fi/wv_demo/"
   ]
  }
 ],
 "metadata": {
  "kernelspec": {
   "display_name": "Python 3",
   "language": "python",
   "name": "python3"
  },
  "language_info": {
   "codemirror_mode": {
    "name": "ipython",
    "version": 3
   },
   "file_extension": ".py",
   "mimetype": "text/x-python",
   "name": "python",
   "nbconvert_exporter": "python",
   "pygments_lexer": "ipython3",
   "version": "3.7.2"
  }
 },
 "nbformat": 4,
 "nbformat_minor": 4
}
