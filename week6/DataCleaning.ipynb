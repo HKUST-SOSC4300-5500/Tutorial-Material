{
 "cells": [
  {
   "cell_type": "markdown",
   "metadata": {},
   "source": [
    "# 1) Checking your installation\n",
    "\n",
    "You can run the following code to check the versions of the packages on your system:\n",
    "(in IPython notebook, press `shift` and `return` together to execute the contents of a cell)"
   ]
  },
  {
   "cell_type": "code",
   "execution_count": 4,
   "metadata": {},
   "outputs": [
    {
     "name": "stdout",
     "output_type": "stream",
     "text": [
      "numpy: 1.19.1\n",
      "matplotlib: 2.2.3\n",
      "scikit-learn: 0.23.2\n",
      "pandas: 0.23.4\n",
      "re: 2.2.1\n"
     ]
    }
   ],
   "source": [
    "from __future__ import print_function\n",
    "\n",
    "import numpy as np\n",
    "print('numpy:', numpy.__version__)\n",
    "\n",
    "import matplotlib\n",
    "print('matplotlib:', matplotlib.__version__)\n",
    "\n",
    "import sklearn\n",
    "print('scikit-learn:', sklearn.__version__)\n",
    "\n",
    "import pandas as pd\n",
    "print('pandas:', pandas.__version__)\n",
    "\n",
    "import re\n",
    "print('re:', re.__version__)"
   ]
  },
  {
   "cell_type": "markdown",
   "metadata": {},
   "source": [
    "# 2) Regular Expression"
   ]
  },
  {
   "cell_type": "markdown",
   "metadata": {},
   "source": [
    "- In this tutorial, you will learn about regular expressions (RegEx), and use Python's re module to work with RegEx (with the help of examples).\n",
    "- A Regular Expression (RegEx) is a sequence of characters that defines a search pattern. For example,\n",
    "    ```\n",
    "    ^p...w$\n",
    "    ```\n",
    "- The above code defines a RegEx pattern. The pattern is: any five letter string starting with p and ending with w.\n",
    "- A pattern defined using RegEx can be used to match against a string.\n",
    "\n",
    "|Expression|String|Matched?|\n",
    "|----------|:-------------:|------:|\n",
    "| ^p...i$ | pwi | No match |\n",
    "| - | pengi | Match |\n",
    "| - | pwwwi | Match |\n",
    "| - | pwwwii | No match |\n"
   ]
  },
  {
   "cell_type": "markdown",
   "metadata": {},
   "source": [
    "- Python has a module named re to work with RegEx. Here's an example:"
   ]
  },
  {
   "cell_type": "code",
   "execution_count": 10,
   "metadata": {},
   "outputs": [
    {
     "name": "stdout",
     "output_type": "stream",
     "text": [
      "Search unsuccessful.\n"
     ]
    }
   ],
   "source": [
    "pattern = '^p...i$'\n",
    "test_string = 'peng-wenwei'\n",
    "result = re.match(pattern, test_string)\n",
    "\n",
    "if result:\n",
    "  print(\"Search successful.\")\n",
    "else:\n",
    "  print(\"Search unsuccessful.\")"
   ]
  },
  {
   "cell_type": "markdown",
   "metadata": {},
   "source": [
    "- Here, we used re.match() function to search pattern within the test_string. \n",
    "- The method returns a match object if the search is successful. If not, it returns None."
   ]
  },
  {
   "cell_type": "code",
   "execution_count": 12,
   "metadata": {},
   "outputs": [
    {
     "name": "stdout",
     "output_type": "stream",
     "text": [
      "None\n"
     ]
    }
   ],
   "source": [
    "print(result)"
   ]
  },
  {
   "cell_type": "code",
   "execution_count": 13,
   "metadata": {},
   "outputs": [
    {
     "name": "stdout",
     "output_type": "stream",
     "text": [
      "Search successful.\n"
     ]
    }
   ],
   "source": [
    "pattern = '^p...i$'\n",
    "test_string = 'pengi'\n",
    "result = re.match(pattern, test_string)\n",
    "\n",
    "if result:\n",
    "  print(\"Search successful.\")\n",
    "else:\n",
    "  print(\"Search unsuccessful.\")\t"
   ]
  },
  {
   "cell_type": "code",
   "execution_count": 15,
   "metadata": {},
   "outputs": [
    {
     "name": "stdout",
     "output_type": "stream",
     "text": [
      "<re.Match object; span=(0, 5), match='pengi'>\n"
     ]
    },
    {
     "data": {
      "text/plain": [
       "(None, <re.Match object; span=(0, 5), match='pengi'>)"
      ]
     },
     "execution_count": 15,
     "metadata": {},
     "output_type": "execute_result"
    }
   ],
   "source": [
    "print(result)"
   ]
  },
  {
   "cell_type": "code",
   "execution_count": 16,
   "metadata": {},
   "outputs": [
    {
     "data": {
      "text/plain": [
       "'pengi'"
      ]
     },
     "execution_count": 16,
     "metadata": {},
     "output_type": "execute_result"
    }
   ],
   "source": [
    "result[0]"
   ]
  },
  {
   "cell_type": "markdown",
   "metadata": {},
   "source": [
    "- There are other several functions defined in the re module to work with RegEx. \n",
    "- Before we explore that, let's learn about regular expressions themselves."
   ]
  },
  {
   "cell_type": "markdown",
   "metadata": {},
   "source": [
    "- Specify Pattern Using RegEx\n",
    "    - To specify regular expressions, metacharacters are used. \n",
    "    - In the above example, ^ and $ are metacharacters."
   ]
  },
  {
   "cell_type": "markdown",
   "metadata": {},
   "source": [
    "- **MetaCharacters**\n",
    "  \n",
    "    - Metacharacters are characters that are interpreted in a special way by a RegEx engine. \n",
    "    - Here's a list of metacharacters:\n",
    "```\n",
    "[] . ^ $ * + ? {} () \\ |\n",
    "```"
   ]
  },
  {
   "cell_type": "markdown",
   "metadata": {},
   "source": [
    "- Square brackets: [] \n",
    "\n",
    "    - Square brackets specifies a set of characters you wish to match.\n",
    "\n",
    "\n",
    "|Expression|String|\tMatched?|\n",
    "|----------|:-------------:|------:|\n",
    "|[abc]|\ta| 1 match|\n",
    " |- |ac|2 matches|\n",
    " |- |Hey Joe|\tNo match|\n",
    " |- |abc de ca|5 matches|\n",
    " \n",
    " \n",
    "- Here, [abc] will match if the string you are trying to match contains any of the a, b or c.\n",
    "\n",
    "- You can also specify a range of characters using - inside square brackets.\n",
    "\n",
    "    - [a-e] is the same as [abcde].\n",
    "    - [1-4] is the same as [1234].\n",
    "    - [0-39] is the same as [01239].\n",
    "    \n",
    "- You can complement (invert) the character set by using caret ^ symbol at the start of a square-bracket.\n",
    "\n",
    "    - [^abc] means any character except a or b or c.\n",
    "    - [^0-9] means any non-digit character."
   ]
  },
  {
   "cell_type": "markdown",
   "metadata": {},
   "source": [
    "- Period: . \n",
    "\n",
    "    - A period matches any single character (except newline '\\n').\n",
    "\n",
    "|Expression\t|String\t|Matched?|\n",
    "|----------|:-------------:|------:|\n",
    "|..|\ta|\tNo match|\n",
    "|..| ac\t|1 match|\n",
    "|.. |acd|\t1 match|\n",
    "|..|acde\t|2 matches (contains 4 characters)|"
   ]
  },
  {
   "cell_type": "markdown",
   "metadata": {},
   "source": [
    "-  Caret: ^ \n",
    "\n",
    "    - The caret symbol ^ is used to check if a string starts with a certain character.\n",
    "\n",
    "|Expression|\tString|\tMatched?|\n",
    "|----------|:-------------:|------:|\n",
    "|^a\t|a\t|1 match|\n",
    "|^a\t|abc\t|1 match|\n",
    "|^a\t|bac|\tNo match|\n",
    "|^ab |\tabc\t|1 match|\n",
    "|^ab |acb|\tNo match (starts with a but not followed by b)|"
   ]
  },
  {
   "cell_type": "markdown",
   "metadata": {},
   "source": [
    "- Dollar: \\$\n",
    "    - The dollar symbol $ is used to check if a string ends with a certain character.\n",
    "\n",
    "|Expression|\tString\t|Matched?|\n",
    "|----------|:-------------:|------:|\n",
    "|a\\$\t|a\t | 1 match|\n",
    "|a\\$\t|formula\t |1 match|\n",
    "|a\\$\t|cab\t|No match|"
   ]
  },
  {
   "cell_type": "markdown",
   "metadata": {},
   "source": [
    "- Star: \\* \n",
    "\n",
    "    - The star symbol * matches zero or more occurrences of the pattern left to it.\n",
    "\n",
    "|Expression\t|String\t|Matched?|\n",
    "|----------|:-------------:|------:|\n",
    "|ma*n|\tmn\t|1 match|\n",
    "|ma*n|man\t|1 match|\n",
    "|ma*n|maaan\t|1 match|\n",
    "|ma*n|main\t|No match (a is not followed by n)|\n",
    "|ma*n|woman\t|1 match|"
   ]
  },
  {
   "cell_type": "markdown",
   "metadata": {},
   "source": [
    "- Plus: \\+ \n",
    "\n",
    "    - The plus symbol + matches one or more occurrences of the pattern left to it.\n",
    "\n",
    "|Expression\t|String\t|Matched?|\n",
    "|----------|:-------------:|------:|\n",
    "|ma+n|\tmn\t|No match (no a character)|\n",
    "|ma+n|man\t|1 match|\n",
    "|ma+n|maaan\t|1 match|\n",
    "|ma+n|main\t|No match (a is not followed by n)|\n",
    "|ma+n|woman\t|1 match|"
   ]
  },
  {
   "cell_type": "markdown",
   "metadata": {},
   "source": [
    "- Question Mark: ? \n",
    "\n",
    "    - The question mark symbol ? matches zero or one occurrence of the pattern left to it.\n",
    "\n",
    "|Expression\t|String\t|Matched?|\n",
    "|----------|:-------------:|------:|\n",
    "|ma?n\t|mn\t|1 match|\n",
    "|ma?n|man|\t1 match|\n",
    "|ma?n|maaan|\tNo match (more than one a character)|\n",
    "|ma?n|main\t|No match (a is not followed by n)|\n",
    "|ma?n|woman\t|1 match|"
   ]
  },
  {
   "cell_type": "markdown",
   "metadata": {},
   "source": [
    "- Braces: {}\n",
    "\n",
    "    - Consider this code: {n,m}. This means at least n, and at most m repetitions of the pattern left to it.\n",
    "\n",
    "|Expression\t|String\t|Matched?|\n",
    "|----------|:-------------:|------:|\n",
    "|a{2,3}\t|abc dat\t|No match|\n",
    "|a{2,3}|abc daat\t|1 match (at daat)|\n",
    "|a{2,3}|aabc daaat\t|2 matches (at aabc and daaat)|\n",
    "|a{2,3}|aabc daaaat\t|2 matches (at aabc and daaaat)|\n",
    "\n",
    "\n",
    "    - Let's try one more example. This RegEx [0-9]{2, 4} matches at least 2 digits but not more than 4 digits\n",
    "\n",
    "|Expression\t|String\t|Matched?|\n",
    "|----------|:-------------:|------:|\n",
    "|[0-9]{2,4}\t|ab123csde\t|1 match (match at ab123csde)|\n",
    "|[0-9]{2,4}\t|12 and 345673\t|3 matches (12, 3456, 73)|\n",
    "|[0-9]{2,4}\t|1 and  2\t|No match|"
   ]
  },
  {
   "cell_type": "markdown",
   "metadata": {},
   "source": [
    "- Alternation: \\|\n",
    "   - Vertical bar \\| is used for alternation (or operator).\n",
    "\n",
    "|Expression\t|String\t|Matched?|\n",
    "|----------|:-------------:|------:|\n",
    "|a\\|b|\tcde|\tNo match|\n",
    "|a\\|b||ade\t|1 match (match at ade)|\n",
    "|a\\|b||acdbea|\t3 matches (at acdbea)|\n",
    "\n",
    "   - Here, a\\|b match any string that contains either a or b"
   ]
  },
  {
   "cell_type": "markdown",
   "metadata": {},
   "source": [
    "- Group: ()\n",
    "    - Parentheses () is used to group sub-patterns. \n",
    "    - For example, (a|b|c)xz match any string that matches either a or b or c followed by xz\n",
    "\n",
    "|Expression\t|String\t|Matched?|\n",
    "|----------|:-------------:|------:|\n",
    "|(a\\|b\\|c)|x|\tab xz|\tNo match|\n",
    "|(a\\|b\\|c)|abxz\t|1 match (match at abxz)|\n",
    "|(a\\|b\\|c)|axz cabxz|\t2 matches (at axzbc cabxz)|"
   ]
  },
  {
   "cell_type": "markdown",
   "metadata": {},
   "source": [
    "- Backslash: \\\\ \n",
    "\n",
    "    - Backlash \\\\ is used to escape various characters including all metacharacters. For example,\n",
    "   \n",
    "    ```\n",
    "    \\$a\n",
    "    ```\n",
    "    - match if a string contains \\$ followed by a. \n",
    "    - Here, \\$ is not interpreted by a RegEx engine in a special way.\n",
    "\n",
    "    - If you are unsure if a character has special meaning or not, you can put \\\\ in front of it. This makes sure the character is not treated in a special way.\n"
   ]
  },
  {
   "cell_type": "markdown",
   "metadata": {},
   "source": [
    "- Special Sequences\n",
    "\n",
    "    - Special sequences make commonly used patterns easier to write. Here's a list of special sequences:\n",
    "        - \\\\A  Matches if the specified characters are at the start of a string.\n",
    "        - \\\\b - Matches if the specified characters are at the beginning or end of a word.\n",
    "        - \\\\B - Opposite of \\b. Matches if the specified characters are not at the beginning or end of a word.\n",
    "        - \\\\d - Matches any decimal digit. Equivalent to [0-9]\n",
    "        - \\\\D - Matches any non-decimal digit. Equivalent to [^0-9]\n",
    "        - \\\\s - Matches where a string contains any whitespace character. Equivalent to [ \\\\t\\\\n\\\\r\\\\f\\\\v].\n",
    "        - \\\\S - Matches where a string contains any non-whitespace character. Equivalent to [^ \\\\t\\\\n\\\\r\\\\f\\\\v].\n",
    "        - ...\n",
    "\n",
    "- Tip: \n",
    "    - To build and test regular expressions, you can use RegEx tester tools such as regex101: https://regex101.com/. \n",
    "    - This tool not only helps you in creating regular expressions, but it also helps you learn it.\n"
   ]
  },
  {
   "cell_type": "markdown",
   "metadata": {},
   "source": [
    "## RegEx  in Python\n",
    "\n",
    "- Python has a module named re to work with regular expressions. To use it, we need to import the module.\n",
    "    ```python\n",
    "    import re\n",
    "    ```   \n",
    "- The module defines several functions and constants to work with RegEx。\n",
    "\n",
    "### re.findall()\n",
    "\n",
    "   - The re.findall() method returns a list of strings containing all matches.\n",
    "   \n",
    "    ```python\n",
    "    re.findall()\n",
    "\n",
    "    ```\n"
   ]
  },
  {
   "cell_type": "code",
   "execution_count": 43,
   "metadata": {},
   "outputs": [
    {
     "name": "stdout",
     "output_type": "stream",
     "text": [
      "['2020', '22']\n"
     ]
    }
   ],
   "source": [
    "# Program to extract numbers from a string\n",
    "import re\n",
    "\n",
    "string = 'hello 2020, I am 22 years old'\n",
    "pattern = '\\d+'\n",
    "\n",
    "result = re.findall(pattern, string) \n",
    "print(result)\n",
    "\n",
    "# Output: ['2020', '22']\n",
    "# If the pattern is not found, re.findall() returns an empty list."
   ]
  },
  {
   "cell_type": "markdown",
   "metadata": {},
   "source": [
    " ### re.split()\n",
    " - The re.split method splits the string where there is a match \n",
    " - and returns a list of strings where the splits have occurred."
   ]
  },
  {
   "cell_type": "code",
   "execution_count": 44,
   "metadata": {},
   "outputs": [
    {
     "name": "stdout",
     "output_type": "stream",
     "text": [
      "['Highet:', '; Price:', 'HKD.']\n"
     ]
    }
   ],
   "source": [
    "string = 'Highet:12; Price:89000HKD.'\n",
    "pattern = '\\d+'\n",
    "\n",
    "result = re.split(pattern, string) \n",
    "print(result)\n",
    "\n",
    "# Output: ['Highet:', '; Price:', 'HKD.']\n",
    "# If the pattern is not found, re.split() returns a list containing the original string."
   ]
  },
  {
   "cell_type": "code",
   "execution_count": 45,
   "metadata": {},
   "outputs": [
    {
     "name": "stdout",
     "output_type": "stream",
     "text": [
      "['Highet:', '; Price:89000HKD.']\n"
     ]
    }
   ],
   "source": [
    "#You can pass maxsplit argument to the re.split() method. \n",
    "# It's the maximum number of splits that will occur.\n",
    "\n",
    "string = 'Highet:12; Price:89000HKD.'\n",
    "pattern = '\\d+'\n",
    "\n",
    "# maxsplit = 1\n",
    "# split only at the first occurrence\n",
    "result = re.split(pattern, string, 1) \n",
    "print(result)"
   ]
  },
  {
   "cell_type": "markdown",
   "metadata": {},
   "source": [
    "### re.search() \n",
    "- The re.search() method takes two arguments: \n",
    "    - a pattern and a string. \n",
    "    - The method looks for the first location where the RegEx pattern produces a match with the string.\n",
    "\n",
    "- If the search is successful, re.search() returns a match object; if not, it returns None.\n",
    "\n",
    "```python\n",
    "match = re.search(pattern, str)\n",
    "```"
   ]
  },
  {
   "cell_type": "code",
   "execution_count": 46,
   "metadata": {},
   "outputs": [
    {
     "name": "stdout",
     "output_type": "stream",
     "text": [
      "pattern found inside the string\n"
     ]
    }
   ],
   "source": [
    "string = \"Python is fun\"\n",
    "\n",
    "# check if 'Python' is at the beginning\n",
    "match = re.search('\\APython', string)\n",
    "\n",
    "if match:\n",
    "  print(\"pattern found inside the string\")\n",
    "else:\n",
    "  print(\"pattern not found\")  \n",
    "\n",
    "# Output: pattern found inside the string"
   ]
  },
  {
   "cell_type": "markdown",
   "metadata": {},
   "source": [
    "### Using r prefix before RegEx\n",
    "\n",
    "- When r or R prefix is used before a regular expression, it means raw string. \n",
    "- For example, '\\\\n' is a new line whereas r'\\\\n' means two characters: a backslash \\\\ followed by n.\n",
    "- Backlash \\\\ is used to escape various characters including all metacharacters. \n",
    "- However, using r prefix makes \\\\ treat as a normal character."
   ]
  },
  {
   "cell_type": "code",
   "execution_count": 47,
   "metadata": {},
   "outputs": [
    {
     "name": "stdout",
     "output_type": "stream",
     "text": [
      "['\\n', '\\r']\n"
     ]
    }
   ],
   "source": [
    "string = '\\n and \\r are escape sequences.'\n",
    "\n",
    "result = re.findall(r'[\\n\\r]', string) \n",
    "print(result)\n",
    "# Output: ['\\n', '\\r']"
   ]
  },
  {
   "cell_type": "code",
   "execution_count": 65,
   "metadata": {},
   "outputs": [],
   "source": [
    "# cleaning html example\n",
    "\n",
    "\"\"\"\n",
    "@purpose: collect the number of patents for each query\n",
    "@author: wenwei peng\n",
    "@contact: wpengad@ust.hk\n",
    "@time: 2020-09-23\n",
    "\"\"\"\n",
    "import urllib\n",
    "import requests\n",
    "import time\n",
    "#BeautifulSoup is a package for read html doc\n",
    "#from bs4 import BeautifulSoup\n",
    "import pandas as pd\n",
    "from multiprocessing import Pool\n",
    "import re\n",
    "\n",
    "def gen_query():\n",
    "    query = []\n",
    "    for state in ['CN']: #'KR','JP','DE','TW','HK','SG']:\n",
    "        for year in range(1976,2019):\n",
    "            query.append('ISD/{0} AND ABST/(method or process) AND ACN/{1}'.format(year,state))\n",
    "    return query\n",
    "\n",
    "def get_num(query):\n",
    "    # pretend to be a Browser\n",
    "    headers = {\n",
    "        'Accept': 'text/html,application/xhtml+xml,application/xml;q=0.9,image/webp,image/apng,*/*;q=0.8,application/signed-exchange;v=b3',\n",
    "        'Accept-Encoding': 'gzip, deflate',\n",
    "        'Accept-Language': 'en-US,en;q=0.9,zh-CN;q=0.8,zh;q=0.7,zh-TW;q=0.6',\n",
    "        'Connection': 'keep-alive',\n",
    "        'Host': 'patft.uspto.gov',\n",
    "        'Referer': 'http://patft.uspto.gov/netahtml/PTO/search-adv.htm',\n",
    "        'Upgrade-Insecure-Requests': '1',\n",
    "        'User-Agent': 'Mozilla/5.0 (Macintosh; Intel Mac OS X 10_14_2) AppleWebKit/537.36 (KHTML, like Gecko) Chrome/71.0.3578.98 Safari/537.36'\n",
    "    }\n",
    "    param_list= {\n",
    "        'Sect1': 'PTO2',\n",
    "        'Sect2': 'HITOFF',\n",
    "        'u': '/netahtml/PTO/search-adv.htm',\n",
    "        'r': '0',\n",
    "        'p': '1',\n",
    "        'f': 'S',\n",
    "        'l': '50',\n",
    "        'Query': query,\n",
    "        'd': 'PTXT'\n",
    "    }\n",
    "    url = 'http://patft.uspto.gov/netacgi/nph-Parser?' + urllib.parse.urlencode(param_list)\n",
    "    \n",
    "    # sending requests \n",
    "    try:\n",
    "        web_data = requests.get(url, headers = headers)\n",
    "        if web_data.status_code != 200:\n",
    "            f = open('Badlist.txt','a',encoding='utf-8',errors='ignore') \n",
    "            f.write('query:{0}'.format(query) + \"\\n\")\n",
    "            f.close()\n",
    "            pass\n",
    "        else:\n",
    "            if 'No patents have matched your query' in web_data.text:\n",
    "                out = 0\n",
    "            elif 'Single Document' in web_data.text:\n",
    "                out = 1\n",
    "            else:\n",
    "                out = re.findall('''<strong>(.*?)</strong>''',web_data.text.lower().strip().replace(\"\\n\",\"\"))\n",
    "            \n",
    "            print(query,\"=>>>\",out)\n",
    "            f = open('./US_Patent/Output/Query_Count_By_State_Year.txt','a',encoding='utf-8',errors='ignore') \n",
    "            f.write('query:{0}; num:{1};'.format(query,out) + \"\\n\")\n",
    "            f.close()\n",
    "    except Exception as e:\n",
    "        print(e)\n",
    "        f = open('Badlist.txt','a',encoding='utf-8',errors='ignore') \n",
    "        f.write('query:{0}'.format(query) + \"\\n\")\n",
    "        f.close()\n",
    "        pass\n",
    "# query_list = gen_query()\n",
    "# for query in query_list:\n",
    "#     get_num(query)\n"
   ]
  },
  {
   "cell_type": "code",
   "execution_count": 67,
   "metadata": {},
   "outputs": [
    {
     "data": {
      "text/plain": [
       "'<HTML>\\n<HEAD>\\n<BASE TARGET=\"_top\">\\n<TITLE>Patent Database Search Results: ISD/2018 AND ABST/(method or process) AND ACN/CN in US Patent Collection</TITLE>\\n<script language=\"javascript\">\\nvar clicked = false;\\n// Shamelessly adapted from http://www.randomsnippets.com/2008/02/21/how-to-dynamically-add-form-elements-via-javascript/ 09-04-14. jh\\nfunction addInput(divName,btnName,btnLabel) {\\n   var newdiv = document.createElement(\\'div\\');\\n   newdiv.innerHTML = \"<input type=\\'hidden\\' name=\\'\" + btnName +\\n\\t\\t\\t\"\\' value=\\'\" + btnLabel + \"\\'>\";\\n   divName.appendChild(newdiv);\\n}\\n// -- 09-04-14.\\nfunction check(form1,formBtn) {\\n   // if submitted by <enter> key, add a submit button lookalike to prevent\\n   // 1003 errs from BRS. 9-4-14 jh\\n   if (!clicked)\\n      addInput (form1,formBtn.name,formBtn.value);\\n   return true;\\n}\\nfunction unesc(){\\n   srchForm.Srch1.value = unescape(srchForm.Srch1.value);\\n   if (srchForm.Srch2)\\n      srchForm.Srch2.value = unescape(srchForm.Srch2.value);\\n}\\nfunction unesc2(){\\n   srchForm2.Srch1.value = unescape(srchForm2.Srch1.value);\\n   if (srchForm2.Srch2)\\n      srchForm2.Srch2.value = unescape(srchForm2.Srch2.value);\\n}\\nfunction decod(){\\n   document.title = decodeURIComponent(document.title);\\n   refine.Query.value = decodeURIComponent(refine.Query.value);\\n   var x = document.getElementById(\"srchtext\").childNodes[0];\\n   x.data = decodeURIComponent(x.data);\\n}\\n</script>\\n</HEAD>\\n<BODY BGCOLOR=\"#FFFFFF\" onload=\"decod()\">\\n<center>\\n<IMG SRC=\"/netaicon/PTO/patfthdr.gif\" alt=\"[US Patent & Trademark Office, Patent Full Text and Image Database]\">\\n<br>\\n<a name=\"top\">\\n<table>\\n<tr><td>\\n<a href=\"/netahtml/PTO/index.html\"><img src=\"/netaicon/PTO/home.gif\" alt=\"[Home]\" border=\"0\"></a>\\n<a href=\"/netahtml/PTO/search-bool.html\"><img src=\"/netaicon/PTO/boolean.gif\" alt=\"[Boolean Search]\" border=\"0\"></a>\\n<A HREF=\"/netahtml/PTO/search-adv.htm\"><img src=\"/netaicon/PTO/manual.gif\" alt=\"[Manual Search]\" border=\"0\"></A>\\n<a href=\"/netahtml/PTO/srchnum.htm\"><img src=\"/netaicon/PTO/number.gif\" alt=\"[Number Search]\" border=\"0\"></a>\\n<A HREF=\"/netahtml/PTO/help/help.htm\"><IMG BORDER=\"0\"SRC=\"/netaicon/PTO/help.gif\" ALT=\"[Help]\"></A>\\n</td></tr>\\n</table>\\n<A HREF=/netacgi/nph-Parser?Sect1=PTO2&Sect2=HITOFF&u=%2Fnetahtml%2FPTO%2Fsearch-adv.htm&r=0&p=2&f=S&l=50&d=PTXT&S1=((2018$.PD.+AND+(method+OR+process).ABTX.)+AND+CN.ASCO.)&Page=Next&OS=ISD/2018+AND+ABST/(method+or+process)+AND+ACN/CN&RS=((ISD/2018+AND+ABST/(method+OR+process))+AND+ACN/CN)><IMG ALIGN=MIDDLE SRC=/netaicon/PTO/nextlist.gif border=0 ALT=[NEXT_LIST]></A>\\n<a href=\"#bottom\"><img src=\"/netaicon/PTO/bottom.gif\" alt=\"[Bottom]\" align=middle border=\"0\"></a>\\n<A HREF=\"https://certifiedcopycenter.uspto.gov/other/patft/view.html?backUrl1=http%3A//patft.uspto.gov/netacgi/nph-Parser?Sect1%3DPTO2%26Sect2%3DHITOFF%26u%3D%252Fnetahtml%252FPTO%252Fsearch-adv.htm%26r%3D0%26p%3D1%26f%3DS%26l%3D50%26Query%3DISD%252F2018%252BAND%252BABST%252F%2528method%252Bor%252Bprocess%2529%252BAND%252BACN%252FCN%26d%3DPTXT&backLabel1=Back%20to%20Document%3A%20ISD/2018 AND ABST/(method or process) AND ACN/CN\"><img src=\"/netaicon/PTO/cart.gif\" align=middle border=0 alt=\"[View Shopping Cart]\"></A>\\n</center>\\n<p>\\n<i>Searching US Patent Collection...</i><BR></p>\\n<B>Results of Search in US Patent Collection db for:<BR> <span id=\"srchtext\">((ISD/2018 AND ABST/(method OR process)) AND ACN/CN)</span></B>: 6993 patents.\\n<BR><I>Hits <strong>1</strong> through <strong>50\\n</strong> out of <strong>6993</strong>\\n</I><p>\\n\\n<BR>\\n<form name=\"srchForm\" action=\"/netacgi/nph-Parser\" method=\"GET\" onsubmit=\"unesc()\">\\n    <INPUT TYPE=\"HIDDEN\" NAME=\"Sect1\" VALUE=\"PTO2\">\\n    <INPUT TYPE=\"HIDDEN\" NAME=\"Sect2\" VALUE=\"HITOFF\">\\n    <INPUT TYPE=\"HIDDEN\" NAME=\"u\" VALUE=\"/netahtml/PTO/search-adv.htm\">\\n    <INPUT TYPE=\"HIDDEN\" NAME=\"r\" VALUE=\"0\">\\n    <INPUT TYPE=\"HIDDEN\" NAME=\"f\" VALUE=\"S\">\\n    <INPUT TYPE=\"HIDDEN\" NAME=\"l\" VALUE=\"50\">\\n    <INPUT TYPE=\"HIDDEN\" NAME=\"d\" VALUE=\"PTXT\">\\n    <INPUT TYPE=\"HIDDEN\" NAME=\"OS\" VALUE=\"ISD/2018 AND ABST/(method or process) AND ACN/CN\">\\n    <INPUT TYPE=\"HIDDEN\" NAME=\"RS\" VALUE=\"((ISD/2018 AND ABST/(method OR process)) AND ACN/CN)\">\\n    <INPUT TYPE=\"HIDDEN\" NAME=\"Query\" VALUE=\"ISD/2018 AND ABST/(method or process) AND ACN/CN\">\\n\\n<INPUT TYPE=\"HIDDEN\" NAME=\"TD\" VALUE=\"6993\">\\n<INPUT TYPE=\"HIDDEN\" NAME=\"Srch1\" VALUE=\"((2018$.PD. AND (method OR process).ABTX.) AND CN.ASCO.)\">\\n<INPUT TYPE=submit NAME=NextList2 VALUE=\"Next 50 Hits\"><BR><BR>\\n</FORM>\\n<form name=\"srchForm2\" action=\"/netacgi/nph-Parser\" method=\"GET\"\\n\\tonsubmit=\"unesc2();check(this,this.StartAt)\">\\n    <INPUT TYPE=\"HIDDEN\" NAME=\"Sect1\" VALUE=\"PTO2\">\\n    <INPUT TYPE=\"HIDDEN\" NAME=\"Sect2\" VALUE=\"HITOFF\">\\n    <INPUT TYPE=\"HIDDEN\" NAME=\"u\" VALUE=\"/netahtml/PTO/search-adv.htm\">\\n    <INPUT TYPE=\"HIDDEN\" NAME=\"r\" VALUE=\"0\">\\n    <INPUT TYPE=\"HIDDEN\" NAME=\"f\" VALUE=\"S\">\\n    <INPUT TYPE=\"HIDDEN\" NAME=\"l\" VALUE=\"50\">\\n    <INPUT TYPE=\"HIDDEN\" NAME=\"d\" VALUE=\"PTXT\">\\n    <INPUT TYPE=\"HIDDEN\" NAME=\"RS\" VALUE=\"((ISD/2018 AND ABST/(method OR process)) AND ACN/CN)\">\\n    <INPUT TYPE=\"HIDDEN\" NAME=\"Query\" VALUE=\"ISD/2018 AND ABST/(method or process) AND ACN/CN\">\\n<INPUT TYPE=\"HIDDEN\" NAME=\"TD\" VALUE=\"6993\">\\n<INPUT TYPE=\"HIDDEN\" NAME=\"Srch1\" VALUE=\"((2018$.PD. AND (method OR process).ABTX.) AND CN.ASCO.)\">\\n\\n<INPUT TYPE=submit name=StartAt VALUE=\"Jump To\" onclick=\"clicked=true;\">\\n&nbsp;\\n<INPUT size=6 name=\"StartNum\" title=\"Record Number\">\\t<!-- 2/21/14 508 -->\\n</form>\\n<BR><BR>\\n<form name=\"refine\" action=\"/netacgi/nph-Parser\" method=\"GET\" onsubmit=\"check(this,this.Refine)\">\\n    <INPUT TYPE=\"HIDDEN\" NAME=\"Sect1\" VALUE=\"PTO2\">\\n    <INPUT TYPE=\"HIDDEN\" NAME=\"Sect2\" VALUE=\"HITOFF\">\\n    <INPUT TYPE=\"HIDDEN\" NAME=\"u\" VALUE=\"/netahtml/PTO/search-adv.htm\">\\n    <INPUT TYPE=\"HIDDEN\" NAME=\"r\" VALUE=\"0\">\\n    <INPUT TYPE=\"HIDDEN\" NAME=\"f\" VALUE=\"S\">\\n    <INPUT TYPE=\"HIDDEN\" NAME=\"l\" VALUE=\"50\">\\n    <INPUT TYPE=\"HIDDEN\" NAME=\"d\" VALUE=\"PTXT\">\\n    <INPUT TYPE=\"HIDDEN\" NAME=\"RS\" VALUE=\"((ISD/2018 AND ABST/(method OR process)) AND ACN/CN)\">\\n<INPUT type=\"submit\" name=\"Refine\" value=\"Refine Search\" onclick=\"clicked=true;\">\\n<INPUT size=50 name=\"Query\" value=\"ISD/2018 AND ABST/(method or process) AND ACN/CN\" title=\"Query\">\\t<!-- 2/21/14 508 -->\\n</FORM>\\n<TABLE><TR><TD></TD><TH scope=\"col\">PAT. NO.</TH><TD></TD><TH scope=\"col\">Title</TH></TR>\\n<TR><TD valign=top>1</TD>\\n<TD valign=top><A  HREF=/netacgi/nph-Parser?Sect1=PTO2&Sect2=HITOFF&u=%2Fnetahtml%2FPTO%2Fsearch-adv.htm&r=1&p=1&f=G&l=50&d=PTXT&S1=((2018$.PD.+AND+(method+OR+process).ABTX.)+AND+CN.ASCO.)&OS=ISD/2018+AND+ABST/(method+or+process)+AND+ACN/CN&RS=((ISD/2018+AND+ABST/(method+OR+process))+AND+ACN/CN)>10,165,618</A></TD>\\n     <TD valign=baseline><IMG border=0 src=\"/netaicon/PTO/ftext.gif\" alt=\"Full-Text\"></TD>\\n     <TD valign=top><A  HREF=/netacgi/nph-Parser?Sect1=PTO2&Sect2=HITOFF&u=%2Fnetahtml%2FPTO%2Fsearch-adv.htm&r=1&p=1&f=G&l=50&d=PTXT&S1=((2018$.PD.+AND+(method+OR+process).ABTX.)+AND+CN.ASCO.)&OS=ISD/2018+AND+ABST/(method+or+process)+AND+ACN/CN&RS=((ISD/2018+AND+ABST/(method+OR+process))+AND+ACN/CN)>Service processing method and device\\n</A></TD>\\n<DOCS: 6993>\\n<TR><TD valign=top>2</TD>\\n<TD valign=top><A  HREF=/netacgi/nph-Parser?Sect1=PTO2&Sect2=HITOFF&u=%2Fnetahtml%2FPTO%2Fsearch-adv.htm&r=2&p=1&f=G&l=50&d=PTXT&S1=((2018$.PD.+AND+(method+OR+process).ABTX.)+AND+CN.ASCO.)&OS=ISD/2018+AND+ABST/(method+or+process)+AND+ACN/CN&RS=((ISD/2018+AND+ABST/(method+OR+process))+AND+ACN/CN)>10,165,615</A></TD>\\n     <TD valign=baseline><IMG border=0 src=\"/netaicon/PTO/ftext.gif\" alt=\"Full-Text\"></TD>\\n     <TD valign=top><A  HREF=/netacgi/nph-Parser?Sect1=PTO2&Sect2=HITOFF&u=%2Fnetahtml%2FPTO%2Fsearch-adv.htm&r=2&p=1&f=G&l=50&d=PTXT&S1=((2018$.PD.+AND+(method+OR+process).ABTX.)+AND+CN.ASCO.)&OS=ISD/2018+AND+ABST/(method+or+process)+AND+ACN/CN&RS=((ISD/2018+AND+ABST/(method+OR+process))+AND+ACN/CN)>Communication method, and terminal\\n</A></TD>\\n<DOCS: 6993>\\n<TR><TD valign=top>3</TD>\\n<TD valign=top><A  HREF=/netacgi/nph-Parser?Sect1=PTO2&Sect2=HITOFF&u=%2Fnetahtml%2FPTO%2Fsearch-adv.htm&r=3&p=1&f=G&l=50&d=PTXT&S1=((2018$.PD.+AND+(method+OR+process).ABTX.)+AND+CN.ASCO.)&OS=ISD/2018+AND+ABST/(method+or+process)+AND+ACN/CN&RS=((ISD/2018+AND+ABST/(method+OR+process))+AND+ACN/CN)>10,165,586</A></TD>\\n     <TD valign=baseline><IMG border=0 src=\"/netaicon/PTO/ftext.gif\" alt=\"Full-Text\"></TD>\\n     <TD valign=top><A  HREF=/netacgi/nph-Parser?Sect1=PTO2&Sect2=HITOFF&u=%2Fnetahtml%2FPTO%2Fsearch-adv.htm&r=3&p=1&f=G&l=50&d=PTXT&S1=((2018$.PD.+AND+(method+OR+process).ABTX.)+AND+CN.ASCO.)&OS=ISD/2018+AND+ABST/(method+or+process)+AND+ACN/CN&RS=((ISD/2018+AND+ABST/(method+OR+process))+AND+ACN/CN)>Method and device for determining remote radio unit\\n</A></TD>\\n<DOCS: 6993>\\n<TR><TD valign=top>4</TD>\\n<TD valign=top><A  HREF=/netacgi/nph-Parser?Sect1=PTO2&Sect2=HITOFF&u=%2Fnetahtml%2FPTO%2Fsearch-adv.htm&r=4&p=1&f=G&l=50&d=PTXT&S1=((2018$.PD.+AND+(method+OR+process).ABTX.)+AND+CN.ASCO.)&OS=ISD/2018+AND+ABST/(method+or+process)+AND+ACN/CN&RS=((ISD/2018+AND+ABST/(method+OR+process))+AND+ACN/CN)>10,165,583</A></TD>\\n     <TD valign=baseline><IMG border=0 src=\"/netaicon/PTO/ftext.gif\" alt=\"Full-Text\"></TD>\\n     <TD valign=top><A  HREF=/netacgi/nph-Parser?Sect1=PTO2&Sect2=HITOFF&u=%2Fnetahtml%2FPTO%2Fsearch-adv.htm&r=4&p=1&f=G&l=50&d=PTXT&S1=((2018$.PD.+AND+(method+OR+process).ABTX.)+AND+CN.ASCO.)&OS=ISD/2018+AND+ABST/(method+or+process)+AND+ACN/CN&RS=((ISD/2018+AND+ABST/(method+OR+process))+AND+ACN/CN)>Scheduling method, apparatus, and system\\n</A></TD>\\n<DOCS: 6993>\\n<TR><TD valign=top>5</TD>\\n<TD valign=top><A  HREF=/netacgi/nph-Parser?Sect1=PTO2&Sect2=HITOFF&u=%2Fnetahtml%2FPTO%2Fsearch-adv.htm&r=5&p=1&f=G&l=50&d=PTXT&S1=((2018$.PD.+AND+(method+OR+process).ABTX.)+AND+CN.ASCO.)&OS=ISD/2018+AND+ABST/(method+or+process)+AND+ACN/CN&RS=((ISD/2018+AND+ABST/(method+OR+process))+AND+ACN/CN)>10,165,581</A></TD>\\n     <TD valign=baseline><IMG border=0 src=\"/netaicon/PTO/ftext.gif\" alt=\"Full-Text\"></TD>\\n     <TD valign=top><A  HREF=/netacgi/nph-Parser?Sect1=PTO2&Sect2=HITOFF&u=%2Fnetahtml%2FPTO%2Fsearch-adv.htm&r=5&p=1&f=G&l=50&d=PTXT&S1=((2018$.PD.+AND+(method+OR+process).ABTX.)+AND+CN.ASCO.)&OS=ISD/2018+AND+ABST/(method+or+process)+AND+ACN/CN&RS=((ISD/2018+AND+ABST/(method+OR+process))+AND+ACN/CN)>Machine type communication scheduling method, base station, and user\\n     equipment\\n</A></TD>\\n<DOCS: 6993>\\n<TR><TD valign=top>6</TD>\\n<TD valign=top><A  HREF=/netacgi/nph-Parser?Sect1=PTO2&Sect2=HITOFF&u=%2Fnetahtml%2FPTO%2Fsearch-adv.htm&r=6&p=1&f=G&l=50&d=PTXT&S1=((2018$.PD.+AND+(method+OR+process).ABTX.)+AND+CN.ASCO.)&OS=ISD/2018+AND+ABST/(method+or+process)+AND+ACN/CN&RS=((ISD/2018+AND+ABST/(method+OR+process))+AND+ACN/CN)>10,165,562</A></TD>\\n     <TD valign=baseline><IMG border=0 src=\"/netaicon/PTO/ftext.gif\" alt=\"Full-Text\"></TD>\\n     <TD valign=top><A  HREF=/netacgi/nph-Parser?Sect1=PTO2&Sect2=HITOFF&u=%2Fnetahtml%2FPTO%2Fsearch-adv.htm&r=6&p=1&f=G&l=50&d=PTXT&S1=((2018$.PD.+AND+(method+OR+process).ABTX.)+AND+CN.ASCO.)&OS=ISD/2018+AND+ABST/(method+or+process)+AND+ACN/CN&RS=((ISD/2018+AND+ABST/(method+OR+process))+AND+ACN/CN)>Blind detection method and system for physical downlink control channel\\n     (PDCCH)\\n</A></TD>\\n<DOCS: 6993>\\n<TR><TD valign=top>7</TD>\\n<TD valign=top><A  HREF=/netacgi/nph-Parser?Sect1=PTO2&Sect2=HITOFF&u=%2Fnetahtml%2FPTO%2Fsearch-adv.htm&r=7&p=1&f=G&l=50&d=PTXT&S1=((2018$.PD.+AND+(method+OR+process).ABTX.)+AND+CN.ASCO.)&OS=ISD/2018+AND+ABST/(method+or+process)+AND+ACN/CN&RS=((ISD/2018+AND+ABST/(method+OR+process))+AND+ACN/CN)>10,165,557</A></TD>\\n     <TD valign=baseline><IMG border=0 src=\"/netaicon/PTO/ftext.gif\" alt=\"Full-Text\"></TD>\\n     <TD valign=top><A  HREF=/netacgi/nph-Parser?Sect1=PTO2&Sect2=HITOFF&u=%2Fnetahtml%2FPTO%2Fsearch-adv.htm&r=7&p=1&f=G&l=50&d=PTXT&S1=((2018$.PD.+AND+(method+OR+process).ABTX.)+AND+CN.ASCO.)&OS=ISD/2018+AND+ABST/(method+or+process)+AND+ACN/CN&RS=((ISD/2018+AND+ABST/(method+OR+process))+AND+ACN/CN)>Data transmission method and device, and related computer storage medium\\n</A></TD>\\n<DOCS: 6993>\\n<TR><TD valign=top>8</TD>\\n<TD valign=top><A  HREF=/netacgi/nph-Parser?Sect1=PTO2&Sect2=HITOFF&u=%2Fnetahtml%2FPTO%2Fsearch-adv.htm&r=8&p=1&f=G&l=50&d=PTXT&S1=((2018$.PD.+AND+(method+OR+process).ABTX.)+AND+CN.ASCO.)&OS=ISD/2018+AND+ABST/(method+or+process)+AND+ACN/CN&RS=((ISD/2018+AND+ABST/(method+OR+process))+AND+ACN/CN)>10,165,556</A></TD>\\n     <TD valign=baseline><IMG border=0 src=\"/netaicon/PTO/ftext.gif\" alt=\"Full-Text\"></TD>\\n     <TD valign=top><A  HREF=/netacgi/nph-Parser?Sect1=PTO2&Sect2=HITOFF&u=%2Fnetahtml%2FPTO%2Fsearch-adv.htm&r=8&p=1&f=G&l=50&d=PTXT&S1=((2018$.PD.+AND+(method+OR+process).ABTX.)+AND+CN.ASCO.)&OS=ISD/2018+AND+ABST/(method+or+process)+AND+ACN/CN&RS=((ISD/2018+AND+ABST/(method+OR+process))+AND+ACN/CN)>Data transmission method and user equipment\\n</A></TD>\\n<DOCS: 6993>\\n<TR><TD valign=top>9</TD>\\n<TD valign=top><A  HREF=/netacgi/nph-Parser?Sect1=PTO2&Sect2=HITOFF&u=%2Fnetahtml%2FPTO%2Fsearch-adv.htm&r=9&p=1&f=G&l=50&d=PTXT&S1=((2018$.PD.+AND+(method+OR+process).ABTX.)+AND+CN.ASCO.)&OS=ISD/2018+AND+ABST/(method+or+process)+AND+ACN/CN&RS=((ISD/2018+AND+ABST/(method+OR+process))+AND+ACN/CN)>10,165,525</A></TD>\\n     <TD valign=baseline><IMG border=0 src=\"/netaicon/PTO/ftext.gif\" alt=\"Full-Text\"></TD>\\n     <TD valign=top><A  HREF=/netacgi/nph-Parser?Sect1=PTO2&Sect2=HITOFF&u=%2Fnetahtml%2FPTO%2Fsearch-adv.htm&r=9&p=1&f=G&l=50&d=PTXT&S1=((2018$.PD.+AND+(method+OR+process).ABTX.)+AND+CN.ASCO.)&OS=ISD/2018+AND+ABST/(method+or+process)+AND+ACN/CN&RS=((ISD/2018+AND+ABST/(method+OR+process))+AND+ACN/CN)>Power configuration method, user equipment, and base station\\n</A></TD>\\n<DOCS: 6993>\\n<TR><TD valign=top>10</TD>\\n<TD valign=top><A  HREF=/netacgi/nph-Parser?Sect1=PTO2&Sect2=HITOFF&u=%2Fnetahtml%2FPTO%2Fsearch-adv.htm&r=10&p=1&f=G&l=50&d=PTXT&S1=((2018$.PD.+AND+(method+OR+process).ABTX.)+AND+CN.ASCO.)&OS=ISD/2018+AND+ABST/(method+or+process)+AND+ACN/CN&RS=((ISD/2018+AND+ABST/(method+OR+process))+AND+ACN/CN)>10,165,520</A></TD>\\n     <TD valign=baseline><IMG border=0 src=\"/netaicon/PTO/ftext.gif\" alt=\"Full-Text\"></TD>\\n     <TD valign=top><A  HREF=/netacgi/nph-Parser?Sect1=PTO2&Sect2=HITOFF&u=%2Fnetahtml%2FPTO%2Fsearch-adv.htm&r=10&p=1&f=G&l=50&d=PTXT&S1=((2018$.PD.+AND+(method+OR+process).ABTX.)+AND+CN.ASCO.)&OS=ISD/2018+AND+ABST/(method+or+process)+AND+ACN/CN&RS=((ISD/2018+AND+ABST/(method+OR+process))+AND+ACN/CN)>Mobile communication terminal and signal transmission method of mobile\\n     communication terminal\\n</A></TD>\\n<DOCS: 6993>\\n<TR><TD valign=top>11</TD>\\n<TD valign=top><A  HREF=/netacgi/nph-Parser?Sect1=PTO2&Sect2=HITOFF&u=%2Fnetahtml%2FPTO%2Fsearch-adv.htm&r=11&p=1&f=G&l=50&d=PTXT&S1=((2018$.PD.+AND+(method+OR+process).ABTX.)+AND+CN.ASCO.)&OS=ISD/2018+AND+ABST/(method+or+process)+AND+ACN/CN&RS=((ISD/2018+AND+ABST/(method+OR+process))+AND+ACN/CN)>10,165,517</A></TD>\\n     <TD valign=baseline><IMG border=0 src=\"/netaicon/PTO/ftext.gif\" alt=\"Full-Text\"></TD>\\n     <TD valign=top><A  HREF=/netacgi/nph-Parser?Sect1=PTO2&Sect2=HITOFF&u=%2Fnetahtml%2FPTO%2Fsearch-adv.htm&r=11&p=1&f=G&l=50&d=PTXT&S1=((2018$.PD.+AND+(method+OR+process).ABTX.)+AND+CN.ASCO.)&OS=ISD/2018+AND+ABST/(method+or+process)+AND+ACN/CN&RS=((ISD/2018+AND+ABST/(method+OR+process))+AND+ACN/CN)>Power allocation method and communications device\\n</A></TD>\\n<DOCS: 6993>\\n<TR><TD valign=top>12</TD>\\n<TD valign=top><A  HREF=/netacgi/nph-Parser?Sect1=PTO2&Sect2=HITOFF&u=%2Fnetahtml%2FPTO%2Fsearch-adv.htm&r=12&p=1&f=G&l=50&d=PTXT&S1=((2018$.PD.+AND+(method+OR+process).ABTX.)+AND+CN.ASCO.)&OS=ISD/2018+AND+ABST/(method+or+process)+AND+ACN/CN&RS=((ISD/2018+AND+ABST/(method+OR+process))+AND+ACN/CN)>10,165,514</A></TD>\\n     <TD valign=baseline><IMG border=0 src=\"/netaicon/PTO/ftext.gif\" alt=\"Full-Text\"></TD>\\n     <TD valign=top><A  HREF=/netacgi/nph-Parser?Sect1=PTO2&Sect2=HITOFF&u=%2Fnetahtml%2FPTO%2Fsearch-adv.htm&r=12&p=1&f=G&l=50&d=PTXT&S1=((2018$.PD.+AND+(method+OR+process).ABTX.)+AND+CN.ASCO.)&OS=ISD/2018+AND+ABST/(method+or+process)+AND+ACN/CN&RS=((ISD/2018+AND+ABST/(method+OR+process))+AND+ACN/CN)>Systems and methods for user equipment power management via third party\\n     entity\\n</A></TD>\\n<DOCS: 6993>\\n<TR><TD valign=top>13</TD>\\n<TD valign=top><A  HREF=/netacgi/nph-Parser?Sect1=PTO2&Sect2=HITOFF&u=%2Fnetahtml%2FPTO%2Fsearch-adv.htm&r=13&p=1&f=G&l=50&d=PTXT&S1=((2018$.PD.+AND+(method+OR+process).ABTX.)+AND+CN.ASCO.)&OS=ISD/2018+AND+ABST/(method+or+process)+AND+ACN/CN&RS=((ISD/2018+AND+ABST/(method+OR+process))+AND+ACN/CN)>10,165,509</A></TD>\\n     <TD valign=baseline><IMG border=0 src=\"/netaicon/PTO/ftext.gif\" alt=\"Full-Text\"></TD>\\n     <TD valign=top><A  HREF=/netacgi/nph-Parser?Sect1=PTO2&Sect2=HITOFF&u=%2Fnetahtml%2FPTO%2Fsearch-adv.htm&r=13&p=1&f=G&l=50&d=PTXT&S1=((2018$.PD.+AND+(method+OR+process).ABTX.)+AND+CN.ASCO.)&OS=ISD/2018+AND+ABST/(method+or+process)+AND+ACN/CN&RS=((ISD/2018+AND+ABST/(method+OR+process))+AND+ACN/CN)>Network server and network access system\\n</A></TD>\\n<DOCS: 6993>\\n<TR><TD valign=top>14</TD>\\n<TD valign=top><A  HREF=/netacgi/nph-Parser?Sect1=PTO2&Sect2=HITOFF&u=%2Fnetahtml%2FPTO%2Fsearch-adv.htm&r=14&p=1&f=G&l=50&d=PTXT&S1=((2018$.PD.+AND+(method+OR+process).ABTX.)+AND+CN.ASCO.)&OS=ISD/2018+AND+ABST/(method+or+process)+AND+ACN/CN&RS=((ISD/2018+AND+ABST/(method+OR+process))+AND+ACN/CN)>10,165,508</A></TD>\\n     <TD valign=baseline><IMG border=0 src=\"/netaicon/PTO/ftext.gif\" alt=\"Full-Text\"></TD>\\n     <TD valign=top><A  HREF=/netacgi/nph-Parser?Sect1=PTO2&Sect2=HITOFF&u=%2Fnetahtml%2FPTO%2Fsearch-adv.htm&r=14&p=1&f=G&l=50&d=PTXT&S1=((2018$.PD.+AND+(method+OR+process).ABTX.)+AND+CN.ASCO.)&OS=ISD/2018+AND+ABST/(method+or+process)+AND+ACN/CN&RS=((ISD/2018+AND+ABST/(method+OR+process))+AND+ACN/CN)>Network access method, mobile communication terminal, network server, and\\n     network access system\\n</A></TD>\\n<DOCS: 6993>\\n<TR><TD valign=top>15</TD>\\n<TD valign=top><A  HREF=/netacgi/nph-Parser?Sect1=PTO2&Sect2=HITOFF&u=%2Fnetahtml%2FPTO%2Fsearch-adv.htm&r=15&p=1&f=G&l=50&d=PTXT&S1=((2018$.PD.+AND+(method+OR+process).ABTX.)+AND+CN.ASCO.)&OS=ISD/2018+AND+ABST/(method+or+process)+AND+ACN/CN&RS=((ISD/2018+AND+ABST/(method+OR+process))+AND+ACN/CN)>10,165,507</A></TD>\\n     <TD valign=baseline><IMG border=0 src=\"/netaicon/PTO/ftext.gif\" alt=\"Full-Text\"></TD>\\n     <TD valign=top><A  HREF=/netacgi/nph-Parser?Sect1=PTO2&Sect2=HITOFF&u=%2Fnetahtml%2FPTO%2Fsearch-adv.htm&r=15&p=1&f=G&l=50&d=PTXT&S1=((2018$.PD.+AND+(method+OR+process).ABTX.)+AND+CN.ASCO.)&OS=ISD/2018+AND+ABST/(method+or+process)+AND+ACN/CN&RS=((ISD/2018+AND+ABST/(method+OR+process))+AND+ACN/CN)>Network access method and apparatus applied to mobile application\\n</A></TD>\\n<DOCS: 6993>\\n<TR><TD valign=top>16</TD>\\n<TD valign=top><A  HREF=/netacgi/nph-Parser?Sect1=PTO2&Sect2=HITOFF&u=%2Fnetahtml%2FPTO%2Fsearch-adv.htm&r=16&p=1&f=G&l=50&d=PTXT&S1=((2018$.PD.+AND+(method+OR+process).ABTX.)+AND+CN.ASCO.)&OS=ISD/2018+AND+ABST/(method+or+process)+AND+ACN/CN&RS=((ISD/2018+AND+ABST/(method+OR+process))+AND+ACN/CN)>10,165,506</A></TD>\\n     <TD valign=baseline><IMG border=0 src=\"/netaicon/PTO/ftext.gif\" alt=\"Full-Text\"></TD>\\n     <TD valign=top><A  HREF=/netacgi/nph-Parser?Sect1=PTO2&Sect2=HITOFF&u=%2Fnetahtml%2FPTO%2Fsearch-adv.htm&r=16&p=1&f=G&l=50&d=PTXT&S1=((2018$.PD.+AND+(method+OR+process).ABTX.)+AND+CN.ASCO.)&OS=ISD/2018+AND+ABST/(method+or+process)+AND+ACN/CN&RS=((ISD/2018+AND+ABST/(method+OR+process))+AND+ACN/CN)>Method for searching for network and terminal\\n</A></TD>\\n<DOCS: 6993>\\n<TR><TD valign=top>17</TD>\\n<TD valign=top><A  HREF=/netacgi/nph-Parser?Sect1=PTO2&Sect2=HITOFF&u=%2Fnetahtml%2FPTO%2Fsearch-adv.htm&r=17&p=1&f=G&l=50&d=PTXT&S1=((2018$.PD.+AND+(method+OR+process).ABTX.)+AND+CN.ASCO.)&OS=ISD/2018+AND+ABST/(method+or+process)+AND+ACN/CN&RS=((ISD/2018+AND+ABST/(method+OR+process))+AND+ACN/CN)>10,165,500</A></TD>\\n     <TD valign=baseline><IMG border=0 src=\"/netaicon/PTO/ftext.gif\" alt=\"Full-Text\"></TD>\\n     <TD valign=top><A  HREF=/netacgi/nph-Parser?Sect1=PTO2&Sect2=HITOFF&u=%2Fnetahtml%2FPTO%2Fsearch-adv.htm&r=17&p=1&f=G&l=50&d=PTXT&S1=((2018$.PD.+AND+(method+OR+process).ABTX.)+AND+CN.ASCO.)&OS=ISD/2018+AND+ABST/(method+or+process)+AND+ACN/CN&RS=((ISD/2018+AND+ABST/(method+OR+process))+AND+ACN/CN)>Network search method, network search device and terminal\\n</A></TD>\\n<DOCS: 6993>\\n<TR><TD valign=top>18</TD>\\n<TD valign=top><A  HREF=/netacgi/nph-Parser?Sect1=PTO2&Sect2=HITOFF&u=%2Fnetahtml%2FPTO%2Fsearch-adv.htm&r=18&p=1&f=G&l=50&d=PTXT&S1=((2018$.PD.+AND+(method+OR+process).ABTX.)+AND+CN.ASCO.)&OS=ISD/2018+AND+ABST/(method+or+process)+AND+ACN/CN&RS=((ISD/2018+AND+ABST/(method+OR+process))+AND+ACN/CN)>10,165,486</A></TD>\\n     <TD valign=baseline><IMG border=0 src=\"/netaicon/PTO/ftext.gif\" alt=\"Full-Text\"></TD>\\n     <TD valign=top><A  HREF=/netacgi/nph-Parser?Sect1=PTO2&Sect2=HITOFF&u=%2Fnetahtml%2FPTO%2Fsearch-adv.htm&r=18&p=1&f=G&l=50&d=PTXT&S1=((2018$.PD.+AND+(method+OR+process).ABTX.)+AND+CN.ASCO.)&OS=ISD/2018+AND+ABST/(method+or+process)+AND+ACN/CN&RS=((ISD/2018+AND+ABST/(method+OR+process))+AND+ACN/CN)>Multiple-communications-standard transmission method and apparatus\\n</A></TD>\\n<DOCS: 6993>\\n<TR><TD valign=top>19</TD>\\n<TD valign=top><A  HREF=/netacgi/nph-Parser?Sect1=PTO2&Sect2=HITOFF&u=%2Fnetahtml%2FPTO%2Fsearch-adv.htm&r=19&p=1&f=G&l=50&d=PTXT&S1=((2018$.PD.+AND+(method+OR+process).ABTX.)+AND+CN.ASCO.)&OS=ISD/2018+AND+ABST/(method+or+process)+AND+ACN/CN&RS=((ISD/2018+AND+ABST/(method+OR+process))+AND+ACN/CN)>10,165,446</A></TD>\\n     <TD valign=baseline><IMG border=0 src=\"/netaicon/PTO/ftext.gif\" alt=\"Full-Text\"></TD>\\n     <TD valign=top><A  HREF=/netacgi/nph-Parser?Sect1=PTO2&Sect2=HITOFF&u=%2Fnetahtml%2FPTO%2Fsearch-adv.htm&r=19&p=1&f=G&l=50&d=PTXT&S1=((2018$.PD.+AND+(method+OR+process).ABTX.)+AND+CN.ASCO.)&OS=ISD/2018+AND+ABST/(method+or+process)+AND+ACN/CN&RS=((ISD/2018+AND+ABST/(method+OR+process))+AND+ACN/CN)>Methods and systems for enabling communication with a receiver device in a\\n     network\\n</A></TD>\\n<DOCS: 6993>\\n<TR><TD valign=top>20</TD>\\n<TD valign=top><A  HREF=/netacgi/nph-Parser?Sect1=PTO2&Sect2=HITOFF&u=%2Fnetahtml%2FPTO%2Fsearch-adv.htm&r=20&p=1&f=G&l=50&d=PTXT&S1=((2018$.PD.+AND+(method+OR+process).ABTX.)+AND+CN.ASCO.)&OS=ISD/2018+AND+ABST/(method+or+process)+AND+ACN/CN&RS=((ISD/2018+AND+ABST/(method+OR+process))+AND+ACN/CN)>10,165,420</A></TD>\\n     <TD valign=baseline><IMG border=0 src=\"/netaicon/PTO/ftext.gif\" alt=\"Full-Text\"></TD>\\n     <TD valign=top><A  HREF=/netacgi/nph-Parser?Sect1=PTO2&Sect2=HITOFF&u=%2Fnetahtml%2FPTO%2Fsearch-adv.htm&r=20&p=1&f=G&l=50&d=PTXT&S1=((2018$.PD.+AND+(method+OR+process).ABTX.)+AND+CN.ASCO.)&OS=ISD/2018+AND+ABST/(method+or+process)+AND+ACN/CN&RS=((ISD/2018+AND+ABST/(method+OR+process))+AND+ACN/CN)>Communications method and apparatus based on social application\\n</A></TD>\\n<DOCS: 6993>\\n<TR><TD valign=top>21</TD>\\n<TD valign=top><A  HREF=/netacgi/nph-Parser?Sect1=PTO2&Sect2=HITOFF&u=%2Fnetahtml%2FPTO%2Fsearch-adv.htm&r=21&p=1&f=G&l=50&d=PTXT&S1=((2018$.PD.+AND+(method+OR+process).ABTX.)+AND+CN.ASCO.)&OS=ISD/2018+AND+ABST/(method+or+process)+AND+ACN/CN&RS=((ISD/2018+AND+ABST/(method+OR+process))+AND+ACN/CN)>10,165,419</A></TD>\\n     <TD valign=baseline><IMG border=0 src=\"/netaicon/PTO/ftext.gif\" alt=\"Full-Text\"></TD>\\n     <TD valign=top><A  HREF=/netacgi/nph-Parser?Sect1=PTO2&Sect2=HITOFF&u=%2Fnetahtml%2FPTO%2Fsearch-adv.htm&r=21&p=1&f=G&l=50&d=PTXT&S1=((2018$.PD.+AND+(method+OR+process).ABTX.)+AND+CN.ASCO.)&OS=ISD/2018+AND+ABST/(method+or+process)+AND+ACN/CN&RS=((ISD/2018+AND+ABST/(method+OR+process))+AND+ACN/CN)>Short message processing method and apparatus, and electronic device\\n</A></TD>\\n<DOCS: 6993>\\n<TR><TD valign=top>22</TD>\\n<TD valign=top><A  HREF=/netacgi/nph-Parser?Sect1=PTO2&Sect2=HITOFF&u=%2Fnetahtml%2FPTO%2Fsearch-adv.htm&r=22&p=1&f=G&l=50&d=PTXT&S1=((2018$.PD.+AND+(method+OR+process).ABTX.)+AND+CN.ASCO.)&OS=ISD/2018+AND+ABST/(method+or+process)+AND+ACN/CN&RS=((ISD/2018+AND+ABST/(method+OR+process))+AND+ACN/CN)>10,165,404</A></TD>\\n     <TD valign=baseline><IMG border=0 src=\"/netaicon/PTO/ftext.gif\" alt=\"Full-Text\"></TD>\\n     <TD valign=top><A  HREF=/netacgi/nph-Parser?Sect1=PTO2&Sect2=HITOFF&u=%2Fnetahtml%2FPTO%2Fsearch-adv.htm&r=22&p=1&f=G&l=50&d=PTXT&S1=((2018$.PD.+AND+(method+OR+process).ABTX.)+AND+CN.ASCO.)&OS=ISD/2018+AND+ABST/(method+or+process)+AND+ACN/CN&RS=((ISD/2018+AND+ABST/(method+OR+process))+AND+ACN/CN)>Method for triggering operation and portable electronic device\\n</A></TD>\\n<DOCS: 6993>\\n<TR><TD valign=top>23</TD>\\n<TD valign=top><A  HREF=/netacgi/nph-Parser?Sect1=PTO2&Sect2=HITOFF&u=%2Fnetahtml%2FPTO%2Fsearch-adv.htm&r=23&p=1&f=G&l=50&d=PTXT&S1=((2018$.PD.+AND+(method+OR+process).ABTX.)+AND+CN.ASCO.)&OS=ISD/2018+AND+ABST/(method+or+process)+AND+ACN/CN&RS=((ISD/2018+AND+ABST/(method+OR+process))+AND+ACN/CN)>10,165,327</A></TD>\\n     <TD valign=baseline><IMG border=0 src=\"/netaicon/PTO/ftext.gif\" alt=\"Full-Text\"></TD>\\n     <TD valign=top><A  HREF=/netacgi/nph-Parser?Sect1=PTO2&Sect2=HITOFF&u=%2Fnetahtml%2FPTO%2Fsearch-adv.htm&r=23&p=1&f=G&l=50&d=PTXT&S1=((2018$.PD.+AND+(method+OR+process).ABTX.)+AND+CN.ASCO.)&OS=ISD/2018+AND+ABST/(method+or+process)+AND+ACN/CN&RS=((ISD/2018+AND+ABST/(method+OR+process))+AND+ACN/CN)>Video studio creating method and service device\\n</A></TD>\\n<DOCS: 6993>\\n<TR><TD valign=top>24</TD>\\n<TD valign=top><A  HREF=/netacgi/nph-Parser?Sect1=PTO2&Sect2=HITOFF&u=%2Fnetahtml%2FPTO%2Fsearch-adv.htm&r=24&p=1&f=G&l=50&d=PTXT&S1=((2018$.PD.+AND+(method+OR+process).ABTX.)+AND+CN.ASCO.)&OS=ISD/2018+AND+ABST/(method+or+process)+AND+ACN/CN&RS=((ISD/2018+AND+ABST/(method+OR+process))+AND+ACN/CN)>10,165,319</A></TD>\\n     <TD valign=baseline><IMG border=0 src=\"/netaicon/PTO/ftext.gif\" alt=\"Full-Text\"></TD>\\n     <TD valign=top><A  HREF=/netacgi/nph-Parser?Sect1=PTO2&Sect2=HITOFF&u=%2Fnetahtml%2FPTO%2Fsearch-adv.htm&r=24&p=1&f=G&l=50&d=PTXT&S1=((2018$.PD.+AND+(method+OR+process).ABTX.)+AND+CN.ASCO.)&OS=ISD/2018+AND+ABST/(method+or+process)+AND+ACN/CN&RS=((ISD/2018+AND+ABST/(method+OR+process))+AND+ACN/CN)>Access method, apparatus, and access system\\n</A></TD>\\n<DOCS: 6993>\\n<TR><TD valign=top>25</TD>\\n<TD valign=top><A  HREF=/netacgi/nph-Parser?Sect1=PTO2&Sect2=HITOFF&u=%2Fnetahtml%2FPTO%2Fsearch-adv.htm&r=25&p=1&f=G&l=50&d=PTXT&S1=((2018$.PD.+AND+(method+OR+process).ABTX.)+AND+CN.ASCO.)&OS=ISD/2018+AND+ABST/(method+or+process)+AND+ACN/CN&RS=((ISD/2018+AND+ABST/(method+OR+process))+AND+ACN/CN)>10,165,309</A></TD>\\n     <TD valign=baseline><IMG border=0 src=\"/netaicon/PTO/ftext.gif\" alt=\"Full-Text\"></TD>\\n     <TD valign=top><A  HREF=/netacgi/nph-Parser?Sect1=PTO2&Sect2=HITOFF&u=%2Fnetahtml%2FPTO%2Fsearch-adv.htm&r=25&p=1&f=G&l=50&d=PTXT&S1=((2018$.PD.+AND+(method+OR+process).ABTX.)+AND+CN.ASCO.)&OS=ISD/2018+AND+ABST/(method+or+process)+AND+ACN/CN&RS=((ISD/2018+AND+ABST/(method+OR+process))+AND+ACN/CN)>Method and apparatus for live broadcast of streaming media\\n</A></TD>\\n<DOCS: 6993>\\n<TR><TD valign=top>26</TD>\\n<TD valign=top><A  HREF=/netacgi/nph-Parser?Sect1=PTO2&Sect2=HITOFF&u=%2Fnetahtml%2FPTO%2Fsearch-adv.htm&r=26&p=1&f=G&l=50&d=PTXT&S1=((2018$.PD.+AND+(method+OR+process).ABTX.)+AND+CN.ASCO.)&OS=ISD/2018+AND+ABST/(method+or+process)+AND+ACN/CN&RS=((ISD/2018+AND+ABST/(method+OR+process))+AND+ACN/CN)>10,165,305</A></TD>\\n     <TD valign=baseline><IMG border=0 src=\"/netaicon/PTO/ftext.gif\" alt=\"Full-Text\"></TD>\\n     <TD valign=top><A  HREF=/netacgi/nph-Parser?Sect1=PTO2&Sect2=HITOFF&u=%2Fnetahtml%2FPTO%2Fsearch-adv.htm&r=26&p=1&f=G&l=50&d=PTXT&S1=((2018$.PD.+AND+(method+OR+process).ABTX.)+AND+CN.ASCO.)&OS=ISD/2018+AND+ABST/(method+or+process)+AND+ACN/CN&RS=((ISD/2018+AND+ABST/(method+OR+process))+AND+ACN/CN)>Encoding and decoding transform coefficient sub-blocks in same\\n     predetermine order\\n</A></TD>\\n<DOCS: 6993>\\n<TR><TD valign=top>27</TD>\\n<TD valign=top><A  HREF=/netacgi/nph-Parser?Sect1=PTO2&Sect2=HITOFF&u=%2Fnetahtml%2FPTO%2Fsearch-adv.htm&r=27&p=1&f=G&l=50&d=PTXT&S1=((2018$.PD.+AND+(method+OR+process).ABTX.)+AND+CN.ASCO.)&OS=ISD/2018+AND+ABST/(method+or+process)+AND+ACN/CN&RS=((ISD/2018+AND+ABST/(method+OR+process))+AND+ACN/CN)>10,165,240</A></TD>\\n     <TD valign=baseline><IMG border=0 src=\"/netaicon/PTO/ftext.gif\" alt=\"Full-Text\"></TD>\\n     <TD valign=top><A  HREF=/netacgi/nph-Parser?Sect1=PTO2&Sect2=HITOFF&u=%2Fnetahtml%2FPTO%2Fsearch-adv.htm&r=27&p=1&f=G&l=50&d=PTXT&S1=((2018$.PD.+AND+(method+OR+process).ABTX.)+AND+CN.ASCO.)&OS=ISD/2018+AND+ABST/(method+or+process)+AND+ACN/CN&RS=((ISD/2018+AND+ABST/(method+OR+process))+AND+ACN/CN)>Apparatus and method for controlling laser projector to operate\\n</A></TD>\\n<DOCS: 6993>\\n<TR><TD valign=top>28</TD>\\n<TD valign=top><A  HREF=/netacgi/nph-Parser?Sect1=PTO2&Sect2=HITOFF&u=%2Fnetahtml%2FPTO%2Fsearch-adv.htm&r=28&p=1&f=G&l=50&d=PTXT&S1=((2018$.PD.+AND+(method+OR+process).ABTX.)+AND+CN.ASCO.)&OS=ISD/2018+AND+ABST/(method+or+process)+AND+ACN/CN&RS=((ISD/2018+AND+ABST/(method+OR+process))+AND+ACN/CN)>10,165,235</A></TD>\\n     <TD valign=baseline><IMG border=0 src=\"/netaicon/PTO/ftext.gif\" alt=\"Full-Text\"></TD>\\n     <TD valign=top><A  HREF=/netacgi/nph-Parser?Sect1=PTO2&Sect2=HITOFF&u=%2Fnetahtml%2FPTO%2Fsearch-adv.htm&r=28&p=1&f=G&l=50&d=PTXT&S1=((2018$.PD.+AND+(method+OR+process).ABTX.)+AND+CN.ASCO.)&OS=ISD/2018+AND+ABST/(method+or+process)+AND+ACN/CN&RS=((ISD/2018+AND+ABST/(method+OR+process))+AND+ACN/CN)>Digital micromirror device control apparatus and projection display system\\n</A></TD>\\n<DOCS: 6993>\\n<TR><TD valign=top>29</TD>\\n<TD valign=top><A  HREF=/netacgi/nph-Parser?Sect1=PTO2&Sect2=HITOFF&u=%2Fnetahtml%2FPTO%2Fsearch-adv.htm&r=29&p=1&f=G&l=50&d=PTXT&S1=((2018$.PD.+AND+(method+OR+process).ABTX.)+AND+CN.ASCO.)&OS=ISD/2018+AND+ABST/(method+or+process)+AND+ACN/CN&RS=((ISD/2018+AND+ABST/(method+OR+process))+AND+ACN/CN)>10,165,233</A></TD>\\n     <TD valign=baseline><IMG border=0 src=\"/netaicon/PTO/ftext.gif\" alt=\"Full-Text\"></TD>\\n     <TD valign=top><A  HREF=/netacgi/nph-Parser?Sect1=PTO2&Sect2=HITOFF&u=%2Fnetahtml%2FPTO%2Fsearch-adv.htm&r=29&p=1&f=G&l=50&d=PTXT&S1=((2018$.PD.+AND+(method+OR+process).ABTX.)+AND+CN.ASCO.)&OS=ISD/2018+AND+ABST/(method+or+process)+AND+ACN/CN&RS=((ISD/2018+AND+ABST/(method+OR+process))+AND+ACN/CN)>Information processing method, electronic device and computer storage\\n     medium\\n</A></TD>\\n<DOCS: 6993>\\n<TR><TD valign=top>30</TD>\\n<TD valign=top><A  HREF=/netacgi/nph-Parser?Sect1=PTO2&Sect2=HITOFF&u=%2Fnetahtml%2FPTO%2Fsearch-adv.htm&r=30&p=1&f=G&l=50&d=PTXT&S1=((2018$.PD.+AND+(method+OR+process).ABTX.)+AND+CN.ASCO.)&OS=ISD/2018+AND+ABST/(method+or+process)+AND+ACN/CN&RS=((ISD/2018+AND+ABST/(method+OR+process))+AND+ACN/CN)>10,165,217</A></TD>\\n     <TD valign=baseline><IMG border=0 src=\"/netaicon/PTO/ftext.gif\" alt=\"Full-Text\"></TD>\\n     <TD valign=top><A  HREF=/netacgi/nph-Parser?Sect1=PTO2&Sect2=HITOFF&u=%2Fnetahtml%2FPTO%2Fsearch-adv.htm&r=30&p=1&f=G&l=50&d=PTXT&S1=((2018$.PD.+AND+(method+OR+process).ABTX.)+AND+CN.ASCO.)&OS=ISD/2018+AND+ABST/(method+or+process)+AND+ACN/CN&RS=((ISD/2018+AND+ABST/(method+OR+process))+AND+ACN/CN)>Backlight source control method of display device, display device and\\n     storage medium\\n</A></TD>\\n<DOCS: 6993>\\n<TR><TD valign=top>31</TD>\\n<TD valign=top><A  HREF=/netacgi/nph-Parser?Sect1=PTO2&Sect2=HITOFF&u=%2Fnetahtml%2FPTO%2Fsearch-adv.htm&r=31&p=1&f=G&l=50&d=PTXT&S1=((2018$.PD.+AND+(method+OR+process).ABTX.)+AND+CN.ASCO.)&OS=ISD/2018+AND+ABST/(method+or+process)+AND+ACN/CN&RS=((ISD/2018+AND+ABST/(method+OR+process))+AND+ACN/CN)>10,165,205</A></TD>\\n     <TD valign=baseline><IMG border=0 src=\"/netaicon/PTO/ftext.gif\" alt=\"Full-Text\"></TD>\\n     <TD valign=top><A  HREF=/netacgi/nph-Parser?Sect1=PTO2&Sect2=HITOFF&u=%2Fnetahtml%2FPTO%2Fsearch-adv.htm&r=31&p=1&f=G&l=50&d=PTXT&S1=((2018$.PD.+AND+(method+OR+process).ABTX.)+AND+CN.ASCO.)&OS=ISD/2018+AND+ABST/(method+or+process)+AND+ACN/CN&RS=((ISD/2018+AND+ABST/(method+OR+process))+AND+ACN/CN)>Image processing method and apparatus, and electronic device</A></TD>\\n<DOCS: 6993>\\n<TR><TD valign=top>32</TD>\\n<TD valign=top><A  HREF=/netacgi/nph-Parser?Sect1=PTO2&Sect2=HITOFF&u=%2Fnetahtml%2FPTO%2Fsearch-adv.htm&r=32&p=1&f=G&l=50&d=PTXT&S1=((2018$.PD.+AND+(method+OR+process).ABTX.)+AND+CN.ASCO.)&OS=ISD/2018+AND+ABST/(method+or+process)+AND+ACN/CN&RS=((ISD/2018+AND+ABST/(method+OR+process))+AND+ACN/CN)>10,165,201</A></TD>\\n     <TD valign=baseline><IMG border=0 src=\"/netaicon/PTO/ftext.gif\" alt=\"Full-Text\"></TD>\\n     <TD valign=top><A  HREF=/netacgi/nph-Parser?Sect1=PTO2&Sect2=HITOFF&u=%2Fnetahtml%2FPTO%2Fsearch-adv.htm&r=32&p=1&f=G&l=50&d=PTXT&S1=((2018$.PD.+AND+(method+OR+process).ABTX.)+AND+CN.ASCO.)&OS=ISD/2018+AND+ABST/(method+or+process)+AND+ACN/CN&RS=((ISD/2018+AND+ABST/(method+OR+process))+AND+ACN/CN)>Image processing method and apparatus and terminal device to obtain a\\n     group photo including photographer\\n</A></TD>\\n<DOCS: 6993>\\n<TR><TD valign=top>33</TD>\\n<TD valign=top><A  HREF=/netacgi/nph-Parser?Sect1=PTO2&Sect2=HITOFF&u=%2Fnetahtml%2FPTO%2Fsearch-adv.htm&r=33&p=1&f=G&l=50&d=PTXT&S1=((2018$.PD.+AND+(method+OR+process).ABTX.)+AND+CN.ASCO.)&OS=ISD/2018+AND+ABST/(method+or+process)+AND+ACN/CN&RS=((ISD/2018+AND+ABST/(method+OR+process))+AND+ACN/CN)>10,165,097</A></TD>\\n     <TD valign=baseline><IMG border=0 src=\"/netaicon/PTO/ftext.gif\" alt=\"Full-Text\"></TD>\\n     <TD valign=top><A  HREF=/netacgi/nph-Parser?Sect1=PTO2&Sect2=HITOFF&u=%2Fnetahtml%2FPTO%2Fsearch-adv.htm&r=33&p=1&f=G&l=50&d=PTXT&S1=((2018$.PD.+AND+(method+OR+process).ABTX.)+AND+CN.ASCO.)&OS=ISD/2018+AND+ABST/(method+or+process)+AND+ACN/CN&RS=((ISD/2018+AND+ABST/(method+OR+process))+AND+ACN/CN)>Call processing method and device\\n</A></TD>\\n<DOCS: 6993>\\n<TR><TD valign=top>34</TD>\\n<TD valign=top><A  HREF=/netacgi/nph-Parser?Sect1=PTO2&Sect2=HITOFF&u=%2Fnetahtml%2FPTO%2Fsearch-adv.htm&r=34&p=1&f=G&l=50&d=PTXT&S1=((2018$.PD.+AND+(method+OR+process).ABTX.)+AND+CN.ASCO.)&OS=ISD/2018+AND+ABST/(method+or+process)+AND+ACN/CN&RS=((ISD/2018+AND+ABST/(method+OR+process))+AND+ACN/CN)>10,165,062</A></TD>\\n     <TD valign=baseline><IMG border=0 src=\"/netaicon/PTO/ftext.gif\" alt=\"Full-Text\"></TD>\\n     <TD valign=top><A  HREF=/netacgi/nph-Parser?Sect1=PTO2&Sect2=HITOFF&u=%2Fnetahtml%2FPTO%2Fsearch-adv.htm&r=34&p=1&f=G&l=50&d=PTXT&S1=((2018$.PD.+AND+(method+OR+process).ABTX.)+AND+CN.ASCO.)&OS=ISD/2018+AND+ABST/(method+or+process)+AND+ACN/CN&RS=((ISD/2018+AND+ABST/(method+OR+process))+AND+ACN/CN)>Method and apparatus for implementing action instruction based on barcode\\n</A></TD>\\n<DOCS: 6993>\\n<TR><TD valign=top>35</TD>\\n<TD valign=top><A  HREF=/netacgi/nph-Parser?Sect1=PTO2&Sect2=HITOFF&u=%2Fnetahtml%2FPTO%2Fsearch-adv.htm&r=35&p=1&f=G&l=50&d=PTXT&S1=((2018$.PD.+AND+(method+OR+process).ABTX.)+AND+CN.ASCO.)&OS=ISD/2018+AND+ABST/(method+or+process)+AND+ACN/CN&RS=((ISD/2018+AND+ABST/(method+OR+process))+AND+ACN/CN)>10,165,048</A></TD>\\n     <TD valign=baseline><IMG border=0 src=\"/netaicon/PTO/ftext.gif\" alt=\"Full-Text\"></TD>\\n     <TD valign=top><A  HREF=/netacgi/nph-Parser?Sect1=PTO2&Sect2=HITOFF&u=%2Fnetahtml%2FPTO%2Fsearch-adv.htm&r=35&p=1&f=G&l=50&d=PTXT&S1=((2018$.PD.+AND+(method+OR+process).ABTX.)+AND+CN.ASCO.)&OS=ISD/2018+AND+ABST/(method+or+process)+AND+ACN/CN&RS=((ISD/2018+AND+ABST/(method+OR+process))+AND+ACN/CN)>Data copy storage method, terminal apparatus, and server apparatus\\n</A></TD>\\n<DOCS: 6993>\\n<TR><TD valign=top>36</TD>\\n<TD valign=top><A  HREF=/netacgi/nph-Parser?Sect1=PTO2&Sect2=HITOFF&u=%2Fnetahtml%2FPTO%2Fsearch-adv.htm&r=36&p=1&f=G&l=50&d=PTXT&S1=((2018$.PD.+AND+(method+OR+process).ABTX.)+AND+CN.ASCO.)&OS=ISD/2018+AND+ABST/(method+or+process)+AND+ACN/CN&RS=((ISD/2018+AND+ABST/(method+OR+process))+AND+ACN/CN)>10,165,017</A></TD>\\n     <TD valign=baseline><IMG border=0 src=\"/netaicon/PTO/ftext.gif\" alt=\"Full-Text\"></TD>\\n     <TD valign=top><A  HREF=/netacgi/nph-Parser?Sect1=PTO2&Sect2=HITOFF&u=%2Fnetahtml%2FPTO%2Fsearch-adv.htm&r=36&p=1&f=G&l=50&d=PTXT&S1=((2018$.PD.+AND+(method+OR+process).ABTX.)+AND+CN.ASCO.)&OS=ISD/2018+AND+ABST/(method+or+process)+AND+ACN/CN&RS=((ISD/2018+AND+ABST/(method+OR+process))+AND+ACN/CN)>Method and device for controlling peripheral devices via a social\\n     networking platform\\n</A></TD>\\n<DOCS: 6993>\\n<TR><TD valign=top>37</TD>\\n<TD valign=top><A  HREF=/netacgi/nph-Parser?Sect1=PTO2&Sect2=HITOFF&u=%2Fnetahtml%2FPTO%2Fsearch-adv.htm&r=37&p=1&f=G&l=50&d=PTXT&S1=((2018$.PD.+AND+(method+OR+process).ABTX.)+AND+CN.ASCO.)&OS=ISD/2018+AND+ABST/(method+or+process)+AND+ACN/CN&RS=((ISD/2018+AND+ABST/(method+OR+process))+AND+ACN/CN)>10,164,960</A></TD>\\n     <TD valign=baseline><IMG border=0 src=\"/netaicon/PTO/ftext.gif\" alt=\"Full-Text\"></TD>\\n     <TD valign=top><A  HREF=/netacgi/nph-Parser?Sect1=PTO2&Sect2=HITOFF&u=%2Fnetahtml%2FPTO%2Fsearch-adv.htm&r=37&p=1&f=G&l=50&d=PTXT&S1=((2018$.PD.+AND+(method+OR+process).ABTX.)+AND+CN.ASCO.)&OS=ISD/2018+AND+ABST/(method+or+process)+AND+ACN/CN&RS=((ISD/2018+AND+ABST/(method+OR+process))+AND+ACN/CN)>Method for customizing controlled smartphone\\n</A></TD>\\n<DOCS: 6993>\\n<TR><TD valign=top>38</TD>\\n<TD valign=top><A  HREF=/netacgi/nph-Parser?Sect1=PTO2&Sect2=HITOFF&u=%2Fnetahtml%2FPTO%2Fsearch-adv.htm&r=38&p=1&f=G&l=50&d=PTXT&S1=((2018$.PD.+AND+(method+OR+process).ABTX.)+AND+CN.ASCO.)&OS=ISD/2018+AND+ABST/(method+or+process)+AND+ACN/CN&RS=((ISD/2018+AND+ABST/(method+OR+process))+AND+ACN/CN)>10,164,949</A></TD>\\n     <TD valign=baseline><IMG border=0 src=\"/netaicon/PTO/ftext.gif\" alt=\"Full-Text\"></TD>\\n     <TD valign=top><A  HREF=/netacgi/nph-Parser?Sect1=PTO2&Sect2=HITOFF&u=%2Fnetahtml%2FPTO%2Fsearch-adv.htm&r=38&p=1&f=G&l=50&d=PTXT&S1=((2018$.PD.+AND+(method+OR+process).ABTX.)+AND+CN.ASCO.)&OS=ISD/2018+AND+ABST/(method+or+process)+AND+ACN/CN&RS=((ISD/2018+AND+ABST/(method+OR+process))+AND+ACN/CN)>Method and system for encrypted communications\\n</A></TD>\\n<DOCS: 6993>\\n<TR><TD valign=top>39</TD>\\n<TD valign=top><A  HREF=/netacgi/nph-Parser?Sect1=PTO2&Sect2=HITOFF&u=%2Fnetahtml%2FPTO%2Fsearch-adv.htm&r=39&p=1&f=G&l=50&d=PTXT&S1=((2018$.PD.+AND+(method+OR+process).ABTX.)+AND+CN.ASCO.)&OS=ISD/2018+AND+ABST/(method+or+process)+AND+ACN/CN&RS=((ISD/2018+AND+ABST/(method+OR+process))+AND+ACN/CN)>10,164,942</A></TD>\\n     <TD valign=baseline><IMG border=0 src=\"/netaicon/PTO/ftext.gif\" alt=\"Full-Text\"></TD>\\n     <TD valign=top><A  HREF=/netacgi/nph-Parser?Sect1=PTO2&Sect2=HITOFF&u=%2Fnetahtml%2FPTO%2Fsearch-adv.htm&r=39&p=1&f=G&l=50&d=PTXT&S1=((2018$.PD.+AND+(method+OR+process).ABTX.)+AND+CN.ASCO.)&OS=ISD/2018+AND+ABST/(method+or+process)+AND+ACN/CN&RS=((ISD/2018+AND+ABST/(method+OR+process))+AND+ACN/CN)>Apparatus, method, and client for synchronizing jump context</A></TD>\\n<DOCS: 6993>\\n<TR><TD valign=top>40</TD>\\n<TD valign=top><A  HREF=/netacgi/nph-Parser?Sect1=PTO2&Sect2=HITOFF&u=%2Fnetahtml%2FPTO%2Fsearch-adv.htm&r=40&p=1&f=G&l=50&d=PTXT&S1=((2018$.PD.+AND+(method+OR+process).ABTX.)+AND+CN.ASCO.)&OS=ISD/2018+AND+ABST/(method+or+process)+AND+ACN/CN&RS=((ISD/2018+AND+ABST/(method+OR+process))+AND+ACN/CN)>10,164,937</A></TD>\\n     <TD valign=baseline><IMG border=0 src=\"/netaicon/PTO/ftext.gif\" alt=\"Full-Text\"></TD>\\n     <TD valign=top><A  HREF=/netacgi/nph-Parser?Sect1=PTO2&Sect2=HITOFF&u=%2Fnetahtml%2FPTO%2Fsearch-adv.htm&r=40&p=1&f=G&l=50&d=PTXT&S1=((2018$.PD.+AND+(method+OR+process).ABTX.)+AND+CN.ASCO.)&OS=ISD/2018+AND+ABST/(method+or+process)+AND+ACN/CN&RS=((ISD/2018+AND+ABST/(method+OR+process))+AND+ACN/CN)>Method for processing raw IP packet and device thereof\\n</A></TD>\\n<DOCS: 6993>\\n<TR><TD valign=top>41</TD>\\n<TD valign=top><A  HREF=/netacgi/nph-Parser?Sect1=PTO2&Sect2=HITOFF&u=%2Fnetahtml%2FPTO%2Fsearch-adv.htm&r=41&p=1&f=G&l=50&d=PTXT&S1=((2018$.PD.+AND+(method+OR+process).ABTX.)+AND+CN.ASCO.)&OS=ISD/2018+AND+ABST/(method+or+process)+AND+ACN/CN&RS=((ISD/2018+AND+ABST/(method+OR+process))+AND+ACN/CN)>10,164,930</A></TD>\\n     <TD valign=baseline><IMG border=0 src=\"/netaicon/PTO/ftext.gif\" alt=\"Full-Text\"></TD>\\n     <TD valign=top><A  HREF=/netacgi/nph-Parser?Sect1=PTO2&Sect2=HITOFF&u=%2Fnetahtml%2FPTO%2Fsearch-adv.htm&r=41&p=1&f=G&l=50&d=PTXT&S1=((2018$.PD.+AND+(method+OR+process).ABTX.)+AND+CN.ASCO.)&OS=ISD/2018+AND+ABST/(method+or+process)+AND+ACN/CN&RS=((ISD/2018+AND+ABST/(method+OR+process))+AND+ACN/CN)>Method and device for controlling peripheral devices via a social\\n     networking platform\\n</A></TD>\\n<DOCS: 6993>\\n<TR><TD valign=top>42</TD>\\n<TD valign=top><A  HREF=/netacgi/nph-Parser?Sect1=PTO2&Sect2=HITOFF&u=%2Fnetahtml%2FPTO%2Fsearch-adv.htm&r=42&p=1&f=G&l=50&d=PTXT&S1=((2018$.PD.+AND+(method+OR+process).ABTX.)+AND+CN.ASCO.)&OS=ISD/2018+AND+ABST/(method+or+process)+AND+ACN/CN&RS=((ISD/2018+AND+ABST/(method+OR+process))+AND+ACN/CN)>10,164,903</A></TD>\\n     <TD valign=baseline><IMG border=0 src=\"/netaicon/PTO/ftext.gif\" alt=\"Full-Text\"></TD>\\n     <TD valign=top><A  HREF=/netacgi/nph-Parser?Sect1=PTO2&Sect2=HITOFF&u=%2Fnetahtml%2FPTO%2Fsearch-adv.htm&r=42&p=1&f=G&l=50&d=PTXT&S1=((2018$.PD.+AND+(method+OR+process).ABTX.)+AND+CN.ASCO.)&OS=ISD/2018+AND+ABST/(method+or+process)+AND+ACN/CN&RS=((ISD/2018+AND+ABST/(method+OR+process))+AND+ACN/CN)>Method for controlling access of application to network, and device\\n</A></TD>\\n<DOCS: 6993>\\n<TR><TD valign=top>43</TD>\\n<TD valign=top><A  HREF=/netacgi/nph-Parser?Sect1=PTO2&Sect2=HITOFF&u=%2Fnetahtml%2FPTO%2Fsearch-adv.htm&r=43&p=1&f=G&l=50&d=PTXT&S1=((2018$.PD.+AND+(method+OR+process).ABTX.)+AND+CN.ASCO.)&OS=ISD/2018+AND+ABST/(method+or+process)+AND+ACN/CN&RS=((ISD/2018+AND+ABST/(method+OR+process))+AND+ACN/CN)>10,164,884</A></TD>\\n     <TD valign=baseline><IMG border=0 src=\"/netaicon/PTO/ftext.gif\" alt=\"Full-Text\"></TD>\\n     <TD valign=top><A  HREF=/netacgi/nph-Parser?Sect1=PTO2&Sect2=HITOFF&u=%2Fnetahtml%2FPTO%2Fsearch-adv.htm&r=43&p=1&f=G&l=50&d=PTXT&S1=((2018$.PD.+AND+(method+OR+process).ABTX.)+AND+CN.ASCO.)&OS=ISD/2018+AND+ABST/(method+or+process)+AND+ACN/CN&RS=((ISD/2018+AND+ABST/(method+OR+process))+AND+ACN/CN)>Search apparatus, search configuration method, and search method\\n</A></TD>\\n<DOCS: 6993>\\n<TR><TD valign=top>44</TD>\\n<TD valign=top><A  HREF=/netacgi/nph-Parser?Sect1=PTO2&Sect2=HITOFF&u=%2Fnetahtml%2FPTO%2Fsearch-adv.htm&r=44&p=1&f=G&l=50&d=PTXT&S1=((2018$.PD.+AND+(method+OR+process).ABTX.)+AND+CN.ASCO.)&OS=ISD/2018+AND+ABST/(method+or+process)+AND+ACN/CN&RS=((ISD/2018+AND+ABST/(method+OR+process))+AND+ACN/CN)>10,164,823</A></TD>\\n     <TD valign=baseline><IMG border=0 src=\"/netaicon/PTO/ftext.gif\" alt=\"Full-Text\"></TD>\\n     <TD valign=top><A  HREF=/netacgi/nph-Parser?Sect1=PTO2&Sect2=HITOFF&u=%2Fnetahtml%2FPTO%2Fsearch-adv.htm&r=44&p=1&f=G&l=50&d=PTXT&S1=((2018$.PD.+AND+(method+OR+process).ABTX.)+AND+CN.ASCO.)&OS=ISD/2018+AND+ABST/(method+or+process)+AND+ACN/CN&RS=((ISD/2018+AND+ABST/(method+OR+process))+AND+ACN/CN)>Protection method and system for multi-domain network, and node\\n</A></TD>\\n<DOCS: 6993>\\n<TR><TD valign=top>45</TD>\\n<TD valign=top><A  HREF=/netacgi/nph-Parser?Sect1=PTO2&Sect2=HITOFF&u=%2Fnetahtml%2FPTO%2Fsearch-adv.htm&r=45&p=1&f=G&l=50&d=PTXT&S1=((2018$.PD.+AND+(method+OR+process).ABTX.)+AND+CN.ASCO.)&OS=ISD/2018+AND+ABST/(method+or+process)+AND+ACN/CN&RS=((ISD/2018+AND+ABST/(method+OR+process))+AND+ACN/CN)>10,164,797</A></TD>\\n     <TD valign=baseline><IMG border=0 src=\"/netaicon/PTO/ftext.gif\" alt=\"Full-Text\"></TD>\\n     <TD valign=top><A  HREF=/netacgi/nph-Parser?Sect1=PTO2&Sect2=HITOFF&u=%2Fnetahtml%2FPTO%2Fsearch-adv.htm&r=45&p=1&f=G&l=50&d=PTXT&S1=((2018$.PD.+AND+(method+OR+process).ABTX.)+AND+CN.ASCO.)&OS=ISD/2018+AND+ABST/(method+or+process)+AND+ACN/CN&RS=((ISD/2018+AND+ABST/(method+OR+process))+AND+ACN/CN)>Data transmission method and station\\n</A></TD>\\n<DOCS: 6993>\\n<TR><TD valign=top>46</TD>\\n<TD valign=top><A  HREF=/netacgi/nph-Parser?Sect1=PTO2&Sect2=HITOFF&u=%2Fnetahtml%2FPTO%2Fsearch-adv.htm&r=46&p=1&f=G&l=50&d=PTXT&S1=((2018$.PD.+AND+(method+OR+process).ABTX.)+AND+CN.ASCO.)&OS=ISD/2018+AND+ABST/(method+or+process)+AND+ACN/CN&RS=((ISD/2018+AND+ABST/(method+OR+process))+AND+ACN/CN)>10,164,790</A></TD>\\n     <TD valign=baseline><IMG border=0 src=\"/netaicon/PTO/ftext.gif\" alt=\"Full-Text\"></TD>\\n     <TD valign=top><A  HREF=/netacgi/nph-Parser?Sect1=PTO2&Sect2=HITOFF&u=%2Fnetahtml%2FPTO%2Fsearch-adv.htm&r=46&p=1&f=G&l=50&d=PTXT&S1=((2018$.PD.+AND+(method+OR+process).ABTX.)+AND+CN.ASCO.)&OS=ISD/2018+AND+ABST/(method+or+process)+AND+ACN/CN&RS=((ISD/2018+AND+ABST/(method+OR+process))+AND+ACN/CN)>Method for implementing an industry internet field broadband bus\\n</A></TD>\\n<DOCS: 6993>\\n<TR><TD valign=top>47</TD>\\n<TD valign=top><A  HREF=/netacgi/nph-Parser?Sect1=PTO2&Sect2=HITOFF&u=%2Fnetahtml%2FPTO%2Fsearch-adv.htm&r=47&p=1&f=G&l=50&d=PTXT&S1=((2018$.PD.+AND+(method+OR+process).ABTX.)+AND+CN.ASCO.)&OS=ISD/2018+AND+ABST/(method+or+process)+AND+ACN/CN&RS=((ISD/2018+AND+ABST/(method+OR+process))+AND+ACN/CN)>10,164,785</A></TD>\\n     <TD valign=baseline><IMG border=0 src=\"/netaicon/PTO/ftext.gif\" alt=\"Full-Text\"></TD>\\n     <TD valign=top><A  HREF=/netacgi/nph-Parser?Sect1=PTO2&Sect2=HITOFF&u=%2Fnetahtml%2FPTO%2Fsearch-adv.htm&r=47&p=1&f=G&l=50&d=PTXT&S1=((2018$.PD.+AND+(method+OR+process).ABTX.)+AND+CN.ASCO.)&OS=ISD/2018+AND+ABST/(method+or+process)+AND+ACN/CN&RS=((ISD/2018+AND+ABST/(method+OR+process))+AND+ACN/CN)>Method for implementing a real-time industrial internet field broadband\\n     bus\\n</A></TD>\\n<DOCS: 6993>\\n<TR><TD valign=top>48</TD>\\n<TD valign=top><A  HREF=/netacgi/nph-Parser?Sect1=PTO2&Sect2=HITOFF&u=%2Fnetahtml%2FPTO%2Fsearch-adv.htm&r=48&p=1&f=G&l=50&d=PTXT&S1=((2018$.PD.+AND+(method+OR+process).ABTX.)+AND+CN.ASCO.)&OS=ISD/2018+AND+ABST/(method+or+process)+AND+ACN/CN&RS=((ISD/2018+AND+ABST/(method+OR+process))+AND+ACN/CN)>10,164,771</A></TD>\\n     <TD valign=baseline><IMG border=0 src=\"/netaicon/PTO/ftext.gif\" alt=\"Full-Text\"></TD>\\n     <TD valign=top><A  HREF=/netacgi/nph-Parser?Sect1=PTO2&Sect2=HITOFF&u=%2Fnetahtml%2FPTO%2Fsearch-adv.htm&r=48&p=1&f=G&l=50&d=PTXT&S1=((2018$.PD.+AND+(method+OR+process).ABTX.)+AND+CN.ASCO.)&OS=ISD/2018+AND+ABST/(method+or+process)+AND+ACN/CN&RS=((ISD/2018+AND+ABST/(method+OR+process))+AND+ACN/CN)>Encryption method and encryption device\\n</A></TD>\\n<DOCS: 6993>\\n<TR><TD valign=top>49</TD>\\n<TD valign=top><A  HREF=/netacgi/nph-Parser?Sect1=PTO2&Sect2=HITOFF&u=%2Fnetahtml%2FPTO%2Fsearch-adv.htm&r=49&p=1&f=G&l=50&d=PTXT&S1=((2018$.PD.+AND+(method+OR+process).ABTX.)+AND+CN.ASCO.)&OS=ISD/2018+AND+ABST/(method+or+process)+AND+ACN/CN&RS=((ISD/2018+AND+ABST/(method+OR+process))+AND+ACN/CN)>10,164,763</A></TD>\\n     <TD valign=baseline><IMG border=0 src=\"/netaicon/PTO/ftext.gif\" alt=\"Full-Text\"></TD>\\n     <TD valign=top><A  HREF=/netacgi/nph-Parser?Sect1=PTO2&Sect2=HITOFF&u=%2Fnetahtml%2FPTO%2Fsearch-adv.htm&r=49&p=1&f=G&l=50&d=PTXT&S1=((2018$.PD.+AND+(method+OR+process).ABTX.)+AND+CN.ASCO.)&OS=ISD/2018+AND+ABST/(method+or+process)+AND+ACN/CN&RS=((ISD/2018+AND+ABST/(method+OR+process))+AND+ACN/CN)>Transmitter, receiving device, and frequency offset correction method\\n</A></TD>\\n<DOCS: 6993>\\n<TR><TD valign=top>50</TD>\\n<TD valign=top><A  HREF=/netacgi/nph-Parser?Sect1=PTO2&Sect2=HITOFF&u=%2Fnetahtml%2FPTO%2Fsearch-adv.htm&r=50&p=1&f=G&l=50&d=PTXT&S1=((2018$.PD.+AND+(method+OR+process).ABTX.)+AND+CN.ASCO.)&OS=ISD/2018+AND+ABST/(method+or+process)+AND+ACN/CN&RS=((ISD/2018+AND+ABST/(method+OR+process))+AND+ACN/CN)>10,164,751</A></TD>\\n     <TD valign=baseline><IMG border=0 src=\"/netaicon/PTO/ftext.gif\" alt=\"Full-Text\"></TD>\\n     <TD valign=top><A  HREF=/netacgi/nph-Parser?Sect1=PTO2&Sect2=HITOFF&u=%2Fnetahtml%2FPTO%2Fsearch-adv.htm&r=50&p=1&f=G&l=50&d=PTXT&S1=((2018$.PD.+AND+(method+OR+process).ABTX.)+AND+CN.ASCO.)&OS=ISD/2018+AND+ABST/(method+or+process)+AND+ACN/CN&RS=((ISD/2018+AND+ABST/(method+OR+process))+AND+ACN/CN)>Methods and nodes in a wireless communication system\\n</A></TD>\\n   </TABLE><HR><br>\\n   <center>\\n   <table>\\n   <tr><td><A HREF=/netacgi/nph-Parser?Sect1=PTO2&Sect2=HITOFF&u=%2Fnetahtml%2FPTO%2Fsearch-adv.htm&r=0&p=2&f=S&l=50&d=PTXT&S1=((2018$.PD.+AND+(method+OR+process).ABTX.)+AND+CN.ASCO.)&Page=Next&OS=ISD/2018+AND+ABST/(method+or+process)+AND+ACN/CN&RS=((ISD/2018+AND+ABST/(method+OR+process))+AND+ACN/CN)><IMG ALIGN=MIDDLE SRC=/netaicon/PTO/nextlist.gif border=0 ALT=[NEXT_LIST]></A>\\n<a name=\"bottom\"><a href=\"#top\"><img src=\"/netaicon/PTO/top.gif\" alt=\"[Top]\" border=\"0\" align=middle></a>\\n   <A HREF=\"https://certifiedcopycenter.uspto.gov/other/patft/view.html?backUrl1=http%3A//patft.uspto.gov/netacgi/nph-Parser?Sect1%3DPTO2%26Sect2%3DHITOFF%26u%3D%252Fnetahtml%252FPTO%252Fsearch-adv.htm%26r%3D0%26p%3D1%26f%3DS%26l%3D50%26Query%3DISD%252F2018%252BAND%252BABST%252F%2528method%252Bor%252Bprocess%2529%252BAND%252BACN%252FCN%26d%3DPTXT&backLabel1=Back%20to%20Document%3A%20ISD/2018 AND ABST/(method or process) AND ACN/CN\"><img border=0 src=\"/netaicon/PTO/cart.gif\" alt=\"[View Shopping Cart]\" border = \"0\" align\\n=middle></A>\\n   </td></tr>\\n   </table>\\n   <a href=\"/netahtml/PTO/index.html\"><img src=\"/netaicon/PTO/home.gif\" alt=\"[Home]\" border=\"0\" valign=baseline></a>\\n   <a href=\"/netahtml/PTO/search-bool.html\"><img src=\"/netaicon/PTO/boolean.gif\" alt=\"[Boolean Search]\" border=\"0\" valign=baseline></a>\\n   <A HREF=\"/netahtml/PTO/search-adv.htm\"><img src=\"/netaicon/PTO/manual.gif\" alt=\"[Manual Search]\" border=\"0\" valign=baseline></A>\\n   <a href=\"/netahtml/PTO/srchnum.htm\"><img src=\"/netaicon/PTO/number.gif\" alt=\"[Number Search]\" border=\"0\" valign=baseline></a>\\n   <A HREF=\"/netahtml/PTO/help/help.htm\"><img border=\"0\" src=\"/netaicon/PTO/help.gif\" ALT=\"[Help]\" border=\"0\" valign=baseline></A>\\n   </center>\\n   </HTML>'"
      ]
     },
     "execution_count": 67,
     "metadata": {},
     "output_type": "execute_result"
    }
   ],
   "source": [
    "# use % to replace blank space \n",
    "# sometimes this method won't work for unicode characters: e.g. 你好\n",
    "url = '''http://patft.uspto.gov/netacgi/nph-Parser?\n",
    "Sect1=PTO2&\n",
    "Sect2=HITOFF&\n",
    "u=%2Fnetahtml%2FPTO%2Fsearch-adv.htm&\n",
    "r=0&\n",
    "p=1&\n",
    "f=S&\n",
    "l=50&\n",
    "Query=ISD%2F2018+AND+ABST%2F%28method+or+process%29+AND+ACN%2FCN&\n",
    "d=PTXT'''\n",
    "url = url.replace(\"\\n\",\"\")\n",
    "headers = {\n",
    " 'Accept-Encoding': 'gzip, deflate',\n",
    " 'Accept-Language': 'en-US,en;q=0.9,zh-CN;q=0.8,zh;q=0.7,zh-TW;q=0.6',\n",
    " 'Connection': 'keep-alive',\n",
    " 'Host': 'patft.uspto.gov',\n",
    " 'Referer': 'http://patft.uspto.gov/netahtml/PTO/search-adv.htm',\n",
    " 'Upgrade-Insecure-Requests': '1',\n",
    " 'User-Agent': 'Mozilla/5.0 (Macintosh; Intel Mac OS X 10_14_2) AppleWebKit/537.36 (KHTML, like Gecko) Chrome/71.0.3578.98 Safari/537.36'\n",
    " }\n",
    "web_data = requests.get(url, headers = headers) # mimic a normal browser sending a get request\n",
    "web_data.text"
   ]
  },
  {
   "cell_type": "code",
   "execution_count": 125,
   "metadata": {},
   "outputs": [
    {
     "data": {
      "text/plain": [
       "('1',\n",
       " '/netacgi/nph-Parser?Sect1=PTO2&Sect2=HITOFF&u=%2Fnetahtml%2FPTO%2Fsearch-adv.htm&r=1&p=1&f=G&l=50&d=PTXT&S1=((2018$.PD.+AND+(method+OR+process).ABTX.)+AND+CN.ASCO.)&OS=ISD/2018+AND+ABST/(method+or+process)+AND+ACN/CN&RS=((ISD/2018+AND+ABST/(method+OR+process))+AND+ACN/CN)',\n",
       " '10,165,618',\n",
       " 'Service processing method and device')"
      ]
     },
     "execution_count": 125,
     "metadata": {},
     "output_type": "execute_result"
    }
   ],
   "source": [
    "# one record \n",
    "\n",
    "#<TD valign=top>\n",
    "#2</TD>\\n<TD valign=top><A  \n",
    "#HREF=/netacgi/nph-Parser?Sect1=PTO2&Sect2=HITOFF&u=%2Fnetahtml%2FPTO%2Fsearch-adv.htm&r=2&p=1&f=G&l=50&d=PTXT&S1=((2018$.PD.+AND+(method+OR+process).ABTX.)+AND+CN.ASCO.)&OS=ISD/2018+AND+ABST/(method+or+process)+AND+ACN/CN&RS=((ISD/2018+AND+ABST/(method+OR+process))+AND+ACN/CN)\n",
    "#>10,165,615</A></TD>\\n     <TD valign=baseline><IMG border=0 src=\"/netaicon/PTO/ftext.gif\" alt=\"Full-Text\"></TD>\\n     <TD valign=top><A  HREF=/netacgi/nph-Parser?Sect1=PTO2&Sect2=HITOFF&u=%2Fnetahtml%2FPTO%2Fsearch-adv.htm&r=2&p=1&f=G&l=50&d=PTXT&S1=((2018$.PD.+AND+(method+OR+process).ABTX.)+AND+CN.ASCO.)&OS=ISD/2018+AND+ABST/(method+or+process)+AND+ACN/CN&RS=((ISD/2018+AND+ABST/(method+OR+process))+AND+ACN/\n",
    "#CN)>Communication method, and terminal\\n</A></TD>\\n<DOCS: 6993>\\n\n",
    "\n",
    "result = re.findall(r\"top>(.*?)<\\/TD><.*?HREF=(.*?)>(.*?)<.*?CN\\)>(.*?)</A\",web_data.text.replace(\"\\n\",\"\"))\n",
    "result[0]"
   ]
  },
  {
   "cell_type": "markdown",
   "metadata": {},
   "source": [
    "**Learn More at** : https://docs.python.org/3/library/re.html"
   ]
  },
  {
   "cell_type": "markdown",
   "metadata": {},
   "source": [
    "# 3) Pandas"
   ]
  },
  {
   "cell_type": "code",
   "execution_count": 20,
   "metadata": {},
   "outputs": [],
   "source": [
    "import pandas as pd"
   ]
  },
  {
   "cell_type": "markdown",
   "metadata": {},
   "source": [
    "- In computer programming, pandas is a software library written for the Python programming language for **data manipulation and analysis**.\n",
    "\n",
    "- In particular, it offers data structures and operations for manipulating **numerical tables and time series**."
   ]
  },
  {
   "cell_type": "markdown",
   "metadata": {},
   "source": [
    "- Data structures\n",
    "\n",
    "    - Dimensions\n",
    "    \n",
    "        - **Series**: 1D labeled homogeneously-typed array\n",
    "        - **DataFrame**: General 2D labeled, size-mutable tabular structure with potentially heterogeneously-typed column\n"
   ]
  },
  {
   "cell_type": "markdown",
   "metadata": {},
   "source": [
    "- What kind of data does pandas handle?\n",
    "\n",
    "https://pandas.pydata.org/docs/getting_started/intro_tutorials/01_table_oriented.html"
   ]
  },
  {
   "cell_type": "markdown",
   "metadata": {},
   "source": [
    "- IO tools (text, CSV, HDF5, …)\n",
    "    - https://pandas.pydata.org/docs/user_guide/io.html\n",
    "    \n",
    "    "
   ]
  },
  {
   "cell_type": "code",
   "execution_count": 25,
   "metadata": {},
   "outputs": [],
   "source": [
    "# define your working dir\n",
    "path = \"./tweets_loc/\""
   ]
  },
  {
   "cell_type": "code",
   "execution_count": 24,
   "metadata": {},
   "outputs": [
    {
     "name": "stdout",
     "output_type": "stream",
     "text": [
      "id,content,comment_num,crawl_time,created_at,year,month,day,time,like_num,location_map_info,lng,lat,repost_num,tool,user_id,weibo_url\n",
      "1889772911_IiABZFoig,感觉做了妈妈之后 已经放弃了自我 化妆的几率为0。[拜拜] 佛山·原生态休闲酒店 显示地图,,1575140622,2019-11-30 12:38,2019,11,30, 12:38,,\"113.15921,23.029016\",113.15921000000002,23.029016,,iPhone客户端,1889772911,'https://weibo.com/1889772911/IiABZFoig'\n",
      "1889772911_IgtKw6SJ5,发际线后移[拜拜][拜拜][拜拜][拜拜][拜拜][拜拜] 佛山 显示地图,,1575140622,2019-11-16 15:29,2019,11,16, 15:29,,\"113.076988,22.995754\",113.07698799999999,22.995754,,iPhone客户端,1889772911,'https://weibo.com/1889772911/IgtKw6SJ5'\n",
      "1889772911_Ifx1ojWQm,匆忙的♨️。。 贺州·贺州西溪森林温泉度假村 显示地图[组图共4张],,1575140622,2019-11-10 09:58,2019,11,10, 09:58,,\"111.976089,24.35544\",111.97608899999999,24.355439999999998,,iPhone客户端,1889772911,'https://weibo.com/1889772911/Ifx1ojWQm'\n",
      "1889773457_Hr9Vjd4qR,分享图片 澳大利亚 显示地图[组图共9张],,1575140633,2019-04-24 22:30,2019,4,24, 22:30,,\"151.20382508869,-33.878895133828\",151.20382508869,-33.878895133828,,iPhone客户端,1889773457,'https://weibo.com/1889773457/Hr9Vjd4qR'\n",
      "1889773457_HqW4Kmwuy,不拍张剪刀手✌️就要翻脸。 澳大利亚·The University of Sydney 显示地图[组图共3张],,1575140633,2019-04-23 11:14,2019,4,23, 11:14,,\"151.18876647,-33.88779449\",151.18876647,-33.88779449,,iPhone客户端,1889773457,'https://weibo.com/1889773457/HqW4Kmwuy'\n",
      "1889772531_I16X6aXKJ,分享兰州周末自驾day1-刘家峡[微风] 兰州 吧啦i旅行的微博视频 显示地图,,1575140641,2019-08-07 13:52,2019,8,7, 13:52,,\"103.807236,36.059975\",103.807236,36.059975,,iPhone客户端,1889772531,'https://weibo.com/1889772531/I16X6aXKJ'\n",
      "1889772531_I0NNVtBpQ,兰州人带你游兰州，不一样的体验[鼓掌]#兰州旅游# 兰州 吧啦i旅行的微博视频 显示地图,,1575140641,2019-08-05 13:07,2019,8,5, 13:07,,\"103.807404,36.059937\",103.807404,36.059937,,iPhone客户端,1889772531,'https://weibo.com/1889772531/I0NNVtBpQ'\n",
      "1889773467_GCd7lkmkl,分享图片 苏州·阳澄湖 显示地图[组图共6张],,1575140642,2018-10-03 16:06:55,2018,10,3, 16:06:55,,\"120.839572,31.41956\",120.839572,31.419559999999997,,HUAWEI P10 Plus,1889773467,'https://weibo.com/1889773467/GCd7lkmkl'\n",
      "1889773663_IipQ9ijGI,今日大吉 杭州·下沙 显示地图,,1575140643,2019-11-29 09:12,2019,11,29, 09:12,,\"120.322479,30.307581\",120.322479,30.307581,,iPhone客户端,1889773663,'https://weibo.com/1889773663/IipQ9ijGI'\n",
      "   10000 ./tweets_loc/loc_tweets.csv\n"
     ]
    }
   ],
   "source": [
    "!head -10 ./tweets_loc/loc_tweets.csv\n",
    "## count the number of lines\n",
    "!wc -l ./tweets_loc/loc_tweets.csv\n",
    "## select the first 5000 row and save it as loc_tweets_head.csv\n",
    "!head -5000 ./tweets_loc/loc_tweets.csv > ./tweets_loc/loc_tweets_head.csv"
   ]
  },
  {
   "cell_type": "code",
   "execution_count": 34,
   "metadata": {},
   "outputs": [
    {
     "data": {
      "text/html": [
       "<div>\n",
       "<style scoped>\n",
       "    .dataframe tbody tr th:only-of-type {\n",
       "        vertical-align: middle;\n",
       "    }\n",
       "\n",
       "    .dataframe tbody tr th {\n",
       "        vertical-align: top;\n",
       "    }\n",
       "\n",
       "    .dataframe thead th {\n",
       "        text-align: right;\n",
       "    }\n",
       "</style>\n",
       "<table border=\"1\" class=\"dataframe\">\n",
       "  <thead>\n",
       "    <tr style=\"text-align: right;\">\n",
       "      <th></th>\n",
       "      <th>id</th>\n",
       "      <th>content</th>\n",
       "      <th>comment_num</th>\n",
       "      <th>crawl_time</th>\n",
       "      <th>created_at</th>\n",
       "      <th>year</th>\n",
       "      <th>month</th>\n",
       "      <th>day</th>\n",
       "      <th>time</th>\n",
       "      <th>like_num</th>\n",
       "      <th>location_map_info</th>\n",
       "      <th>lng</th>\n",
       "      <th>lat</th>\n",
       "      <th>repost_num</th>\n",
       "      <th>tool</th>\n",
       "      <th>user_id</th>\n",
       "      <th>weibo_url</th>\n",
       "    </tr>\n",
       "  </thead>\n",
       "  <tbody>\n",
       "    <tr>\n",
       "      <th>0</th>\n",
       "      <td>1889772911_IiABZFoig</td>\n",
       "      <td>感觉做了妈妈之后 已经放弃了自我 化妆的几率为0。[拜拜] 佛山·原生态休闲酒店 显示地图</td>\n",
       "      <td>NaN</td>\n",
       "      <td>1575140622</td>\n",
       "      <td>2019-11-30 12:38</td>\n",
       "      <td>2019</td>\n",
       "      <td>11</td>\n",
       "      <td>30</td>\n",
       "      <td>12:38</td>\n",
       "      <td>NaN</td>\n",
       "      <td>113.15921,23.029016</td>\n",
       "      <td>113.159210</td>\n",
       "      <td>23.029016</td>\n",
       "      <td>NaN</td>\n",
       "      <td>iPhone客户端</td>\n",
       "      <td>1889772911</td>\n",
       "      <td>'https://weibo.com/1889772911/IiABZFoig'</td>\n",
       "    </tr>\n",
       "    <tr>\n",
       "      <th>1</th>\n",
       "      <td>1889772911_IgtKw6SJ5</td>\n",
       "      <td>发际线后移[拜拜][拜拜][拜拜][拜拜][拜拜][拜拜] 佛山 显示地图</td>\n",
       "      <td>NaN</td>\n",
       "      <td>1575140622</td>\n",
       "      <td>2019-11-16 15:29</td>\n",
       "      <td>2019</td>\n",
       "      <td>11</td>\n",
       "      <td>16</td>\n",
       "      <td>15:29</td>\n",
       "      <td>NaN</td>\n",
       "      <td>113.076988,22.995754</td>\n",
       "      <td>113.076988</td>\n",
       "      <td>22.995754</td>\n",
       "      <td>NaN</td>\n",
       "      <td>iPhone客户端</td>\n",
       "      <td>1889772911</td>\n",
       "      <td>'https://weibo.com/1889772911/IgtKw6SJ5'</td>\n",
       "    </tr>\n",
       "    <tr>\n",
       "      <th>2</th>\n",
       "      <td>1889772911_Ifx1ojWQm</td>\n",
       "      <td>匆忙的♨️。。 贺州·贺州西溪森林温泉度假村 显示地图[组图共4张]</td>\n",
       "      <td>NaN</td>\n",
       "      <td>1575140622</td>\n",
       "      <td>2019-11-10 09:58</td>\n",
       "      <td>2019</td>\n",
       "      <td>11</td>\n",
       "      <td>10</td>\n",
       "      <td>09:58</td>\n",
       "      <td>NaN</td>\n",
       "      <td>111.976089,24.35544</td>\n",
       "      <td>111.976089</td>\n",
       "      <td>24.355440</td>\n",
       "      <td>NaN</td>\n",
       "      <td>iPhone客户端</td>\n",
       "      <td>1889772911</td>\n",
       "      <td>'https://weibo.com/1889772911/Ifx1ojWQm'</td>\n",
       "    </tr>\n",
       "    <tr>\n",
       "      <th>3</th>\n",
       "      <td>1889773457_Hr9Vjd4qR</td>\n",
       "      <td>分享图片 澳大利亚 显示地图[组图共9张]</td>\n",
       "      <td>NaN</td>\n",
       "      <td>1575140633</td>\n",
       "      <td>2019-04-24 22:30</td>\n",
       "      <td>2019</td>\n",
       "      <td>4</td>\n",
       "      <td>24</td>\n",
       "      <td>22:30</td>\n",
       "      <td>NaN</td>\n",
       "      <td>151.20382508869,-33.878895133828</td>\n",
       "      <td>151.203825</td>\n",
       "      <td>-33.878895</td>\n",
       "      <td>NaN</td>\n",
       "      <td>iPhone客户端</td>\n",
       "      <td>1889773457</td>\n",
       "      <td>'https://weibo.com/1889773457/Hr9Vjd4qR'</td>\n",
       "    </tr>\n",
       "    <tr>\n",
       "      <th>4</th>\n",
       "      <td>1889773457_HqW4Kmwuy</td>\n",
       "      <td>不拍张剪刀手✌️就要翻脸。 澳大利亚·The University of Sydney 显示...</td>\n",
       "      <td>NaN</td>\n",
       "      <td>1575140633</td>\n",
       "      <td>2019-04-23 11:14</td>\n",
       "      <td>2019</td>\n",
       "      <td>4</td>\n",
       "      <td>23</td>\n",
       "      <td>11:14</td>\n",
       "      <td>NaN</td>\n",
       "      <td>151.18876647,-33.88779449</td>\n",
       "      <td>151.188766</td>\n",
       "      <td>-33.887794</td>\n",
       "      <td>NaN</td>\n",
       "      <td>iPhone客户端</td>\n",
       "      <td>1889773457</td>\n",
       "      <td>'https://weibo.com/1889773457/HqW4Kmwuy'</td>\n",
       "    </tr>\n",
       "  </tbody>\n",
       "</table>\n",
       "</div>"
      ],
      "text/plain": [
       "                     id                                            content  \\\n",
       "0  1889772911_IiABZFoig      感觉做了妈妈之后 已经放弃了自我 化妆的几率为0。[拜拜] 佛山·原生态休闲酒店 显示地图   \n",
       "1  1889772911_IgtKw6SJ5              发际线后移[拜拜][拜拜][拜拜][拜拜][拜拜][拜拜] 佛山 显示地图   \n",
       "2  1889772911_Ifx1ojWQm                 匆忙的♨️。。 贺州·贺州西溪森林温泉度假村 显示地图[组图共4张]   \n",
       "3  1889773457_Hr9Vjd4qR                              分享图片 澳大利亚 显示地图[组图共9张]   \n",
       "4  1889773457_HqW4Kmwuy  不拍张剪刀手✌️就要翻脸。 澳大利亚·The University of Sydney 显示...   \n",
       "\n",
       "   comment_num  crawl_time        created_at  year  month  day    time  \\\n",
       "0          NaN  1575140622  2019-11-30 12:38  2019     11   30   12:38   \n",
       "1          NaN  1575140622  2019-11-16 15:29  2019     11   16   15:29   \n",
       "2          NaN  1575140622  2019-11-10 09:58  2019     11   10   09:58   \n",
       "3          NaN  1575140633  2019-04-24 22:30  2019      4   24   22:30   \n",
       "4          NaN  1575140633  2019-04-23 11:14  2019      4   23   11:14   \n",
       "\n",
       "   like_num                 location_map_info         lng        lat  \\\n",
       "0       NaN               113.15921,23.029016  113.159210  23.029016   \n",
       "1       NaN              113.076988,22.995754  113.076988  22.995754   \n",
       "2       NaN               111.976089,24.35544  111.976089  24.355440   \n",
       "3       NaN  151.20382508869,-33.878895133828  151.203825 -33.878895   \n",
       "4       NaN         151.18876647,-33.88779449  151.188766 -33.887794   \n",
       "\n",
       "   repost_num       tool     user_id                                 weibo_url  \n",
       "0         NaN  iPhone客户端  1889772911  'https://weibo.com/1889772911/IiABZFoig'  \n",
       "1         NaN  iPhone客户端  1889772911  'https://weibo.com/1889772911/IgtKw6SJ5'  \n",
       "2         NaN  iPhone客户端  1889772911  'https://weibo.com/1889772911/Ifx1ojWQm'  \n",
       "3         NaN  iPhone客户端  1889773457  'https://weibo.com/1889773457/Hr9Vjd4qR'  \n",
       "4         NaN  iPhone客户端  1889773457  'https://weibo.com/1889773457/HqW4Kmwuy'  "
      ]
     },
     "execution_count": 34,
     "metadata": {},
     "output_type": "execute_result"
    }
   ],
   "source": [
    "tweets = pd.read_csv(path + \"loc_tweets.csv\")\n",
    "#see a few rows \n",
    "tweets.head()"
   ]
  },
  {
   "cell_type": "code",
   "execution_count": 49,
   "metadata": {},
   "outputs": [
    {
     "data": {
      "text/plain": [
       "2017.5422542254225"
      ]
     },
     "execution_count": 49,
     "metadata": {},
     "output_type": "execute_result"
    }
   ],
   "source": [
    "tweets['year'].mean()"
   ]
  },
  {
   "cell_type": "code",
   "execution_count": 51,
   "metadata": {},
   "outputs": [
    {
     "data": {
      "text/plain": [
       "2019"
      ]
     },
     "execution_count": 51,
     "metadata": {},
     "output_type": "execute_result"
    }
   ],
   "source": [
    "tweets['year'].max()"
   ]
  },
  {
   "cell_type": "code",
   "execution_count": 52,
   "metadata": {},
   "outputs": [
    {
     "data": {
      "text/plain": [
       "2011"
      ]
     },
     "execution_count": 52,
     "metadata": {},
     "output_type": "execute_result"
    }
   ],
   "source": [
    "tweets['year'].min()"
   ]
  },
  {
   "cell_type": "code",
   "execution_count": 35,
   "metadata": {},
   "outputs": [
    {
     "data": {
      "text/plain": [
       "9999"
      ]
     },
     "execution_count": 35,
     "metadata": {},
     "output_type": "execute_result"
    }
   ],
   "source": [
    "tweets['id'].nunique()"
   ]
  },
  {
   "cell_type": "code",
   "execution_count": 36,
   "metadata": {},
   "outputs": [
    {
     "data": {
      "text/plain": [
       "860"
      ]
     },
     "execution_count": 36,
     "metadata": {},
     "output_type": "execute_result"
    }
   ],
   "source": [
    "tweets['user_id'].nunique()"
   ]
  },
  {
   "cell_type": "code",
   "execution_count": 53,
   "metadata": {},
   "outputs": [
    {
     "data": {
      "text/html": [
       "<div>\n",
       "<style scoped>\n",
       "    .dataframe tbody tr th:only-of-type {\n",
       "        vertical-align: middle;\n",
       "    }\n",
       "\n",
       "    .dataframe tbody tr th {\n",
       "        vertical-align: top;\n",
       "    }\n",
       "\n",
       "    .dataframe thead th {\n",
       "        text-align: right;\n",
       "    }\n",
       "</style>\n",
       "<table border=\"1\" class=\"dataframe\">\n",
       "  <thead>\n",
       "    <tr style=\"text-align: right;\">\n",
       "      <th></th>\n",
       "      <th>comment_num</th>\n",
       "      <th>crawl_time</th>\n",
       "      <th>year</th>\n",
       "      <th>month</th>\n",
       "      <th>day</th>\n",
       "      <th>like_num</th>\n",
       "      <th>lng</th>\n",
       "      <th>lat</th>\n",
       "      <th>repost_num</th>\n",
       "      <th>user_id</th>\n",
       "    </tr>\n",
       "  </thead>\n",
       "  <tbody>\n",
       "    <tr>\n",
       "      <th>count</th>\n",
       "      <td>0.0</td>\n",
       "      <td>9.999000e+03</td>\n",
       "      <td>9999.000000</td>\n",
       "      <td>9999.000000</td>\n",
       "      <td>9999.000000</td>\n",
       "      <td>0.0</td>\n",
       "      <td>9999.000000</td>\n",
       "      <td>9999.000000</td>\n",
       "      <td>0.0</td>\n",
       "      <td>9.999000e+03</td>\n",
       "    </tr>\n",
       "    <tr>\n",
       "      <th>mean</th>\n",
       "      <td>NaN</td>\n",
       "      <td>1.575200e+09</td>\n",
       "      <td>2017.542254</td>\n",
       "      <td>6.827283</td>\n",
       "      <td>15.801980</td>\n",
       "      <td>NaN</td>\n",
       "      <td>109.285132</td>\n",
       "      <td>30.888209</td>\n",
       "      <td>NaN</td>\n",
       "      <td>1.889825e+09</td>\n",
       "    </tr>\n",
       "    <tr>\n",
       "      <th>std</th>\n",
       "      <td>NaN</td>\n",
       "      <td>3.401888e+04</td>\n",
       "      <td>2.213045</td>\n",
       "      <td>3.189625</td>\n",
       "      <td>8.875052</td>\n",
       "      <td>NaN</td>\n",
       "      <td>31.022151</td>\n",
       "      <td>9.105544</td>\n",
       "      <td>NaN</td>\n",
       "      <td>3.204905e+04</td>\n",
       "    </tr>\n",
       "    <tr>\n",
       "      <th>min</th>\n",
       "      <td>NaN</td>\n",
       "      <td>1.575141e+09</td>\n",
       "      <td>2011.000000</td>\n",
       "      <td>1.000000</td>\n",
       "      <td>1.000000</td>\n",
       "      <td>NaN</td>\n",
       "      <td>-123.185455</td>\n",
       "      <td>-45.023350</td>\n",
       "      <td>NaN</td>\n",
       "      <td>1.889773e+09</td>\n",
       "    </tr>\n",
       "    <tr>\n",
       "      <th>25%</th>\n",
       "      <td>NaN</td>\n",
       "      <td>1.575165e+09</td>\n",
       "      <td>2018.000000</td>\n",
       "      <td>4.000000</td>\n",
       "      <td>8.000000</td>\n",
       "      <td>NaN</td>\n",
       "      <td>111.680134</td>\n",
       "      <td>24.437947</td>\n",
       "      <td>NaN</td>\n",
       "      <td>1.889796e+09</td>\n",
       "    </tr>\n",
       "    <tr>\n",
       "      <th>50%</th>\n",
       "      <td>NaN</td>\n",
       "      <td>1.575206e+09</td>\n",
       "      <td>2018.000000</td>\n",
       "      <td>7.000000</td>\n",
       "      <td>16.000000</td>\n",
       "      <td>NaN</td>\n",
       "      <td>115.840431</td>\n",
       "      <td>31.244100</td>\n",
       "      <td>NaN</td>\n",
       "      <td>1.889822e+09</td>\n",
       "    </tr>\n",
       "    <tr>\n",
       "      <th>75%</th>\n",
       "      <td>NaN</td>\n",
       "      <td>1.575227e+09</td>\n",
       "      <td>2019.000000</td>\n",
       "      <td>10.000000</td>\n",
       "      <td>24.000000</td>\n",
       "      <td>NaN</td>\n",
       "      <td>119.210389</td>\n",
       "      <td>36.596008</td>\n",
       "      <td>NaN</td>\n",
       "      <td>1.889850e+09</td>\n",
       "    </tr>\n",
       "    <tr>\n",
       "      <th>max</th>\n",
       "      <td>NaN</td>\n",
       "      <td>1.575254e+09</td>\n",
       "      <td>2019.000000</td>\n",
       "      <td>12.000000</td>\n",
       "      <td>31.000000</td>\n",
       "      <td>NaN</td>\n",
       "      <td>178.013565</td>\n",
       "      <td>90.000000</td>\n",
       "      <td>NaN</td>\n",
       "      <td>1.889884e+09</td>\n",
       "    </tr>\n",
       "  </tbody>\n",
       "</table>\n",
       "</div>"
      ],
      "text/plain": [
       "       comment_num    crawl_time         year        month          day  \\\n",
       "count          0.0  9.999000e+03  9999.000000  9999.000000  9999.000000   \n",
       "mean           NaN  1.575200e+09  2017.542254     6.827283    15.801980   \n",
       "std            NaN  3.401888e+04     2.213045     3.189625     8.875052   \n",
       "min            NaN  1.575141e+09  2011.000000     1.000000     1.000000   \n",
       "25%            NaN  1.575165e+09  2018.000000     4.000000     8.000000   \n",
       "50%            NaN  1.575206e+09  2018.000000     7.000000    16.000000   \n",
       "75%            NaN  1.575227e+09  2019.000000    10.000000    24.000000   \n",
       "max            NaN  1.575254e+09  2019.000000    12.000000    31.000000   \n",
       "\n",
       "       like_num          lng          lat  repost_num       user_id  \n",
       "count       0.0  9999.000000  9999.000000         0.0  9.999000e+03  \n",
       "mean        NaN   109.285132    30.888209         NaN  1.889825e+09  \n",
       "std         NaN    31.022151     9.105544         NaN  3.204905e+04  \n",
       "min         NaN  -123.185455   -45.023350         NaN  1.889773e+09  \n",
       "25%         NaN   111.680134    24.437947         NaN  1.889796e+09  \n",
       "50%         NaN   115.840431    31.244100         NaN  1.889822e+09  \n",
       "75%         NaN   119.210389    36.596008         NaN  1.889850e+09  \n",
       "max         NaN   178.013565    90.000000         NaN  1.889884e+09  "
      ]
     },
     "execution_count": 53,
     "metadata": {},
     "output_type": "execute_result"
    }
   ],
   "source": [
    "tweets.describe()"
   ]
  },
  {
   "cell_type": "code",
   "execution_count": 37,
   "metadata": {},
   "outputs": [
    {
     "data": {
      "text/plain": [
       "2019    4921\n",
       "2018    3021\n",
       "2013     786\n",
       "2014     614\n",
       "2012     412\n",
       "2015     172\n",
       "2016      39\n",
       "2017      32\n",
       "2011       2\n",
       "Name: year, dtype: int64"
      ]
     },
     "execution_count": 37,
     "metadata": {},
     "output_type": "execute_result"
    }
   ],
   "source": [
    "tweets['year'].value_counts()"
   ]
  },
  {
   "cell_type": "code",
   "execution_count": 63,
   "metadata": {},
   "outputs": [
    {
     "data": {
      "text/plain": [
       "iPhone客户端          5282\n",
       "Android客户端          508\n",
       "iPhone X            293\n",
       "全面屏vivo X20Plus     146\n",
       "HUAWEI P20          121\n",
       "微博视频                119\n",
       "华为P9手机摄影再突破         116\n",
       "iPhone              111\n",
       "iPhone 6s            92\n",
       "坚果手机 Pro             91\n",
       "Name: tool, dtype: int64"
      ]
     },
     "execution_count": 63,
     "metadata": {},
     "output_type": "execute_result"
    }
   ],
   "source": [
    "tweets['tool'].value_counts()[0:10]"
   ]
  },
  {
   "cell_type": "code",
   "execution_count": 39,
   "metadata": {},
   "outputs": [
    {
     "data": {
      "text/plain": [
       "<matplotlib.axes._subplots.AxesSubplot at 0x7fe2a86a7ba8>"
      ]
     },
     "execution_count": 39,
     "metadata": {},
     "output_type": "execute_result"
    },
    {
     "data": {
      "image/png": "[encoded data removed]",
      "text/plain": [
       "<Figure size 432x288 with 1 Axes>"
      ]
     },
     "metadata": {
      "needs_background": "light"
     },
     "output_type": "display_data"
    }
   ],
   "source": [
    "# plot year counts\n",
    "tweets.year.value_counts().plot(kind = 'barh')"
   ]
  },
  {
   "cell_type": "code",
   "execution_count": 38,
   "metadata": {},
   "outputs": [
    {
     "data": {
      "text/plain": [
       "<matplotlib.axes._subplots.AxesSubplot at 0x7fe300d0dbe0>"
      ]
     },
     "execution_count": 38,
     "metadata": {},
     "output_type": "execute_result"
    },
    {
     "data": {
      "image/png": "[encoded data removed]",
      "text/plain": [
       "<Figure size 432x288 with 1 Axes>"
      ]
     },
     "metadata": {
      "needs_background": "light"
     },
     "output_type": "display_data"
    }
   ],
   "source": [
    "# sorted\n",
    "tweets.year.value_counts().sort_values().plot(kind = 'barh')"
   ]
  },
  {
   "cell_type": "code",
   "execution_count": 27,
   "metadata": {},
   "outputs": [
    {
     "data": {
      "text/html": [
       "<div>\n",
       "<style scoped>\n",
       "    .dataframe tbody tr th:only-of-type {\n",
       "        vertical-align: middle;\n",
       "    }\n",
       "\n",
       "    .dataframe tbody tr th {\n",
       "        vertical-align: top;\n",
       "    }\n",
       "\n",
       "    .dataframe thead th {\n",
       "        text-align: right;\n",
       "    }\n",
       "</style>\n",
       "<table border=\"1\" class=\"dataframe\">\n",
       "  <thead>\n",
       "    <tr style=\"text-align: right;\">\n",
       "      <th></th>\n",
       "      <th>id</th>\n",
       "      <th>content</th>\n",
       "      <th>comment_num</th>\n",
       "      <th>crawl_time</th>\n",
       "      <th>created_at</th>\n",
       "      <th>year</th>\n",
       "      <th>month</th>\n",
       "      <th>day</th>\n",
       "      <th>time</th>\n",
       "      <th>like_num</th>\n",
       "      <th>location_map_info</th>\n",
       "      <th>lng</th>\n",
       "      <th>lat</th>\n",
       "      <th>repost_num</th>\n",
       "      <th>tool</th>\n",
       "      <th>user_id</th>\n",
       "      <th>weibo_url</th>\n",
       "    </tr>\n",
       "  </thead>\n",
       "  <tbody>\n",
       "    <tr>\n",
       "      <th>3</th>\n",
       "      <td>1889773457_Hr9Vjd4qR</td>\n",
       "      <td>分享图片 澳大利亚 显示地图[组图共9张]</td>\n",
       "      <td>NaN</td>\n",
       "      <td>1575140633</td>\n",
       "      <td>2019-04-24 22:30</td>\n",
       "      <td>2019</td>\n",
       "      <td>4</td>\n",
       "      <td>24</td>\n",
       "      <td>22:30</td>\n",
       "      <td>NaN</td>\n",
       "      <td>151.20382508869,-33.878895133828</td>\n",
       "      <td>151.203825</td>\n",
       "      <td>-33.878895</td>\n",
       "      <td>NaN</td>\n",
       "      <td>iPhone客户端</td>\n",
       "      <td>1889773457</td>\n",
       "      <td>'https://weibo.com/1889773457/Hr9Vjd4qR'</td>\n",
       "    </tr>\n",
       "    <tr>\n",
       "      <th>4</th>\n",
       "      <td>1889773457_HqW4Kmwuy</td>\n",
       "      <td>不拍张剪刀手✌️就要翻脸。 澳大利亚·The University of Sydney 显示...</td>\n",
       "      <td>NaN</td>\n",
       "      <td>1575140633</td>\n",
       "      <td>2019-04-23 11:14</td>\n",
       "      <td>2019</td>\n",
       "      <td>4</td>\n",
       "      <td>23</td>\n",
       "      <td>11:14</td>\n",
       "      <td>NaN</td>\n",
       "      <td>151.18876647,-33.88779449</td>\n",
       "      <td>151.188766</td>\n",
       "      <td>-33.887794</td>\n",
       "      <td>NaN</td>\n",
       "      <td>iPhone客户端</td>\n",
       "      <td>1889773457</td>\n",
       "      <td>'https://weibo.com/1889773457/HqW4Kmwuy'</td>\n",
       "    </tr>\n",
       "  </tbody>\n",
       "</table>\n",
       "</div>"
      ],
      "text/plain": [
       "                     id                                            content  \\\n",
       "3  1889773457_Hr9Vjd4qR                              分享图片 澳大利亚 显示地图[组图共9张]   \n",
       "4  1889773457_HqW4Kmwuy  不拍张剪刀手✌️就要翻脸。 澳大利亚·The University of Sydney 显示...   \n",
       "\n",
       "   comment_num  crawl_time        created_at  year  month  day    time  \\\n",
       "3          NaN  1575140633  2019-04-24 22:30  2019      4   24   22:30   \n",
       "4          NaN  1575140633  2019-04-23 11:14  2019      4   23   11:14   \n",
       "\n",
       "   like_num                 location_map_info         lng        lat  \\\n",
       "3       NaN  151.20382508869,-33.878895133828  151.203825 -33.878895   \n",
       "4       NaN         151.18876647,-33.88779449  151.188766 -33.887794   \n",
       "\n",
       "   repost_num       tool     user_id                                 weibo_url  \n",
       "3         NaN  iPhone客户端  1889773457  'https://weibo.com/1889773457/Hr9Vjd4qR'  \n",
       "4         NaN  iPhone客户端  1889773457  'https://weibo.com/1889773457/HqW4Kmwuy'  "
      ]
     },
     "execution_count": 27,
     "metadata": {},
     "output_type": "execute_result"
    }
   ],
   "source": [
    "# select a subset of data with 'user_id' equal to 1889773457\n",
    "tweets.loc[tweets['user_id'] == 1889773457]"
   ]
  },
  {
   "cell_type": "code",
   "execution_count": 28,
   "metadata": {},
   "outputs": [
    {
     "data": {
      "text/html": [
       "<div>\n",
       "<style scoped>\n",
       "    .dataframe tbody tr th:only-of-type {\n",
       "        vertical-align: middle;\n",
       "    }\n",
       "\n",
       "    .dataframe tbody tr th {\n",
       "        vertical-align: top;\n",
       "    }\n",
       "\n",
       "    .dataframe thead th {\n",
       "        text-align: right;\n",
       "    }\n",
       "</style>\n",
       "<table border=\"1\" class=\"dataframe\">\n",
       "  <thead>\n",
       "    <tr style=\"text-align: right;\">\n",
       "      <th></th>\n",
       "      <th>id</th>\n",
       "      <th>content</th>\n",
       "      <th>comment_num</th>\n",
       "      <th>crawl_time</th>\n",
       "      <th>created_at</th>\n",
       "      <th>year</th>\n",
       "      <th>month</th>\n",
       "      <th>day</th>\n",
       "      <th>time</th>\n",
       "      <th>like_num</th>\n",
       "      <th>location_map_info</th>\n",
       "      <th>lng</th>\n",
       "      <th>lat</th>\n",
       "      <th>repost_num</th>\n",
       "      <th>tool</th>\n",
       "      <th>user_id</th>\n",
       "      <th>weibo_url</th>\n",
       "    </tr>\n",
       "  </thead>\n",
       "  <tbody>\n",
       "    <tr>\n",
       "      <th>4</th>\n",
       "      <td>1889773457_HqW4Kmwuy</td>\n",
       "      <td>不拍张剪刀手✌️就要翻脸。 澳大利亚·The University of Sydney 显示...</td>\n",
       "      <td>NaN</td>\n",
       "      <td>1575140633</td>\n",
       "      <td>2019-04-23 11:14</td>\n",
       "      <td>2019</td>\n",
       "      <td>4</td>\n",
       "      <td>23</td>\n",
       "      <td>11:14</td>\n",
       "      <td>NaN</td>\n",
       "      <td>151.18876647,-33.88779449</td>\n",
       "      <td>151.188766</td>\n",
       "      <td>-33.887794</td>\n",
       "      <td>NaN</td>\n",
       "      <td>iPhone客户端</td>\n",
       "      <td>1889773457</td>\n",
       "      <td>'https://weibo.com/1889773457/HqW4Kmwuy'</td>\n",
       "    </tr>\n",
       "    <tr>\n",
       "      <th>5839</th>\n",
       "      <td>1889832774_Ai1Lkax7n</td>\n",
       "      <td>回家的節奏～ 我在:澳大利亚Sydney 显示地图[组图共9张]</td>\n",
       "      <td>NaN</td>\n",
       "      <td>1575214844</td>\n",
       "      <td>2013-11-10 06:00:35</td>\n",
       "      <td>2013</td>\n",
       "      <td>11</td>\n",
       "      <td>10</td>\n",
       "      <td>06:00:35</td>\n",
       "      <td>NaN</td>\n",
       "      <td>151.1672269,-33.9363299</td>\n",
       "      <td>151.167227</td>\n",
       "      <td>-33.936330</td>\n",
       "      <td>NaN</td>\n",
       "      <td>Android客户端</td>\n",
       "      <td>1889832774</td>\n",
       "      <td>'https://weibo.com/1889832774/Ai1Lkax7n'</td>\n",
       "    </tr>\n",
       "  </tbody>\n",
       "</table>\n",
       "</div>"
      ],
      "text/plain": [
       "                        id                                            content  \\\n",
       "4     1889773457_HqW4Kmwuy  不拍张剪刀手✌️就要翻脸。 澳大利亚·The University of Sydney 显示...   \n",
       "5839  1889832774_Ai1Lkax7n                   回家的節奏～ 我在:澳大利亚Sydney 显示地图[组图共9张]   \n",
       "\n",
       "      comment_num  crawl_time           created_at  year  month  day  \\\n",
       "4             NaN  1575140633     2019-04-23 11:14  2019      4   23   \n",
       "5839          NaN  1575214844  2013-11-10 06:00:35  2013     11   10   \n",
       "\n",
       "           time  like_num          location_map_info         lng        lat  \\\n",
       "4         11:14       NaN  151.18876647,-33.88779449  151.188766 -33.887794   \n",
       "5839   06:00:35       NaN    151.1672269,-33.9363299  151.167227 -33.936330   \n",
       "\n",
       "      repost_num        tool     user_id  \\\n",
       "4            NaN   iPhone客户端  1889773457   \n",
       "5839         NaN  Android客户端  1889832774   \n",
       "\n",
       "                                     weibo_url  \n",
       "4     'https://weibo.com/1889773457/HqW4Kmwuy'  \n",
       "5839  'https://weibo.com/1889832774/Ai1Lkax7n'  "
      ]
     },
     "execution_count": 28,
     "metadata": {},
     "output_type": "execute_result"
    }
   ],
   "source": [
    "# select a subset of data with 'content' contains the word \"Sydney\"\n",
    "tweets.loc[tweets['content'].str.contains(\"Sydney\",regex=False,na=False)]"
   ]
  },
  {
   "cell_type": "code",
   "execution_count": null,
   "metadata": {},
   "outputs": [],
   "source": [
    "# select a subset of data with 'content' contains the word \"Sydney\"\n",
    "tweets.loc[tweets['content'].str.contains(\"Sydney\",regex=False,na=False)]"
   ]
  },
  {
   "cell_type": "code",
   "execution_count": 41,
   "metadata": {},
   "outputs": [],
   "source": [
    "# use regular expression to extract a new variable from existing one\n",
    "tweets['weibo_id'] = tweets['id'].str.extract(\"_(.*?)$\")"
   ]
  },
  {
   "cell_type": "code",
   "execution_count": 42,
   "metadata": {},
   "outputs": [
    {
     "data": {
      "text/plain": [
       "('1889772911_IiABZFoig', 'IiABZFoig')"
      ]
     },
     "execution_count": 42,
     "metadata": {},
     "output_type": "execute_result"
    }
   ],
   "source": [
    "tweets['id'][0],tweets['weibo_id'][0]"
   ]
  },
  {
   "cell_type": "code",
   "execution_count": 30,
   "metadata": {},
   "outputs": [
    {
     "data": {
      "text/plain": [
       "<matplotlib.axes._subplots.AxesSubplot at 0x7fe2f0a06940>"
      ]
     },
     "execution_count": 30,
     "metadata": {},
     "output_type": "execute_result"
    },
    {
     "data": {
      "image/png": "[encoded data removed]",
      "text/plain": [
       "<Figure size 432x288 with 1 Axes>"
      ]
     },
     "metadata": {
      "needs_background": "light"
     },
     "output_type": "display_data"
    }
   ],
   "source": [
    "tweets.plot.scatter(x='lng',y='lat')"
   ]
  },
  {
   "cell_type": "code",
   "execution_count": 31,
   "metadata": {},
   "outputs": [
    {
     "data": {
      "text/plain": [
       "<matplotlib.axes._subplots.AxesSubplot at 0x7fe2f0a31208>"
      ]
     },
     "execution_count": 31,
     "metadata": {},
     "output_type": "execute_result"
    },
    {
     "data": {
      "image/png": "[encoded data removed]",
      "text/plain": [
       "<Figure size 432x288 with 1 Axes>"
      ]
     },
     "metadata": {
      "needs_background": "light"
     },
     "output_type": "display_data"
    }
   ],
   "source": [
    "#china \n",
    "filter_cn = (tweets['lat']>3) & (tweets['lat']<53) & (tweets['lng']<135) & (tweets['lng']>73)\n",
    "tweets_cn = tweets.loc[filter_cn]\n",
    "tweets_cn.plot.scatter(x='lng',y='lat')"
   ]
  },
  {
   "cell_type": "code",
   "execution_count": 32,
   "metadata": {},
   "outputs": [
    {
     "data": {
      "text/plain": [
       "<matplotlib.axes._subplots.AxesSubplot at 0x7fe28823c048>"
      ]
     },
     "execution_count": 32,
     "metadata": {},
     "output_type": "execute_result"
    },
    {
     "data": {
      "image/png": "[encoded data removed]",
      "text/plain": [
       "<Figure size 432x288 with 1 Axes>"
      ]
     },
     "metadata": {
      "needs_background": "light"
     },
     "output_type": "display_data"
    }
   ],
   "source": [
    "# Lat-long coorditates for cities in Hong Kong are in range: \n",
    "# Latitude from 22.22623 to 22.45007 and longitude from 113.97157 to 114.26667.\n",
    "filter_hk = (tweets['lat']>22.22623) & (tweets['lat']<22.45007) & (tweets['lng']<114.26667) & (tweets['lng']>113.97157)\n",
    "tweets_hk = tweets.loc[filter_hk]\n",
    "tweets_hk.plot.scatter(x='lng',y='lat')"
   ]
  },
  {
   "cell_type": "markdown",
   "metadata": {},
   "source": [
    "- reshape the dataframe\n",
    "    - https://pandas.pydata.org/docs/user_guide/reshaping.html\n",
    "- merge with other dataframes\n",
    "    - https://pandas.pydata.org/docs/user_guide/merging.html"
   ]
  },
  {
   "cell_type": "code",
   "execution_count": null,
   "metadata": {},
   "outputs": [],
   "source": [
    "# Easy Output \n",
    "- https://pandas.pydata.org/docs/user_guide/io.html\n",
    "# export data to stata dta file\n",
    "tweets.to_stata(path + \"test.dta\",index= None)\n",
    "# export data to csv file\n",
    "tweets.to_csv(path + \"test.csv\",index= None)\n",
    "# export data to excel file\n",
    "tweets.to_excel(path + \"test.xlsx\",index= None)\n",
    "# and many others ..."
   ]
  },
  {
   "cell_type": "markdown",
   "metadata": {},
   "source": [
    "**Learn More From**: https://pandas.pydata.org/docs/user_guide/index.html"
   ]
  }
 ],
 "metadata": {
  "kernelspec": {
   "display_name": "Python 3",
   "language": "python",
   "name": "python3"
  },
  "language_info": {
   "codemirror_mode": {
    "name": "ipython",
    "version": 3
   },
   "file_extension": ".py",
   "mimetype": "text/x-python",
   "name": "python",
   "nbconvert_exporter": "python",
   "pygments_lexer": "ipython3",
   "version": "3.7.2"
  }
 },
 "nbformat": 4,
 "nbformat_minor": 2
}
